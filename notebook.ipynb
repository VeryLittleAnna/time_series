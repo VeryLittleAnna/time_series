{
 "cells": [
  {
   "cell_type": "code",
   "execution_count": 2,
   "metadata": {},
   "outputs": [],
   "source": [
    "import pandas as pd\n",
    "import numpy as np\n",
    "import matplotlib.pyplot as plt\n",
    "import csv\n",
    "# import tensorflow as tf\n",
    "# from tensorflow import keras\n",
    "# from tensorflow.keras import layers"
   ]
  },
  {
   "cell_type": "code",
   "execution_count": 2,
   "metadata": {},
   "outputs": [],
   "source": [
    "data = pd.read_csv(\"DataSet2.csv\", sep=\";\")#, parse_dates=['Timestamp']) #, nrows=10)"
   ]
  },
  {
   "cell_type": "code",
   "execution_count": 84,
   "metadata": {},
   "outputs": [],
   "source": [
    "columns = data.columns"
   ]
  },
  {
   "cell_type": "code",
   "execution_count": 3,
   "metadata": {},
   "outputs": [
    {
     "data": {
      "text/html": [
       "<div>\n",
       "<style scoped>\n",
       "    .dataframe tbody tr th:only-of-type {\n",
       "        vertical-align: middle;\n",
       "    }\n",
       "\n",
       "    .dataframe tbody tr th {\n",
       "        vertical-align: top;\n",
       "    }\n",
       "\n",
       "    .dataframe thead th {\n",
       "        text-align: right;\n",
       "    }\n",
       "</style>\n",
       "<table border=\"1\" class=\"dataframe\">\n",
       "  <thead>\n",
       "    <tr style=\"text-align: right;\">\n",
       "      <th></th>\n",
       "      <th>Timestamp</th>\n",
       "      <th>ARO</th>\n",
       "      <th>SATUR_PRESSURE</th>\n",
       "      <th>BOIL_PERCENT</th>\n",
       "      <th>OCTANE_NUMBER</th>\n",
       "      <th>percent_01_LAB</th>\n",
       "      <th>percent_04_LAB</th>\n",
       "      <th>quality_01_LAB</th>\n",
       "      <th>pressure_01_LAB</th>\n",
       "      <th>consumption_09</th>\n",
       "      <th>...</th>\n",
       "      <th>temperature_08</th>\n",
       "      <th>temperature_14</th>\n",
       "      <th>temperature_01_LAB</th>\n",
       "      <th>temperature_21</th>\n",
       "      <th>temperature_22</th>\n",
       "      <th>temperature_23</th>\n",
       "      <th>temperature_24</th>\n",
       "      <th>consumption_01</th>\n",
       "      <th>pressure_11</th>\n",
       "      <th>temperature_20</th>\n",
       "    </tr>\n",
       "  </thead>\n",
       "  <tbody>\n",
       "    <tr>\n",
       "      <th>0</th>\n",
       "      <td>01.01.2016 00:00:00</td>\n",
       "      <td>65.59</td>\n",
       "      <td>48.0</td>\n",
       "      <td>6.0</td>\n",
       "      <td>98.9</td>\n",
       "      <td>6.87640</td>\n",
       "      <td>64.05901</td>\n",
       "      <td>98.45841</td>\n",
       "      <td>56.06648</td>\n",
       "      <td>0.00292</td>\n",
       "      <td>...</td>\n",
       "      <td>134.7649</td>\n",
       "      <td>25.61035</td>\n",
       "      <td>90.86990</td>\n",
       "      <td>-3.72980</td>\n",
       "      <td>-7.13281</td>\n",
       "      <td>-1.0</td>\n",
       "      <td>11.86261</td>\n",
       "      <td>59.14596</td>\n",
       "      <td>70.77777</td>\n",
       "      <td>519.1353</td>\n",
       "    </tr>\n",
       "    <tr>\n",
       "      <th>1</th>\n",
       "      <td>01.01.2016 00:01:00</td>\n",
       "      <td>65.59</td>\n",
       "      <td>48.0</td>\n",
       "      <td>6.0</td>\n",
       "      <td>98.9</td>\n",
       "      <td>6.86923</td>\n",
       "      <td>64.01093</td>\n",
       "      <td>98.45134</td>\n",
       "      <td>56.04396</td>\n",
       "      <td>0.00292</td>\n",
       "      <td>...</td>\n",
       "      <td>134.8389</td>\n",
       "      <td>25.61035</td>\n",
       "      <td>90.90942</td>\n",
       "      <td>-3.72989</td>\n",
       "      <td>-7.13306</td>\n",
       "      <td>-1.0</td>\n",
       "      <td>11.86295</td>\n",
       "      <td>59.18106</td>\n",
       "      <td>70.93322</td>\n",
       "      <td>519.1353</td>\n",
       "    </tr>\n",
       "    <tr>\n",
       "      <th>2</th>\n",
       "      <td>01.01.2016 00:02:00</td>\n",
       "      <td>65.59</td>\n",
       "      <td>48.0</td>\n",
       "      <td>6.0</td>\n",
       "      <td>98.9</td>\n",
       "      <td>6.86095</td>\n",
       "      <td>63.99218</td>\n",
       "      <td>98.44153</td>\n",
       "      <td>56.01728</td>\n",
       "      <td>0.00292</td>\n",
       "      <td>...</td>\n",
       "      <td>134.6192</td>\n",
       "      <td>25.61055</td>\n",
       "      <td>90.88013</td>\n",
       "      <td>-3.73050</td>\n",
       "      <td>-7.13440</td>\n",
       "      <td>-1.0</td>\n",
       "      <td>11.86490</td>\n",
       "      <td>59.16980</td>\n",
       "      <td>70.03181</td>\n",
       "      <td>519.1346</td>\n",
       "    </tr>\n",
       "    <tr>\n",
       "      <th>3</th>\n",
       "      <td>01.01.2016 00:03:00</td>\n",
       "      <td>65.59</td>\n",
       "      <td>48.0</td>\n",
       "      <td>6.0</td>\n",
       "      <td>98.9</td>\n",
       "      <td>6.85725</td>\n",
       "      <td>63.98800</td>\n",
       "      <td>98.44115</td>\n",
       "      <td>56.01207</td>\n",
       "      <td>0.00292</td>\n",
       "      <td>...</td>\n",
       "      <td>134.6191</td>\n",
       "      <td>25.63477</td>\n",
       "      <td>90.87057</td>\n",
       "      <td>-3.73145</td>\n",
       "      <td>-7.13660</td>\n",
       "      <td>-1.0</td>\n",
       "      <td>11.86804</td>\n",
       "      <td>59.30387</td>\n",
       "      <td>70.46443</td>\n",
       "      <td>519.1337</td>\n",
       "    </tr>\n",
       "    <tr>\n",
       "      <th>4</th>\n",
       "      <td>01.01.2016 00:04:00</td>\n",
       "      <td>65.59</td>\n",
       "      <td>48.0</td>\n",
       "      <td>6.0</td>\n",
       "      <td>98.9</td>\n",
       "      <td>6.85561</td>\n",
       "      <td>63.98110</td>\n",
       "      <td>98.43896</td>\n",
       "      <td>56.00104</td>\n",
       "      <td>0.00292</td>\n",
       "      <td>...</td>\n",
       "      <td>134.6191</td>\n",
       "      <td>25.63477</td>\n",
       "      <td>90.90518</td>\n",
       "      <td>-3.73212</td>\n",
       "      <td>-7.13818</td>\n",
       "      <td>-1.0</td>\n",
       "      <td>11.87030</td>\n",
       "      <td>59.26101</td>\n",
       "      <td>69.81942</td>\n",
       "      <td>519.1330</td>\n",
       "    </tr>\n",
       "  </tbody>\n",
       "</table>\n",
       "<p>5 rows × 68 columns</p>\n",
       "</div>"
      ],
      "text/plain": [
       "             Timestamp    ARO  SATUR_PRESSURE  BOIL_PERCENT  OCTANE_NUMBER  \\\n",
       "0  01.01.2016 00:00:00  65.59            48.0           6.0           98.9   \n",
       "1  01.01.2016 00:01:00  65.59            48.0           6.0           98.9   \n",
       "2  01.01.2016 00:02:00  65.59            48.0           6.0           98.9   \n",
       "3  01.01.2016 00:03:00  65.59            48.0           6.0           98.9   \n",
       "4  01.01.2016 00:04:00  65.59            48.0           6.0           98.9   \n",
       "\n",
       "   percent_01_LAB  percent_04_LAB  quality_01_LAB  pressure_01_LAB  \\\n",
       "0         6.87640        64.05901        98.45841         56.06648   \n",
       "1         6.86923        64.01093        98.45134         56.04396   \n",
       "2         6.86095        63.99218        98.44153         56.01728   \n",
       "3         6.85725        63.98800        98.44115         56.01207   \n",
       "4         6.85561        63.98110        98.43896         56.00104   \n",
       "\n",
       "   consumption_09  ...  temperature_08  temperature_14  temperature_01_LAB  \\\n",
       "0         0.00292  ...        134.7649        25.61035            90.86990   \n",
       "1         0.00292  ...        134.8389        25.61035            90.90942   \n",
       "2         0.00292  ...        134.6192        25.61055            90.88013   \n",
       "3         0.00292  ...        134.6191        25.63477            90.87057   \n",
       "4         0.00292  ...        134.6191        25.63477            90.90518   \n",
       "\n",
       "   temperature_21  temperature_22  temperature_23  temperature_24  \\\n",
       "0        -3.72980        -7.13281            -1.0        11.86261   \n",
       "1        -3.72989        -7.13306            -1.0        11.86295   \n",
       "2        -3.73050        -7.13440            -1.0        11.86490   \n",
       "3        -3.73145        -7.13660            -1.0        11.86804   \n",
       "4        -3.73212        -7.13818            -1.0        11.87030   \n",
       "\n",
       "   consumption_01  pressure_11  temperature_20  \n",
       "0        59.14596     70.77777        519.1353  \n",
       "1        59.18106     70.93322        519.1353  \n",
       "2        59.16980     70.03181        519.1346  \n",
       "3        59.30387     70.46443        519.1337  \n",
       "4        59.26101     69.81942        519.1330  \n",
       "\n",
       "[5 rows x 68 columns]"
      ]
     },
     "execution_count": 3,
     "metadata": {},
     "output_type": "execute_result"
    }
   ],
   "source": [
    "data.head(5)"
   ]
  },
  {
   "cell_type": "code",
   "execution_count": 84,
   "metadata": {},
   "outputs": [],
   "source": [
    "def preprocess(df, K=5, dif=True):\n",
    "    df = df.groupby(df.index // K).mean() #усреднение\n",
    "    df_np = df.to_numpy()\n",
    "    if dif:\n",
    "        df_np = df_np[1:len(df_np), ...] - df_np[0:-1, ...] #дифференцирование\n",
    "    df_np = (df_np - df_np.mean()) / df_np.std() #масштабирование\n",
    "    df = pd.DataFrame(df_np, columns=df.columns)\n",
    "    return df"
   ]
  },
  {
   "cell_type": "code",
   "execution_count": 8,
   "metadata": {},
   "outputs": [
    {
     "ename": "NameError",
     "evalue": "name 'data' is not defined",
     "output_type": "error",
     "traceback": [
      "\u001b[0;31m---------------------------------------------------------------------------\u001b[0m",
      "\u001b[0;31mNameError\u001b[0m                                 Traceback (most recent call last)",
      "\u001b[1;32m/home/anna/Desktop/MSU/научка/git/time_series/notebook.ipynb Cell 6\u001b[0m in \u001b[0;36m<cell line: 2>\u001b[0;34m()\u001b[0m\n\u001b[1;32m      <a href='vscode-notebook-cell:/home/anna/Desktop/MSU/%D0%BD%D0%B0%D1%83%D1%87%D0%BA%D0%B0/git/time_series/notebook.ipynb#W5sZmlsZQ%3D%3D?line=0'>1</a>\u001b[0m \u001b[39m#усреднение данных за 5 минут, дискретное дифференцирование, масштабирование\u001b[39;00m\n\u001b[0;32m----> <a href='vscode-notebook-cell:/home/anna/Desktop/MSU/%D0%BD%D0%B0%D1%83%D1%87%D0%BA%D0%B0/git/time_series/notebook.ipynb#W5sZmlsZQ%3D%3D?line=1'>2</a>\u001b[0m preprocess(data)\u001b[39m.\u001b[39mto_csv(\u001b[39m\"\u001b[39m\u001b[39mDataSet_preprocessed.csv\u001b[39m\u001b[39m\"\u001b[39m)\n",
      "\u001b[0;31mNameError\u001b[0m: name 'data' is not defined"
     ]
    }
   ],
   "source": [
    "#усреднение данных за 5 минут, дискретное дифференцирование, масштабирование\n",
    "preprocess(data).to_csv(\"DataSet_preprocessed.csv\")"
   ]
  },
  {
   "cell_type": "code",
   "execution_count": 6,
   "metadata": {},
   "outputs": [],
   "source": [
    "preprocessed_data = pd.read_csv(\"DataSet_preprocessed.csv\")"
   ]
  },
  {
   "cell_type": "code",
   "execution_count": 70,
   "metadata": {},
   "outputs": [
    {
     "data": {
      "text/plain": [
       "(408095, 68)"
      ]
     },
     "execution_count": 70,
     "metadata": {},
     "output_type": "execute_result"
    }
   ],
   "source": [
    "preprocessed_data.shape"
   ]
  },
  {
   "cell_type": "code",
   "execution_count": 9,
   "metadata": {},
   "outputs": [],
   "source": [
    "def create_lag(data, size_of_lag=1):\n",
    "    \"\"\"\n",
    "    data (N, Q)\n",
    "    return lag (N, size_of_lag, Q)\n",
    "    \"\"\"\n",
    "    data = data.to_numpy()\n",
    "    print(data.shape)\n",
    "    result = np.zeros((data.shape[0], size_of_lag, data.shape[1])) #(N, SL, Q)\n",
    "    for i in range(size_of_lag): \n",
    "        result[:, i, :] = np.roll(data, -i, axis=0)\n",
    "    return result[size_of_lag:data.shape[0] - size_of_lag, ...]"
   ]
  },
  {
   "cell_type": "code",
   "execution_count": 4,
   "metadata": {},
   "outputs": [
    {
     "name": "stderr",
     "output_type": "stream",
     "text": [
      "2022-11-01 16:08:08.120834: W tensorflow/stream_executor/platform/default/dso_loader.cc:64] Could not load dynamic library 'libcudart.so.11.0'; dlerror: libcudart.so.11.0: cannot open shared object file: No such file or directory\n",
      "2022-11-01 16:08:08.120855: I tensorflow/stream_executor/cuda/cudart_stub.cc:29] Ignore above cudart dlerror if you do not have a GPU set up on your machine.\n"
     ]
    }
   ],
   "source": [
    "# from sklearn.preprocessing import MinMaxScaler\n",
    "# from sklearn.preprocessing import LabelEncoder\n",
    "from sklearn.metrics import mean_squared_error\n",
    "from keras.models import Sequential\n",
    "from keras.layers import Dense\n",
    "from keras.layers import LSTM"
   ]
  },
  {
   "cell_type": "code",
   "execution_count": 5,
   "metadata": {},
   "outputs": [],
   "source": [
    "\n",
    "def split_to_train_and_test(dataset, percent_of_test=20):\n",
    "    K = 5\n",
    "    values = create_lag(dataset, K)\n",
    "    n_split = int((1 - percent_of_test/ 100) * dataset.shape[0])\n",
    "    print(f\"{n_split=}\")\n",
    "    train = values[:n_split, ...]\n",
    "    test = values[n_split:, ...]\n",
    "    train_X, train_y = train[:-K, ...], train[K:, 0, ...]\n",
    "    test_X, test_y = test[:-K, ...], test[K:, 0, ...]\n",
    "    train_X = np.transpose(train_X, axes=(0, 2, 1))\n",
    "    test_X = np.transpose(test_X, axes=(0, 2, 1))\n",
    "    print(f\"{train_X.shape=}, {train_y.shape=}, {test_X.shape=}, {test_y.shape=}\")\n",
    "    return train_X, train_y, test_X, test_y"
   ]
  },
  {
   "cell_type": "code",
   "execution_count": 110,
   "metadata": {},
   "outputs": [],
   "source": [
    "# from tensorflow.keras.utils import plot_model\n"
   ]
  },
  {
   "cell_type": "code",
   "execution_count": 6,
   "metadata": {},
   "outputs": [],
   "source": [
    "def learn(train_X, train_y, test_X, test_y):\n",
    "    model = Sequential()\n",
    "    #batch_size, (time_steps, units)\n",
    "    model.add(LSTM(units = 50, return_sequences = True, input_shape = (train_X.shape[1], train_X.shape[2])))\n",
    "    model.add(Dense(1))\n",
    "    model.compile(loss='mae', optimizer='adam')\n",
    "\n",
    "    # plot_model(model, to_file='model_plot.png', show_shapes=True, show_layer_names=True)\n",
    "    model.summary()\n",
    "\n",
    "    history = model.fit(train_X, train_y, epochs=10, batch_size=72, shuffle=False, validation_data=(test_X, test_y), verbose=2)\n",
    "    return model, history"
   ]
  },
  {
   "cell_type": "markdown",
   "metadata": {},
   "source": [
    "quality >= 90 :\n",
    "L = 431204;  R = 2040480; len = 1609276"
   ]
  },
  {
   "cell_type": "markdown",
   "metadata": {},
   "source": [
    "Частично данные из DataSet2"
   ]
  },
  {
   "cell_type": "code",
   "execution_count": 78,
   "metadata": {},
   "outputs": [
    {
     "data": {
      "text/plain": [
       "(20000, 67)"
      ]
     },
     "execution_count": 78,
     "metadata": {},
     "output_type": "execute_result"
    }
   ],
   "source": [
    "partial_data = preprocessed_data.iloc[431205 // 5:531205 // 5, 1:]\n",
    "partial_data.shape"
   ]
  },
  {
   "cell_type": "code",
   "execution_count": 105,
   "metadata": {},
   "outputs": [
    {
     "name": "stdout",
     "output_type": "stream",
     "text": [
      "(20000, 67)\n",
      "n_split=16000\n",
      "train_X.shape=(15995, 67, 5), train_y.shape=(15995, 67), test_X.shape=(3985, 67, 5), test_y.shape=(3985, 67)\n"
     ]
    }
   ],
   "source": [
    "train_X, train_y, test_X, test_y = split_to_train_and_test(partial_data)"
   ]
  },
  {
   "cell_type": "code",
   "execution_count": 106,
   "metadata": {},
   "outputs": [
    {
     "name": "stdout",
     "output_type": "stream",
     "text": [
      "Model: \"sequential_12\"\n",
      "_________________________________________________________________\n",
      " Layer (type)                Output Shape              Param #   \n",
      "=================================================================\n",
      " lstm_12 (LSTM)              (None, 67, 50)            11200     \n",
      "                                                                 \n",
      " dense_8 (Dense)             (None, 67, 1)             51        \n",
      "                                                                 \n",
      "=================================================================\n",
      "Total params: 11,251\n",
      "Trainable params: 11,251\n",
      "Non-trainable params: 0\n",
      "_________________________________________________________________\n",
      "Epoch 1/10\n",
      "223/223 - 9s - loss: 0.1939 - val_loss: 0.1324 - 9s/epoch - 39ms/step\n",
      "Epoch 2/10\n",
      "223/223 - 7s - loss: 0.1920 - val_loss: 0.1326 - 7s/epoch - 30ms/step\n",
      "Epoch 3/10\n",
      "223/223 - 7s - loss: 0.1911 - val_loss: 0.1328 - 7s/epoch - 30ms/step\n",
      "Epoch 4/10\n",
      "223/223 - 7s - loss: 0.1904 - val_loss: 0.1327 - 7s/epoch - 29ms/step\n",
      "Epoch 5/10\n",
      "223/223 - 7s - loss: 0.1899 - val_loss: 0.1325 - 7s/epoch - 30ms/step\n",
      "Epoch 6/10\n",
      "223/223 - 7s - loss: 0.1892 - val_loss: 0.1321 - 7s/epoch - 30ms/step\n",
      "Epoch 7/10\n",
      "223/223 - 7s - loss: 0.1888 - val_loss: 0.1319 - 7s/epoch - 30ms/step\n",
      "Epoch 8/10\n",
      "223/223 - 7s - loss: 0.1881 - val_loss: 0.1315 - 7s/epoch - 30ms/step\n",
      "Epoch 9/10\n",
      "223/223 - 7s - loss: 0.1877 - val_loss: 0.1311 - 7s/epoch - 30ms/step\n",
      "Epoch 10/10\n",
      "223/223 - 7s - loss: 0.1872 - val_loss: 0.1308 - 7s/epoch - 29ms/step\n"
     ]
    }
   ],
   "source": [
    "model, history = learn(train_X, train_y, test_X, test_y)"
   ]
  },
  {
   "cell_type": "code",
   "execution_count": 107,
   "metadata": {},
   "outputs": [
    {
     "data": {
      "text/plain": [
       "[<matplotlib.lines.Line2D at 0x7f4298156560>]"
      ]
     },
     "execution_count": 107,
     "metadata": {},
     "output_type": "execute_result"
    },
    {
     "data": {
      "image/png": "[encoded data removed]",
      "text/plain": [
       "<Figure size 640x480 with 1 Axes>"
      ]
     },
     "metadata": {},
     "output_type": "display_data"
    }
   ],
   "source": [
    "plt.plot(history.history['loss'], label='train')\n"
   ]
  },
  {
   "cell_type": "code",
   "execution_count": 108,
   "metadata": {},
   "outputs": [
    {
     "name": "stdout",
     "output_type": "stream",
     "text": [
      "125/125 [==============================] - 1s 9ms/step\n",
      "(3985, 67, 1)\n"
     ]
    }
   ],
   "source": [
    "predicted = model.predict(test_X)\n",
    "print(predicted.shape)"
   ]
  },
  {
   "cell_type": "code",
   "execution_count": 109,
   "metadata": {},
   "outputs": [
    {
     "name": "stdout",
     "output_type": "stream",
     "text": [
      "predicted_values.shape=(100, 67, 1)\n"
     ]
    },
    {
     "data": {
      "text/plain": [
       "<Figure size 640x480 with 0 Axes>"
      ]
     },
     "metadata": {},
     "output_type": "display_data"
    }
   ],
   "source": [
    "predicted_values = predicted[:100, ...]\n",
    "print(f\"{predicted_values.shape=}\")\n",
    "\n",
    "for i in range(predicted_values.shape[1]):\n",
    "    plt.plot(predicted_values[:, i, 0], color=\"red\", label=\"prediction\")\n",
    "    plt.plot(test_y[:100, i], color=\"green\", label=\"origin\")\n",
    "    plt.xlabel(\"Time\")\n",
    "    plt.ylabel(str(columns[i + 1]))\n",
    "    plt.legend()\n",
    "    plt.savefig(\"plots/partionDataSet2/\" + str(i) + \" \" + str(columns[i + 1]) + '.png')\n",
    "    # plt.show()\n",
    "    plt.clf()"
   ]
  },
  {
   "cell_type": "markdown",
   "metadata": {},
   "source": [
    "Данные https://machinelearningmastery.com/multivariate-time-series-forecasting-lstms-keras/\n"
   ]
  },
  {
   "cell_type": "code",
   "execution_count": 111,
   "metadata": {},
   "outputs": [
    {
     "name": "stdout",
     "output_type": "stream",
     "text": [
      "   pollution  dew  temp   press  wnd_spd  snow  rain\n",
      "0      129.0  -16  -4.0  1020.0     1.79     0     0\n",
      "1      148.0  -15  -4.0  1020.0     2.68     0     0\n",
      "2      159.0  -11  -5.0  1021.0     3.57     0     0\n",
      "3      181.0   -7  -5.0  1022.0     5.36     1     0\n",
      "4      138.0   -7  -5.0  1022.0     6.25     2     0\n"
     ]
    }
   ],
   "source": [
    "dataset = pd.read_csv('../../materials/pollution.csv')\n",
    "# dataset.drop(columns=[\"date\"], inplace=True)\n",
    "print(dataset.head(5))\n",
    "dataset.to_csv('../../materials/pollution.csv', index=False)"
   ]
  },
  {
   "cell_type": "code",
   "execution_count": 156,
   "metadata": {},
   "outputs": [],
   "source": [
    "dataset = pd.read_csv('../../materials/pollution.csv')\n"
   ]
  },
  {
   "cell_type": "code",
   "execution_count": 158,
   "metadata": {},
   "outputs": [],
   "source": [
    "dataset = preprocess(dataset)"
   ]
  },
  {
   "cell_type": "code",
   "execution_count": 159,
   "metadata": {},
   "outputs": [
    {
     "data": {
      "text/plain": [
       "<bound method DataFrame.info of       pollution       dew      temp     press   wnd_spd      snow      rain\n",
       "0     -1.520064  0.184166 -0.046135  0.119682  0.312674  0.036773 -0.000075\n",
       "1      1.584399 -0.036923  0.027561  0.092046  0.621923 -0.055347 -0.000075\n",
       "2      0.313135 -0.018499 -0.000075  0.045985  0.720400 -0.009287 -0.000075\n",
       "3     -0.976553  0.045985 -0.027711  0.036773  0.572639  0.092046 -0.000075\n",
       "4     -3.307203 -0.036923 -0.064559 -0.110620  0.778160  0.230227 -0.000075\n",
       "...         ...       ...       ...       ...       ...       ...       ...\n",
       "8754  -0.939705 -0.258012 -0.211952  0.248651  2.107736 -0.000075 -0.000075\n",
       "8755  -0.230376 -0.129044 -0.138256  0.202590  2.977169 -0.000075 -0.000075\n",
       "8756   0.128894 -0.073771  0.110470  0.064410  2.075033 -0.000075 -0.000075\n",
       "8757  -0.073771 -0.046135  0.055197 -0.046135  1.930864 -0.000075 -0.000075\n",
       "8758   0.009137  0.092046 -0.129044  0.073622  1.346451 -0.000075 -0.000075\n",
       "\n",
       "[8759 rows x 7 columns]>"
      ]
     },
     "execution_count": 159,
     "metadata": {},
     "output_type": "execute_result"
    }
   ],
   "source": [
    "dataset.info"
   ]
  },
  {
   "cell_type": "code",
   "execution_count": 160,
   "metadata": {},
   "outputs": [
    {
     "data": {
      "text/html": [
       "<div>\n",
       "<style scoped>\n",
       "    .dataframe tbody tr th:only-of-type {\n",
       "        vertical-align: middle;\n",
       "    }\n",
       "\n",
       "    .dataframe tbody tr th {\n",
       "        vertical-align: top;\n",
       "    }\n",
       "\n",
       "    .dataframe thead th {\n",
       "        text-align: right;\n",
       "    }\n",
       "</style>\n",
       "<table border=\"1\" class=\"dataframe\">\n",
       "  <thead>\n",
       "    <tr style=\"text-align: right;\">\n",
       "      <th></th>\n",
       "      <th>pollution</th>\n",
       "      <th>dew</th>\n",
       "      <th>temp</th>\n",
       "      <th>press</th>\n",
       "      <th>wnd_spd</th>\n",
       "      <th>snow</th>\n",
       "      <th>rain</th>\n",
       "    </tr>\n",
       "  </thead>\n",
       "  <tbody>\n",
       "    <tr>\n",
       "      <th>0</th>\n",
       "      <td>-1.520064</td>\n",
       "      <td>0.184166</td>\n",
       "      <td>-0.046135</td>\n",
       "      <td>0.119682</td>\n",
       "      <td>0.312674</td>\n",
       "      <td>0.036773</td>\n",
       "      <td>-0.000075</td>\n",
       "    </tr>\n",
       "    <tr>\n",
       "      <th>1</th>\n",
       "      <td>1.584399</td>\n",
       "      <td>-0.036923</td>\n",
       "      <td>0.027561</td>\n",
       "      <td>0.092046</td>\n",
       "      <td>0.621923</td>\n",
       "      <td>-0.055347</td>\n",
       "      <td>-0.000075</td>\n",
       "    </tr>\n",
       "    <tr>\n",
       "      <th>2</th>\n",
       "      <td>0.313135</td>\n",
       "      <td>-0.018499</td>\n",
       "      <td>-0.000075</td>\n",
       "      <td>0.045985</td>\n",
       "      <td>0.720400</td>\n",
       "      <td>-0.009287</td>\n",
       "      <td>-0.000075</td>\n",
       "    </tr>\n",
       "    <tr>\n",
       "      <th>3</th>\n",
       "      <td>-0.976553</td>\n",
       "      <td>0.045985</td>\n",
       "      <td>-0.027711</td>\n",
       "      <td>0.036773</td>\n",
       "      <td>0.572639</td>\n",
       "      <td>0.092046</td>\n",
       "      <td>-0.000075</td>\n",
       "    </tr>\n",
       "    <tr>\n",
       "      <th>4</th>\n",
       "      <td>-3.307203</td>\n",
       "      <td>-0.036923</td>\n",
       "      <td>-0.064559</td>\n",
       "      <td>-0.110620</td>\n",
       "      <td>0.778160</td>\n",
       "      <td>0.230227</td>\n",
       "      <td>-0.000075</td>\n",
       "    </tr>\n",
       "  </tbody>\n",
       "</table>\n",
       "</div>"
      ],
      "text/plain": [
       "   pollution       dew      temp     press   wnd_spd      snow      rain\n",
       "0  -1.520064  0.184166 -0.046135  0.119682  0.312674  0.036773 -0.000075\n",
       "1   1.584399 -0.036923  0.027561  0.092046  0.621923 -0.055347 -0.000075\n",
       "2   0.313135 -0.018499 -0.000075  0.045985  0.720400 -0.009287 -0.000075\n",
       "3  -0.976553  0.045985 -0.027711  0.036773  0.572639  0.092046 -0.000075\n",
       "4  -3.307203 -0.036923 -0.064559 -0.110620  0.778160  0.230227 -0.000075"
      ]
     },
     "execution_count": 160,
     "metadata": {},
     "output_type": "execute_result"
    }
   ],
   "source": [
    "dataset.head()"
   ]
  },
  {
   "cell_type": "code",
   "execution_count": 113,
   "metadata": {},
   "outputs": [],
   "source": [
    "from tslearn.clustering import TimeSeriesKMeans\n"
   ]
  },
  {
   "cell_type": "code",
   "execution_count": 114,
   "metadata": {},
   "outputs": [],
   "source": [
    "model = TimeSeriesKMeans(n_clusters=3, metric=\"dtw\", max_iter=50)\n",
    "# model.fit_predict(dataset)"
   ]
  },
  {
   "cell_type": "code",
   "execution_count": 166,
   "metadata": {},
   "outputs": [],
   "source": [
    "from sklearn.cluster import KMeans\n",
    "\n",
    "def KMeans_for_windows(dataset, window_size=5, N_clusters=8):\n",
    "    if isinstance(dataset, pd.DataFrame):\n",
    "        dataset = dataset.to_numpy()\n",
    "    windows = np.array([dataset[i:i+W].flatten() for i in range(dataset.shape[0] - W)])\n",
    "    N_clusters = 7\n",
    "    model = KMeans(n_clusters=N_clusters, max_iter=200)\n",
    "    res = model.fit_predict(windows)\n",
    "    return res\n"
   ]
  },
  {
   "cell_type": "code",
   "execution_count": 176,
   "metadata": {},
   "outputs": [],
   "source": [
    "N_clusters = 5\n",
    "res = KMeans_for_windows(dataset, N_clusters=N_clusters)"
   ]
  },
  {
   "cell_type": "code",
   "execution_count": 177,
   "metadata": {},
   "outputs": [],
   "source": [
    "from collections import defaultdict\n",
    "def calc_RLE(lst):\n",
    "\tcnt = defaultdict(lambda: [])\n",
    "\ti = 0\n",
    "\twhile i < len(lst):\n",
    "\t\ttmp = 0\n",
    "\t\tfor j in range(i, len(lst)):\n",
    "\t\t\tif lst[j] != lst[i]:\n",
    "\t\t\t\tcnt[lst[i]].append(j - i)\n",
    "\t\t\t\tbreak\n",
    "\t\t\ttmp += 1\n",
    "\t\t\tj += 1\n",
    "\t\telse:\n",
    "\t\t\tcnt[lst[i]].append(j - i)\n",
    "\t\ti = j\n",
    "\treturn cnt\n"
   ]
  },
  {
   "cell_type": "markdown",
   "metadata": {},
   "source": [
    "Пока что не получается непрерывных отрезков с одним классом ()"
   ]
  },
  {
   "cell_type": "code",
   "execution_count": 178,
   "metadata": {},
   "outputs": [
    {
     "data": {
      "image/png": "[encoded data removed]",
      "text/plain": [
       "<Figure size 640x480 with 1 Axes>"
      ]
     },
     "metadata": {},
     "output_type": "display_data"
    },
    {
     "data": {
      "image/png": "[encoded data removed]",
      "text/plain": [
       "<Figure size 640x480 with 1 Axes>"
      ]
     },
     "metadata": {},
     "output_type": "display_data"
    },
    {
     "data": {
      "image/png": "[encoded data removed]",
      "text/plain": [
       "<Figure size 640x480 with 1 Axes>"
      ]
     },
     "metadata": {},
     "output_type": "display_data"
    },
    {
     "data": {
      "image/png": "[encoded data removed]",
      "text/plain": [
       "<Figure size 640x480 with 1 Axes>"
      ]
     },
     "metadata": {},
     "output_type": "display_data"
    },
    {
     "data": {
      "image/png": "[encoded data removed]",
      "text/plain": [
       "<Figure size 640x480 with 1 Axes>"
      ]
     },
     "metadata": {},
     "output_type": "display_data"
    }
   ],
   "source": [
    "sections_for_clusters = calc_RLE(res)\n",
    "for i in range(N_clusters):\n",
    "    plt.hist(sections_for_clusters[i])\n",
    "    plt.xlabel(f\"Длина непрерывного отрезка из элементов {i} класса\".format())\n",
    "    plt.ylabel(\"Количество отрезков такой длины\")\n",
    "    plt.show()\n",
    "# plt.legend()"
   ]
  },
  {
   "cell_type": "code",
   "execution_count": null,
   "metadata": {},
   "outputs": [],
   "source": []
  },
  {
   "cell_type": "code",
   "execution_count": 30,
   "metadata": {},
   "outputs": [],
   "source": [
    "columns = dataset.columns"
   ]
  },
  {
   "cell_type": "code",
   "execution_count": 113,
   "metadata": {},
   "outputs": [
    {
     "name": "stdout",
     "output_type": "stream",
     "text": [
      "(43800, 7)\n",
      "n_split=35040\n",
      "train_X.shape=(35035, 7, 5), train_y.shape=(35035, 7), test_X.shape=(8745, 7, 5), test_y.shape=(8745, 7)\n"
     ]
    }
   ],
   "source": [
    "train_X, train_y, test_X, test_y = split_to_train_and_test(dataset)\n"
   ]
  },
  {
   "cell_type": "code",
   "execution_count": 114,
   "metadata": {},
   "outputs": [
    {
     "name": "stdout",
     "output_type": "stream",
     "text": [
      "Model: \"sequential_13\"\n",
      "_________________________________________________________________\n",
      " Layer (type)                Output Shape              Param #   \n",
      "=================================================================\n",
      " lstm_13 (LSTM)              (None, 7, 50)             11200     \n",
      "                                                                 \n",
      " dense_9 (Dense)             (None, 7, 1)              51        \n",
      "                                                                 \n",
      "=================================================================\n",
      "Total params: 11,251\n",
      "Trainable params: 11,251\n",
      "Non-trainable params: 0\n",
      "_________________________________________________________________\n",
      "Epoch 1/10\n",
      "487/487 - 5s - loss: 161.0285 - val_loss: 156.8850 - 5s/epoch - 9ms/step\n",
      "Epoch 2/10\n",
      "487/487 - 3s - loss: 154.3784 - val_loss: 151.9624 - 3s/epoch - 5ms/step\n",
      "Epoch 3/10\n",
      "487/487 - 3s - loss: 150.1037 - val_loss: 148.0692 - 3s/epoch - 5ms/step\n",
      "Epoch 4/10\n",
      "487/487 - 3s - loss: 146.3915 - val_loss: 144.5203 - 3s/epoch - 5ms/step\n",
      "Epoch 5/10\n",
      "487/487 - 3s - loss: 142.8954 - val_loss: 141.1337 - 3s/epoch - 5ms/step\n",
      "Epoch 6/10\n",
      "487/487 - 2s - loss: 139.5414 - val_loss: 137.8503 - 2s/epoch - 5ms/step\n",
      "Epoch 7/10\n",
      "487/487 - 3s - loss: 136.2988 - val_loss: 134.7144 - 3s/epoch - 5ms/step\n",
      "Epoch 8/10\n",
      "487/487 - 3s - loss: 133.1712 - val_loss: 131.6712 - 3s/epoch - 5ms/step\n",
      "Epoch 9/10\n",
      "487/487 - 3s - loss: 130.1853 - val_loss: 128.7005 - 3s/epoch - 5ms/step\n",
      "Epoch 10/10\n",
      "487/487 - 2s - loss: 127.2348 - val_loss: 125.9105 - 2s/epoch - 5ms/step\n"
     ]
    }
   ],
   "source": [
    "model, history = learn(train_X, train_y, test_X, test_y)"
   ]
  },
  {
   "cell_type": "code",
   "execution_count": 118,
   "metadata": {},
   "outputs": [
    {
     "name": "stdout",
     "output_type": "stream",
     "text": [
      "274/274 [==============================] - 1s 2ms/step\n",
      "(8745, 7, 1)\n"
     ]
    }
   ],
   "source": [
    "predicted = model.predict(test_X)\n",
    "print(predicted.shape)"
   ]
  },
  {
   "cell_type": "code",
   "execution_count": 119,
   "metadata": {},
   "outputs": [
    {
     "data": {
      "text/plain": [
       "[<matplotlib.lines.Line2D at 0x7f42c82a1db0>]"
      ]
     },
     "execution_count": 119,
     "metadata": {},
     "output_type": "execute_result"
    },
    {
     "data": {
      "image/png": "[encoded data removed]",
      "text/plain": [
       "<Figure size 640x480 with 1 Axes>"
      ]
     },
     "metadata": {},
     "output_type": "display_data"
    }
   ],
   "source": [
    "plt.plot(history.history['loss'], label='train')\n"
   ]
  },
  {
   "cell_type": "code",
   "execution_count": 127,
   "metadata": {},
   "outputs": [
    {
     "name": "stdout",
     "output_type": "stream",
     "text": [
      "predicted_values.shape=(100, 7, 1)\n"
     ]
    },
    {
     "data": {
      "text/plain": [
       "<Figure size 640x480 with 0 Axes>"
      ]
     },
     "metadata": {},
     "output_type": "display_data"
    }
   ],
   "source": [
    "\n",
    "predicted_values = predicted[100:200, ...]\n",
    "print(f\"{predicted_values.shape=}\")\n",
    "\n",
    "for i in range(predicted_values.shape[1]):\n",
    "    plt.plot(predicted_values[:, i, 0], color=\"red\", label=\"prediction\")\n",
    "    plt.plot(test_y[100:200, i], color=\"green\", label=\"origin\")\n",
    "    plt.xlabel(\"Time\")\n",
    "    plt.ylabel(str(columns[i]))\n",
    "    plt.legend()\n",
    "    plt.savefig(\"plots/smallDataSet/\" + str(i) + \" \" + str(columns[i]) + '.png')\n",
    "    # plt.show()\n",
    "    plt.clf()"
   ]
  },
  {
   "cell_type": "code",
   "execution_count": 16,
   "metadata": {},
   "outputs": [],
   "source": [
    "data1 = pd.read_csv(\"MiningProcess_Flotation_Plant_Database.csv\")"
   ]
  },
  {
   "cell_type": "code",
   "execution_count": null,
   "metadata": {},
   "outputs": [],
   "source": []
  },
  {
   "cell_type": "code",
   "execution_count": null,
   "metadata": {},
   "outputs": [],
   "source": []
  },
  {
   "cell_type": "code",
   "execution_count": 17,
   "metadata": {},
   "outputs": [
    {
     "data": {
      "text/html": [
       "<div>\n",
       "<style scoped>\n",
       "    .dataframe tbody tr th:only-of-type {\n",
       "        vertical-align: middle;\n",
       "    }\n",
       "\n",
       "    .dataframe tbody tr th {\n",
       "        vertical-align: top;\n",
       "    }\n",
       "\n",
       "    .dataframe thead th {\n",
       "        text-align: right;\n",
       "    }\n",
       "</style>\n",
       "<table border=\"1\" class=\"dataframe\">\n",
       "  <thead>\n",
       "    <tr style=\"text-align: right;\">\n",
       "      <th></th>\n",
       "      <th>date</th>\n",
       "      <th>% Iron Feed</th>\n",
       "      <th>% Silica Feed</th>\n",
       "      <th>Starch Flow</th>\n",
       "      <th>Amina Flow</th>\n",
       "      <th>Ore Pulp Flow</th>\n",
       "      <th>Ore Pulp pH</th>\n",
       "      <th>Ore Pulp Density</th>\n",
       "      <th>Flotation Column 01 Air Flow</th>\n",
       "      <th>Flotation Column 02 Air Flow</th>\n",
       "      <th>...</th>\n",
       "      <th>Flotation Column 07 Air Flow</th>\n",
       "      <th>Flotation Column 01 Level</th>\n",
       "      <th>Flotation Column 02 Level</th>\n",
       "      <th>Flotation Column 03 Level</th>\n",
       "      <th>Flotation Column 04 Level</th>\n",
       "      <th>Flotation Column 05 Level</th>\n",
       "      <th>Flotation Column 06 Level</th>\n",
       "      <th>Flotation Column 07 Level</th>\n",
       "      <th>% Iron Concentrate</th>\n",
       "      <th>% Silica Concentrate</th>\n",
       "    </tr>\n",
       "  </thead>\n",
       "  <tbody>\n",
       "    <tr>\n",
       "      <th>0</th>\n",
       "      <td>2017-03-10 01:00:00</td>\n",
       "      <td>55,2</td>\n",
       "      <td>16,98</td>\n",
       "      <td>3019,53</td>\n",
       "      <td>557,434</td>\n",
       "      <td>395,713</td>\n",
       "      <td>10,0664</td>\n",
       "      <td>1,74</td>\n",
       "      <td>249,214</td>\n",
       "      <td>253,235</td>\n",
       "      <td>...</td>\n",
       "      <td>250,884</td>\n",
       "      <td>457,396</td>\n",
       "      <td>432,962</td>\n",
       "      <td>424,954</td>\n",
       "      <td>443,558</td>\n",
       "      <td>502,255</td>\n",
       "      <td>446,37</td>\n",
       "      <td>523,344</td>\n",
       "      <td>66,91</td>\n",
       "      <td>1,31</td>\n",
       "    </tr>\n",
       "    <tr>\n",
       "      <th>1</th>\n",
       "      <td>2017-03-10 01:00:00</td>\n",
       "      <td>55,2</td>\n",
       "      <td>16,98</td>\n",
       "      <td>3024,41</td>\n",
       "      <td>563,965</td>\n",
       "      <td>397,383</td>\n",
       "      <td>10,0672</td>\n",
       "      <td>1,74</td>\n",
       "      <td>249,719</td>\n",
       "      <td>250,532</td>\n",
       "      <td>...</td>\n",
       "      <td>248,994</td>\n",
       "      <td>451,891</td>\n",
       "      <td>429,56</td>\n",
       "      <td>432,939</td>\n",
       "      <td>448,086</td>\n",
       "      <td>496,363</td>\n",
       "      <td>445,922</td>\n",
       "      <td>498,075</td>\n",
       "      <td>66,91</td>\n",
       "      <td>1,31</td>\n",
       "    </tr>\n",
       "    <tr>\n",
       "      <th>2</th>\n",
       "      <td>2017-03-10 01:00:00</td>\n",
       "      <td>55,2</td>\n",
       "      <td>16,98</td>\n",
       "      <td>3043,46</td>\n",
       "      <td>568,054</td>\n",
       "      <td>399,668</td>\n",
       "      <td>10,068</td>\n",
       "      <td>1,74</td>\n",
       "      <td>249,741</td>\n",
       "      <td>247,874</td>\n",
       "      <td>...</td>\n",
       "      <td>248,071</td>\n",
       "      <td>451,24</td>\n",
       "      <td>468,927</td>\n",
       "      <td>434,61</td>\n",
       "      <td>449,688</td>\n",
       "      <td>484,411</td>\n",
       "      <td>447,826</td>\n",
       "      <td>458,567</td>\n",
       "      <td>66,91</td>\n",
       "      <td>1,31</td>\n",
       "    </tr>\n",
       "    <tr>\n",
       "      <th>3</th>\n",
       "      <td>2017-03-10 01:00:00</td>\n",
       "      <td>55,2</td>\n",
       "      <td>16,98</td>\n",
       "      <td>3047,36</td>\n",
       "      <td>568,665</td>\n",
       "      <td>397,939</td>\n",
       "      <td>10,0689</td>\n",
       "      <td>1,74</td>\n",
       "      <td>249,917</td>\n",
       "      <td>254,487</td>\n",
       "      <td>...</td>\n",
       "      <td>251,147</td>\n",
       "      <td>452,441</td>\n",
       "      <td>458,165</td>\n",
       "      <td>442,865</td>\n",
       "      <td>446,21</td>\n",
       "      <td>471,411</td>\n",
       "      <td>437,69</td>\n",
       "      <td>427,669</td>\n",
       "      <td>66,91</td>\n",
       "      <td>1,31</td>\n",
       "    </tr>\n",
       "    <tr>\n",
       "      <th>4</th>\n",
       "      <td>2017-03-10 01:00:00</td>\n",
       "      <td>55,2</td>\n",
       "      <td>16,98</td>\n",
       "      <td>3033,69</td>\n",
       "      <td>558,167</td>\n",
       "      <td>400,254</td>\n",
       "      <td>10,0697</td>\n",
       "      <td>1,74</td>\n",
       "      <td>250,203</td>\n",
       "      <td>252,136</td>\n",
       "      <td>...</td>\n",
       "      <td>248,928</td>\n",
       "      <td>452,441</td>\n",
       "      <td>452,9</td>\n",
       "      <td>450,523</td>\n",
       "      <td>453,67</td>\n",
       "      <td>462,598</td>\n",
       "      <td>443,682</td>\n",
       "      <td>425,679</td>\n",
       "      <td>66,91</td>\n",
       "      <td>1,31</td>\n",
       "    </tr>\n",
       "  </tbody>\n",
       "</table>\n",
       "<p>5 rows × 24 columns</p>\n",
       "</div>"
      ],
      "text/plain": [
       "                  date % Iron Feed % Silica Feed Starch Flow Amina Flow  \\\n",
       "0  2017-03-10 01:00:00        55,2         16,98     3019,53    557,434   \n",
       "1  2017-03-10 01:00:00        55,2         16,98     3024,41    563,965   \n",
       "2  2017-03-10 01:00:00        55,2         16,98     3043,46    568,054   \n",
       "3  2017-03-10 01:00:00        55,2         16,98     3047,36    568,665   \n",
       "4  2017-03-10 01:00:00        55,2         16,98     3033,69    558,167   \n",
       "\n",
       "  Ore Pulp Flow Ore Pulp pH Ore Pulp Density Flotation Column 01 Air Flow  \\\n",
       "0       395,713     10,0664             1,74                      249,214   \n",
       "1       397,383     10,0672             1,74                      249,719   \n",
       "2       399,668      10,068             1,74                      249,741   \n",
       "3       397,939     10,0689             1,74                      249,917   \n",
       "4       400,254     10,0697             1,74                      250,203   \n",
       "\n",
       "  Flotation Column 02 Air Flow  ... Flotation Column 07 Air Flow  \\\n",
       "0                      253,235  ...                      250,884   \n",
       "1                      250,532  ...                      248,994   \n",
       "2                      247,874  ...                      248,071   \n",
       "3                      254,487  ...                      251,147   \n",
       "4                      252,136  ...                      248,928   \n",
       "\n",
       "  Flotation Column 01 Level Flotation Column 02 Level  \\\n",
       "0                   457,396                   432,962   \n",
       "1                   451,891                    429,56   \n",
       "2                    451,24                   468,927   \n",
       "3                   452,441                   458,165   \n",
       "4                   452,441                     452,9   \n",
       "\n",
       "  Flotation Column 03 Level Flotation Column 04 Level  \\\n",
       "0                   424,954                   443,558   \n",
       "1                   432,939                   448,086   \n",
       "2                    434,61                   449,688   \n",
       "3                   442,865                    446,21   \n",
       "4                   450,523                    453,67   \n",
       "\n",
       "  Flotation Column 05 Level Flotation Column 06 Level  \\\n",
       "0                   502,255                    446,37   \n",
       "1                   496,363                   445,922   \n",
       "2                   484,411                   447,826   \n",
       "3                   471,411                    437,69   \n",
       "4                   462,598                   443,682   \n",
       "\n",
       "  Flotation Column 07 Level % Iron Concentrate % Silica Concentrate  \n",
       "0                   523,344              66,91                 1,31  \n",
       "1                   498,075              66,91                 1,31  \n",
       "2                   458,567              66,91                 1,31  \n",
       "3                   427,669              66,91                 1,31  \n",
       "4                   425,679              66,91                 1,31  \n",
       "\n",
       "[5 rows x 24 columns]"
      ]
     },
     "execution_count": 17,
     "metadata": {},
     "output_type": "execute_result"
    }
   ],
   "source": [
    "data1.head()"
   ]
  },
  {
   "cell_type": "code",
   "execution_count": 18,
   "metadata": {},
   "outputs": [
    {
     "name": "stderr",
     "output_type": "stream",
     "text": [
      "/tmp/ipykernel_426808/3816599972.py:2: FutureWarning: Dropping invalid columns in DataFrameGroupBy.mean is deprecated. In a future version, a TypeError will be raised. Before calling .mean, select only columns which should be valid for the function.\n",
      "  df = df.groupby(df.index //5).mean() #усреднение\n",
      "/home/anna/.local/lib/python3.10/site-packages/numpy/core/_methods.py:265: RuntimeWarning: Degrees of freedom <= 0 for slice\n",
      "  ret = _var(a, axis=axis, dtype=dtype, out=out, ddof=ddof,\n",
      "/home/anna/.local/lib/python3.10/site-packages/numpy/core/_methods.py:223: RuntimeWarning: invalid value encountered in divide\n",
      "  arrmean = um.true_divide(arrmean, div, out=arrmean, casting='unsafe',\n",
      "/home/anna/.local/lib/python3.10/site-packages/numpy/core/_methods.py:257: RuntimeWarning: invalid value encountered in double_scalars\n",
      "  ret = ret.dtype.type(ret / rcount)\n"
     ]
    }
   ],
   "source": [
    "data2 = preprocess(data1)"
   ]
  },
  {
   "cell_type": "code",
   "execution_count": 15,
   "metadata": {},
   "outputs": [
    {
     "data": {
      "text/html": [
       "<div>\n",
       "<style scoped>\n",
       "    .dataframe tbody tr th:only-of-type {\n",
       "        vertical-align: middle;\n",
       "    }\n",
       "\n",
       "    .dataframe tbody tr th {\n",
       "        vertical-align: top;\n",
       "    }\n",
       "\n",
       "    .dataframe thead th {\n",
       "        text-align: right;\n",
       "    }\n",
       "</style>\n",
       "<table border=\"1\" class=\"dataframe\">\n",
       "  <thead>\n",
       "    <tr style=\"text-align: right;\">\n",
       "      <th></th>\n",
       "    </tr>\n",
       "  </thead>\n",
       "  <tbody>\n",
       "    <tr>\n",
       "      <th>0</th>\n",
       "    </tr>\n",
       "    <tr>\n",
       "      <th>1</th>\n",
       "    </tr>\n",
       "    <tr>\n",
       "      <th>2</th>\n",
       "    </tr>\n",
       "    <tr>\n",
       "      <th>3</th>\n",
       "    </tr>\n",
       "    <tr>\n",
       "      <th>4</th>\n",
       "    </tr>\n",
       "  </tbody>\n",
       "</table>\n",
       "</div>"
      ],
      "text/plain": [
       "Empty DataFrame\n",
       "Columns: []\n",
       "Index: [0, 1, 2, 3, 4]"
      ]
     },
     "execution_count": 15,
     "metadata": {},
     "output_type": "execute_result"
    }
   ],
   "source": [
    "data2.head()"
   ]
  },
  {
   "cell_type": "code",
   "execution_count": 45,
   "metadata": {},
   "outputs": [
    {
     "ename": "SyntaxError",
     "evalue": "invalid syntax (3787536431.py, line 1)",
     "output_type": "error",
     "traceback": [
      "\u001b[0;36m  Input \u001b[0;32mIn [45]\u001b[0;36m\u001b[0m\n\u001b[0;31m    309600 64\u001b[0m\n\u001b[0m           ^\u001b[0m\n\u001b[0;31mSyntaxError\u001b[0m\u001b[0;31m:\u001b[0m invalid syntax\n"
     ]
    }
   ],
   "source": [
    "309600 64\n",
    "241200 64\n",
    "216001 84\n",
    "226801 84\n",
    "93601 88\n",
    "201600 88\n",
    "126000 88\n",
    "237600 88\n",
    "259200"
   ]
  },
  {
   "cell_type": "code",
   "execution_count": null,
   "metadata": {},
   "outputs": [],
   "source": []
  }
 ],
 "metadata": {
  "kernelspec": {
   "display_name": "Python 3.10.6 64-bit",
   "language": "python",
   "name": "python3"
  },
  "language_info": {
   "codemirror_mode": {
    "name": "ipython",
    "version": 3
   },
   "file_extension": ".py",
   "mimetype": "text/x-python",
   "name": "python",
   "nbconvert_exporter": "python",
   "pygments_lexer": "ipython3",
   "version": "3.10.6"
  },
  "orig_nbformat": 4,
  "vscode": {
   "interpreter": {
    "hash": "916dbcbb3f70747c44a77c7bcd40155683ae19c65e1c03b4aa3499c5328201f1"
   }
  }
 },
 "nbformat": 4,
 "nbformat_minor": 2
}
