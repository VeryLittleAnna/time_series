{
 "cells": [
  {
   "cell_type": "code",
   "execution_count": 1,
   "metadata": {},
   "outputs": [],
   "source": [
    "import pandas as pd\n",
    "import numpy as np\n",
    "import matplotlib.pyplot as plt\n",
    "import csv\n",
    "# import tensorflow as tf\n",
    "# from tensorflow import keras\n",
    "# from tensorflow.keras import layers"
   ]
  },
  {
   "cell_type": "code",
   "execution_count": 2,
   "metadata": {},
   "outputs": [],
   "source": [
    "data = pd.read_csv(\"DataSet2.csv\", sep=\";\")#, parse_dates=['Timestamp']) #, nrows=10)"
   ]
  },
  {
   "cell_type": "code",
   "execution_count": 84,
   "metadata": {},
   "outputs": [],
   "source": [
    "columns = data.columns"
   ]
  },
  {
   "cell_type": "code",
   "execution_count": 3,
   "metadata": {},
   "outputs": [
    {
     "data": {
      "text/html": [
       "<div>\n",
       "<style scoped>\n",
       "    .dataframe tbody tr th:only-of-type {\n",
       "        vertical-align: middle;\n",
       "    }\n",
       "\n",
       "    .dataframe tbody tr th {\n",
       "        vertical-align: top;\n",
       "    }\n",
       "\n",
       "    .dataframe thead th {\n",
       "        text-align: right;\n",
       "    }\n",
       "</style>\n",
       "<table border=\"1\" class=\"dataframe\">\n",
       "  <thead>\n",
       "    <tr style=\"text-align: right;\">\n",
       "      <th></th>\n",
       "      <th>Timestamp</th>\n",
       "      <th>ARO</th>\n",
       "      <th>SATUR_PRESSURE</th>\n",
       "      <th>BOIL_PERCENT</th>\n",
       "      <th>OCTANE_NUMBER</th>\n",
       "      <th>percent_01_LAB</th>\n",
       "      <th>percent_04_LAB</th>\n",
       "      <th>quality_01_LAB</th>\n",
       "      <th>pressure_01_LAB</th>\n",
       "      <th>consumption_09</th>\n",
       "      <th>...</th>\n",
       "      <th>temperature_08</th>\n",
       "      <th>temperature_14</th>\n",
       "      <th>temperature_01_LAB</th>\n",
       "      <th>temperature_21</th>\n",
       "      <th>temperature_22</th>\n",
       "      <th>temperature_23</th>\n",
       "      <th>temperature_24</th>\n",
       "      <th>consumption_01</th>\n",
       "      <th>pressure_11</th>\n",
       "      <th>temperature_20</th>\n",
       "    </tr>\n",
       "  </thead>\n",
       "  <tbody>\n",
       "    <tr>\n",
       "      <th>0</th>\n",
       "      <td>01.01.2016 00:00:00</td>\n",
       "      <td>65.59</td>\n",
       "      <td>48.0</td>\n",
       "      <td>6.0</td>\n",
       "      <td>98.9</td>\n",
       "      <td>6.87640</td>\n",
       "      <td>64.05901</td>\n",
       "      <td>98.45841</td>\n",
       "      <td>56.06648</td>\n",
       "      <td>0.00292</td>\n",
       "      <td>...</td>\n",
       "      <td>134.7649</td>\n",
       "      <td>25.61035</td>\n",
       "      <td>90.86990</td>\n",
       "      <td>-3.72980</td>\n",
       "      <td>-7.13281</td>\n",
       "      <td>-1.0</td>\n",
       "      <td>11.86261</td>\n",
       "      <td>59.14596</td>\n",
       "      <td>70.77777</td>\n",
       "      <td>519.1353</td>\n",
       "    </tr>\n",
       "    <tr>\n",
       "      <th>1</th>\n",
       "      <td>01.01.2016 00:01:00</td>\n",
       "      <td>65.59</td>\n",
       "      <td>48.0</td>\n",
       "      <td>6.0</td>\n",
       "      <td>98.9</td>\n",
       "      <td>6.86923</td>\n",
       "      <td>64.01093</td>\n",
       "      <td>98.45134</td>\n",
       "      <td>56.04396</td>\n",
       "      <td>0.00292</td>\n",
       "      <td>...</td>\n",
       "      <td>134.8389</td>\n",
       "      <td>25.61035</td>\n",
       "      <td>90.90942</td>\n",
       "      <td>-3.72989</td>\n",
       "      <td>-7.13306</td>\n",
       "      <td>-1.0</td>\n",
       "      <td>11.86295</td>\n",
       "      <td>59.18106</td>\n",
       "      <td>70.93322</td>\n",
       "      <td>519.1353</td>\n",
       "    </tr>\n",
       "    <tr>\n",
       "      <th>2</th>\n",
       "      <td>01.01.2016 00:02:00</td>\n",
       "      <td>65.59</td>\n",
       "      <td>48.0</td>\n",
       "      <td>6.0</td>\n",
       "      <td>98.9</td>\n",
       "      <td>6.86095</td>\n",
       "      <td>63.99218</td>\n",
       "      <td>98.44153</td>\n",
       "      <td>56.01728</td>\n",
       "      <td>0.00292</td>\n",
       "      <td>...</td>\n",
       "      <td>134.6192</td>\n",
       "      <td>25.61055</td>\n",
       "      <td>90.88013</td>\n",
       "      <td>-3.73050</td>\n",
       "      <td>-7.13440</td>\n",
       "      <td>-1.0</td>\n",
       "      <td>11.86490</td>\n",
       "      <td>59.16980</td>\n",
       "      <td>70.03181</td>\n",
       "      <td>519.1346</td>\n",
       "    </tr>\n",
       "    <tr>\n",
       "      <th>3</th>\n",
       "      <td>01.01.2016 00:03:00</td>\n",
       "      <td>65.59</td>\n",
       "      <td>48.0</td>\n",
       "      <td>6.0</td>\n",
       "      <td>98.9</td>\n",
       "      <td>6.85725</td>\n",
       "      <td>63.98800</td>\n",
       "      <td>98.44115</td>\n",
       "      <td>56.01207</td>\n",
       "      <td>0.00292</td>\n",
       "      <td>...</td>\n",
       "      <td>134.6191</td>\n",
       "      <td>25.63477</td>\n",
       "      <td>90.87057</td>\n",
       "      <td>-3.73145</td>\n",
       "      <td>-7.13660</td>\n",
       "      <td>-1.0</td>\n",
       "      <td>11.86804</td>\n",
       "      <td>59.30387</td>\n",
       "      <td>70.46443</td>\n",
       "      <td>519.1337</td>\n",
       "    </tr>\n",
       "    <tr>\n",
       "      <th>4</th>\n",
       "      <td>01.01.2016 00:04:00</td>\n",
       "      <td>65.59</td>\n",
       "      <td>48.0</td>\n",
       "      <td>6.0</td>\n",
       "      <td>98.9</td>\n",
       "      <td>6.85561</td>\n",
       "      <td>63.98110</td>\n",
       "      <td>98.43896</td>\n",
       "      <td>56.00104</td>\n",
       "      <td>0.00292</td>\n",
       "      <td>...</td>\n",
       "      <td>134.6191</td>\n",
       "      <td>25.63477</td>\n",
       "      <td>90.90518</td>\n",
       "      <td>-3.73212</td>\n",
       "      <td>-7.13818</td>\n",
       "      <td>-1.0</td>\n",
       "      <td>11.87030</td>\n",
       "      <td>59.26101</td>\n",
       "      <td>69.81942</td>\n",
       "      <td>519.1330</td>\n",
       "    </tr>\n",
       "  </tbody>\n",
       "</table>\n",
       "<p>5 rows × 68 columns</p>\n",
       "</div>"
      ],
      "text/plain": [
       "             Timestamp    ARO  SATUR_PRESSURE  BOIL_PERCENT  OCTANE_NUMBER  \\\n",
       "0  01.01.2016 00:00:00  65.59            48.0           6.0           98.9   \n",
       "1  01.01.2016 00:01:00  65.59            48.0           6.0           98.9   \n",
       "2  01.01.2016 00:02:00  65.59            48.0           6.0           98.9   \n",
       "3  01.01.2016 00:03:00  65.59            48.0           6.0           98.9   \n",
       "4  01.01.2016 00:04:00  65.59            48.0           6.0           98.9   \n",
       "\n",
       "   percent_01_LAB  percent_04_LAB  quality_01_LAB  pressure_01_LAB  \\\n",
       "0         6.87640        64.05901        98.45841         56.06648   \n",
       "1         6.86923        64.01093        98.45134         56.04396   \n",
       "2         6.86095        63.99218        98.44153         56.01728   \n",
       "3         6.85725        63.98800        98.44115         56.01207   \n",
       "4         6.85561        63.98110        98.43896         56.00104   \n",
       "\n",
       "   consumption_09  ...  temperature_08  temperature_14  temperature_01_LAB  \\\n",
       "0         0.00292  ...        134.7649        25.61035            90.86990   \n",
       "1         0.00292  ...        134.8389        25.61035            90.90942   \n",
       "2         0.00292  ...        134.6192        25.61055            90.88013   \n",
       "3         0.00292  ...        134.6191        25.63477            90.87057   \n",
       "4         0.00292  ...        134.6191        25.63477            90.90518   \n",
       "\n",
       "   temperature_21  temperature_22  temperature_23  temperature_24  \\\n",
       "0        -3.72980        -7.13281            -1.0        11.86261   \n",
       "1        -3.72989        -7.13306            -1.0        11.86295   \n",
       "2        -3.73050        -7.13440            -1.0        11.86490   \n",
       "3        -3.73145        -7.13660            -1.0        11.86804   \n",
       "4        -3.73212        -7.13818            -1.0        11.87030   \n",
       "\n",
       "   consumption_01  pressure_11  temperature_20  \n",
       "0        59.14596     70.77777        519.1353  \n",
       "1        59.18106     70.93322        519.1353  \n",
       "2        59.16980     70.03181        519.1346  \n",
       "3        59.30387     70.46443        519.1337  \n",
       "4        59.26101     69.81942        519.1330  \n",
       "\n",
       "[5 rows x 68 columns]"
      ]
     },
     "execution_count": 3,
     "metadata": {},
     "output_type": "execute_result"
    }
   ],
   "source": [
    "data.head(5)"
   ]
  },
  {
   "cell_type": "code",
   "execution_count": 4,
   "metadata": {},
   "outputs": [],
   "source": [
    "def preprocess(df, K=5):\n",
    "    df = df.groupby(df.index //5).mean() #усреднение\n",
    "    df_np = df.to_numpy()\n",
    "    df_np = df_np[1:len(df_np), ...] - df_np[0:-1, ...] #дифференцирование\n",
    "    df_np = (df_np - df_np.mean()) / df_np.std() #масштабирование\n",
    "    df = pd.DataFrame(df_np, columns=df.columns)\n",
    "    return df"
   ]
  },
  {
   "cell_type": "code",
   "execution_count": 5,
   "metadata": {},
   "outputs": [],
   "source": [
    "#усреднение данных за 5 минут, дискретное дифференцирование, масштабирование\n",
    "preprocess(data).to_csv(\"DataSet_preprocessed.csv\")"
   ]
  },
  {
   "cell_type": "code",
   "execution_count": 6,
   "metadata": {},
   "outputs": [],
   "source": [
    "preprocessed_data = pd.read_csv(\"DataSet_preprocessed.csv\")"
   ]
  },
  {
   "cell_type": "code",
   "execution_count": 70,
   "metadata": {},
   "outputs": [
    {
     "data": {
      "text/plain": [
       "(408095, 68)"
      ]
     },
     "execution_count": 70,
     "metadata": {},
     "output_type": "execute_result"
    }
   ],
   "source": [
    "preprocessed_data.shape"
   ]
  },
  {
   "cell_type": "code",
   "execution_count": 71,
   "metadata": {},
   "outputs": [],
   "source": [
    "def create_lag(data, size_of_lag=1):\n",
    "    \"\"\"\n",
    "    data (N, Q)\n",
    "    return lag (N, size_of_lag, Q)\n",
    "    \"\"\"\n",
    "    data = data.to_numpy()\n",
    "    print(data.shape)\n",
    "    result = np.zeros((data.shape[0], size_of_lag, data.shape[1])) #(N, SL, Q)\n",
    "    for i in range(size_of_lag): \n",
    "        result[:, i, :] = np.roll(data, -i, axis=0)\n",
    "    return result[size_of_lag:data.shape[0] - size_of_lag, ...]"
   ]
  },
  {
   "cell_type": "code",
   "execution_count": 9,
   "metadata": {},
   "outputs": [
    {
     "name": "stderr",
     "output_type": "stream",
     "text": [
      "2022-10-20 16:50:01.746795: W tensorflow/stream_executor/platform/default/dso_loader.cc:64] Could not load dynamic library 'libcudart.so.11.0'; dlerror: libcudart.so.11.0: cannot open shared object file: No such file or directory\n",
      "2022-10-20 16:50:01.746814: I tensorflow/stream_executor/cuda/cudart_stub.cc:29] Ignore above cudart dlerror if you do not have a GPU set up on your machine.\n"
     ]
    }
   ],
   "source": [
    "# from sklearn.preprocessing import MinMaxScaler\n",
    "# from sklearn.preprocessing import LabelEncoder\n",
    "from sklearn.metrics import mean_squared_error\n",
    "from keras.models import Sequential\n",
    "from keras.layers import Dense\n",
    "from keras.layers import LSTM"
   ]
  },
  {
   "cell_type": "code",
   "execution_count": 72,
   "metadata": {},
   "outputs": [],
   "source": [
    "\n",
    "def split_to_train_and_test(dataset, percent_of_test=20):\n",
    "    K = 5\n",
    "    values = create_lag(dataset, K)\n",
    "    n_split = int((1 - percent_of_test/ 100) * dataset.shape[0])\n",
    "    print(f\"{n_split=}\")\n",
    "    train = values[:n_split, ...]\n",
    "    test = values[n_split:, ...]\n",
    "    train_X, train_y = train[:-1, ...], train[1:, 0, ...]\n",
    "    test_X, test_y = test[:-1, ...], test[1:, 0, ...]\n",
    "    train_X = np.transpose(train_X, axes=(0, 2, 1))\n",
    "    test_X = np.transpose(test_X, axes=(0, 2, 1))\n",
    "    print(f\"{train_X.shape=}, {train_y.shape=}, {test_X.shape=}, {test_y.shape=}\")\n",
    "    return train_X, train_y, test_X, test_y"
   ]
  },
  {
   "cell_type": "code",
   "execution_count": 77,
   "metadata": {},
   "outputs": [],
   "source": [
    "def learn(train_X, train_y, test_X, test_y):\n",
    "    model = Sequential()\n",
    "    #batch_size, (time_steps, units)\n",
    "    model.add(LSTM(units = 50, return_sequences = True, input_shape = (train_X.shape[1], train_X.shape[2])))\n",
    "    model.add(Dense(1))\n",
    "    model.compile(loss='mae', optimizer='adam')\n",
    "    history = model.fit(train_X, train_y, epochs=10, batch_size=72, shuffle=False, validation_data=(test_X, test_y), verbose=2)\n",
    "    return model, history"
   ]
  },
  {
   "cell_type": "markdown",
   "metadata": {},
   "source": [
    "quality >= 90 :\n",
    "L = 431204;  R = 2040480; len = 1609276"
   ]
  },
  {
   "cell_type": "markdown",
   "metadata": {},
   "source": [
    "Частично данные из DataSet2"
   ]
  },
  {
   "cell_type": "code",
   "execution_count": 78,
   "metadata": {},
   "outputs": [
    {
     "data": {
      "text/plain": [
       "(20000, 67)"
      ]
     },
     "execution_count": 78,
     "metadata": {},
     "output_type": "execute_result"
    }
   ],
   "source": [
    "partial_data = preprocessed_data.iloc[431205 // 5:531205 // 5, 1:]\n",
    "partial_data.shape"
   ]
  },
  {
   "cell_type": "code",
   "execution_count": 79,
   "metadata": {},
   "outputs": [
    {
     "name": "stdout",
     "output_type": "stream",
     "text": [
      "(20000, 67)\n",
      "n_split=16000\n",
      "train_X.shape=(15999, 67, 5), train_y.shape=(15999, 67), test_X.shape=(3989, 67, 5), test_y.shape=(3989, 67)\n"
     ]
    }
   ],
   "source": [
    "train_X, train_y, test_X, test_y = split_to_train_and_test(partial_data)"
   ]
  },
  {
   "cell_type": "code",
   "execution_count": 80,
   "metadata": {},
   "outputs": [
    {
     "name": "stdout",
     "output_type": "stream",
     "text": [
      "Epoch 1/10\n",
      "223/223 - 6s - loss: 0.1341 - val_loss: 0.0157 - 6s/epoch - 26ms/step\n",
      "Epoch 2/10\n",
      "223/223 - 5s - loss: 0.0770 - val_loss: 0.0113 - 5s/epoch - 21ms/step\n",
      "Epoch 3/10\n",
      "223/223 - 5s - loss: 0.0735 - val_loss: 0.0098 - 5s/epoch - 21ms/step\n",
      "Epoch 4/10\n",
      "223/223 - 5s - loss: 0.0716 - val_loss: 0.0111 - 5s/epoch - 21ms/step\n",
      "Epoch 5/10\n",
      "223/223 - 5s - loss: 0.0704 - val_loss: 0.0085 - 5s/epoch - 21ms/step\n",
      "Epoch 6/10\n",
      "223/223 - 5s - loss: 0.0696 - val_loss: 0.0059 - 5s/epoch - 21ms/step\n",
      "Epoch 7/10\n",
      "223/223 - 5s - loss: 0.0692 - val_loss: 0.0093 - 5s/epoch - 20ms/step\n",
      "Epoch 8/10\n",
      "223/223 - 5s - loss: 0.0676 - val_loss: 0.0095 - 5s/epoch - 21ms/step\n",
      "Epoch 9/10\n",
      "223/223 - 5s - loss: 0.0668 - val_loss: 0.0089 - 5s/epoch - 21ms/step\n",
      "Epoch 10/10\n",
      "223/223 - 5s - loss: 0.0662 - val_loss: 0.0063 - 5s/epoch - 21ms/step\n"
     ]
    }
   ],
   "source": [
    "model, history = learn(train_X, train_y, test_X, test_y)"
   ]
  },
  {
   "cell_type": "code",
   "execution_count": 81,
   "metadata": {},
   "outputs": [
    {
     "data": {
      "text/plain": [
       "[<matplotlib.lines.Line2D at 0x7f42c811f760>]"
      ]
     },
     "execution_count": 81,
     "metadata": {},
     "output_type": "execute_result"
    },
    {
     "data": {
      "image/png": "[encoded data removed]",
      "text/plain": [
       "<Figure size 640x480 with 1 Axes>"
      ]
     },
     "metadata": {},
     "output_type": "display_data"
    }
   ],
   "source": [
    "plt.plot(history.history['loss'], label='train')\n"
   ]
  },
  {
   "cell_type": "code",
   "execution_count": 82,
   "metadata": {},
   "outputs": [
    {
     "name": "stdout",
     "output_type": "stream",
     "text": [
      "125/125 [==============================] - 1s 5ms/step\n",
      "(3989, 67, 1)\n"
     ]
    }
   ],
   "source": [
    "predicted = model.predict(test_X)\n",
    "print(predicted.shape)"
   ]
  },
  {
   "cell_type": "code",
   "execution_count": 86,
   "metadata": {},
   "outputs": [
    {
     "name": "stdout",
     "output_type": "stream",
     "text": [
      "predicted_values.shape=(100, 67, 1)\n"
     ]
    },
    {
     "data": {
      "text/plain": [
       "<Figure size 640x480 with 0 Axes>"
      ]
     },
     "metadata": {},
     "output_type": "display_data"
    }
   ],
   "source": [
    "predicted_values = predicted[:100, ...]\n",
    "print(f\"{predicted_values.shape=}\")\n",
    "\n",
    "for i in range(predicted_values.shape[1]):\n",
    "    plt.plot(predicted_values[:, i, 0], color=\"red\", label=\"prediction\")\n",
    "    plt.plot(test_y[:100, i], color=\"green\", label=\"origin\")\n",
    "    plt.xlabel(\"Time\")\n",
    "    plt.ylabel(str(columns[i + 1]))\n",
    "    plt.legend()\n",
    "    plt.savefig(\"../plots/partionDataSet2/\" + str(i) + \" \" + str(columns[i + 1]) + '.png')\n",
    "    # plt.show()\n",
    "    plt.clf()"
   ]
  },
  {
   "cell_type": "markdown",
   "metadata": {},
   "source": [
    "Данные https://machinelearningmastery.com/multivariate-time-series-forecasting-lstms-keras/\n"
   ]
  },
  {
   "cell_type": "code",
   "execution_count": null,
   "metadata": {},
   "outputs": [
    {
     "name": "stdout",
     "output_type": "stream",
     "text": [
      "   pollution  dew  temp   press  wnd_spd  snow  rain\n",
      "0      129.0  -16  -4.0  1020.0     1.79     0     0\n",
      "1      148.0  -15  -4.0  1020.0     2.68     0     0\n",
      "2      159.0  -11  -5.0  1021.0     3.57     0     0\n",
      "3      181.0   -7  -5.0  1022.0     5.36     1     0\n",
      "4      138.0   -7  -5.0  1022.0     6.25     2     0\n"
     ]
    }
   ],
   "source": [
    "dataset = pd.read_csv('../../materials/pollution.csv')\n",
    "# dataset.drop(columns=[\"date\"], inplace=True)\n",
    "print(dataset.head(5))\n",
    "dataset.to_csv('../../materials/pollution.csv', index=False)"
   ]
  },
  {
   "cell_type": "code",
   "execution_count": null,
   "metadata": {},
   "outputs": [],
   "source": [
    "dataset = pd.read_csv('../../materials/pollution.csv')\n"
   ]
  },
  {
   "cell_type": "code",
   "execution_count": null,
   "metadata": {},
   "outputs": [
    {
     "name": "stdout",
     "output_type": "stream",
     "text": [
      "(43800, 7)\n",
      "n_split=8760\n",
      "train_X.shape=(8759, 7, 5), train_y.shape=(8759, 7), test_X.shape=(35029, 7, 5), test_y.shape=(35029, 7)\n"
     ]
    }
   ],
   "source": [
    "train_X, train_y, test_X, test_y = split_to_train_and_test(dataset)\n"
   ]
  },
  {
   "cell_type": "code",
   "execution_count": null,
   "metadata": {},
   "outputs": [
    {
     "name": "stdout",
     "output_type": "stream",
     "text": [
      "Epoch 1/10\n",
      "122/122 - 2s - loss: 164.9444 - val_loss: 162.1135 - 2s/epoch - 17ms/step\n",
      "Epoch 2/10\n",
      "122/122 - 1s - loss: 162.1142 - val_loss: 159.9199 - 856ms/epoch - 7ms/step\n",
      "Epoch 3/10\n",
      "122/122 - 1s - loss: 160.1134 - val_loss: 157.9131 - 864ms/epoch - 7ms/step\n",
      "Epoch 4/10\n",
      "122/122 - 1s - loss: 158.1695 - val_loss: 156.2818 - 886ms/epoch - 7ms/step\n",
      "Epoch 5/10\n",
      "122/122 - 1s - loss: 156.5624 - val_loss: 154.7734 - 903ms/epoch - 7ms/step\n",
      "Epoch 6/10\n",
      "122/122 - 1s - loss: 155.1566 - val_loss: 153.5772 - 899ms/epoch - 7ms/step\n",
      "Epoch 7/10\n",
      "122/122 - 1s - loss: 153.9722 - val_loss: 152.4633 - 937ms/epoch - 8ms/step\n",
      "Epoch 8/10\n",
      "122/122 - 1s - loss: 152.8335 - val_loss: 151.3686 - 851ms/epoch - 7ms/step\n",
      "Epoch 9/10\n",
      "122/122 - 1s - loss: 151.7324 - val_loss: 150.3547 - 849ms/epoch - 7ms/step\n",
      "Epoch 10/10\n",
      "122/122 - 1s - loss: 150.7250 - val_loss: 149.3523 - 844ms/epoch - 7ms/step\n"
     ]
    }
   ],
   "source": [
    "model, history = learn(train_X, train_y, test_X, test_y)"
   ]
  },
  {
   "cell_type": "code",
   "execution_count": null,
   "metadata": {},
   "outputs": [
    {
     "name": "stdout",
     "output_type": "stream",
     "text": [
      "1095/1095 [==============================] - 1s 854us/step\n",
      "(35029, 7, 1)\n"
     ]
    }
   ],
   "source": [
    "predicted_values = model.predict(test_X)\n",
    "print(predicted.shape)"
   ]
  },
  {
   "cell_type": "code",
   "execution_count": 78,
   "metadata": {},
   "outputs": [
    {
     "data": {
      "text/plain": [
       "[<matplotlib.lines.Line2D at 0x7fd6c075a200>]"
      ]
     },
     "execution_count": 78,
     "metadata": {},
     "output_type": "execute_result"
    },
    {
     "data": {
      "image/png": "[encoded data removed]",
      "text/plain": [
       "<Figure size 640x480 with 1 Axes>"
      ]
     },
     "metadata": {},
     "output_type": "display_data"
    }
   ],
   "source": [
    "plt.plot(history.history['loss'], label='train')\n"
   ]
  },
  {
   "cell_type": "code",
   "execution_count": 88,
   "metadata": {},
   "outputs": [
    {
     "name": "stdout",
     "output_type": "stream",
     "text": [
      "predicted_values.shape=(0, 67, 1)\n"
     ]
    },
    {
     "data": {
      "text/plain": [
       "<Figure size 640x480 with 0 Axes>"
      ]
     },
     "metadata": {},
     "output_type": "display_data"
    }
   ],
   "source": [
    "\n",
    "predicted_values = predicted_values[100:200, ...]\n",
    "print(f\"{predicted_values.shape=}\")\n",
    "\n",
    "for i in range(predicted_values.shape[1]):\n",
    "    plt.plot(predicted_values[:, i, 0], color=\"red\", label=\"prediction\")\n",
    "    # plt.plot(test_y[100:200, i], color=\"green\", label=\"origin\")\n",
    "    plt.savefig(\"../plots/smallDataSet/\" + str(i) + '.png')\n",
    "    plt.xlabel(\"Time\")\n",
    "    plt.ylabel(str(columns[i + 1]))\n",
    "    plt.legend()\n",
    "    # plt.show()\n",
    "    plt.clf()"
   ]
  },
  {
   "cell_type": "code",
   "execution_count": null,
   "metadata": {},
   "outputs": [],
   "source": []
  }
 ],
 "metadata": {
  "kernelspec": {
   "display_name": "Python 3.10.6 64-bit",
   "language": "python",
   "name": "python3"
  },
  "language_info": {
   "codemirror_mode": {
    "name": "ipython",
    "version": 3
   },
   "file_extension": ".py",
   "mimetype": "text/x-python",
   "name": "python",
   "nbconvert_exporter": "python",
   "pygments_lexer": "ipython3",
   "version": "3.10.6"
  },
  "orig_nbformat": 4,
  "vscode": {
   "interpreter": {
    "hash": "916dbcbb3f70747c44a77c7bcd40155683ae19c65e1c03b4aa3499c5328201f1"
   }
  }
 },
 "nbformat": 4,
 "nbformat_minor": 2
}
