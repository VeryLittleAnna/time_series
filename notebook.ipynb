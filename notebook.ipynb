{
 "cells": [
  {
   "cell_type": "code",
   "execution_count": 1,
   "metadata": {},
   "outputs": [
    {
     "name": "stderr",
     "output_type": "stream",
     "text": [
      "2022-11-08 02:58:58.843249: W tensorflow/stream_executor/platform/default/dso_loader.cc:64] Could not load dynamic library 'libcudart.so.11.0'; dlerror: libcudart.so.11.0: cannot open shared object file: No such file or directory\n",
      "2022-11-08 02:58:58.843283: I tensorflow/stream_executor/cuda/cudart_stub.cc:29] Ignore above cudart dlerror if you do not have a GPU set up on your machine.\n"
     ]
    }
   ],
   "source": [
    "import pandas as pd\n",
    "import numpy as np\n",
    "import matplotlib.pyplot as plt\n",
    "import csv\n",
    "import tensorflow as tf\n",
    "from tensorflow.keras.losses import MeanAbsoluteError\n",
    "\n",
    "# from tensorflow import keras\n",
    "# from tensorflow.keras import layers"
   ]
  },
  {
   "cell_type": "code",
   "execution_count": 105,
   "metadata": {},
   "outputs": [
    {
     "data": {
      "text/plain": [
       "<module 'Forecasting' from '/home/anna/Desktop/MSU/научка/git/time_series/Forecasting.py'>"
      ]
     },
     "execution_count": 105,
     "metadata": {},
     "output_type": "execute_result"
    }
   ],
   "source": [
    "# from Clustering import *\n",
    "# from Forecasting import *\n",
    "import importlib\n",
    "import Clustering, Forecasting\n",
    "importlib.reload(Clustering)\n",
    "importlib.reload(Forecasting)"
   ]
  },
  {
   "cell_type": "code",
   "execution_count": 65,
   "metadata": {},
   "outputs": [],
   "source": [
    "data = pd.read_csv(\"DataSet2.csv\", sep=\";\")#, parse_dates=['Timestamp']) #, nrows=10)"
   ]
  },
  {
   "cell_type": "code",
   "execution_count": 4,
   "metadata": {},
   "outputs": [],
   "source": [
    "columns = data.columns"
   ]
  },
  {
   "cell_type": "code",
   "execution_count": 5,
   "metadata": {},
   "outputs": [
    {
     "data": {
      "text/html": [
       "<div>\n",
       "<style scoped>\n",
       "    .dataframe tbody tr th:only-of-type {\n",
       "        vertical-align: middle;\n",
       "    }\n",
       "\n",
       "    .dataframe tbody tr th {\n",
       "        vertical-align: top;\n",
       "    }\n",
       "\n",
       "    .dataframe thead th {\n",
       "        text-align: right;\n",
       "    }\n",
       "</style>\n",
       "<table border=\"1\" class=\"dataframe\">\n",
       "  <thead>\n",
       "    <tr style=\"text-align: right;\">\n",
       "      <th></th>\n",
       "      <th>Timestamp</th>\n",
       "      <th>ARO</th>\n",
       "      <th>SATUR_PRESSURE</th>\n",
       "      <th>BOIL_PERCENT</th>\n",
       "      <th>OCTANE_NUMBER</th>\n",
       "      <th>percent_01_LAB</th>\n",
       "      <th>percent_04_LAB</th>\n",
       "      <th>quality_01_LAB</th>\n",
       "      <th>pressure_01_LAB</th>\n",
       "      <th>consumption_09</th>\n",
       "      <th>...</th>\n",
       "      <th>temperature_08</th>\n",
       "      <th>temperature_14</th>\n",
       "      <th>temperature_01_LAB</th>\n",
       "      <th>temperature_21</th>\n",
       "      <th>temperature_22</th>\n",
       "      <th>temperature_23</th>\n",
       "      <th>temperature_24</th>\n",
       "      <th>consumption_01</th>\n",
       "      <th>pressure_11</th>\n",
       "      <th>temperature_20</th>\n",
       "    </tr>\n",
       "  </thead>\n",
       "  <tbody>\n",
       "    <tr>\n",
       "      <th>0</th>\n",
       "      <td>01.01.2016 00:00:00</td>\n",
       "      <td>65.59</td>\n",
       "      <td>48.0</td>\n",
       "      <td>6.0</td>\n",
       "      <td>98.9</td>\n",
       "      <td>6.87640</td>\n",
       "      <td>64.05901</td>\n",
       "      <td>98.45841</td>\n",
       "      <td>56.06648</td>\n",
       "      <td>0.00292</td>\n",
       "      <td>...</td>\n",
       "      <td>134.7649</td>\n",
       "      <td>25.61035</td>\n",
       "      <td>90.86990</td>\n",
       "      <td>-3.72980</td>\n",
       "      <td>-7.13281</td>\n",
       "      <td>-1.0</td>\n",
       "      <td>11.86261</td>\n",
       "      <td>59.14596</td>\n",
       "      <td>70.77777</td>\n",
       "      <td>519.1353</td>\n",
       "    </tr>\n",
       "    <tr>\n",
       "      <th>1</th>\n",
       "      <td>01.01.2016 00:01:00</td>\n",
       "      <td>65.59</td>\n",
       "      <td>48.0</td>\n",
       "      <td>6.0</td>\n",
       "      <td>98.9</td>\n",
       "      <td>6.86923</td>\n",
       "      <td>64.01093</td>\n",
       "      <td>98.45134</td>\n",
       "      <td>56.04396</td>\n",
       "      <td>0.00292</td>\n",
       "      <td>...</td>\n",
       "      <td>134.8389</td>\n",
       "      <td>25.61035</td>\n",
       "      <td>90.90942</td>\n",
       "      <td>-3.72989</td>\n",
       "      <td>-7.13306</td>\n",
       "      <td>-1.0</td>\n",
       "      <td>11.86295</td>\n",
       "      <td>59.18106</td>\n",
       "      <td>70.93322</td>\n",
       "      <td>519.1353</td>\n",
       "    </tr>\n",
       "    <tr>\n",
       "      <th>2</th>\n",
       "      <td>01.01.2016 00:02:00</td>\n",
       "      <td>65.59</td>\n",
       "      <td>48.0</td>\n",
       "      <td>6.0</td>\n",
       "      <td>98.9</td>\n",
       "      <td>6.86095</td>\n",
       "      <td>63.99218</td>\n",
       "      <td>98.44153</td>\n",
       "      <td>56.01728</td>\n",
       "      <td>0.00292</td>\n",
       "      <td>...</td>\n",
       "      <td>134.6192</td>\n",
       "      <td>25.61055</td>\n",
       "      <td>90.88013</td>\n",
       "      <td>-3.73050</td>\n",
       "      <td>-7.13440</td>\n",
       "      <td>-1.0</td>\n",
       "      <td>11.86490</td>\n",
       "      <td>59.16980</td>\n",
       "      <td>70.03181</td>\n",
       "      <td>519.1346</td>\n",
       "    </tr>\n",
       "    <tr>\n",
       "      <th>3</th>\n",
       "      <td>01.01.2016 00:03:00</td>\n",
       "      <td>65.59</td>\n",
       "      <td>48.0</td>\n",
       "      <td>6.0</td>\n",
       "      <td>98.9</td>\n",
       "      <td>6.85725</td>\n",
       "      <td>63.98800</td>\n",
       "      <td>98.44115</td>\n",
       "      <td>56.01207</td>\n",
       "      <td>0.00292</td>\n",
       "      <td>...</td>\n",
       "      <td>134.6191</td>\n",
       "      <td>25.63477</td>\n",
       "      <td>90.87057</td>\n",
       "      <td>-3.73145</td>\n",
       "      <td>-7.13660</td>\n",
       "      <td>-1.0</td>\n",
       "      <td>11.86804</td>\n",
       "      <td>59.30387</td>\n",
       "      <td>70.46443</td>\n",
       "      <td>519.1337</td>\n",
       "    </tr>\n",
       "    <tr>\n",
       "      <th>4</th>\n",
       "      <td>01.01.2016 00:04:00</td>\n",
       "      <td>65.59</td>\n",
       "      <td>48.0</td>\n",
       "      <td>6.0</td>\n",
       "      <td>98.9</td>\n",
       "      <td>6.85561</td>\n",
       "      <td>63.98110</td>\n",
       "      <td>98.43896</td>\n",
       "      <td>56.00104</td>\n",
       "      <td>0.00292</td>\n",
       "      <td>...</td>\n",
       "      <td>134.6191</td>\n",
       "      <td>25.63477</td>\n",
       "      <td>90.90518</td>\n",
       "      <td>-3.73212</td>\n",
       "      <td>-7.13818</td>\n",
       "      <td>-1.0</td>\n",
       "      <td>11.87030</td>\n",
       "      <td>59.26101</td>\n",
       "      <td>69.81942</td>\n",
       "      <td>519.1330</td>\n",
       "    </tr>\n",
       "  </tbody>\n",
       "</table>\n",
       "<p>5 rows × 68 columns</p>\n",
       "</div>"
      ],
      "text/plain": [
       "             Timestamp    ARO  SATUR_PRESSURE  BOIL_PERCENT  OCTANE_NUMBER  \\\n",
       "0  01.01.2016 00:00:00  65.59            48.0           6.0           98.9   \n",
       "1  01.01.2016 00:01:00  65.59            48.0           6.0           98.9   \n",
       "2  01.01.2016 00:02:00  65.59            48.0           6.0           98.9   \n",
       "3  01.01.2016 00:03:00  65.59            48.0           6.0           98.9   \n",
       "4  01.01.2016 00:04:00  65.59            48.0           6.0           98.9   \n",
       "\n",
       "   percent_01_LAB  percent_04_LAB  quality_01_LAB  pressure_01_LAB  \\\n",
       "0         6.87640        64.05901        98.45841         56.06648   \n",
       "1         6.86923        64.01093        98.45134         56.04396   \n",
       "2         6.86095        63.99218        98.44153         56.01728   \n",
       "3         6.85725        63.98800        98.44115         56.01207   \n",
       "4         6.85561        63.98110        98.43896         56.00104   \n",
       "\n",
       "   consumption_09  ...  temperature_08  temperature_14  temperature_01_LAB  \\\n",
       "0         0.00292  ...        134.7649        25.61035            90.86990   \n",
       "1         0.00292  ...        134.8389        25.61035            90.90942   \n",
       "2         0.00292  ...        134.6192        25.61055            90.88013   \n",
       "3         0.00292  ...        134.6191        25.63477            90.87057   \n",
       "4         0.00292  ...        134.6191        25.63477            90.90518   \n",
       "\n",
       "   temperature_21  temperature_22  temperature_23  temperature_24  \\\n",
       "0        -3.72980        -7.13281            -1.0        11.86261   \n",
       "1        -3.72989        -7.13306            -1.0        11.86295   \n",
       "2        -3.73050        -7.13440            -1.0        11.86490   \n",
       "3        -3.73145        -7.13660            -1.0        11.86804   \n",
       "4        -3.73212        -7.13818            -1.0        11.87030   \n",
       "\n",
       "   consumption_01  pressure_11  temperature_20  \n",
       "0        59.14596     70.77777        519.1353  \n",
       "1        59.18106     70.93322        519.1353  \n",
       "2        59.16980     70.03181        519.1346  \n",
       "3        59.30387     70.46443        519.1337  \n",
       "4        59.26101     69.81942        519.1330  \n",
       "\n",
       "[5 rows x 68 columns]"
      ]
     },
     "execution_count": 5,
     "metadata": {},
     "output_type": "execute_result"
    }
   ],
   "source": [
    "data.head(5)"
   ]
  },
  {
   "cell_type": "code",
   "execution_count": 80,
   "metadata": {},
   "outputs": [],
   "source": [
    "def preprocess(df, K=5, dif=True):\n",
    "    df = df.groupby(df.index // K).mean() #усреднение\n",
    "    df_np = df.to_numpy()\n",
    "    if dif:\n",
    "        df_np = df_np[1:len(df_np), ...] - df_np[0:-1, ...] #дифференцирование\n",
    "    df_np = (df_np - df_np.mean()) / df_np.std() #масштабирование\n",
    "    df = pd.DataFrame(df_np, columns=df.columns)\n",
    "    return df"
   ]
  },
  {
   "cell_type": "code",
   "execution_count": 81,
   "metadata": {},
   "outputs": [],
   "source": [
    "#усреднение данных за 5 минут, дискретное дифференцирование, масштабирование\n",
    "# preprocess(data).to_csv(\"DataSet_preprocessed.csv\")"
   ]
  },
  {
   "cell_type": "code",
   "execution_count": 82,
   "metadata": {},
   "outputs": [],
   "source": [
    "# preprocessed_data = pd.read_csv(\"DataSet_preprocessed.csv\")"
   ]
  },
  {
   "cell_type": "code",
   "execution_count": 6,
   "metadata": {},
   "outputs": [],
   "source": [
    "K = 5\n",
    "df = data.groupby(data.index // K).mean() #усреднение\n",
    "df_np = df.to_numpy()"
   ]
  },
  {
   "cell_type": "code",
   "execution_count": 7,
   "metadata": {},
   "outputs": [
    {
     "data": {
      "text/plain": [
       "(408096, 67)"
      ]
     },
     "execution_count": 7,
     "metadata": {},
     "output_type": "execute_result"
    }
   ],
   "source": [
    "df_np.shape"
   ]
  },
  {
   "cell_type": "code",
   "execution_count": 72,
   "metadata": {},
   "outputs": [],
   "source": [
    "dataset = df_np[:100000, ...].astype(np.float64)"
   ]
  },
  {
   "cell_type": "code",
   "execution_count": 73,
   "metadata": {},
   "outputs": [],
   "source": [
    "window_sizes_for_clustering = [1, 2, 3, 10]\n",
    "Ns_clusters = [5, 7, 9]"
   ]
  },
  {
   "cell_type": "code",
   "execution_count": 74,
   "metadata": {},
   "outputs": [],
   "source": [
    "from sktime.performance_metrics.forecasting import MeanAbsoluteScaledError\n",
    "mase = MeanAbsoluteScaledError()"
   ]
  },
  {
   "cell_type": "code",
   "execution_count": 107,
   "metadata": {},
   "outputs": [
    {
     "name": "stdout",
     "output_type": "stream",
     "text": [
      "N_clusters=5, 5, 101, (261, 67)\n",
      "Before prediction: train_X.shape=(19663, 10, 67), train_y.shape=(19663, 67), test_X.shape=(4914, 10, 67), test_y.shape=(4914, 67)\n",
      "Epoch 1/10\n",
      "154/154 [==============================] - 2s 5ms/step - loss: 0.2787\n",
      "Epoch 2/10\n",
      "154/154 [==============================] - 1s 5ms/step - loss: 0.2672\n",
      "Epoch 3/10\n",
      "154/154 [==============================] - 1s 5ms/step - loss: 0.2606\n",
      "Epoch 4/10\n",
      "154/154 [==============================] - 1s 5ms/step - loss: 0.2528\n",
      "Epoch 5/10\n",
      "154/154 [==============================] - 1s 5ms/step - loss: 0.2468\n",
      "Epoch 6/10\n",
      "154/154 [==============================] - 1s 5ms/step - loss: 0.2423\n",
      "Epoch 7/10\n",
      "154/154 [==============================] - 1s 5ms/step - loss: 0.2384\n",
      "Epoch 8/10\n",
      "154/154 [==============================] - 1s 5ms/step - loss: 0.2347\n",
      "Epoch 9/10\n",
      "154/154 [==============================] - 1s 5ms/step - loss: 0.2317\n",
      "Epoch 10/10\n",
      "154/154 [==============================] - 1s 5ms/step - loss: 0.2288\n",
      "154/154 [==============================] - 0s 1ms/step\n",
      "Cluster 0, error=0.7939082333684303\n",
      "Before prediction: train_X.shape=(17999, 10, 67), train_y.shape=(17999, 67), test_X.shape=(4498, 10, 67), test_y.shape=(4498, 67)\n",
      "Epoch 1/10\n",
      "141/141 [==============================] - 2s 5ms/step - loss: 0.4912\n",
      "Epoch 2/10\n",
      "141/141 [==============================] - 1s 5ms/step - loss: 0.4603\n",
      "Epoch 3/10\n",
      "141/141 [==============================] - 1s 5ms/step - loss: 0.4287\n",
      "Epoch 4/10\n",
      "141/141 [==============================] - 1s 5ms/step - loss: 0.4074\n",
      "Epoch 5/10\n",
      "141/141 [==============================] - 1s 5ms/step - loss: 0.3927\n",
      "Epoch 6/10\n",
      "141/141 [==============================] - 1s 5ms/step - loss: 0.3826\n",
      "Epoch 7/10\n",
      "141/141 [==============================] - 1s 5ms/step - loss: 0.3733\n",
      "Epoch 8/10\n",
      "141/141 [==============================] - 1s 5ms/step - loss: 0.3635\n",
      "Epoch 9/10\n",
      "141/141 [==============================] - 1s 5ms/step - loss: 0.3551\n",
      "Epoch 10/10\n",
      "141/141 [==============================] - 1s 5ms/step - loss: 0.3446\n",
      "141/141 [==============================] - 0s 1ms/step\n",
      "Cluster 1, error=0.6264293196623356\n",
      "Before prediction: train_X.shape=(9608, 10, 67), train_y.shape=(9608, 67), test_X.shape=(2400, 10, 67), test_y.shape=(2400, 67)\n",
      "Epoch 1/10\n",
      "76/76 [==============================] - 1s 5ms/step - loss: 0.0881\n",
      "Epoch 2/10\n",
      "76/76 [==============================] - 0s 5ms/step - loss: 0.0729\n",
      "Epoch 3/10\n",
      "76/76 [==============================] - 0s 5ms/step - loss: 0.0665\n",
      "Epoch 4/10\n",
      "76/76 [==============================] - 0s 5ms/step - loss: 0.0628\n",
      "Epoch 5/10\n",
      "76/76 [==============================] - 0s 5ms/step - loss: 0.0605\n",
      "Epoch 6/10\n",
      "76/76 [==============================] - 0s 5ms/step - loss: 0.0592\n",
      "Epoch 7/10\n",
      "76/76 [==============================] - 0s 5ms/step - loss: 0.0582\n",
      "Epoch 8/10\n",
      "76/76 [==============================] - 0s 5ms/step - loss: 0.0575\n",
      "Epoch 9/10\n",
      "76/76 [==============================] - 0s 5ms/step - loss: 0.0568\n",
      "Epoch 10/10\n",
      "76/76 [==============================] - 0s 5ms/step - loss: 0.0564\n",
      "75/75 [==============================] - 1s 1ms/step\n",
      "Cluster 2, error=1.586008020485397\n",
      "Before prediction: train_X.shape=(20824, 10, 67), train_y.shape=(20824, 67), test_X.shape=(5211, 10, 67), test_y.shape=(5211, 67)\n",
      "Epoch 1/10\n",
      "163/163 [==============================] - 2s 5ms/step - loss: 0.4051\n",
      "Epoch 2/10\n",
      "163/163 [==============================] - 1s 5ms/step - loss: 0.3864\n",
      "Epoch 3/10\n",
      "163/163 [==============================] - 1s 5ms/step - loss: 0.3679\n",
      "Epoch 4/10\n",
      "163/163 [==============================] - 1s 5ms/step - loss: 0.3562\n",
      "Epoch 5/10\n",
      "163/163 [==============================] - 1s 5ms/step - loss: 0.3485\n",
      "Epoch 6/10\n",
      "163/163 [==============================] - 1s 5ms/step - loss: 0.3418\n",
      "Epoch 7/10\n",
      "163/163 [==============================] - 1s 5ms/step - loss: 0.3366\n",
      "Epoch 8/10\n",
      "163/163 [==============================] - 1s 5ms/step - loss: 0.3307\n",
      "Epoch 9/10\n",
      "163/163 [==============================] - 1s 5ms/step - loss: 0.3247\n",
      "Epoch 10/10\n",
      "163/163 [==============================] - 1s 5ms/step - loss: 0.3190\n",
      "163/163 [==============================] - 0s 1ms/step\n",
      "Cluster 3, error=0.656555840488112\n",
      "Before prediction: train_X.shape=(8107, 10, 67), train_y.shape=(8107, 67), test_X.shape=(2025, 10, 67), test_y.shape=(2025, 67)\n",
      "Epoch 1/10\n",
      "64/64 [==============================] - 1s 5ms/step - loss: 0.5320\n",
      "Epoch 2/10\n",
      "64/64 [==============================] - 0s 5ms/step - loss: 0.5107\n",
      "Epoch 3/10\n",
      "64/64 [==============================] - 0s 5ms/step - loss: 0.4982\n",
      "Epoch 4/10\n",
      "64/64 [==============================] - 0s 5ms/step - loss: 0.4865\n",
      "Epoch 5/10\n",
      "64/64 [==============================] - 0s 5ms/step - loss: 0.4735\n",
      "Epoch 6/10\n",
      "64/64 [==============================] - 0s 5ms/step - loss: 0.4601\n",
      "Epoch 7/10\n",
      "64/64 [==============================] - 0s 5ms/step - loss: 0.4448\n",
      "Epoch 8/10\n",
      "64/64 [==============================] - 0s 5ms/step - loss: 0.4319\n",
      "Epoch 9/10\n",
      "64/64 [==============================] - 0s 5ms/step - loss: 0.4230\n",
      "Epoch 10/10\n",
      "64/64 [==============================] - 0s 5ms/step - loss: 0.4169\n",
      "64/64 [==============================] - 0s 1ms/step\n",
      "Cluster 4, error=0.730823783380493\n",
      "N_clusters=7, 7, 44, (65, 67)\n",
      "Before prediction: train_X.shape=(1880, 10, 67), train_y.shape=(1880, 67), test_X.shape=(470, 10, 67), test_y.shape=(470, 67)\n",
      "Epoch 1/10\n",
      "15/15 [==============================] - 1s 5ms/step - loss: 0.2503\n",
      "Epoch 2/10\n",
      "15/15 [==============================] - 0s 5ms/step - loss: 0.2335\n",
      "Epoch 3/10\n",
      "15/15 [==============================] - 0s 5ms/step - loss: 0.2237\n",
      "Epoch 4/10\n",
      "15/15 [==============================] - 0s 5ms/step - loss: 0.2165\n",
      "Epoch 5/10\n",
      "15/15 [==============================] - 0s 5ms/step - loss: 0.2108\n",
      "Epoch 6/10\n",
      "15/15 [==============================] - 0s 5ms/step - loss: 0.2067\n",
      "Epoch 7/10\n",
      "15/15 [==============================] - 0s 5ms/step - loss: 0.2039\n",
      "Epoch 8/10\n",
      "15/15 [==============================] - 0s 5ms/step - loss: 0.2008\n",
      "Epoch 9/10\n",
      "15/15 [==============================] - 0s 5ms/step - loss: 0.1980\n",
      "Epoch 10/10\n",
      "15/15 [==============================] - 0s 5ms/step - loss: 0.1951\n",
      "15/15 [==============================] - 0s 1ms/step\n",
      "Cluster 0, error=1.2535669141398846\n",
      "Before prediction: train_X.shape=(2083, 10, 67), train_y.shape=(2083, 67), test_X.shape=(521, 10, 67), test_y.shape=(521, 67)\n",
      "Epoch 1/10\n",
      "17/17 [==============================] - 1s 5ms/step - loss: 0.2344\n",
      "Epoch 2/10\n",
      "17/17 [==============================] - 0s 5ms/step - loss: 0.2077\n",
      "Epoch 3/10\n",
      "17/17 [==============================] - 0s 5ms/step - loss: 0.1932\n",
      "Epoch 4/10\n",
      "17/17 [==============================] - 0s 5ms/step - loss: 0.1824\n",
      "Epoch 5/10\n",
      "17/17 [==============================] - 0s 5ms/step - loss: 0.1744\n",
      "Epoch 6/10\n",
      "17/17 [==============================] - 0s 5ms/step - loss: 0.1691\n",
      "Epoch 7/10\n",
      "17/17 [==============================] - 0s 5ms/step - loss: 0.1653\n",
      "Epoch 8/10\n",
      "17/17 [==============================] - 0s 5ms/step - loss: 0.1624\n",
      "Epoch 9/10\n",
      "17/17 [==============================] - 0s 5ms/step - loss: 0.1601\n",
      "Epoch 10/10\n",
      "17/17 [==============================] - 0s 5ms/step - loss: 0.1583\n",
      "17/17 [==============================] - 0s 1ms/step\n",
      "Cluster 1, error=0.9221334961990736\n",
      "Before prediction: train_X.shape=(20643, 10, 67), train_y.shape=(20643, 67), test_X.shape=(5157, 10, 67), test_y.shape=(5157, 67)\n",
      "Epoch 1/10\n",
      "162/162 [==============================] - 2s 5ms/step - loss: 0.3736\n",
      "Epoch 2/10\n",
      "162/162 [==============================] - 1s 5ms/step - loss: 0.3578\n",
      "Epoch 3/10\n",
      "162/162 [==============================] - 1s 5ms/step - loss: 0.3397\n",
      "Epoch 4/10\n",
      "162/162 [==============================] - 1s 5ms/step - loss: 0.3289\n",
      "Epoch 5/10\n",
      "162/162 [==============================] - 1s 5ms/step - loss: 0.3212\n",
      "Epoch 6/10\n",
      "162/162 [==============================] - 1s 5ms/step - loss: 0.3151\n",
      "Epoch 7/10\n",
      "162/162 [==============================] - 1s 5ms/step - loss: 0.3089\n",
      "Epoch 8/10\n",
      "162/162 [==============================] - 1s 5ms/step - loss: 0.3020\n",
      "Epoch 9/10\n",
      "162/162 [==============================] - 1s 5ms/step - loss: 0.2948\n",
      "Epoch 10/10\n",
      "162/162 [==============================] - 1s 5ms/step - loss: 0.2873\n",
      "162/162 [==============================] - 0s 1ms/step\n",
      "Cluster 2, error=0.6914883840135316\n",
      "Before prediction: train_X.shape=(7336, 10, 67), train_y.shape=(7336, 67), test_X.shape=(1834, 10, 67), test_y.shape=(1834, 67)\n",
      "Epoch 1/10\n",
      "58/58 [==============================] - 1s 5ms/step - loss: 0.0869\n",
      "Epoch 2/10\n",
      "58/58 [==============================] - 0s 5ms/step - loss: 0.0719\n",
      "Epoch 3/10\n",
      "58/58 [==============================] - 0s 5ms/step - loss: 0.0658\n",
      "Epoch 4/10\n",
      "58/58 [==============================] - 0s 5ms/step - loss: 0.0620\n",
      "Epoch 5/10\n",
      "58/58 [==============================] - 0s 6ms/step - loss: 0.0594\n",
      "Epoch 6/10\n",
      "58/58 [==============================] - 0s 5ms/step - loss: 0.0575\n",
      "Epoch 7/10\n",
      "58/58 [==============================] - 0s 5ms/step - loss: 0.0563\n",
      "Epoch 8/10\n",
      "58/58 [==============================] - 0s 6ms/step - loss: 0.0553\n",
      "Epoch 9/10\n",
      "58/58 [==============================] - 0s 5ms/step - loss: 0.0545\n",
      "Epoch 10/10\n",
      "58/58 [==============================] - 0s 5ms/step - loss: 0.0540\n",
      "58/58 [==============================] - 0s 1ms/step\n",
      "Cluster 3, error=2.8177337762122594\n",
      "Before prediction: train_X.shape=(7963, 10, 67), train_y.shape=(7963, 67), test_X.shape=(1989, 10, 67), test_y.shape=(1989, 67)\n",
      "Epoch 1/10\n",
      "63/63 [==============================] - 2s 6ms/step - loss: 0.5309\n",
      "Epoch 2/10\n",
      "63/63 [==============================] - 0s 5ms/step - loss: 0.5110\n",
      "Epoch 3/10\n",
      "63/63 [==============================] - 0s 6ms/step - loss: 0.4979\n",
      "Epoch 4/10\n",
      "63/63 [==============================] - 0s 6ms/step - loss: 0.4806\n",
      "Epoch 5/10\n",
      "63/63 [==============================] - 0s 6ms/step - loss: 0.4650\n",
      "Epoch 6/10\n",
      "63/63 [==============================] - 0s 6ms/step - loss: 0.4515\n",
      "Epoch 7/10\n",
      "63/63 [==============================] - 0s 5ms/step - loss: 0.4384\n",
      "Epoch 8/10\n",
      "63/63 [==============================] - 0s 5ms/step - loss: 0.4275\n",
      "Epoch 9/10\n",
      "63/63 [==============================] - 0s 5ms/step - loss: 0.4216\n",
      "Epoch 10/10\n",
      "63/63 [==============================] - 0s 6ms/step - loss: 0.4138\n",
      "63/63 [==============================] - 0s 1ms/step\n",
      "Cluster 4, error=0.7341239581140381\n",
      "Before prediction: train_X.shape=(17142, 10, 67), train_y.shape=(17142, 67), test_X.shape=(4287, 10, 67), test_y.shape=(4287, 67)\n",
      "Epoch 1/10\n",
      "134/134 [==============================] - 2s 5ms/step - loss: 0.4899\n",
      "Epoch 2/10\n",
      "134/134 [==============================] - 1s 6ms/step - loss: 0.4523\n",
      "Epoch 3/10\n",
      "134/134 [==============================] - 1s 6ms/step - loss: 0.4188\n",
      "Epoch 4/10\n",
      "134/134 [==============================] - 1s 5ms/step - loss: 0.4012\n",
      "Epoch 5/10\n",
      "134/134 [==============================] - 1s 5ms/step - loss: 0.3900\n",
      "Epoch 6/10\n",
      "134/134 [==============================] - 1s 5ms/step - loss: 0.3820\n",
      "Epoch 7/10\n",
      "134/134 [==============================] - 1s 5ms/step - loss: 0.3749\n",
      "Epoch 8/10\n",
      "134/134 [==============================] - 1s 5ms/step - loss: 0.3689\n",
      "Epoch 9/10\n",
      "134/134 [==============================] - 1s 5ms/step - loss: 0.3619\n",
      "Epoch 10/10\n",
      "134/134 [==============================] - 1s 5ms/step - loss: 0.3533\n",
      "134/134 [==============================] - 0s 1ms/step\n",
      "Cluster 5, error=0.6348444835304952\n",
      "Before prediction: train_X.shape=(18823, 10, 67), train_y.shape=(18823, 67), test_X.shape=(4709, 10, 67), test_y.shape=(4709, 67)\n",
      "Epoch 1/10\n",
      "148/148 [==============================] - 2s 5ms/step - loss: 0.4134\n",
      "Epoch 2/10\n",
      "148/148 [==============================] - 1s 5ms/step - loss: 0.3995\n",
      "Epoch 3/10\n",
      "148/148 [==============================] - 1s 5ms/step - loss: 0.3781\n",
      "Epoch 4/10\n",
      "148/148 [==============================] - 1s 6ms/step - loss: 0.3637\n",
      "Epoch 5/10\n",
      "148/148 [==============================] - 1s 5ms/step - loss: 0.3547\n",
      "Epoch 6/10\n",
      "148/148 [==============================] - 1s 5ms/step - loss: 0.3468\n",
      "Epoch 7/10\n",
      "148/148 [==============================] - 1s 5ms/step - loss: 0.3406\n",
      "Epoch 8/10\n",
      "148/148 [==============================] - 1s 5ms/step - loss: 0.3354\n",
      "Epoch 9/10\n",
      "148/148 [==============================] - 1s 5ms/step - loss: 0.3297\n",
      "Epoch 10/10\n",
      "148/148 [==============================] - 1s 5ms/step - loss: 0.3253\n",
      "148/148 [==============================] - 0s 1ms/step\n",
      "Cluster 6, error=0.6672974962307182\n",
      "N_clusters=9, 9, 41, (65, 67)\n",
      "Before prediction: train_X.shape=(1876, 10, 67), train_y.shape=(1876, 67), test_X.shape=(470, 10, 67), test_y.shape=(470, 67)\n",
      "Epoch 1/10\n",
      "15/15 [==============================] - 1s 6ms/step - loss: 0.2624\n",
      "Epoch 2/10\n",
      "15/15 [==============================] - 0s 6ms/step - loss: 0.2435\n",
      "Epoch 3/10\n",
      "15/15 [==============================] - 0s 5ms/step - loss: 0.2328\n",
      "Epoch 4/10\n",
      "15/15 [==============================] - 0s 5ms/step - loss: 0.2250\n",
      "Epoch 5/10\n",
      "15/15 [==============================] - 0s 5ms/step - loss: 0.2187\n",
      "Epoch 6/10\n",
      "15/15 [==============================] - 0s 5ms/step - loss: 0.2138\n",
      "Epoch 7/10\n",
      "15/15 [==============================] - 0s 5ms/step - loss: 0.2107\n",
      "Epoch 8/10\n",
      "15/15 [==============================] - 0s 6ms/step - loss: 0.2087\n",
      "Epoch 9/10\n",
      "15/15 [==============================] - 0s 5ms/step - loss: 0.2057\n",
      "Epoch 10/10\n",
      "15/15 [==============================] - 0s 5ms/step - loss: 0.2027\n",
      "15/15 [==============================] - 0s 1ms/step\n",
      "Cluster 0, error=1.246588530050129\n"
     ]
    },
    {
     "ename": "KeyboardInterrupt",
     "evalue": "",
     "output_type": "error",
     "traceback": [
      "\u001b[0;31m---------------------------------------------------------------------------\u001b[0m",
      "\u001b[0;31mKeyboardInterrupt\u001b[0m                         Traceback (most recent call last)",
      "\u001b[1;32m/home/anna/Desktop/MSU/научка/git/time_series/notebook.ipynb Cell 14\u001b[0m in \u001b[0;36m<cell line: 3>\u001b[0;34m()\u001b[0m\n\u001b[1;32m     <a href='vscode-notebook-cell:/home/anna/Desktop/MSU/%D0%BD%D0%B0%D1%83%D1%87%D0%BA%D0%B0/git/time_series/notebook.ipynb#X16sZmlsZQ%3D%3D?line=22'>23</a>\u001b[0m data_X, data_y \u001b[39m=\u001b[39m Forecasting\u001b[39m.\u001b[39mcreate_windows(prepared_data, window_size\u001b[39m=\u001b[39m\u001b[39m10\u001b[39m)\n\u001b[1;32m     <a href='vscode-notebook-cell:/home/anna/Desktop/MSU/%D0%BD%D0%B0%D1%83%D1%87%D0%BA%D0%B0/git/time_series/notebook.ipynb#X16sZmlsZQ%3D%3D?line=23'>24</a>\u001b[0m \u001b[39m# print(f\"{len(data_X)=}, {data_X[0].shape=}, {len(data_y)=}, {data_y[0].shape=}\")\u001b[39;00m\n\u001b[0;32m---> <a href='vscode-notebook-cell:/home/anna/Desktop/MSU/%D0%BD%D0%B0%D1%83%D1%87%D0%BA%D0%B0/git/time_series/notebook.ipynb#X16sZmlsZQ%3D%3D?line=24'>25</a>\u001b[0m train_X, train_y, test_X, test_y \u001b[39m=\u001b[39m Forecasting\u001b[39m.\u001b[39;49msplit_to_train_test(data_X, data_y)\n\u001b[1;32m     <a href='vscode-notebook-cell:/home/anna/Desktop/MSU/%D0%BD%D0%B0%D1%83%D1%87%D0%BA%D0%B0/git/time_series/notebook.ipynb#X16sZmlsZQ%3D%3D?line=25'>26</a>\u001b[0m \u001b[39mprint\u001b[39m(\u001b[39mf\u001b[39m\u001b[39m\"\u001b[39m\u001b[39mBefore prediction: \u001b[39m\u001b[39m{\u001b[39;00mtrain_X\u001b[39m.\u001b[39mshape\u001b[39m=}\u001b[39;00m\u001b[39m, \u001b[39m\u001b[39m{\u001b[39;00mtrain_y\u001b[39m.\u001b[39mshape\u001b[39m=}\u001b[39;00m\u001b[39m, \u001b[39m\u001b[39m{\u001b[39;00mtest_X\u001b[39m.\u001b[39mshape\u001b[39m=}\u001b[39;00m\u001b[39m, \u001b[39m\u001b[39m{\u001b[39;00mtest_y\u001b[39m.\u001b[39mshape\u001b[39m=}\u001b[39;00m\u001b[39m\"\u001b[39m)\n\u001b[1;32m     <a href='vscode-notebook-cell:/home/anna/Desktop/MSU/%D0%BD%D0%B0%D1%83%D1%87%D0%BA%D0%B0/git/time_series/notebook.ipynb#X16sZmlsZQ%3D%3D?line=26'>27</a>\u001b[0m \u001b[39m#не просто конец брать, а из каждого куска непрерывности. Будет ли сильно оптимистичнее оценка? \u001b[39;00m\n",
      "File \u001b[0;32m~/Desktop/MSU/научка/git/time_series/Forecasting.py:130\u001b[0m, in \u001b[0;36msplit_to_train_test\u001b[0;34m(dataset_X, dataset_y, percent_of_test)\u001b[0m\n\u001b[1;32m    128\u001b[0m \u001b[39mfor\u001b[39;00m X, y \u001b[39min\u001b[39;00m \u001b[39mzip\u001b[39m(dataset_X, dataset_y):\n\u001b[1;32m    129\u001b[0m     train_X, train_y, test_X, test_y \u001b[39m=\u001b[39m split_to_train_test(X, y, percent_of_test\u001b[39m=\u001b[39mpercent_of_test)\n\u001b[0;32m--> 130\u001b[0m     result_train_X \u001b[39m=\u001b[39m np\u001b[39m.\u001b[39;49mconcatenate([result_train_X, train_X])\n\u001b[1;32m    131\u001b[0m     result_train_y \u001b[39m=\u001b[39m np\u001b[39m.\u001b[39mconcatenate([result_train_y, train_y])\n\u001b[1;32m    132\u001b[0m     result_test_X \u001b[39m=\u001b[39m np\u001b[39m.\u001b[39mconcatenate([result_test_X, test_X])\n",
      "File \u001b[0;32m<__array_function__ internals>:180\u001b[0m, in \u001b[0;36mconcatenate\u001b[0;34m(*args, **kwargs)\u001b[0m\n",
      "\u001b[0;31mKeyboardInterrupt\u001b[0m: "
     ]
    },
    {
     "data": {
      "image/png": "[encoded data removed]",
      "text/plain": [
       "<Figure size 2000x1200 with 4 Axes>"
      ]
     },
     "metadata": {},
     "output_type": "display_data"
    },
    {
     "data": {
      "image/png": "[encoded data removed]",
      "text/plain": [
       "<Figure size 2000x1200 with 4 Axes>"
      ]
     },
     "metadata": {},
     "output_type": "display_data"
    },
    {
     "data": {
      "image/png": "[encoded data removed]",
      "text/plain": [
       "<Figure size 2000x1200 with 2 Axes>"
      ]
     },
     "metadata": {},
     "output_type": "display_data"
    }
   ],
   "source": [
    "mae = MeanAbsoluteError()\n",
    "\n",
    "for window_size in window_sizes_for_clustering:\n",
    "    for N_clusters in Ns_clusters:\n",
    "        dataset_windows, dataset_y = Forecasting.create_windows(dataset, window_size=window_size)\n",
    "        clusters_labels = Clustering.KMeans_for_windows(dataset_windows, W=window_size, N_clusters=N_clusters, max_iter=50)\n",
    "        datasets_clusters = Clustering.flatten_from_interceting_windows(dataset_windows, clusters_labels, W=window_size, \\\n",
    "                N_clusters=N_clusters) #можно и dataset_y включать. +1 \n",
    "        print(f\"{N_clusters=}, {len(datasets_clusters)}, {len(datasets_clusters[0])}, {datasets_clusters[0][0].shape}\")\n",
    "        plt.figure(figsize=(20, 12))\n",
    "        plt.subplot(2, 2, 1)\n",
    "        plt.bar(np.arange(N_clusters), [np.sum(clusters_labels == i) for i in range(N_clusters)], color='blue')\n",
    "        plt.title(\"Размеры кластеров\")\n",
    "        plt.subplot(2, 2, 2)\n",
    "        plt.bar(np.arange(N_clusters), [len(datasets_clusters[i]) for i in range(N_clusters)], color=\"green\")\n",
    "        plt.title(\"Количество непрерывных кусков\")\n",
    "        ###window_size for model\n",
    "        errors = [1] * N_clusters\n",
    "        for cluster_num in range(N_clusters):\n",
    "            sc = Forecasting.MyStandardScaler()\n",
    "            sc.fit(datasets_clusters[cluster_num])\n",
    "            prepared_data = sc.transform(datasets_clusters[cluster_num])\n",
    "            data_X, data_y = Forecasting.create_windows(prepared_data, window_size=10)\n",
    "            # print(f\"{len(data_X)=}, {data_X[0].shape=}, {len(data_y)=}, {data_y[0].shape=}\")\n",
    "            train_X, train_y, test_X, test_y = Forecasting.split_to_train_test(data_X, data_y)\n",
    "            print(f\"Before prediction: {train_X.shape=}, {train_y.shape=}, {test_X.shape=}, {test_y.shape=}\")\n",
    "            #не просто конец брать, а из каждого куска непрерывности. Будет ли сильно оптимистичнее оценка? \n",
    "            if len(test_X.shape) == 2 or test_X.shape[0] == 0:\n",
    "                print(f\"Fail! {test_X.shape=}\")\n",
    "                continue\n",
    "            if len(train_X.shape) == 2 or train_X.shape[0] == 0:\n",
    "                print(f\"Fail! {train_X.shape=}\")\n",
    "                continue\n",
    "            model, history = Forecasting.learn(train_X, train_y)\n",
    "            predicted = model.predict(test_X)\n",
    "            error = mase(test_y, predicted, y_train=train_y)\n",
    "            errors[cluster_num] = error\n",
    "            print(f\"Cluster {cluster_num}, {error=}\")\n",
    "        plt.subplot(2, 2, 3)\n",
    "        plt.bar(np.arange(N_clusters), errors, color=\"red\")\n",
    "        plt.title(\"MASE на тесте каждого из кластеров\")\n",
    "        plt.subplot(2, 2, 4)\n",
    "        plt.table(cellText= [[f\"{x:.2f}\" for x in errors]],\n",
    "                      rowLabels=[\"MASE\"],\n",
    "                      colLabels=list(range(N_clusters)),\n",
    "                      loc='center')\n",
    "        plt.savefig(f\"plots/Dataset2/{N_clusters=}  W={window_size}.png\")\n",
    "        "
   ]
  },
  {
   "cell_type": "code",
   "execution_count": 104,
   "metadata": {},
   "outputs": [
    {
     "data": {
      "image/png": "[encoded data removed]",
      "text/plain": [
       "<Figure size 640x480 with 1 Axes>"
      ]
     },
     "metadata": {},
     "output_type": "display_data"
    }
   ],
   "source": [
    "        # plt.bar(np.arange(N_clusters), errors, color=\"red\")\n",
    "\n",
    "the_table = plt.table(cellText= [[f\"{x:.2f}\" for x in errors]],\n",
    "                      rowLabels=[\"MASE\"],\n",
    "                      colLabels=list(range(N_clusters)),\n",
    "                      loc='center')"
   ]
  },
  {
   "cell_type": "code",
   "execution_count": 103,
   "metadata": {},
   "outputs": [
    {
     "data": {
      "text/plain": [
       "9"
      ]
     },
     "execution_count": 103,
     "metadata": {},
     "output_type": "execute_result"
    }
   ],
   "source": [
    "len([f\"{x:.2f}\" for x in errors])\n"
   ]
  },
  {
   "cell_type": "code",
   "execution_count": null,
   "metadata": {},
   "outputs": [],
   "source": []
  },
  {
   "cell_type": "markdown",
   "metadata": {},
   "source": [
    "Промежуточная отладка"
   ]
  },
  {
   "cell_type": "code",
   "execution_count": 190,
   "metadata": {},
   "outputs": [
    {
     "data": {
      "text/plain": [
       "<module 'Forecasting' from '/home/anna/Desktop/MSU/научка/git/time_series/Forecasting.py'>"
      ]
     },
     "execution_count": 190,
     "metadata": {},
     "output_type": "execute_result"
    }
   ],
   "source": [
    "# from Clustering import *\n",
    "# from Forecasting import *\n",
    "import importlib\n",
    "import Clustering, Forecasting\n",
    "importlib.reload(Clustering)\n",
    "importlib.reload(Forecasting)"
   ]
  },
  {
   "cell_type": "code",
   "execution_count": 60,
   "metadata": {},
   "outputs": [
    {
     "name": "stdout",
     "output_type": "stream",
     "text": [
      "tmp.shape=(1, 5, 2), cluster_num=1, len(dataset_result)=3\n",
      "tmp.shape=(1, 7, 2), cluster_num=0, len(dataset_result)=3\n",
      "tmp.shape=(1, 6, 2), cluster_num=2, len(dataset_result)=3\n",
      "tmp.shape=(1, 5, 2), cluster_num=1, len(dataset_result)=3\n"
     ]
    },
    {
     "data": {
      "text/plain": [
       "[array([[10, 11],\n",
       "        [12, 13],\n",
       "        [14, 15],\n",
       "        [16, 17],\n",
       "        [18, 19],\n",
       "        [28, 29],\n",
       "        [38, 39]])]"
      ]
     },
     "execution_count": 60,
     "metadata": {},
     "output_type": "execute_result"
    }
   ],
   "source": [
    "labels = np.array([1, 0, 0, 0, 2, 2, 1])\n",
    "d = np.arange(7 * 5 * 2).reshape(7, 5, 2)\n",
    "res = Clustering.flatten_from_interceting_windows(d, labels, N_clusters=3)\n",
    "res[0]"
   ]
  },
  {
   "cell_type": "code",
   "execution_count": 194,
   "metadata": {},
   "outputs": [
    {
     "name": "stdout",
     "output_type": "stream",
     "text": [
      "[[0 1 2 3]\n",
      " [4 5 6 7]]\n",
      "[[1 2 3 4]\n",
      " [5 6 7 8]]\n",
      "[[ 4  5  6  7]\n",
      " [ 8  9 10 11]]\n",
      "sc.mean=array([4., 4., 4., 4.]), sc.std=array([0., 0., 0., 0.])\n",
      "d=array([2.29128785, 2.34520788, 2.6925824 , 3.24037035])\n"
     ]
    },
    {
     "name": "stderr",
     "output_type": "stream",
     "text": [
      "/home/anna/Desktop/MSU/научка/git/time_series/Forecasting.py:101: RuntimeWarning: invalid value encountered in divide\n",
      "  result_data[i] = (result_data[i] - self.mean) / self.std\n"
     ]
    },
    {
     "data": {
      "text/plain": [
       "(3, (1, 4), array([4., 4., 4., 4.]), array([0., 0., 0., 0.]))"
      ]
     },
     "execution_count": 194,
     "metadata": {},
     "output_type": "execute_result"
    }
   ],
   "source": [
    "a = [np.arange(i, i + 8).reshape(2, 4) for i in range(3)]\n",
    "print(*a, sep=\"\\n\")\n",
    "sc = Forecasting.MyStandardScaler()\n",
    "sc.fit(a)\n",
    "print(f\"{sc.mean=}, {sc.std=}\")\n",
    "cur_cnt = 8\n",
    "\n",
    "d = np.sqrt(np.sum(np.row_stack([np.sum(np.square(part - sc.mean), axis=0) / cur_cnt for part in a]), axis=0))\n",
    "print(f\"{d=}\")\n",
    "\n",
    "b = sc.transform(a)\n",
    "len(b), b[0].shape, sc.mean, sc.std"
   ]
  },
  {
   "cell_type": "code",
   "execution_count": 198,
   "metadata": {},
   "outputs": [
    {
     "name": "stdout",
     "output_type": "stream",
     "text": [
      "[array([[-1.22474487,  1.22474487]]), array([[ 0.        , -1.22474487]]), array([[1.22474487, 0.        ]])] [1. 0.] [0.81649658 0.81649658]\n"
     ]
    }
   ],
   "source": [
    "a = [np.array([[1, 2], [1, 3]]), np.array([[1, 2], [2, 1]]), np.array([[1, 2], [3, 2]])]\n",
    "sc = Forecasting.MyStandardScaler()\n",
    "sc.fit(a)\n",
    "print(sc.transform(a), sc.mean, sc.std)"
   ]
  },
  {
   "cell_type": "code",
   "execution_count": 7,
   "metadata": {},
   "outputs": [],
   "source": [
    "columns = preprocessed_data.columns"
   ]
  },
  {
   "cell_type": "code",
   "execution_count": 8,
   "metadata": {},
   "outputs": [],
   "source": [
    "# from sklearn.preprocessing import MinMaxScaler\n",
    "# from sklearn.preprocessing import LabelEncoder\n",
    "from sklearn.metrics import mean_squared_error\n",
    "from keras.models import Sequential\n",
    "from keras.layers import Dense\n",
    "from keras.layers import LSTM\n",
    "from keras.metrics import MeanAbsoluteError\n"
   ]
  },
  {
   "cell_type": "code",
   "execution_count": 9,
   "metadata": {},
   "outputs": [],
   "source": [
    "# from tensorflow.keras.utils import plot_model\n"
   ]
  },
  {
   "cell_type": "markdown",
   "metadata": {},
   "source": [
    "quality >= 90 :\n",
    "L = 431204;  R = 2040480; len = 1609276"
   ]
  },
  {
   "cell_type": "markdown",
   "metadata": {},
   "source": [
    "Частично данные из DataSet2"
   ]
  },
  {
   "cell_type": "code",
   "execution_count": 10,
   "metadata": {},
   "outputs": [
    {
     "data": {
      "text/plain": [
       "(20000, 67)"
      ]
     },
     "execution_count": 10,
     "metadata": {},
     "output_type": "execute_result"
    }
   ],
   "source": [
    "partial_data = preprocessed_data.iloc[431205 // 5:531205 // 5, 1:]\n",
    "partial_data.shape"
   ]
  },
  {
   "cell_type": "code",
   "execution_count": 9,
   "metadata": {},
   "outputs": [
    {
     "ename": "NameError",
     "evalue": "name 'predicted' is not defined",
     "output_type": "error",
     "traceback": [
      "\u001b[0;31m---------------------------------------------------------------------------\u001b[0m",
      "\u001b[0;31mNameError\u001b[0m                                 Traceback (most recent call last)",
      "\u001b[1;32m/home/anna/Desktop/MSU/научка/git/time_series/notebook.ipynb Cell 17\u001b[0m in \u001b[0;36m<cell line: 1>\u001b[0;34m()\u001b[0m\n\u001b[0;32m----> <a href='vscode-notebook-cell:/home/anna/Desktop/MSU/%D0%BD%D0%B0%D1%83%D1%87%D0%BA%D0%B0/git/time_series/notebook.ipynb#X26sZmlsZQ%3D%3D?line=0'>1</a>\u001b[0m predicted_values \u001b[39m=\u001b[39m predicted[:\u001b[39m100\u001b[39m, \u001b[39m.\u001b[39m\u001b[39m.\u001b[39m\u001b[39m.\u001b[39m]\n\u001b[1;32m      <a href='vscode-notebook-cell:/home/anna/Desktop/MSU/%D0%BD%D0%B0%D1%83%D1%87%D0%BA%D0%B0/git/time_series/notebook.ipynb#X26sZmlsZQ%3D%3D?line=1'>2</a>\u001b[0m \u001b[39mprint\u001b[39m(\u001b[39mf\u001b[39m\u001b[39m\"\u001b[39m\u001b[39m{\u001b[39;00mtest_X\u001b[39m.\u001b[39mshape\u001b[39m=}\u001b[39;00m\u001b[39m, \u001b[39m\u001b[39m{\u001b[39;00mpredicted_values\u001b[39m.\u001b[39mshape\u001b[39m=}\u001b[39;00m\u001b[39m\"\u001b[39m)\n\u001b[1;32m      <a href='vscode-notebook-cell:/home/anna/Desktop/MSU/%D0%BD%D0%B0%D1%83%D1%87%D0%BA%D0%B0/git/time_series/notebook.ipynb#X26sZmlsZQ%3D%3D?line=3'>4</a>\u001b[0m \u001b[39mfor\u001b[39;00m i \u001b[39min\u001b[39;00m \u001b[39mrange\u001b[39m(predicted_values\u001b[39m.\u001b[39mshape[\u001b[39m-\u001b[39m\u001b[39m1\u001b[39m]):\n",
      "\u001b[0;31mNameError\u001b[0m: name 'predicted' is not defined"
     ]
    }
   ],
   "source": [
    "predicted_values = predicted[:100, ...]\n",
    "print(f\"{test_X.shape=}, {predicted_values.shape=}\")\n",
    "\n",
    "for i in range(predicted_values.shape[-1]):\n",
    "    plt.plot(predicted_values[:, i], color=\"red\", label=\"prediction\")\n",
    "    plt.plot(test_y[:100, i], color=\"green\", label=\"origin\")\n",
    "    plt.xlabel(\"Time\")\n",
    "    plt.ylabel(str(columns[i + 1]))\n",
    "    plt.legend()\n",
    "    plt.savefig(\"plots/partionDataSet2/\" + str(i) + \" \" + str(columns[i + 1]) + '.png')\n",
    "    # plt.show()\n",
    "    plt.clf()"
   ]
  },
  {
   "cell_type": "code",
   "execution_count": null,
   "metadata": {},
   "outputs": [],
   "source": [
    "def compare(y_true, y_predict, show_window_size=200):\n",
    "    "
   ]
  },
  {
   "cell_type": "markdown",
   "metadata": {},
   "source": [
    "Кластеризация\n"
   ]
  },
  {
   "cell_type": "code",
   "execution_count": 49,
   "metadata": {},
   "outputs": [
    {
     "data": {
      "text/plain": [
       "<module 'Forecasting' from '/home/anna/Desktop/MSU/научка/git/time_series/Forecasting.py'>"
      ]
     },
     "execution_count": 49,
     "metadata": {},
     "output_type": "execute_result"
    }
   ],
   "source": [
    "import importlib\n",
    "import Clustering\n",
    "importlib.reload(Clustering)\n",
    "import Forecasting\n",
    "importlib.reload(Forecasting)"
   ]
  },
  {
   "cell_type": "code",
   "execution_count": 40,
   "metadata": {},
   "outputs": [
    {
     "name": "stdout",
     "output_type": "stream",
     "text": [
      "(20000, 67)\n",
      "(19995, 5, 67) (19995, 67)\n"
     ]
    }
   ],
   "source": [
    "window_size = 5\n",
    "dataset_windows, dataset_y = Forecasting.create_windows(partial_data, window_size=window_size)\n",
    "print(dataset_windows.shape, dataset_y.shape)"
   ]
  },
  {
   "cell_type": "code",
   "execution_count": 41,
   "metadata": {},
   "outputs": [],
   "source": [
    "N_clusters = 5\n",
    "clusters_labels = Clustering.KMeans_for_windows(dataset_windows, N_clusters=N_clusters)"
   ]
  },
  {
   "cell_type": "code",
   "execution_count": 47,
   "metadata": {},
   "outputs": [
    {
     "name": "stdout",
     "output_type": "stream",
     "text": [
      "0 19685\n",
      "1 50\n",
      "2 94\n",
      "3 35\n",
      "4 24\n"
     ]
    }
   ],
   "source": [
    "for i in range(N_clusters):\n",
    "    print(i, np.sum(clusters_labels == i))"
   ]
  },
  {
   "cell_type": "code",
   "execution_count": 42,
   "metadata": {},
   "outputs": [
    {
     "data": {
      "text/plain": [
       "((19995,), (20000, 67))"
      ]
     },
     "execution_count": 42,
     "metadata": {},
     "output_type": "execute_result"
    }
   ],
   "source": [
    "clusters_labels.shape, partial_data.shape"
   ]
  },
  {
   "cell_type": "code",
   "execution_count": 48,
   "metadata": {},
   "outputs": [
    {
     "name": "stdout",
     "output_type": "stream",
     "text": [
      "n_split=15748\n",
      "train_X.shape=(15748, 5, 67), train_y.shape=(15748, 67), test_X.shape=(3937, 5, 67), test_y.shape=(3937, 67)\n",
      "n_split=40\n",
      "train_X.shape=(40, 5, 67), train_y.shape=(40, 67), test_X.shape=(10, 5, 67), test_y.shape=(10, 67)\n",
      "n_split=75\n",
      "train_X.shape=(75, 5, 67), train_y.shape=(75, 67), test_X.shape=(19, 5, 67), test_y.shape=(19, 67)\n",
      "n_split=28\n",
      "train_X.shape=(28, 5, 67), train_y.shape=(28, 67), test_X.shape=(7, 5, 67), test_y.shape=(7, 67)\n",
      "n_split=19\n",
      "train_X.shape=(19, 5, 67), train_y.shape=(19, 67), test_X.shape=(5, 5, 67), test_y.shape=(5, 67)\n",
      "Model: \"sequential_9\"\n",
      "_________________________________________________________________\n",
      " Layer (type)                Output Shape              Param #   \n",
      "=================================================================\n",
      " lstm_9 (LSTM)               (None, 50)                23600     \n",
      "                                                                 \n",
      " dense_9 (Dense)             (None, 67)                3417      \n",
      "                                                                 \n",
      "=================================================================\n",
      "Total params: 27,017\n",
      "Trainable params: 27,017\n",
      "Non-trainable params: 0\n",
      "_________________________________________________________________\n",
      "Epoch 1/10\n"
     ]
    },
    {
     "name": "stderr",
     "output_type": "stream",
     "text": [
      "2022-11-03 18:18:07.172613: W tensorflow/core/framework/cpu_allocator_impl.cc:82] Allocation of 21102320 exceeds 10% of free system memory.\n"
     ]
    },
    {
     "name": "stdout",
     "output_type": "stream",
     "text": [
      "247/247 - 2s - loss: 2.1710 - mean_absolute_error: 0.2011 - 2s/epoch - 6ms/step\n",
      "Epoch 2/10\n",
      "247/247 - 1s - loss: 2.1672 - mean_absolute_error: 0.1989 - 610ms/epoch - 2ms/step\n",
      "Epoch 3/10\n",
      "247/247 - 1s - loss: 2.1643 - mean_absolute_error: 0.1973 - 605ms/epoch - 2ms/step\n",
      "Epoch 4/10\n",
      "247/247 - 1s - loss: 2.1618 - mean_absolute_error: 0.1961 - 614ms/epoch - 2ms/step\n",
      "Epoch 5/10\n",
      "247/247 - 1s - loss: 2.1598 - mean_absolute_error: 0.1951 - 593ms/epoch - 2ms/step\n",
      "Epoch 6/10\n",
      "247/247 - 1s - loss: 2.1579 - mean_absolute_error: 0.1943 - 610ms/epoch - 2ms/step\n",
      "Epoch 7/10\n",
      "247/247 - 1s - loss: 2.1562 - mean_absolute_error: 0.1935 - 606ms/epoch - 2ms/step\n",
      "Epoch 8/10\n",
      "247/247 - 1s - loss: 2.1544 - mean_absolute_error: 0.1929 - 613ms/epoch - 2ms/step\n",
      "Epoch 9/10\n",
      "247/247 - 1s - loss: 2.1524 - mean_absolute_error: 0.1923 - 608ms/epoch - 2ms/step\n",
      "Epoch 10/10\n",
      "247/247 - 1s - loss: 2.1505 - mean_absolute_error: 0.1917 - 610ms/epoch - 2ms/step\n",
      "WARNING:tensorflow:6 out of the last 129 calls to <function Model.make_predict_function.<locals>.predict_function at 0x7f27011875b0> triggered tf.function retracing. Tracing is expensive and the excessive number of tracings could be due to (1) creating @tf.function repeatedly in a loop, (2) passing tensors with different shapes, (3) passing Python objects instead of tensors. For (1), please define your @tf.function outside of the loop. For (2), @tf.function has reduce_retracing=True option that can avoid unnecessary retracing. For (3), please refer to https://www.tensorflow.org/guide/function#controlling_retracing and https://www.tensorflow.org/api_docs/python/tf/function for  more details.\n",
      "124/124 [==============================] - 0s 1ms/step\n",
      "(3937, 67)\n",
      "Cluster 0, error=0.15966222\n",
      "Model: \"sequential_10\"\n",
      "_________________________________________________________________\n",
      " Layer (type)                Output Shape              Param #   \n",
      "=================================================================\n",
      " lstm_10 (LSTM)              (None, 50)                23600     \n",
      "                                                                 \n",
      " dense_10 (Dense)            (None, 67)                3417      \n",
      "                                                                 \n",
      "=================================================================\n",
      "Total params: 27,017\n",
      "Trainable params: 27,017\n",
      "Non-trainable params: 0\n",
      "_________________________________________________________________\n",
      "Epoch 1/10\n",
      "1/1 - 1s - loss: 612.0782 - mean_absolute_error: 2.8242 - 932ms/epoch - 932ms/step\n",
      "Epoch 2/10\n",
      "1/1 - 0s - loss: 609.2254 - mean_absolute_error: 2.8596 - 4ms/epoch - 4ms/step\n",
      "Epoch 3/10\n",
      "1/1 - 0s - loss: 607.5682 - mean_absolute_error: 2.8520 - 3ms/epoch - 3ms/step\n",
      "Epoch 4/10\n",
      "1/1 - 0s - loss: 605.8655 - mean_absolute_error: 2.8540 - 5ms/epoch - 5ms/step\n",
      "Epoch 5/10\n",
      "1/1 - 0s - loss: 604.2117 - mean_absolute_error: 2.8511 - 4ms/epoch - 4ms/step\n",
      "Epoch 6/10\n",
      "1/1 - 0s - loss: 602.5417 - mean_absolute_error: 2.8467 - 4ms/epoch - 4ms/step\n",
      "Epoch 7/10\n",
      "1/1 - 0s - loss: 600.8630 - mean_absolute_error: 2.8400 - 4ms/epoch - 4ms/step\n",
      "Epoch 8/10\n",
      "1/1 - 0s - loss: 598.7204 - mean_absolute_error: 2.8395 - 4ms/epoch - 4ms/step\n",
      "Epoch 9/10\n",
      "1/1 - 0s - loss: 597.0508 - mean_absolute_error: 2.8371 - 3ms/epoch - 3ms/step\n",
      "Epoch 10/10\n",
      "1/1 - 0s - loss: 595.6095 - mean_absolute_error: 2.8353 - 4ms/epoch - 4ms/step\n",
      "1/1 [==============================] - 0s 216ms/step\n",
      "(10, 67)\n",
      "Cluster 1, error=0.16409616\n",
      "Model: \"sequential_11\"\n",
      "_________________________________________________________________\n",
      " Layer (type)                Output Shape              Param #   \n",
      "=================================================================\n",
      " lstm_11 (LSTM)              (None, 50)                23600     \n",
      "                                                                 \n",
      " dense_11 (Dense)            (None, 67)                3417      \n",
      "                                                                 \n",
      "=================================================================\n",
      "Total params: 27,017\n",
      "Trainable params: 27,017\n",
      "Non-trainable params: 0\n",
      "_________________________________________________________________\n",
      "Epoch 1/10\n",
      "2/2 - 2s - loss: 199.5676 - mean_absolute_error: 1.3617 - 2s/epoch - 762ms/step\n",
      "Epoch 2/10\n",
      "2/2 - 0s - loss: 198.2688 - mean_absolute_error: 1.3868 - 5ms/epoch - 2ms/step\n",
      "Epoch 3/10\n",
      "2/2 - 0s - loss: 197.4880 - mean_absolute_error: 1.3949 - 7ms/epoch - 3ms/step\n",
      "Epoch 4/10\n",
      "2/2 - 0s - loss: 196.8691 - mean_absolute_error: 1.3918 - 6ms/epoch - 3ms/step\n",
      "Epoch 5/10\n",
      "2/2 - 0s - loss: 196.2357 - mean_absolute_error: 1.3911 - 7ms/epoch - 4ms/step\n",
      "Epoch 6/10\n",
      "2/2 - 0s - loss: 195.5590 - mean_absolute_error: 1.3972 - 6ms/epoch - 3ms/step\n",
      "Epoch 7/10\n",
      "2/2 - 0s - loss: 194.9746 - mean_absolute_error: 1.3978 - 6ms/epoch - 3ms/step\n",
      "Epoch 8/10\n",
      "2/2 - 0s - loss: 194.4114 - mean_absolute_error: 1.3971 - 6ms/epoch - 3ms/step\n",
      "Epoch 9/10\n",
      "2/2 - 0s - loss: 193.8385 - mean_absolute_error: 1.3964 - 7ms/epoch - 3ms/step\n",
      "Epoch 10/10\n",
      "2/2 - 0s - loss: 193.2631 - mean_absolute_error: 1.3958 - 7ms/epoch - 4ms/step\n",
      "1/1 [==============================] - 0s 219ms/step\n",
      "(19, 67)\n",
      "Cluster 2, error=0.16706215\n",
      "Model: \"sequential_12\"\n",
      "_________________________________________________________________\n",
      " Layer (type)                Output Shape              Param #   \n",
      "=================================================================\n",
      " lstm_12 (LSTM)              (None, 50)                23600     \n",
      "                                                                 \n",
      " dense_12 (Dense)            (None, 67)                3417      \n",
      "                                                                 \n",
      "=================================================================\n",
      "Total params: 27,017\n",
      "Trainable params: 27,017\n",
      "Non-trainable params: 0\n",
      "_________________________________________________________________\n",
      "Epoch 1/10\n",
      "1/1 - 1s - loss: 1872.9666 - mean_absolute_error: 5.2289 - 920ms/epoch - 920ms/step\n",
      "Epoch 2/10\n",
      "1/1 - 0s - loss: 1863.0085 - mean_absolute_error: 5.1915 - 5ms/epoch - 5ms/step\n",
      "Epoch 3/10\n",
      "1/1 - 0s - loss: 1856.8821 - mean_absolute_error: 5.1949 - 3ms/epoch - 3ms/step\n",
      "Epoch 4/10\n",
      "1/1 - 0s - loss: 1850.8600 - mean_absolute_error: 5.1863 - 3ms/epoch - 3ms/step\n",
      "Epoch 5/10\n",
      "1/1 - 0s - loss: 1844.3202 - mean_absolute_error: 5.1850 - 4ms/epoch - 4ms/step\n",
      "Epoch 6/10\n",
      "1/1 - 0s - loss: 1838.7532 - mean_absolute_error: 5.1905 - 4ms/epoch - 4ms/step\n",
      "Epoch 7/10\n",
      "1/1 - 0s - loss: 1833.9719 - mean_absolute_error: 5.2212 - 3ms/epoch - 3ms/step\n",
      "Epoch 8/10\n",
      "1/1 - 0s - loss: 1826.6375 - mean_absolute_error: 5.2181 - 3ms/epoch - 3ms/step\n",
      "Epoch 9/10\n",
      "1/1 - 0s - loss: 1818.9279 - mean_absolute_error: 5.2107 - 4ms/epoch - 4ms/step\n",
      "Epoch 10/10\n",
      "1/1 - 0s - loss: 1811.8622 - mean_absolute_error: 5.1975 - 3ms/epoch - 3ms/step\n",
      "1/1 [==============================] - 0s 210ms/step\n",
      "(7, 67)\n",
      "Cluster 3, error=0.17523411\n",
      "Model: \"sequential_13\"\n",
      "_________________________________________________________________\n",
      " Layer (type)                Output Shape              Param #   \n",
      "=================================================================\n",
      " lstm_13 (LSTM)              (None, 50)                23600     \n",
      "                                                                 \n",
      " dense_13 (Dense)            (None, 67)                3417      \n",
      "                                                                 \n",
      "=================================================================\n",
      "Total params: 27,017\n",
      "Trainable params: 27,017\n",
      "Non-trainable params: 0\n",
      "_________________________________________________________________\n",
      "Epoch 1/10\n",
      "1/1 - 1s - loss: 280.5732 - mean_absolute_error: 2.2885 - 922ms/epoch - 922ms/step\n",
      "Epoch 2/10\n",
      "1/1 - 0s - loss: 277.9204 - mean_absolute_error: 2.2520 - 4ms/epoch - 4ms/step\n",
      "Epoch 3/10\n",
      "1/1 - 0s - loss: 276.3505 - mean_absolute_error: 2.2629 - 3ms/epoch - 3ms/step\n",
      "Epoch 4/10\n",
      "1/1 - 0s - loss: 275.0499 - mean_absolute_error: 2.2604 - 3ms/epoch - 3ms/step\n",
      "Epoch 5/10\n",
      "1/1 - 0s - loss: 273.4571 - mean_absolute_error: 2.2765 - 4ms/epoch - 4ms/step\n",
      "Epoch 6/10\n",
      "1/1 - 0s - loss: 271.9780 - mean_absolute_error: 2.2831 - 3ms/epoch - 3ms/step\n",
      "Epoch 7/10\n",
      "1/1 - 0s - loss: 270.5901 - mean_absolute_error: 2.2918 - 3ms/epoch - 3ms/step\n",
      "Epoch 8/10\n",
      "1/1 - 0s - loss: 269.3246 - mean_absolute_error: 2.2861 - 4ms/epoch - 4ms/step\n",
      "Epoch 9/10\n",
      "1/1 - 0s - loss: 268.0527 - mean_absolute_error: 2.2805 - 5ms/epoch - 5ms/step\n",
      "Epoch 10/10\n",
      "1/1 - 0s - loss: 266.7878 - mean_absolute_error: 2.2747 - 3ms/epoch - 3ms/step\n",
      "1/1 [==============================] - 0s 210ms/step\n",
      "(5, 67)\n",
      "Cluster 4, error=0.17954639\n"
     ]
    }
   ],
   "source": [
    "clusters_train_X, clusters_train_y, clusters_test_X, clusters_test_y = Forecasting.create_train_test_in_clusters(dataset_windows, dataset_y, clusters_labels, N_clusters)\n",
    "mae = MeanAbsoluteError()\n",
    "for i in range(N_clusters):\n",
    "    model, history = Forecasting.learn(clusters_train_X[i], clusters_train_y[i])\n",
    "    predicted = model.predict(clusters_test_X[i])\n",
    "    print(predicted.shape)\n",
    "    error = mae(clusters_test_y[i], predicted).numpy()\n",
    "    print(f\"Cluster {i}, {error=}\")\n"
   ]
  },
  {
   "cell_type": "markdown",
   "metadata": {},
   "source": [
    "Данные https://machinelearningmastery.com/multivariate-time-series-forecasting-lstms-keras/\n"
   ]
  },
  {
   "cell_type": "code",
   "execution_count": 111,
   "metadata": {},
   "outputs": [
    {
     "name": "stdout",
     "output_type": "stream",
     "text": [
      "   pollution  dew  temp   press  wnd_spd  snow  rain\n",
      "0      129.0  -16  -4.0  1020.0     1.79     0     0\n",
      "1      148.0  -15  -4.0  1020.0     2.68     0     0\n",
      "2      159.0  -11  -5.0  1021.0     3.57     0     0\n",
      "3      181.0   -7  -5.0  1022.0     5.36     1     0\n",
      "4      138.0   -7  -5.0  1022.0     6.25     2     0\n"
     ]
    }
   ],
   "source": [
    "dataset = pd.read_csv('../../materials/pollution.csv')\n",
    "# dataset.drop(columns=[\"date\"], inplace=True)\n",
    "print(dataset.head(5))\n",
    "dataset.to_csv('../../materials/pollution.csv', index=False)"
   ]
  },
  {
   "cell_type": "code",
   "execution_count": 156,
   "metadata": {},
   "outputs": [],
   "source": [
    "dataset = pd.read_csv('../../materials/pollution.csv')\n"
   ]
  },
  {
   "cell_type": "code",
   "execution_count": 158,
   "metadata": {},
   "outputs": [],
   "source": [
    "dataset = preprocess(dataset)"
   ]
  },
  {
   "cell_type": "code",
   "execution_count": 159,
   "metadata": {},
   "outputs": [
    {
     "data": {
      "text/plain": [
       "<bound method DataFrame.info of       pollution       dew      temp     press   wnd_spd      snow      rain\n",
       "0     -1.520064  0.184166 -0.046135  0.119682  0.312674  0.036773 -0.000075\n",
       "1      1.584399 -0.036923  0.027561  0.092046  0.621923 -0.055347 -0.000075\n",
       "2      0.313135 -0.018499 -0.000075  0.045985  0.720400 -0.009287 -0.000075\n",
       "3     -0.976553  0.045985 -0.027711  0.036773  0.572639  0.092046 -0.000075\n",
       "4     -3.307203 -0.036923 -0.064559 -0.110620  0.778160  0.230227 -0.000075\n",
       "...         ...       ...       ...       ...       ...       ...       ...\n",
       "8754  -0.939705 -0.258012 -0.211952  0.248651  2.107736 -0.000075 -0.000075\n",
       "8755  -0.230376 -0.129044 -0.138256  0.202590  2.977169 -0.000075 -0.000075\n",
       "8756   0.128894 -0.073771  0.110470  0.064410  2.075033 -0.000075 -0.000075\n",
       "8757  -0.073771 -0.046135  0.055197 -0.046135  1.930864 -0.000075 -0.000075\n",
       "8758   0.009137  0.092046 -0.129044  0.073622  1.346451 -0.000075 -0.000075\n",
       "\n",
       "[8759 rows x 7 columns]>"
      ]
     },
     "execution_count": 159,
     "metadata": {},
     "output_type": "execute_result"
    }
   ],
   "source": [
    "dataset.info"
   ]
  },
  {
   "cell_type": "code",
   "execution_count": 160,
   "metadata": {},
   "outputs": [
    {
     "data": {
      "text/html": [
       "<div>\n",
       "<style scoped>\n",
       "    .dataframe tbody tr th:only-of-type {\n",
       "        vertical-align: middle;\n",
       "    }\n",
       "\n",
       "    .dataframe tbody tr th {\n",
       "        vertical-align: top;\n",
       "    }\n",
       "\n",
       "    .dataframe thead th {\n",
       "        text-align: right;\n",
       "    }\n",
       "</style>\n",
       "<table border=\"1\" class=\"dataframe\">\n",
       "  <thead>\n",
       "    <tr style=\"text-align: right;\">\n",
       "      <th></th>\n",
       "      <th>pollution</th>\n",
       "      <th>dew</th>\n",
       "      <th>temp</th>\n",
       "      <th>press</th>\n",
       "      <th>wnd_spd</th>\n",
       "      <th>snow</th>\n",
       "      <th>rain</th>\n",
       "    </tr>\n",
       "  </thead>\n",
       "  <tbody>\n",
       "    <tr>\n",
       "      <th>0</th>\n",
       "      <td>-1.520064</td>\n",
       "      <td>0.184166</td>\n",
       "      <td>-0.046135</td>\n",
       "      <td>0.119682</td>\n",
       "      <td>0.312674</td>\n",
       "      <td>0.036773</td>\n",
       "      <td>-0.000075</td>\n",
       "    </tr>\n",
       "    <tr>\n",
       "      <th>1</th>\n",
       "      <td>1.584399</td>\n",
       "      <td>-0.036923</td>\n",
       "      <td>0.027561</td>\n",
       "      <td>0.092046</td>\n",
       "      <td>0.621923</td>\n",
       "      <td>-0.055347</td>\n",
       "      <td>-0.000075</td>\n",
       "    </tr>\n",
       "    <tr>\n",
       "      <th>2</th>\n",
       "      <td>0.313135</td>\n",
       "      <td>-0.018499</td>\n",
       "      <td>-0.000075</td>\n",
       "      <td>0.045985</td>\n",
       "      <td>0.720400</td>\n",
       "      <td>-0.009287</td>\n",
       "      <td>-0.000075</td>\n",
       "    </tr>\n",
       "    <tr>\n",
       "      <th>3</th>\n",
       "      <td>-0.976553</td>\n",
       "      <td>0.045985</td>\n",
       "      <td>-0.027711</td>\n",
       "      <td>0.036773</td>\n",
       "      <td>0.572639</td>\n",
       "      <td>0.092046</td>\n",
       "      <td>-0.000075</td>\n",
       "    </tr>\n",
       "    <tr>\n",
       "      <th>4</th>\n",
       "      <td>-3.307203</td>\n",
       "      <td>-0.036923</td>\n",
       "      <td>-0.064559</td>\n",
       "      <td>-0.110620</td>\n",
       "      <td>0.778160</td>\n",
       "      <td>0.230227</td>\n",
       "      <td>-0.000075</td>\n",
       "    </tr>\n",
       "  </tbody>\n",
       "</table>\n",
       "</div>"
      ],
      "text/plain": [
       "   pollution       dew      temp     press   wnd_spd      snow      rain\n",
       "0  -1.520064  0.184166 -0.046135  0.119682  0.312674  0.036773 -0.000075\n",
       "1   1.584399 -0.036923  0.027561  0.092046  0.621923 -0.055347 -0.000075\n",
       "2   0.313135 -0.018499 -0.000075  0.045985  0.720400 -0.009287 -0.000075\n",
       "3  -0.976553  0.045985 -0.027711  0.036773  0.572639  0.092046 -0.000075\n",
       "4  -3.307203 -0.036923 -0.064559 -0.110620  0.778160  0.230227 -0.000075"
      ]
     },
     "execution_count": 160,
     "metadata": {},
     "output_type": "execute_result"
    }
   ],
   "source": [
    "dataset.head()"
   ]
  },
  {
   "cell_type": "code",
   "execution_count": 113,
   "metadata": {},
   "outputs": [],
   "source": [
    "from tslearn.clustering import TimeSeriesKMeans\n"
   ]
  },
  {
   "cell_type": "code",
   "execution_count": 114,
   "metadata": {},
   "outputs": [],
   "source": [
    "model = TimeSeriesKMeans(n_clusters=3, metric=\"dtw\", max_iter=50)\n",
    "# model.fit_predict(dataset)"
   ]
  },
  {
   "cell_type": "code",
   "execution_count": 232,
   "metadata": {},
   "outputs": [],
   "source": [
    "from sklearn.cluster import KMeans\n",
    "\n",
    "def KMeans_for_windows(dataset, window_size=5, N_clusters=8):\n",
    "    if isinstance(dataset, pd.DataFrame):\n",
    "        dataset = dataset.to_numpy()\n",
    "    if len(dataset.shape) < 3:\n",
    "        windows = np.array([dataset[i:i+W].flatten() for i in range(dataset.shape[0] - W)])\n",
    "    else:\n",
    "        windows = np.array([dataset[i].flatten() for i in range(dataset.shape[0])])\n",
    "    N_clusters = 7\n",
    "    model = KMeans(n_clusters=N_clusters, max_iter=200)\n",
    "    res = model.fit_predict(windows)\n",
    "    return res\n",
    "\n"
   ]
  },
  {
   "cell_type": "code",
   "execution_count": 176,
   "metadata": {},
   "outputs": [],
   "source": [
    "N_clusters = 5\n",
    "res = KMeans_for_windows(dataset, N_clusters=N_clusters)"
   ]
  },
  {
   "cell_type": "code",
   "execution_count": null,
   "metadata": {},
   "outputs": [],
   "source": [
    "# clusters_train_X = [train_X for k in range(N_clusters)]"
   ]
  },
  {
   "cell_type": "code",
   "execution_count": null,
   "metadata": {},
   "outputs": [],
   "source": []
  },
  {
   "cell_type": "code",
   "execution_count": 177,
   "metadata": {},
   "outputs": [],
   "source": [
    "from collections import defaultdict\n",
    "def calc_RLE(lst):\n",
    "\tcnt = defaultdict(lambda: [])\n",
    "\ti = 0\n",
    "\twhile i < len(lst):\n",
    "\t\ttmp = 0\n",
    "\t\tfor j in range(i, len(lst)):\n",
    "\t\t\tif lst[j] != lst[i]:\n",
    "\t\t\t\tcnt[lst[i]].append(j - i)\n",
    "\t\t\t\tbreak\n",
    "\t\t\ttmp += 1\n",
    "\t\t\tj += 1\n",
    "\t\telse:\n",
    "\t\t\tcnt[lst[i]].append(j - i)\n",
    "\t\ti = j\n",
    "\treturn cnt\n"
   ]
  },
  {
   "cell_type": "code",
   "execution_count": 178,
   "metadata": {},
   "outputs": [
    {
     "data": {
      "image/png": "[encoded data removed]",
      "text/plain": [
       "<Figure size 640x480 with 1 Axes>"
      ]
     },
     "metadata": {},
     "output_type": "display_data"
    },
    {
     "data": {
      "image/png": "[encoded data removed]",
      "text/plain": [
       "<Figure size 640x480 with 1 Axes>"
      ]
     },
     "metadata": {},
     "output_type": "display_data"
    },
    {
     "data": {
      "image/png": "[encoded data removed]",
      "text/plain": [
       "<Figure size 640x480 with 1 Axes>"
      ]
     },
     "metadata": {},
     "output_type": "display_data"
    },
    {
     "data": {
      "image/png": "[encoded data removed]",
      "text/plain": [
       "<Figure size 640x480 with 1 Axes>"
      ]
     },
     "metadata": {},
     "output_type": "display_data"
    },
    {
     "data": {
      "image/png": "[encoded data removed]",
      "text/plain": [
       "<Figure size 640x480 with 1 Axes>"
      ]
     },
     "metadata": {},
     "output_type": "display_data"
    }
   ],
   "source": [
    "sections_for_clusters = calc_RLE(res)\n",
    "for i in range(N_clusters):\n",
    "    plt.hist(sections_for_clusters[i])\n",
    "    plt.xlabel(f\"Длина непрерывного отрезка из элементов {i} класса\".format())\n",
    "    plt.ylabel(\"Количество отрезков такой длины\")\n",
    "    plt.show()\n",
    "# plt.legend()"
   ]
  },
  {
   "cell_type": "code",
   "execution_count": null,
   "metadata": {},
   "outputs": [],
   "source": []
  },
  {
   "cell_type": "code",
   "execution_count": 30,
   "metadata": {},
   "outputs": [],
   "source": [
    "columns = dataset.columns"
   ]
  },
  {
   "cell_type": "code",
   "execution_count": 113,
   "metadata": {},
   "outputs": [
    {
     "name": "stdout",
     "output_type": "stream",
     "text": [
      "(43800, 7)\n",
      "n_split=35040\n",
      "train_X.shape=(35035, 7, 5), train_y.shape=(35035, 7), test_X.shape=(8745, 7, 5), test_y.shape=(8745, 7)\n"
     ]
    }
   ],
   "source": [
    "train_X, train_y, test_X, test_y = split_to_train_and_test(dataset)\n"
   ]
  },
  {
   "cell_type": "code",
   "execution_count": 114,
   "metadata": {},
   "outputs": [
    {
     "name": "stdout",
     "output_type": "stream",
     "text": [
      "Model: \"sequential_13\"\n",
      "_________________________________________________________________\n",
      " Layer (type)                Output Shape              Param #   \n",
      "=================================================================\n",
      " lstm_13 (LSTM)              (None, 7, 50)             11200     \n",
      "                                                                 \n",
      " dense_9 (Dense)             (None, 7, 1)              51        \n",
      "                                                                 \n",
      "=================================================================\n",
      "Total params: 11,251\n",
      "Trainable params: 11,251\n",
      "Non-trainable params: 0\n",
      "_________________________________________________________________\n",
      "Epoch 1/10\n",
      "487/487 - 5s - loss: 161.0285 - val_loss: 156.8850 - 5s/epoch - 9ms/step\n",
      "Epoch 2/10\n",
      "487/487 - 3s - loss: 154.3784 - val_loss: 151.9624 - 3s/epoch - 5ms/step\n",
      "Epoch 3/10\n",
      "487/487 - 3s - loss: 150.1037 - val_loss: 148.0692 - 3s/epoch - 5ms/step\n",
      "Epoch 4/10\n",
      "487/487 - 3s - loss: 146.3915 - val_loss: 144.5203 - 3s/epoch - 5ms/step\n",
      "Epoch 5/10\n",
      "487/487 - 3s - loss: 142.8954 - val_loss: 141.1337 - 3s/epoch - 5ms/step\n",
      "Epoch 6/10\n",
      "487/487 - 2s - loss: 139.5414 - val_loss: 137.8503 - 2s/epoch - 5ms/step\n",
      "Epoch 7/10\n",
      "487/487 - 3s - loss: 136.2988 - val_loss: 134.7144 - 3s/epoch - 5ms/step\n",
      "Epoch 8/10\n",
      "487/487 - 3s - loss: 133.1712 - val_loss: 131.6712 - 3s/epoch - 5ms/step\n",
      "Epoch 9/10\n",
      "487/487 - 3s - loss: 130.1853 - val_loss: 128.7005 - 3s/epoch - 5ms/step\n",
      "Epoch 10/10\n",
      "487/487 - 2s - loss: 127.2348 - val_loss: 125.9105 - 2s/epoch - 5ms/step\n"
     ]
    }
   ],
   "source": [
    "model, history = learn(train_X, train_y, test_X, test_y)"
   ]
  },
  {
   "cell_type": "code",
   "execution_count": 118,
   "metadata": {},
   "outputs": [
    {
     "name": "stdout",
     "output_type": "stream",
     "text": [
      "274/274 [==============================] - 1s 2ms/step\n",
      "(8745, 7, 1)\n"
     ]
    }
   ],
   "source": [
    "predicted = model.predict(test_X)\n",
    "print(predicted.shape)"
   ]
  },
  {
   "cell_type": "code",
   "execution_count": 119,
   "metadata": {},
   "outputs": [
    {
     "data": {
      "text/plain": [
       "[<matplotlib.lines.Line2D at 0x7f42c82a1db0>]"
      ]
     },
     "execution_count": 119,
     "metadata": {},
     "output_type": "execute_result"
    },
    {
     "data": {
      "image/png": "[encoded data removed]",
      "text/plain": [
       "<Figure size 640x480 with 1 Axes>"
      ]
     },
     "metadata": {},
     "output_type": "display_data"
    }
   ],
   "source": [
    "plt.plot(history.history['loss'], label='train')\n"
   ]
  },
  {
   "cell_type": "code",
   "execution_count": 127,
   "metadata": {},
   "outputs": [
    {
     "name": "stdout",
     "output_type": "stream",
     "text": [
      "predicted_values.shape=(100, 7, 1)\n"
     ]
    },
    {
     "data": {
      "text/plain": [
       "<Figure size 640x480 with 0 Axes>"
      ]
     },
     "metadata": {},
     "output_type": "display_data"
    }
   ],
   "source": [
    "\n",
    "predicted_values = predicted[100:200, ...]\n",
    "print(f\"{predicted_values.shape=}\")\n",
    "\n",
    "for i in range(predicted_values.shape[1]):\n",
    "    plt.plot(predicted_values[:, i, 0], color=\"red\", label=\"prediction\")\n",
    "    plt.plot(test_y[100:200, i], color=\"green\", label=\"origin\")\n",
    "    plt.xlabel(\"Time\")\n",
    "    plt.ylabel(str(columns[i]))\n",
    "    plt.legend()\n",
    "    plt.savefig(\"plots/smallDataSet/\" + str(i) + \" \" + str(columns[i]) + '.png')\n",
    "    # plt.show()\n",
    "    plt.clf()"
   ]
  },
  {
   "cell_type": "code",
   "execution_count": 16,
   "metadata": {},
   "outputs": [],
   "source": [
    "data1 = pd.read_csv(\"MiningProcess_Flotation_Plant_Database.csv\")"
   ]
  },
  {
   "cell_type": "code",
   "execution_count": null,
   "metadata": {},
   "outputs": [],
   "source": []
  },
  {
   "cell_type": "code",
   "execution_count": null,
   "metadata": {},
   "outputs": [],
   "source": []
  },
  {
   "cell_type": "code",
   "execution_count": 17,
   "metadata": {},
   "outputs": [
    {
     "data": {
      "text/html": [
       "<div>\n",
       "<style scoped>\n",
       "    .dataframe tbody tr th:only-of-type {\n",
       "        vertical-align: middle;\n",
       "    }\n",
       "\n",
       "    .dataframe tbody tr th {\n",
       "        vertical-align: top;\n",
       "    }\n",
       "\n",
       "    .dataframe thead th {\n",
       "        text-align: right;\n",
       "    }\n",
       "</style>\n",
       "<table border=\"1\" class=\"dataframe\">\n",
       "  <thead>\n",
       "    <tr style=\"text-align: right;\">\n",
       "      <th></th>\n",
       "      <th>date</th>\n",
       "      <th>% Iron Feed</th>\n",
       "      <th>% Silica Feed</th>\n",
       "      <th>Starch Flow</th>\n",
       "      <th>Amina Flow</th>\n",
       "      <th>Ore Pulp Flow</th>\n",
       "      <th>Ore Pulp pH</th>\n",
       "      <th>Ore Pulp Density</th>\n",
       "      <th>Flotation Column 01 Air Flow</th>\n",
       "      <th>Flotation Column 02 Air Flow</th>\n",
       "      <th>...</th>\n",
       "      <th>Flotation Column 07 Air Flow</th>\n",
       "      <th>Flotation Column 01 Level</th>\n",
       "      <th>Flotation Column 02 Level</th>\n",
       "      <th>Flotation Column 03 Level</th>\n",
       "      <th>Flotation Column 04 Level</th>\n",
       "      <th>Flotation Column 05 Level</th>\n",
       "      <th>Flotation Column 06 Level</th>\n",
       "      <th>Flotation Column 07 Level</th>\n",
       "      <th>% Iron Concentrate</th>\n",
       "      <th>% Silica Concentrate</th>\n",
       "    </tr>\n",
       "  </thead>\n",
       "  <tbody>\n",
       "    <tr>\n",
       "      <th>0</th>\n",
       "      <td>2017-03-10 01:00:00</td>\n",
       "      <td>55,2</td>\n",
       "      <td>16,98</td>\n",
       "      <td>3019,53</td>\n",
       "      <td>557,434</td>\n",
       "      <td>395,713</td>\n",
       "      <td>10,0664</td>\n",
       "      <td>1,74</td>\n",
       "      <td>249,214</td>\n",
       "      <td>253,235</td>\n",
       "      <td>...</td>\n",
       "      <td>250,884</td>\n",
       "      <td>457,396</td>\n",
       "      <td>432,962</td>\n",
       "      <td>424,954</td>\n",
       "      <td>443,558</td>\n",
       "      <td>502,255</td>\n",
       "      <td>446,37</td>\n",
       "      <td>523,344</td>\n",
       "      <td>66,91</td>\n",
       "      <td>1,31</td>\n",
       "    </tr>\n",
       "    <tr>\n",
       "      <th>1</th>\n",
       "      <td>2017-03-10 01:00:00</td>\n",
       "      <td>55,2</td>\n",
       "      <td>16,98</td>\n",
       "      <td>3024,41</td>\n",
       "      <td>563,965</td>\n",
       "      <td>397,383</td>\n",
       "      <td>10,0672</td>\n",
       "      <td>1,74</td>\n",
       "      <td>249,719</td>\n",
       "      <td>250,532</td>\n",
       "      <td>...</td>\n",
       "      <td>248,994</td>\n",
       "      <td>451,891</td>\n",
       "      <td>429,56</td>\n",
       "      <td>432,939</td>\n",
       "      <td>448,086</td>\n",
       "      <td>496,363</td>\n",
       "      <td>445,922</td>\n",
       "      <td>498,075</td>\n",
       "      <td>66,91</td>\n",
       "      <td>1,31</td>\n",
       "    </tr>\n",
       "    <tr>\n",
       "      <th>2</th>\n",
       "      <td>2017-03-10 01:00:00</td>\n",
       "      <td>55,2</td>\n",
       "      <td>16,98</td>\n",
       "      <td>3043,46</td>\n",
       "      <td>568,054</td>\n",
       "      <td>399,668</td>\n",
       "      <td>10,068</td>\n",
       "      <td>1,74</td>\n",
       "      <td>249,741</td>\n",
       "      <td>247,874</td>\n",
       "      <td>...</td>\n",
       "      <td>248,071</td>\n",
       "      <td>451,24</td>\n",
       "      <td>468,927</td>\n",
       "      <td>434,61</td>\n",
       "      <td>449,688</td>\n",
       "      <td>484,411</td>\n",
       "      <td>447,826</td>\n",
       "      <td>458,567</td>\n",
       "      <td>66,91</td>\n",
       "      <td>1,31</td>\n",
       "    </tr>\n",
       "    <tr>\n",
       "      <th>3</th>\n",
       "      <td>2017-03-10 01:00:00</td>\n",
       "      <td>55,2</td>\n",
       "      <td>16,98</td>\n",
       "      <td>3047,36</td>\n",
       "      <td>568,665</td>\n",
       "      <td>397,939</td>\n",
       "      <td>10,0689</td>\n",
       "      <td>1,74</td>\n",
       "      <td>249,917</td>\n",
       "      <td>254,487</td>\n",
       "      <td>...</td>\n",
       "      <td>251,147</td>\n",
       "      <td>452,441</td>\n",
       "      <td>458,165</td>\n",
       "      <td>442,865</td>\n",
       "      <td>446,21</td>\n",
       "      <td>471,411</td>\n",
       "      <td>437,69</td>\n",
       "      <td>427,669</td>\n",
       "      <td>66,91</td>\n",
       "      <td>1,31</td>\n",
       "    </tr>\n",
       "    <tr>\n",
       "      <th>4</th>\n",
       "      <td>2017-03-10 01:00:00</td>\n",
       "      <td>55,2</td>\n",
       "      <td>16,98</td>\n",
       "      <td>3033,69</td>\n",
       "      <td>558,167</td>\n",
       "      <td>400,254</td>\n",
       "      <td>10,0697</td>\n",
       "      <td>1,74</td>\n",
       "      <td>250,203</td>\n",
       "      <td>252,136</td>\n",
       "      <td>...</td>\n",
       "      <td>248,928</td>\n",
       "      <td>452,441</td>\n",
       "      <td>452,9</td>\n",
       "      <td>450,523</td>\n",
       "      <td>453,67</td>\n",
       "      <td>462,598</td>\n",
       "      <td>443,682</td>\n",
       "      <td>425,679</td>\n",
       "      <td>66,91</td>\n",
       "      <td>1,31</td>\n",
       "    </tr>\n",
       "  </tbody>\n",
       "</table>\n",
       "<p>5 rows × 24 columns</p>\n",
       "</div>"
      ],
      "text/plain": [
       "                  date % Iron Feed % Silica Feed Starch Flow Amina Flow  \\\n",
       "0  2017-03-10 01:00:00        55,2         16,98     3019,53    557,434   \n",
       "1  2017-03-10 01:00:00        55,2         16,98     3024,41    563,965   \n",
       "2  2017-03-10 01:00:00        55,2         16,98     3043,46    568,054   \n",
       "3  2017-03-10 01:00:00        55,2         16,98     3047,36    568,665   \n",
       "4  2017-03-10 01:00:00        55,2         16,98     3033,69    558,167   \n",
       "\n",
       "  Ore Pulp Flow Ore Pulp pH Ore Pulp Density Flotation Column 01 Air Flow  \\\n",
       "0       395,713     10,0664             1,74                      249,214   \n",
       "1       397,383     10,0672             1,74                      249,719   \n",
       "2       399,668      10,068             1,74                      249,741   \n",
       "3       397,939     10,0689             1,74                      249,917   \n",
       "4       400,254     10,0697             1,74                      250,203   \n",
       "\n",
       "  Flotation Column 02 Air Flow  ... Flotation Column 07 Air Flow  \\\n",
       "0                      253,235  ...                      250,884   \n",
       "1                      250,532  ...                      248,994   \n",
       "2                      247,874  ...                      248,071   \n",
       "3                      254,487  ...                      251,147   \n",
       "4                      252,136  ...                      248,928   \n",
       "\n",
       "  Flotation Column 01 Level Flotation Column 02 Level  \\\n",
       "0                   457,396                   432,962   \n",
       "1                   451,891                    429,56   \n",
       "2                    451,24                   468,927   \n",
       "3                   452,441                   458,165   \n",
       "4                   452,441                     452,9   \n",
       "\n",
       "  Flotation Column 03 Level Flotation Column 04 Level  \\\n",
       "0                   424,954                   443,558   \n",
       "1                   432,939                   448,086   \n",
       "2                    434,61                   449,688   \n",
       "3                   442,865                    446,21   \n",
       "4                   450,523                    453,67   \n",
       "\n",
       "  Flotation Column 05 Level Flotation Column 06 Level  \\\n",
       "0                   502,255                    446,37   \n",
       "1                   496,363                   445,922   \n",
       "2                   484,411                   447,826   \n",
       "3                   471,411                    437,69   \n",
       "4                   462,598                   443,682   \n",
       "\n",
       "  Flotation Column 07 Level % Iron Concentrate % Silica Concentrate  \n",
       "0                   523,344              66,91                 1,31  \n",
       "1                   498,075              66,91                 1,31  \n",
       "2                   458,567              66,91                 1,31  \n",
       "3                   427,669              66,91                 1,31  \n",
       "4                   425,679              66,91                 1,31  \n",
       "\n",
       "[5 rows x 24 columns]"
      ]
     },
     "execution_count": 17,
     "metadata": {},
     "output_type": "execute_result"
    }
   ],
   "source": [
    "data1.head()"
   ]
  },
  {
   "cell_type": "code",
   "execution_count": 18,
   "metadata": {},
   "outputs": [
    {
     "name": "stderr",
     "output_type": "stream",
     "text": [
      "/tmp/ipykernel_426808/3816599972.py:2: FutureWarning: Dropping invalid columns in DataFrameGroupBy.mean is deprecated. In a future version, a TypeError will be raised. Before calling .mean, select only columns which should be valid for the function.\n",
      "  df = df.groupby(df.index //5).mean() #усреднение\n",
      "/home/anna/.local/lib/python3.10/site-packages/numpy/core/_methods.py:265: RuntimeWarning: Degrees of freedom <= 0 for slice\n",
      "  ret = _var(a, axis=axis, dtype=dtype, out=out, ddof=ddof,\n",
      "/home/anna/.local/lib/python3.10/site-packages/numpy/core/_methods.py:223: RuntimeWarning: invalid value encountered in divide\n",
      "  arrmean = um.true_divide(arrmean, div, out=arrmean, casting='unsafe',\n",
      "/home/anna/.local/lib/python3.10/site-packages/numpy/core/_methods.py:257: RuntimeWarning: invalid value encountered in double_scalars\n",
      "  ret = ret.dtype.type(ret / rcount)\n"
     ]
    }
   ],
   "source": [
    "data2 = preprocess(data1)"
   ]
  },
  {
   "cell_type": "code",
   "execution_count": 15,
   "metadata": {},
   "outputs": [
    {
     "data": {
      "text/html": [
       "<div>\n",
       "<style scoped>\n",
       "    .dataframe tbody tr th:only-of-type {\n",
       "        vertical-align: middle;\n",
       "    }\n",
       "\n",
       "    .dataframe tbody tr th {\n",
       "        vertical-align: top;\n",
       "    }\n",
       "\n",
       "    .dataframe thead th {\n",
       "        text-align: right;\n",
       "    }\n",
       "</style>\n",
       "<table border=\"1\" class=\"dataframe\">\n",
       "  <thead>\n",
       "    <tr style=\"text-align: right;\">\n",
       "      <th></th>\n",
       "    </tr>\n",
       "  </thead>\n",
       "  <tbody>\n",
       "    <tr>\n",
       "      <th>0</th>\n",
       "    </tr>\n",
       "    <tr>\n",
       "      <th>1</th>\n",
       "    </tr>\n",
       "    <tr>\n",
       "      <th>2</th>\n",
       "    </tr>\n",
       "    <tr>\n",
       "      <th>3</th>\n",
       "    </tr>\n",
       "    <tr>\n",
       "      <th>4</th>\n",
       "    </tr>\n",
       "  </tbody>\n",
       "</table>\n",
       "</div>"
      ],
      "text/plain": [
       "Empty DataFrame\n",
       "Columns: []\n",
       "Index: [0, 1, 2, 3, 4]"
      ]
     },
     "execution_count": 15,
     "metadata": {},
     "output_type": "execute_result"
    }
   ],
   "source": [
    "data2.head()"
   ]
  },
  {
   "cell_type": "code",
   "execution_count": 45,
   "metadata": {},
   "outputs": [
    {
     "ename": "SyntaxError",
     "evalue": "invalid syntax (3787536431.py, line 1)",
     "output_type": "error",
     "traceback": [
      "\u001b[0;36m  Input \u001b[0;32mIn [45]\u001b[0;36m\u001b[0m\n\u001b[0;31m    309600 64\u001b[0m\n\u001b[0m           ^\u001b[0m\n\u001b[0;31mSyntaxError\u001b[0m\u001b[0;31m:\u001b[0m invalid syntax\n"
     ]
    }
   ],
   "source": [
    "309600 64\n",
    "241200 64\n",
    "216001 84\n",
    "226801 84\n",
    "93601 88\n",
    "201600 88\n",
    "126000 88\n",
    "237600 88\n",
    "259200"
   ]
  },
  {
   "cell_type": "code",
   "execution_count": null,
   "metadata": {},
   "outputs": [],
   "source": []
  }
 ],
 "metadata": {
  "kernelspec": {
   "display_name": "Python 3.10.6 64-bit",
   "language": "python",
   "name": "python3"
  },
  "language_info": {
   "codemirror_mode": {
    "name": "ipython",
    "version": 3
   },
   "file_extension": ".py",
   "mimetype": "text/x-python",
   "name": "python",
   "nbconvert_exporter": "python",
   "pygments_lexer": "ipython3",
   "version": "3.10.6"
  },
  "orig_nbformat": 4,
  "vscode": {
   "interpreter": {
    "hash": "916dbcbb3f70747c44a77c7bcd40155683ae19c65e1c03b4aa3499c5328201f1"
   }
  }
 },
 "nbformat": 4,
 "nbformat_minor": 2
}
