{
 "cells": [
  {
   "cell_type": "code",
   "execution_count": 1,
   "metadata": {},
   "outputs": [],
   "source": [
    "%load_ext autoreload\n",
    "%autoreload 2\n",
    "import os\n",
    "os.environ[\"CUDA_VISIBLE_DEVICES\"] = '1'"
   ]
  },
  {
   "cell_type": "code",
   "execution_count": 2,
   "metadata": {},
   "outputs": [
    {
     "data": {
      "text/plain": [
       "':/home/grinenko/anaconda3/envs/anna/lib/'"
      ]
     },
     "execution_count": 2,
     "metadata": {},
     "output_type": "execute_result"
    }
   ],
   "source": [
    "import os\n",
    "os.environ[\"LD_LIBRARY_PATH\"]"
   ]
  },
  {
   "cell_type": "code",
   "execution_count": null,
   "metadata": {
    "scrolled": true
   },
   "outputs": [],
   "source": []
  },
  {
   "cell_type": "code",
   "execution_count": 3,
   "metadata": {},
   "outputs": [
    {
     "name": "stderr",
     "output_type": "stream",
     "text": [
      "2023-12-21 07:51:13.541279: I tensorflow/core/platform/cpu_feature_guard.cc:193] This TensorFlow binary is optimized with oneAPI Deep Neural Network Library (oneDNN) to use the following CPU instructions in performance-critical operations:  SSE4.1 SSE4.2 AVX AVX2 FMA\n",
      "To enable them in other operations, rebuild TensorFlow with the appropriate compiler flags.\n"
     ]
    }
   ],
   "source": [
    "import pandas as pd\n",
    "import numpy as np\n",
    "import matplotlib.pyplot as plt\n",
    "import pickle\n",
    "from collections import defaultdict\n",
    "import json\n",
    "import tensorflow as tf\n",
    "import keras"
   ]
  },
  {
   "cell_type": "code",
   "execution_count": 4,
   "metadata": {},
   "outputs": [],
   "source": [
    "W=10"
   ]
  },
  {
   "cell_type": "code",
   "execution_count": 5,
   "metadata": {},
   "outputs": [],
   "source": [
    "import Clustering"
   ]
  },
  {
   "cell_type": "code",
   "execution_count": 6,
   "metadata": {},
   "outputs": [
    {
     "name": "stderr",
     "output_type": "stream",
     "text": [
      "2023-12-21 07:51:16.289406: I tensorflow/core/platform/cpu_feature_guard.cc:193] This TensorFlow binary is optimized with oneAPI Deep Neural Network Library (oneDNN) to use the following CPU instructions in performance-critical operations:  SSE4.1 SSE4.2 AVX AVX2 FMA\n",
      "To enable them in other operations, rebuild TensorFlow with the appropriate compiler flags.\n",
      "2023-12-21 07:51:16.294265: I tensorflow/core/common_runtime/process_util.cc:146] Creating new thread pool with default inter op setting: 2. Tune using inter_op_parallelism_threads for best performance.\n"
     ]
    },
    {
     "name": "stdout",
     "output_type": "stream",
     "text": [
      "WARNING:tensorflow:From /home/grinenko/anna/time_series/Forecasting.py:28: The name tf.keras.backend.set_session is deprecated. Please use tf.compat.v1.keras.backend.set_session instead.\n",
      "\n"
     ]
    }
   ],
   "source": [
    "import Forecasting"
   ]
  },
  {
   "cell_type": "code",
   "execution_count": 7,
   "metadata": {},
   "outputs": [
    {
     "data": {
      "text/plain": [
       "[name: \"/device:CPU:0\"\n",
       " device_type: \"CPU\"\n",
       " memory_limit: 268435456\n",
       " locality {\n",
       " }\n",
       " incarnation: 13624624651670086338\n",
       " xla_global_id: -1]"
      ]
     },
     "execution_count": 7,
     "metadata": {},
     "output_type": "execute_result"
    }
   ],
   "source": [
    "from tensorflow.python.client import device_lib \n",
    "device_lib.list_local_devices() "
   ]
  },
  {
   "cell_type": "code",
   "execution_count": null,
   "metadata": {
    "scrolled": true
   },
   "outputs": [],
   "source": [
    "# import importlib\n",
    "# import Clustering, Forecasting\n",
    "# importlib.reload(Clustering)\n",
    "# importlib.reload(Forecasting)"
   ]
  },
  {
   "cell_type": "code",
   "execution_count": null,
   "metadata": {},
   "outputs": [],
   "source": [
    "# import tensorflow.compat.v1 as tf"
   ]
  },
  {
   "cell_type": "code",
   "execution_count": null,
   "metadata": {},
   "outputs": [],
   "source": [
    "from keras import backend as K\n",
    "K.tensorflow_backend._get_available_gpus()"
   ]
  },
  {
   "cell_type": "code",
   "execution_count": 8,
   "metadata": {},
   "outputs": [],
   "source": [
    "data = pd.read_csv(\"DataSet2.csv\", sep=\";\")#, parse_dates=['Timestamp']) #, nrows=10)"
   ]
  },
  {
   "cell_type": "code",
   "execution_count": 9,
   "metadata": {},
   "outputs": [],
   "source": [
    "columns = data.columns"
   ]
  },
  {
   "cell_type": "code",
   "execution_count": null,
   "metadata": {},
   "outputs": [],
   "source": [
    "columns\n",
    "#CV, DV"
   ]
  },
  {
   "cell_type": "code",
   "execution_count": 10,
   "metadata": {},
   "outputs": [],
   "source": [
    "metafile = open(\"DataSet2_fix.json\")\n",
    "metafile = json.load(metafile)"
   ]
  },
  {
   "cell_type": "code",
   "execution_count": 11,
   "metadata": {},
   "outputs": [
    {
     "data": {
      "text/plain": [
       "['percent_01_LAB',\n",
       " 'percent_04_LAB',\n",
       " 'quality_01_LAB',\n",
       " 'pressure_01_LAB',\n",
       " 'consumption_04',\n",
       " 'consumption_07',\n",
       " 'percent_13',\n",
       " 'percent_05',\n",
       " 'pressure_06',\n",
       " 'pressure_03',\n",
       " 'pressure_08',\n",
       " 'percent_12',\n",
       " 'pressure_05',\n",
       " 'percent_08',\n",
       " 'pressure_07',\n",
       " 'percent_10',\n",
       " 'pressure_10',\n",
       " 'pressure_02',\n",
       " 'percent_02',\n",
       " 'percent_09',\n",
       " 'percent_06',\n",
       " 'percent_07',\n",
       " 'percent_11',\n",
       " 'percent_03',\n",
       " 'temperature_19',\n",
       " 'temperature_18',\n",
       " 'temperature_01_LAB',\n",
       " 'temperature_21',\n",
       " 'temperature_22',\n",
       " 'temperature_23',\n",
       " 'temperature_24',\n",
       " 'consumption_01',\n",
       " 'pressure_11',\n",
       " 'temperature_20']"
      ]
     },
     "execution_count": 11,
     "metadata": {},
     "output_type": "execute_result"
    }
   ],
   "source": [
    "CV_DV = [x[0] for x in metafile['ColumnKind'].items() if x[1] == \"CV\" or x[1] == \"DV\"]\n",
    "CV_DV = [x for x in list(columns) if x in CV_DV]\n",
    "# data = data[CV_DV]\n",
    "CV_DV"
   ]
  },
  {
   "cell_type": "code",
   "execution_count": 37,
   "metadata": {},
   "outputs": [
    {
     "data": {
      "text/plain": [
       "(2040480, 68)"
      ]
     },
     "execution_count": 37,
     "metadata": {},
     "output_type": "execute_result"
    }
   ],
   "source": [
    "data.shape"
   ]
  },
  {
   "cell_type": "code",
   "execution_count": 38,
   "metadata": {
    "scrolled": true
   },
   "outputs": [],
   "source": [
    "K = 60\n",
    "df = data.groupby(data.index // K).mean() #усреднение\n",
    "df_np = df.to_numpy()"
   ]
  },
  {
   "cell_type": "code",
   "execution_count": 39,
   "metadata": {},
   "outputs": [],
   "source": [
    "from sktime.performance_metrics.forecasting import MeanAbsoluteScaledError, MeanAbsolutePercentageError\n",
    "from sklearn.metrics import mean_absolute_error as mae\n",
    "mase = MeanAbsoluteScaledError(multioutput='raw_values')\n",
    "mase_uni = MeanAbsoluteScaledError(multioutput='uniform_average')\n",
    "mape = MeanAbsolutePercentageError(multioutput='raw_values')\n",
    "# mae = MeanAbsoluteError()\n",
    "\n",
    "\n",
    "#if ‘raw_values’, returns a full set of errors in case of multioutput input. If ‘uniform_average’, errors of all outputs are averaged with uniform weight."
   ]
  },
  {
   "cell_type": "code",
   "execution_count": 40,
   "metadata": {},
   "outputs": [
    {
     "data": {
      "text/plain": [
       "(34008, 67)"
      ]
     },
     "execution_count": 40,
     "metadata": {},
     "output_type": "execute_result"
    }
   ],
   "source": [
    "dataset = df_np[:, :]\n",
    "# dataset = np.concatenate((dataset[:, :8], dataset[:, 9:]), axis=1)\n",
    "dataset.shape"
   ]
  },
  {
   "cell_type": "markdown",
   "metadata": {},
   "source": [
    "**__Отбор признаков на минималках__**"
   ]
  },
  {
   "cell_type": "code",
   "execution_count": 41,
   "metadata": {},
   "outputs": [
    {
     "data": {
      "text/plain": [
       "(34008, 65)"
      ]
     },
     "execution_count": 41,
     "metadata": {},
     "output_type": "execute_result"
    }
   ],
   "source": [
    "#удаление константных\n",
    "from sklearn.feature_selection import VarianceThreshold\n",
    "selector = VarianceThreshold(0.001)\n",
    "dataset1 = selector.fit_transform(dataset) \n",
    "dataset1.shape"
   ]
  },
  {
   "cell_type": "code",
   "execution_count": 42,
   "metadata": {},
   "outputs": [
    {
     "data": {
      "text/plain": [
       "{8, 14}"
      ]
     },
     "execution_count": 42,
     "metadata": {},
     "output_type": "execute_result"
    }
   ],
   "source": [
    "set(range(dataset1.shape[-1])) - set(selector.get_feature_names_out(input_features=np.arange(dataset.shape[-1])))"
   ]
  },
  {
   "cell_type": "code",
   "execution_count": 43,
   "metadata": {},
   "outputs": [
    {
     "data": {
      "text/plain": [
       "{'consumption_07', 'consumption_09'}"
      ]
     },
     "execution_count": 43,
     "metadata": {},
     "output_type": "execute_result"
    }
   ],
   "source": [
    "set(columns[1:]) - set(selector.get_feature_names_out(input_features=columns[1:]))"
   ]
  },
  {
   "cell_type": "code",
   "execution_count": 44,
   "metadata": {},
   "outputs": [
    {
     "name": "stdout",
     "output_type": "stream",
     "text": [
      "[0.]\n"
     ]
    }
   ],
   "source": [
    "print(np.unique(dataset[:, 14]))"
   ]
  },
  {
   "cell_type": "code",
   "execution_count": 45,
   "metadata": {},
   "outputs": [
    {
     "data": {
      "image/png": "[encoded data removed]",
      "text/plain": [
       "<Figure size 640x480 with 1 Axes>"
      ]
     },
     "metadata": {},
     "output_type": "display_data"
    }
   ],
   "source": [
    "# plt.plot(dataset[:, 8], color=\"green\")\n",
    "plt.plot(np.concatenate((dataset[:32714, 8], dataset[32717:, 8])))\n",
    "plt.title(\"consumption_09\")\n",
    "plt.xlabel(\"time\")\n",
    "plt.ylabel(\"value\")\n",
    "plt.show()"
   ]
  },
  {
   "cell_type": "code",
   "execution_count": 46,
   "metadata": {},
   "outputs": [],
   "source": [
    "# values = np.unique(dataset[:, 8])\n",
    "# print(values)\n",
    "# print([len(np.argwhere(dataset[:, 8] == val)) for val in values])\n",
    "# print(f\"Изменение только в {np.argwhere(dataset[1:, 8] - dataset[:-1, 8])}\")"
   ]
  },
  {
   "cell_type": "markdown",
   "metadata": {},
   "source": [
    "**Эти датчики пока выкинем из-за константности: ** \n",
    "\n",
    "8: consumption_09\n",
    "\n",
    "14 : consumption_07 \n"
   ]
  },
  {
   "cell_type": "code",
   "execution_count": 47,
   "metadata": {},
   "outputs": [
    {
     "data": {
      "text/plain": [
       "('consumption_07', 'consumption_09')"
      ]
     },
     "execution_count": 47,
     "metadata": {},
     "output_type": "execute_result"
    }
   ],
   "source": [
    "columns[15], columns[9]"
   ]
  },
  {
   "cell_type": "code",
   "execution_count": 48,
   "metadata": {},
   "outputs": [
    {
     "data": {
      "text/plain": [
       "[<matplotlib.lines.Line2D at 0x7f223c754f70>]"
      ]
     },
     "execution_count": 48,
     "metadata": {},
     "output_type": "execute_result"
    },
    {
     "data": {
      "image/png": "[encoded data removed]",
      "text/plain": [
       "<Figure size 640x480 with 1 Axes>"
      ]
     },
     "metadata": {},
     "output_type": "display_data"
    }
   ],
   "source": [
    "plt.plot(dataset[7])    "
   ]
  },
  {
   "cell_type": "code",
   "execution_count": 49,
   "metadata": {},
   "outputs": [],
   "source": [
    "# from scipy.signal import correlate\n",
    "# a = np.array([np.sin(x + 1) for x in range(10)])\n",
    "# b = np.array([np.sin(x + 2) for x in range(10)])\n",
    "# c = correlate(a, b, mode=\"full\") #mode='same'\n",
    "# plt.plot(a, label=\"a\")\n",
    "# plt.plot(b, label=\"b\")\n",
    "# plt.plot(c, label=\"correlation\")\n",
    "# plt.legend()\n",
    "# c.shape"
   ]
  },
  {
   "cell_type": "code",
   "execution_count": 50,
   "metadata": {},
   "outputs": [
    {
     "data": {
      "text/plain": [
       "(34008, 65)"
      ]
     },
     "execution_count": 50,
     "metadata": {},
     "output_type": "execute_result"
    }
   ],
   "source": [
    "dataset = dataset1\n",
    "dataset.shape"
   ]
  },
  {
   "cell_type": "markdown",
   "metadata": {},
   "source": [
    "**Прогнозирование**"
   ]
  },
  {
   "cell_type": "code",
   "execution_count": 51,
   "metadata": {},
   "outputs": [
    {
     "data": {
      "text/plain": [
       "(34008, 65)"
      ]
     },
     "execution_count": 51,
     "metadata": {},
     "output_type": "execute_result"
    }
   ],
   "source": [
    "dataset = dataset1[:]\n",
    "dataset.shape"
   ]
  },
  {
   "cell_type": "code",
   "execution_count": 52,
   "metadata": {},
   "outputs": [
    {
     "data": {
      "text/plain": [
       "[<matplotlib.lines.Line2D at 0x7f223c6d6cd0>]"
      ]
     },
     "execution_count": 52,
     "metadata": {},
     "output_type": "execute_result"
    },
    {
     "data": {
      "image/png": "[encoded data removed]",
      "text/plain": [
       "<Figure size 640x480 with 1 Axes>"
      ]
     },
     "metadata": {},
     "output_type": "display_data"
    }
   ],
   "source": [
    "plt.plot(dataset[..., 8])"
   ]
  },
  {
   "cell_type": "code",
   "execution_count": 53,
   "metadata": {},
   "outputs": [],
   "source": [
    "from sklearn.model_selection import train_test_split\n",
    "window_sizes_for_clustering = 10\n",
    "# X, y = dataset[:-window_sizes_for_clustering, ...], dataset[window_sizes_for_clustering:, ...]\n",
    "# X_train, y_train, X_test, y_test = train_test_split(X, y, test_size=0.2, shuffle=False)\n",
    "n_split = round(0.2 * dataset.shape[0])\n",
    "dataset_train, dataset_test = dataset[:-n_split, ...], dataset[-n_split:, ...]"
   ]
  },
  {
   "cell_type": "code",
   "execution_count": 54,
   "metadata": {},
   "outputs": [],
   "source": [
    "#кластеризация для всех\n",
    "dataset_train = dataset[:]"
   ]
  },
  {
   "cell_type": "code",
   "execution_count": 55,
   "metadata": {
    "scrolled": true
   },
   "outputs": [
    {
     "data": {
      "text/plain": [
       "((34008, 65), (6802, 65))"
      ]
     },
     "execution_count": 55,
     "metadata": {},
     "output_type": "execute_result"
    }
   ],
   "source": [
    "dataset_train.shape, dataset_test.shape"
   ]
  },
  {
   "cell_type": "code",
   "execution_count": 60,
   "metadata": {},
   "outputs": [],
   "source": [
    "window_sizes_for_clustering = [5] # [1, 5, 10] #[1, 3, 5, 10, 15]\n",
    "Ns_clusters = [11] #[2, 7, 9, 11] #[2, 9, 11] #, 3 5, 7]#[2, 5, 7, 9, 11, 13]\n",
    "# k=30, mean_dist=39 (1600)\n",
    "# k=60, md = 51 (1600)\n",
    "# k=20, md=33 (1000)\n",
    "# k=10, md=23 (896)\n",
    "# k_eps = [(10, 23), (20, 33), (60, 51), (30, 39)] #for average60 mean(dist_for_k_neighbours)"
   ]
  },
  {
   "cell_type": "code",
   "execution_count": 57,
   "metadata": {},
   "outputs": [],
   "source": [
    "# k_eps = [(10, 46), (20, 66), (30, 78), (60, 102), (60, 61)]\n",
    "k_eps = [(3, 0.33), (13, 0.95), (25, 1.4), (35, 1.6), (67, 2), (100, 2.3), (110, 2.4), (120, 2.5)]\n",
    "k_eps = [(x, y * k) for x, y in k_eps for k in [1, 1.2, 1.5, 1.8, 2]]"
   ]
  },
  {
   "cell_type": "code",
   "execution_count": 58,
   "metadata": {},
   "outputs": [
    {
     "data": {
      "text/plain": [
       "[(3, 0.33),\n",
       " (3, 0.396),\n",
       " (3, 0.495),\n",
       " (3, 0.5940000000000001),\n",
       " (3, 0.66),\n",
       " (13, 0.95),\n",
       " (13, 1.14),\n",
       " (13, 1.4249999999999998),\n",
       " (13, 1.71),\n",
       " (13, 1.9),\n",
       " (25, 1.4),\n",
       " (25, 1.68),\n",
       " (25, 2.0999999999999996),\n",
       " (25, 2.52),\n",
       " (25, 2.8),\n",
       " (35, 1.6),\n",
       " (35, 1.92),\n",
       " (35, 2.4000000000000004),\n",
       " (35, 2.8800000000000003),\n",
       " (35, 3.2),\n",
       " (67, 2),\n",
       " (67, 2.4),\n",
       " (67, 3.0),\n",
       " (67, 3.6),\n",
       " (67, 4),\n",
       " (100, 2.3),\n",
       " (100, 2.76),\n",
       " (100, 3.4499999999999997),\n",
       " (100, 4.14),\n",
       " (100, 4.6),\n",
       " (110, 2.4),\n",
       " (110, 2.88),\n",
       " (110, 3.5999999999999996),\n",
       " (110, 4.32),\n",
       " (110, 4.8),\n",
       " (120, 2.5),\n",
       " (120, 3.0),\n",
       " (120, 3.75),\n",
       " (120, 4.5),\n",
       " (120, 5.0)]"
      ]
     },
     "execution_count": 58,
     "metadata": {},
     "output_type": "execute_result"
    }
   ],
   "source": [
    "k_eps"
   ]
  },
  {
   "cell_type": "code",
   "execution_count": 34,
   "metadata": {},
   "outputs": [],
   "source": [
    "# clustering_algorithms += [Clustering.DBSCAN_for_windows(W=W, eps=eps*delta, min_samples=k) for W in window_sizes_for_clustering for k, eps in k_eps for delta in [0.8, 1, 1.2, 2]]"
   ]
  },
  {
   "cell_type": "code",
   "execution_count": 61,
   "metadata": {},
   "outputs": [
    {
     "name": "stdout",
     "output_type": "stream",
     "text": [
      "Clusterization __init__: W=5, <class 'int'>\n"
     ]
    }
   ],
   "source": [
    "clusters_algorithms = [\"Agglomerative\"] #[\"Agglomerative\"] #[\"MeanShift\"]\n",
    "clustering_algorithms = []\n",
    "# clustering_algorithms += [Clustering.Kmeans_for_windows(W=W, N_clusters=N_cluster) for W in window_sizes_for_clustering for N_cluster in Ns_clusters]\n",
    "# clustering_algorithms += [Clustering.MeanShift_for_windows(W=W) for W in window_sizes_for_clustering]\n",
    "clustering_algorithms += [Clustering.AgglomerativeClustering_for_windows(W=W, N_clusters=N_cluster) for W in window_sizes_for_clustering for N_cluster in Ns_clusters]\n",
    "# clustering_algorithms += [Clustering.DBSCAN_for_windows(W=W, eps=eps, min_samples=k) for W in window_sizes_for_clustering for k, eps in k_eps]"
   ]
  },
  {
   "cell_type": "code",
   "execution_count": 62,
   "metadata": {},
   "outputs": [],
   "source": [
    "cluster_algs = []\n",
    "# cluster_algs += [('Kmeans', W, N_cluster) for W in window_sizes_for_clustering for N_cluster in Ns_clusters]\n",
    "# cluster_algs += [('MeanShift', W, 0)  for W in window_sizes_for_clustering]\n",
    "cluster_algs += [('Agglomer', W,  N_cluster) for W in window_sizes_for_clustering for N_cluster in Ns_clusters]\n",
    "# cluster_algs += [('DBSCAN', W, k, eps) for W in window_sizes_for_clustering for k, eps in k_eps]"
   ]
  },
  {
   "cell_type": "code",
   "execution_count": 63,
   "metadata": {},
   "outputs": [],
   "source": [
    "# N, M, Q = 100, 100, 2\n",
    "# dataset_train = np.column_stack([[np.sin(x / 40) for x in range(N)], [0.01 + np.sin(x / 20) for x in range(N)]])\n",
    "# # dataset_train = np.array([np.sin(x / 10000) for x in range(N)])[:, None]\n",
    "# # dataset_train = np.column_stack(([np.sqrt(x / 10) for x in range(N)], [x + ])\n",
    "# dataset_test = np.column_stack([[np.sin(x / 30) for x in range(M)], [0.01 + np.sin(x / 30)*1.01 for x in range(M)]])"
   ]
  },
  {
   "cell_type": "code",
   "execution_count": 64,
   "metadata": {},
   "outputs": [
    {
     "data": {
      "text/plain": [
       "(34008, 65)"
      ]
     },
     "execution_count": 64,
     "metadata": {},
     "output_type": "execute_result"
    }
   ],
   "source": [
    "dataset_train.shape"
   ]
  },
  {
   "cell_type": "code",
   "execution_count": 65,
   "metadata": {},
   "outputs": [
    {
     "name": "stdout",
     "output_type": "stream",
     "text": [
      "AgglomerativeClustering_for_windows: (34008, 65)\n",
      "Done\n"
     ]
    }
   ],
   "source": [
    "#clusters_labels, clusters_model \n",
    "# clustering_results = [Clustering.apply_clustering(dataset, cur_cluster_alg) for cur_cluster_alg in clustering_algorithms]\n",
    "# clusters_labels = [x[0] for x in clustering_results]\n",
    "# clusters_models = [x[1] for x in clustering_results]\n",
    "clustering_results = [cur_cluster_alg.fit_predict(dataset_train) for cur_cluster_alg in clustering_algorithms]\n",
    "clusters_labels = clustering_results"
   ]
  },
  {
   "cell_type": "code",
   "execution_count": null,
   "metadata": {},
   "outputs": [],
   "source": [
    "tmp = []\n",
    "# отбор для DBSCAN\n",
    "for i, cl_re in enumerate(clusters_labels):\n",
    "    un, cnt = np.unique(cl_re, return_counts=True)\n",
    "    if clustering_algorithms[i].n_normal_clusters != un.shape[0]:\n",
    "        tmp.append(cnt[-1] / np.sum(cnt[:-1]))\n",
    "    else:\n",
    "        tmp.append(0)\n",
    "plt.plot(np.sort(tmp))"
   ]
  },
  {
   "cell_type": "code",
   "execution_count": null,
   "metadata": {},
   "outputs": [],
   "source": [
    "# отбор для DBSCAN\n",
    "inds = []\n",
    "for i, cl_re in enumerate(clusters_labels):\n",
    "    un, cnt = np.unique(cl_re, return_counts=True)\n",
    "    if clustering_algorithms[i].n_normal_clusters != un.shape[0]:\n",
    "        if cnt[-1] >= np.sum(cnt[:-1]) * 0.3 or np.argmax(cnt) == len(cnt) - 1:\n",
    "            continue\n",
    "    print(i, clustering_algorithms[i].eps, clustering_algorithms[i].min_samples, cnt[-1] / np.sum(cnt[:-1]))\n",
    "    inds.append(i)"
   ]
  },
  {
   "cell_type": "code",
   "execution_count": 66,
   "metadata": {},
   "outputs": [
    {
     "ename": "NameError",
     "evalue": "name 'inds' is not defined",
     "output_type": "error",
     "traceback": [
      "\u001b[0;31m---------------------------------------------------------------------------\u001b[0m",
      "\u001b[0;31mNameError\u001b[0m                                 Traceback (most recent call last)",
      "Cell \u001b[0;32mIn [66], line 1\u001b[0m\n\u001b[0;32m----> 1\u001b[0m clustering_algorithms \u001b[38;5;241m=\u001b[39m [clustering_algorithms[x] \u001b[38;5;28;01mfor\u001b[39;00m x \u001b[38;5;129;01min\u001b[39;00m \u001b[43minds\u001b[49m]\n\u001b[1;32m      2\u001b[0m cluster_algs \u001b[38;5;241m=\u001b[39m [cluster_algs[x] \u001b[38;5;28;01mfor\u001b[39;00m x \u001b[38;5;129;01min\u001b[39;00m inds]\n",
      "\u001b[0;31mNameError\u001b[0m: name 'inds' is not defined"
     ]
    }
   ],
   "source": [
    "clustering_algorithms = [clustering_algorithms[x] for x in inds]\n",
    "cluster_algs = [cluster_algs[x] for x in inds]"
   ]
  },
  {
   "cell_type": "code",
   "execution_count": null,
   "metadata": {},
   "outputs": [],
   "source": [
    "clusters_labels = [clusters_labels[x] for x in inds]"
   ]
  },
  {
   "cell_type": "code",
   "execution_count": null,
   "metadata": {},
   "outputs": [],
   "source": [
    "cluster_algs"
   ]
  },
  {
   "cell_type": "code",
   "execution_count": null,
   "metadata": {
    "scrolled": true
   },
   "outputs": [],
   "source": [
    "plt.hist(clustering_results[0])"
   ]
  },
  {
   "cell_type": "code",
   "execution_count": 67,
   "metadata": {},
   "outputs": [],
   "source": [
    "W=20"
   ]
  },
  {
   "cell_type": "code",
   "execution_count": 68,
   "metadata": {
    "scrolled": true
   },
   "outputs": [
    {
     "name": "stdout",
     "output_type": "stream",
     "text": [
      "N_clusters=11\n",
      "dataset_windows.shape=(33987, 1, 21, 65), labels.shape=(33987,)\n",
      "IN Clustering.split_to_clusters: mask.sum()=639, 639\n",
      "IN Clustering.split_to_clusters: mask.sum()=7473, 7473\n",
      "IN Clustering.split_to_clusters: mask.sum()=6488, 6488\n",
      "IN Clustering.split_to_clusters: mask.sum()=6393, 6393\n",
      "IN Clustering.split_to_clusters: mask.sum()=196, 196\n",
      "IN Clustering.split_to_clusters: mask.sum()=805, 805\n",
      "IN Clustering.split_to_clusters: mask.sum()=9479, 9479\n",
      "IN Clustering.split_to_clusters: mask.sum()=1800, 1800\n",
      "IN Clustering.split_to_clusters: mask.sum()=166, 166\n",
      "IN Clustering.split_to_clusters: mask.sum()=391, 391\n",
      "IN Clustering.split_to_clusters: mask.sum()=157, 157\n",
      "In split_to_train_test: dataset_X.shape=(639, 20, 65), dataset_y.shape=(639, 65)\n"
     ]
    },
    {
     "name": "stderr",
     "output_type": "stream",
     "text": [
      "2023-12-21 07:58:27.715859: I tensorflow/core/common_runtime/process_util.cc:146] Creating new thread pool with default inter op setting: 2. Tune using inter_op_parallelism_threads for best performance.\n"
     ]
    },
    {
     "name": "stdout",
     "output_type": "stream",
     "text": [
      "Epoch 1/100\n",
      "6/6 [==============================] - 1s 68ms/step - loss: 0.1509 - val_loss: 0.4404\n",
      "Epoch 2/100\n",
      "6/6 [==============================] - 0s 62ms/step - loss: 0.1486 - val_loss: 0.4393\n",
      "Epoch 3/100\n",
      "6/6 [==============================] - 0s 61ms/step - loss: 0.1465 - val_loss: 0.4383\n",
      "Epoch 4/100\n",
      "6/6 [==============================] - 0s 58ms/step - loss: 0.1444 - val_loss: 0.4373\n",
      "Epoch 5/100\n",
      "6/6 [==============================] - 0s 53ms/step - loss: 0.1425 - val_loss: 0.4364\n",
      "Epoch 6/100\n",
      "6/6 [==============================] - 0s 55ms/step - loss: 0.1407 - val_loss: 0.4355\n",
      "Epoch 7/100\n",
      "6/6 [==============================] - 0s 62ms/step - loss: 0.1389 - val_loss: 0.4347\n",
      "Epoch 8/100\n",
      "6/6 [==============================] - 0s 62ms/step - loss: 0.1373 - val_loss: 0.4339\n",
      "Epoch 9/100\n",
      "6/6 [==============================] - 0s 61ms/step - loss: 0.1357 - val_loss: 0.4332\n",
      "Epoch 10/100\n",
      "6/6 [==============================] - 0s 61ms/step - loss: 0.1342 - val_loss: 0.4324\n",
      "Epoch 11/100\n",
      "6/6 [==============================] - 0s 60ms/step - loss: 0.1327 - val_loss: 0.4318\n",
      "Epoch 12/100\n",
      "6/6 [==============================] - 0s 55ms/step - loss: 0.1314 - val_loss: 0.4311\n",
      "Epoch 13/100\n",
      "6/6 [==============================] - 0s 61ms/step - loss: 0.1300 - val_loss: 0.4305\n",
      "Epoch 14/100\n",
      "6/6 [==============================] - 0s 61ms/step - loss: 0.1287 - val_loss: 0.4299\n",
      "Epoch 15/100\n",
      "6/6 [==============================] - 0s 59ms/step - loss: 0.1275 - val_loss: 0.4293\n",
      "Epoch 16/100\n",
      "6/6 [==============================] - 0s 62ms/step - loss: 0.1263 - val_loss: 0.4288\n",
      "Epoch 17/100\n",
      "6/6 [==============================] - 0s 60ms/step - loss: 0.1252 - val_loss: 0.4283\n",
      "Epoch 18/100\n",
      "6/6 [==============================] - 0s 61ms/step - loss: 0.1241 - val_loss: 0.4278\n",
      "Epoch 19/100\n",
      "6/6 [==============================] - 0s 62ms/step - loss: 0.1230 - val_loss: 0.4274\n",
      "Epoch 20/100\n",
      "6/6 [==============================] - 0s 61ms/step - loss: 0.1220 - val_loss: 0.4269\n",
      "Epoch 21/100\n",
      "6/6 [==============================] - 0s 53ms/step - loss: 0.1210 - val_loss: 0.4265\n",
      "Epoch 22/100\n",
      "6/6 [==============================] - 0s 55ms/step - loss: 0.1201 - val_loss: 0.4261\n",
      "Epoch 23/100\n",
      "6/6 [==============================] - 0s 61ms/step - loss: 0.1192 - val_loss: 0.4256\n",
      "Epoch 24/100\n",
      "6/6 [==============================] - 0s 60ms/step - loss: 0.1183 - val_loss: 0.4252\n",
      "Epoch 25/100\n",
      "6/6 [==============================] - 0s 54ms/step - loss: 0.1174 - val_loss: 0.4248\n",
      "Epoch 26/100\n",
      "6/6 [==============================] - 0s 61ms/step - loss: 0.1166 - val_loss: 0.4244\n",
      "Epoch 27/100\n",
      "6/6 [==============================] - 0s 62ms/step - loss: 0.1158 - val_loss: 0.4241\n",
      "Epoch 28/100\n",
      "6/6 [==============================] - 0s 58ms/step - loss: 0.1150 - val_loss: 0.4237\n",
      "Epoch 29/100\n",
      "6/6 [==============================] - 0s 61ms/step - loss: 0.1143 - val_loss: 0.4233\n",
      "Epoch 30/100\n",
      "6/6 [==============================] - 0s 61ms/step - loss: 0.1135 - val_loss: 0.4230\n",
      "Epoch 31/100\n",
      "6/6 [==============================] - 0s 61ms/step - loss: 0.1128 - val_loss: 0.4227\n",
      "Epoch 32/100\n",
      "6/6 [==============================] - 0s 57ms/step - loss: 0.1121 - val_loss: 0.4224\n",
      "Epoch 33/100\n",
      "6/6 [==============================] - 0s 59ms/step - loss: 0.1114 - val_loss: 0.4220\n",
      "Epoch 34/100\n",
      "6/6 [==============================] - 0s 61ms/step - loss: 0.1107 - val_loss: 0.4217\n",
      "Epoch 35/100\n",
      "6/6 [==============================] - 0s 58ms/step - loss: 0.1101 - val_loss: 0.4214\n",
      "Epoch 36/100\n",
      "6/6 [==============================] - 0s 54ms/step - loss: 0.1094 - val_loss: 0.4212\n",
      "Epoch 37/100\n",
      "6/6 [==============================] - 0s 58ms/step - loss: 0.1088 - val_loss: 0.4209\n",
      "Epoch 38/100\n",
      "6/6 [==============================] - 0s 62ms/step - loss: 0.1082 - val_loss: 0.4206\n",
      "Epoch 39/100\n",
      "6/6 [==============================] - 0s 52ms/step - loss: 0.1076 - val_loss: 0.4203\n",
      "Epoch 40/100\n",
      "6/6 [==============================] - 0s 61ms/step - loss: 0.1071 - val_loss: 0.4201\n",
      "Epoch 41/100\n",
      "6/6 [==============================] - 0s 61ms/step - loss: 0.1065 - val_loss: 0.4198\n",
      "Epoch 42/100\n",
      "6/6 [==============================] - 0s 54ms/step - loss: 0.1060 - val_loss: 0.4195\n",
      "Epoch 43/100\n",
      "6/6 [==============================] - 0s 54ms/step - loss: 0.1055 - val_loss: 0.4193\n",
      "Epoch 44/100\n",
      "6/6 [==============================] - 0s 61ms/step - loss: 0.1050 - val_loss: 0.4190\n",
      "Epoch 45/100\n",
      "6/6 [==============================] - 0s 62ms/step - loss: 0.1045 - val_loss: 0.4188\n",
      "Epoch 46/100\n",
      "6/6 [==============================] - 0s 58ms/step - loss: 0.1040 - val_loss: 0.4185\n",
      "Epoch 47/100\n",
      "6/6 [==============================] - 0s 53ms/step - loss: 0.1035 - val_loss: 0.4183\n",
      "Epoch 48/100\n",
      "6/6 [==============================] - 0s 54ms/step - loss: 0.1031 - val_loss: 0.4181\n",
      "Epoch 49/100\n",
      "6/6 [==============================] - 0s 53ms/step - loss: 0.1026 - val_loss: 0.4178\n",
      "Epoch 50/100\n",
      "6/6 [==============================] - 0s 53ms/step - loss: 0.1022 - val_loss: 0.4176\n",
      "Epoch 51/100\n",
      "6/6 [==============================] - 0s 52ms/step - loss: 0.1018 - val_loss: 0.4174\n",
      "Epoch 52/100\n",
      "6/6 [==============================] - 0s 53ms/step - loss: 0.1014 - val_loss: 0.4172\n",
      "Epoch 53/100\n",
      "6/6 [==============================] - 0s 53ms/step - loss: 0.1010 - val_loss: 0.4170\n",
      "Epoch 54/100\n",
      "6/6 [==============================] - 0s 70ms/step - loss: 0.1006 - val_loss: 0.4168\n",
      "Epoch 55/100\n",
      "6/6 [==============================] - 0s 61ms/step - loss: 0.1002 - val_loss: 0.4166\n",
      "Epoch 56/100\n",
      "6/6 [==============================] - 0s 57ms/step - loss: 0.0998 - val_loss: 0.4164\n",
      "Epoch 57/100\n",
      "6/6 [==============================] - 0s 54ms/step - loss: 0.0995 - val_loss: 0.4162\n",
      "Epoch 58/100\n",
      "6/6 [==============================] - 0s 61ms/step - loss: 0.0991 - val_loss: 0.4160\n",
      "Epoch 59/100\n",
      "6/6 [==============================] - 0s 54ms/step - loss: 0.0988 - val_loss: 0.4159\n",
      "Epoch 60/100\n",
      "6/6 [==============================] - 0s 54ms/step - loss: 0.0985 - val_loss: 0.4157\n",
      "Epoch 61/100\n",
      "6/6 [==============================] - 0s 53ms/step - loss: 0.0982 - val_loss: 0.4155\n",
      "Epoch 62/100\n",
      "6/6 [==============================] - 0s 53ms/step - loss: 0.0979 - val_loss: 0.4153\n",
      "Epoch 63/100\n",
      "6/6 [==============================] - 0s 53ms/step - loss: 0.0976 - val_loss: 0.4151\n",
      "Epoch 64/100\n",
      "6/6 [==============================] - 0s 53ms/step - loss: 0.0973 - val_loss: 0.4150\n",
      "Epoch 65/100\n",
      "6/6 [==============================] - 0s 53ms/step - loss: 0.0970 - val_loss: 0.4148\n",
      "Epoch 66/100\n",
      "6/6 [==============================] - 0s 53ms/step - loss: 0.0968 - val_loss: 0.4146\n",
      "Epoch 67/100\n",
      "6/6 [==============================] - 0s 53ms/step - loss: 0.0965 - val_loss: 0.4145\n",
      "Epoch 68/100\n",
      "6/6 [==============================] - 0s 53ms/step - loss: 0.0962 - val_loss: 0.4143\n",
      "Epoch 69/100\n",
      "6/6 [==============================] - 0s 54ms/step - loss: 0.0960 - val_loss: 0.4142\n",
      "Epoch 70/100\n",
      "6/6 [==============================] - 0s 54ms/step - loss: 0.0957 - val_loss: 0.4140\n",
      "Epoch 71/100\n",
      "6/6 [==============================] - 0s 52ms/step - loss: 0.0955 - val_loss: 0.4138\n",
      "Epoch 72/100\n",
      "6/6 [==============================] - 0s 54ms/step - loss: 0.0953 - val_loss: 0.4137\n",
      "Epoch 73/100\n",
      "6/6 [==============================] - 0s 53ms/step - loss: 0.0951 - val_loss: 0.4136\n",
      "Epoch 74/100\n",
      "6/6 [==============================] - 0s 53ms/step - loss: 0.0948 - val_loss: 0.4134\n",
      "Epoch 75/100\n",
      "6/6 [==============================] - 0s 53ms/step - loss: 0.0946 - val_loss: 0.4133\n",
      "Epoch 76/100\n",
      "6/6 [==============================] - 0s 54ms/step - loss: 0.0944 - val_loss: 0.4131\n",
      "Epoch 77/100\n",
      "6/6 [==============================] - 0s 53ms/step - loss: 0.0942 - val_loss: 0.4130\n",
      "Epoch 78/100\n",
      "6/6 [==============================] - 0s 53ms/step - loss: 0.0940 - val_loss: 0.4129\n",
      "Epoch 79/100\n",
      "6/6 [==============================] - 0s 55ms/step - loss: 0.0938 - val_loss: 0.4127\n",
      "Epoch 80/100\n",
      "6/6 [==============================] - 0s 53ms/step - loss: 0.0936 - val_loss: 0.4126\n",
      "Epoch 81/100\n",
      "6/6 [==============================] - 0s 53ms/step - loss: 0.0934 - val_loss: 0.4125\n",
      "Epoch 82/100\n",
      "6/6 [==============================] - 0s 53ms/step - loss: 0.0932 - val_loss: 0.4123\n",
      "Epoch 83/100\n",
      "6/6 [==============================] - 0s 55ms/step - loss: 0.0930 - val_loss: 0.4122\n"
     ]
    },
    {
     "name": "stdout",
     "output_type": "stream",
     "text": [
      "Epoch 84/100\n",
      "6/6 [==============================] - 0s 53ms/step - loss: 0.0928 - val_loss: 0.4120\n",
      "Epoch 85/100\n",
      "6/6 [==============================] - 0s 56ms/step - loss: 0.0927 - val_loss: 0.4119\n",
      "Epoch 86/100\n",
      "6/6 [==============================] - 0s 54ms/step - loss: 0.0925 - val_loss: 0.4118\n",
      "Epoch 87/100\n",
      "6/6 [==============================] - 0s 54ms/step - loss: 0.0923 - val_loss: 0.4116\n",
      "Epoch 88/100\n",
      "6/6 [==============================] - 0s 53ms/step - loss: 0.0922 - val_loss: 0.4115\n",
      "Epoch 89/100\n",
      "6/6 [==============================] - 0s 53ms/step - loss: 0.0920 - val_loss: 0.4114\n",
      "Epoch 90/100\n",
      "6/6 [==============================] - 0s 53ms/step - loss: 0.0918 - val_loss: 0.4113\n",
      "Epoch 91/100\n",
      "6/6 [==============================] - 0s 53ms/step - loss: 0.0917 - val_loss: 0.4112\n",
      "Epoch 92/100\n",
      "6/6 [==============================] - 0s 53ms/step - loss: 0.0915 - val_loss: 0.4111\n",
      "Epoch 93/100\n",
      "6/6 [==============================] - 0s 54ms/step - loss: 0.0914 - val_loss: 0.4109\n",
      "Epoch 94/100\n",
      "6/6 [==============================] - 0s 53ms/step - loss: 0.0912 - val_loss: 0.4108\n",
      "Epoch 95/100\n",
      "6/6 [==============================] - 0s 53ms/step - loss: 0.0911 - val_loss: 0.4107\n",
      "Epoch 96/100\n",
      "6/6 [==============================] - 0s 54ms/step - loss: 0.0909 - val_loss: 0.4106\n",
      "Epoch 97/100\n",
      "6/6 [==============================] - 0s 53ms/step - loss: 0.0908 - val_loss: 0.4104\n",
      "Epoch 98/100\n",
      "6/6 [==============================] - 0s 53ms/step - loss: 0.0906 - val_loss: 0.4103\n",
      "Epoch 99/100\n",
      "6/6 [==============================] - 0s 53ms/step - loss: 0.0905 - val_loss: 0.4102\n",
      "Epoch 100/100\n",
      "6/6 [==============================] - 0s 53ms/step - loss: 0.0904 - val_loss: 0.4101\n",
      "In calc_results: 383, 128, 128, sum = 639\n",
      "In split_to_train_test: dataset_X.shape=(7473, 20, 65), dataset_y.shape=(7473, 65)\n",
      "Epoch 1/100\n",
      "71/71 [==============================] - 3s 48ms/step - loss: 0.2730 - val_loss: 0.3346\n",
      "Epoch 2/100\n",
      "71/71 [==============================] - 3s 48ms/step - loss: 0.2655 - val_loss: 0.3286\n",
      "Epoch 3/100\n",
      "71/71 [==============================] - 3s 48ms/step - loss: 0.2604 - val_loss: 0.3241\n",
      "Epoch 4/100\n",
      "71/71 [==============================] - 4s 52ms/step - loss: 0.2564 - val_loss: 0.3205\n",
      "Epoch 5/100\n",
      "71/71 [==============================] - 4s 55ms/step - loss: 0.2531 - val_loss: 0.3175\n",
      "Epoch 6/100\n",
      "71/71 [==============================] - 4s 50ms/step - loss: 0.2504 - val_loss: 0.3150\n",
      "Epoch 7/100\n",
      "71/71 [==============================] - 4s 50ms/step - loss: 0.2481 - val_loss: 0.3129\n",
      "Epoch 8/100\n",
      "71/71 [==============================] - 4s 51ms/step - loss: 0.2461 - val_loss: 0.3111\n",
      "Epoch 9/100\n",
      "71/71 [==============================] - 4s 54ms/step - loss: 0.2443 - val_loss: 0.3094\n",
      "Epoch 10/100\n",
      "71/71 [==============================] - 3s 48ms/step - loss: 0.2428 - val_loss: 0.3081\n",
      "Epoch 11/100\n",
      "71/71 [==============================] - 4s 50ms/step - loss: 0.2415 - val_loss: 0.3069\n",
      "Epoch 12/100\n",
      "71/71 [==============================] - 4s 50ms/step - loss: 0.2403 - val_loss: 0.3058\n",
      "Epoch 13/100\n",
      "71/71 [==============================] - 3s 48ms/step - loss: 0.2392 - val_loss: 0.3048\n",
      "Epoch 14/100\n",
      "71/71 [==============================] - 4s 50ms/step - loss: 0.2382 - val_loss: 0.3040\n",
      "Epoch 15/100\n",
      "71/71 [==============================] - 4s 52ms/step - loss: 0.2374 - val_loss: 0.3032\n",
      "Epoch 16/100\n",
      "71/71 [==============================] - 4s 51ms/step - loss: 0.2365 - val_loss: 0.3026\n",
      "Epoch 17/100\n",
      "71/71 [==============================] - 3s 49ms/step - loss: 0.2358 - val_loss: 0.3020\n",
      "Epoch 18/100\n",
      "71/71 [==============================] - 4s 53ms/step - loss: 0.2351 - val_loss: 0.3014\n",
      "Epoch 19/100\n",
      "71/71 [==============================] - 4s 54ms/step - loss: 0.2345 - val_loss: 0.3009\n",
      "Epoch 20/100\n",
      "71/71 [==============================] - 4s 51ms/step - loss: 0.2339 - val_loss: 0.3004\n",
      "Epoch 21/100\n",
      "71/71 [==============================] - 4s 52ms/step - loss: 0.2333 - val_loss: 0.3000\n",
      "Epoch 22/100\n",
      "71/71 [==============================] - 4s 51ms/step - loss: 0.2328 - val_loss: 0.2996\n",
      "Epoch 23/100\n",
      "71/71 [==============================] - 3s 49ms/step - loss: 0.2323 - val_loss: 0.2992\n",
      "Epoch 24/100\n",
      "71/71 [==============================] - 3s 48ms/step - loss: 0.2318 - val_loss: 0.2989\n",
      "Epoch 25/100\n",
      "71/71 [==============================] - 4s 55ms/step - loss: 0.2313 - val_loss: 0.2985\n",
      "Epoch 26/100\n",
      "71/71 [==============================] - 4s 50ms/step - loss: 0.2309 - val_loss: 0.2982\n",
      "Epoch 27/100\n",
      "71/71 [==============================] - 5s 66ms/step - loss: 0.2304 - val_loss: 0.2979\n",
      "Epoch 28/100\n",
      "71/71 [==============================] - 5s 65ms/step - loss: 0.2300 - val_loss: 0.2976\n",
      "Epoch 29/100\n",
      "71/71 [==============================] - 5s 65ms/step - loss: 0.2296 - val_loss: 0.2973\n",
      "Epoch 30/100\n",
      "71/71 [==============================] - 5s 64ms/step - loss: 0.2292 - val_loss: 0.2971\n",
      "Epoch 31/100\n",
      "71/71 [==============================] - 5s 67ms/step - loss: 0.2289 - val_loss: 0.2968\n",
      "Epoch 32/100\n",
      "71/71 [==============================] - 5s 66ms/step - loss: 0.2285 - val_loss: 0.2966\n",
      "Epoch 33/100\n",
      "71/71 [==============================] - 5s 65ms/step - loss: 0.2281 - val_loss: 0.2964\n",
      "Epoch 34/100\n",
      "71/71 [==============================] - 5s 67ms/step - loss: 0.2278 - val_loss: 0.2962\n",
      "Epoch 35/100\n",
      "71/71 [==============================] - 4s 52ms/step - loss: 0.2274 - val_loss: 0.2960\n",
      "Epoch 36/100\n",
      "71/71 [==============================] - 4s 52ms/step - loss: 0.2271 - val_loss: 0.2958\n",
      "Epoch 37/100\n",
      "71/71 [==============================] - 3s 49ms/step - loss: 0.2268 - val_loss: 0.2956\n",
      "Epoch 38/100\n",
      "71/71 [==============================] - 3s 49ms/step - loss: 0.2265 - val_loss: 0.2954\n",
      "Epoch 39/100\n",
      "71/71 [==============================] - 4s 50ms/step - loss: 0.2262 - val_loss: 0.2952\n",
      "Epoch 40/100\n",
      "71/71 [==============================] - 4s 51ms/step - loss: 0.2258 - val_loss: 0.2951\n",
      "Epoch 41/100\n",
      "71/71 [==============================] - 3s 48ms/step - loss: 0.2255 - val_loss: 0.2949\n",
      "Epoch 42/100\n",
      "71/71 [==============================] - 3s 48ms/step - loss: 0.2253 - val_loss: 0.2948\n",
      "Epoch 43/100\n",
      "71/71 [==============================] - 4s 50ms/step - loss: 0.2250 - val_loss: 0.2946\n",
      "Epoch 44/100\n",
      "71/71 [==============================] - 3s 48ms/step - loss: 0.2247 - val_loss: 0.2945\n",
      "Epoch 45/100\n",
      "71/71 [==============================] - 3s 48ms/step - loss: 0.2244 - val_loss: 0.2943\n",
      "Epoch 46/100\n",
      "71/71 [==============================] - 4s 54ms/step - loss: 0.2241 - val_loss: 0.2942\n",
      "Epoch 47/100\n",
      "71/71 [==============================] - 3s 48ms/step - loss: 0.2239 - val_loss: 0.2941\n",
      "Epoch 48/100\n",
      "71/71 [==============================] - 3s 49ms/step - loss: 0.2236 - val_loss: 0.2940\n",
      "Epoch 49/100\n",
      "71/71 [==============================] - 4s 50ms/step - loss: 0.2233 - val_loss: 0.2939\n",
      "Epoch 50/100\n",
      "71/71 [==============================] - 3s 49ms/step - loss: 0.2231 - val_loss: 0.2938\n",
      "Epoch 51/100\n",
      "71/71 [==============================] - 3s 49ms/step - loss: 0.2228 - val_loss: 0.2937\n",
      "Epoch 52/100\n",
      "71/71 [==============================] - 4s 52ms/step - loss: 0.2226 - val_loss: 0.2936\n",
      "Epoch 53/100\n",
      "71/71 [==============================] - 3s 48ms/step - loss: 0.2223 - val_loss: 0.2935\n",
      "Epoch 54/100\n",
      "71/71 [==============================] - 4s 50ms/step - loss: 0.2221 - val_loss: 0.2934\n",
      "Epoch 55/100\n",
      "71/71 [==============================] - 3s 49ms/step - loss: 0.2219 - val_loss: 0.2933\n",
      "Epoch 56/100\n",
      "71/71 [==============================] - 3s 49ms/step - loss: 0.2216 - val_loss: 0.2932\n",
      "Epoch 57/100\n",
      "71/71 [==============================] - 3s 49ms/step - loss: 0.2214 - val_loss: 0.2931\n",
      "Epoch 58/100\n",
      "71/71 [==============================] - 3s 49ms/step - loss: 0.2212 - val_loss: 0.2931\n",
      "Epoch 59/100\n",
      "71/71 [==============================] - 4s 50ms/step - loss: 0.2209 - val_loss: 0.2930\n",
      "Epoch 60/100\n",
      "71/71 [==============================] - 4s 52ms/step - loss: 0.2207 - val_loss: 0.2929\n",
      "Epoch 61/100\n",
      "71/71 [==============================] - 3s 49ms/step - loss: 0.2205 - val_loss: 0.2929\n",
      "Epoch 62/100\n",
      "71/71 [==============================] - 3s 48ms/step - loss: 0.2203 - val_loss: 0.2928\n",
      "Epoch 63/100\n",
      "71/71 [==============================] - 3s 49ms/step - loss: 0.2201 - val_loss: 0.2927\n",
      "Epoch 64/100\n"
     ]
    },
    {
     "name": "stdout",
     "output_type": "stream",
     "text": [
      "71/71 [==============================] - 4s 50ms/step - loss: 0.2199 - val_loss: 0.2927\n",
      "Epoch 65/100\n",
      "71/71 [==============================] - 3s 49ms/step - loss: 0.2197 - val_loss: 0.2926\n",
      "Epoch 66/100\n",
      "71/71 [==============================] - 4s 49ms/step - loss: 0.2194 - val_loss: 0.2926\n",
      "Epoch 67/100\n",
      "71/71 [==============================] - 4s 50ms/step - loss: 0.2192 - val_loss: 0.2925\n",
      "Epoch 68/100\n",
      "71/71 [==============================] - 3s 49ms/step - loss: 0.2190 - val_loss: 0.2925\n",
      "Epoch 69/100\n",
      "71/71 [==============================] - 3s 49ms/step - loss: 0.2189 - val_loss: 0.2924\n",
      "Epoch 70/100\n",
      "71/71 [==============================] - 4s 55ms/step - loss: 0.2187 - val_loss: 0.2924\n",
      "Epoch 71/100\n",
      "71/71 [==============================] - 3s 49ms/step - loss: 0.2184 - val_loss: 0.2924\n",
      "Epoch 72/100\n",
      "71/71 [==============================] - 3s 48ms/step - loss: 0.2183 - val_loss: 0.2923\n",
      "Epoch 73/100\n",
      "71/71 [==============================] - 3s 49ms/step - loss: 0.2181 - val_loss: 0.2923\n",
      "Epoch 74/100\n",
      "71/71 [==============================] - 3s 48ms/step - loss: 0.2179 - val_loss: 0.2923\n",
      "Epoch 75/100\n",
      "71/71 [==============================] - 3s 49ms/step - loss: 0.2177 - val_loss: 0.2922\n",
      "Epoch 76/100\n",
      "71/71 [==============================] - 4s 50ms/step - loss: 0.2175 - val_loss: 0.2922\n",
      "Epoch 77/100\n",
      "71/71 [==============================] - 3s 48ms/step - loss: 0.2173 - val_loss: 0.2922\n",
      "Epoch 78/100\n",
      "71/71 [==============================] - 4s 50ms/step - loss: 0.2171 - val_loss: 0.2922\n",
      "Epoch 79/100\n",
      "71/71 [==============================] - 4s 61ms/step - loss: 0.2169 - val_loss: 0.2921\n",
      "Epoch 80/100\n",
      "71/71 [==============================] - 4s 62ms/step - loss: 0.2168 - val_loss: 0.2921\n",
      "Epoch 81/100\n",
      "70/71 [============================>.] - ETA: 0s - loss: 0.2167Restoring model weights from the end of the best epoch: 79.\n",
      "71/71 [==============================] - 4s 60ms/step - loss: 0.2166 - val_loss: 0.2922\n",
      "Epoch 81: early stopping\n",
      "In calc_results: 4484, 1494, 1495, sum = 7473\n",
      "In split_to_train_test: dataset_X.shape=(6488, 20, 65), dataset_y.shape=(6488, 65)\n",
      "Epoch 1/100\n",
      "61/61 [==============================] - 3s 49ms/step - loss: 0.3140 - val_loss: 0.3223\n",
      "Epoch 2/100\n",
      "61/61 [==============================] - 3s 51ms/step - loss: 0.3075 - val_loss: 0.3163\n",
      "Epoch 3/100\n",
      "61/61 [==============================] - 3s 49ms/step - loss: 0.3027 - val_loss: 0.3117\n",
      "Epoch 4/100\n",
      "61/61 [==============================] - 3s 52ms/step - loss: 0.2990 - val_loss: 0.3081\n",
      "Epoch 5/100\n",
      "61/61 [==============================] - 3s 49ms/step - loss: 0.2959 - val_loss: 0.3051\n",
      "Epoch 6/100\n",
      "61/61 [==============================] - 3s 49ms/step - loss: 0.2934 - val_loss: 0.3025\n",
      "Epoch 7/100\n",
      "61/61 [==============================] - 3s 49ms/step - loss: 0.2913 - val_loss: 0.3004\n",
      "Epoch 8/100\n",
      "61/61 [==============================] - 3s 49ms/step - loss: 0.2895 - val_loss: 0.2986\n",
      "Epoch 9/100\n",
      "61/61 [==============================] - 3s 49ms/step - loss: 0.2879 - val_loss: 0.2969\n",
      "Epoch 10/100\n",
      "61/61 [==============================] - 3s 49ms/step - loss: 0.2865 - val_loss: 0.2956\n",
      "Epoch 11/100\n",
      "61/61 [==============================] - 3s 49ms/step - loss: 0.2853 - val_loss: 0.2943\n",
      "Epoch 12/100\n",
      "61/61 [==============================] - 3s 49ms/step - loss: 0.2841 - val_loss: 0.2931\n",
      "Epoch 13/100\n",
      "61/61 [==============================] - 3s 49ms/step - loss: 0.2831 - val_loss: 0.2921\n",
      "Epoch 14/100\n",
      "61/61 [==============================] - 3s 49ms/step - loss: 0.2821 - val_loss: 0.2911\n",
      "Epoch 15/100\n",
      "61/61 [==============================] - 3s 49ms/step - loss: 0.2812 - val_loss: 0.2902\n",
      "Epoch 16/100\n",
      "61/61 [==============================] - 3s 49ms/step - loss: 0.2804 - val_loss: 0.2894\n",
      "Epoch 17/100\n",
      "61/61 [==============================] - 3s 49ms/step - loss: 0.2796 - val_loss: 0.2886\n",
      "Epoch 18/100\n",
      "61/61 [==============================] - 3s 49ms/step - loss: 0.2788 - val_loss: 0.2879\n",
      "Epoch 19/100\n",
      "61/61 [==============================] - 3s 49ms/step - loss: 0.2781 - val_loss: 0.2872\n",
      "Epoch 20/100\n",
      "61/61 [==============================] - 3s 49ms/step - loss: 0.2774 - val_loss: 0.2865\n",
      "Epoch 21/100\n",
      "61/61 [==============================] - 3s 49ms/step - loss: 0.2768 - val_loss: 0.2858\n",
      "Epoch 22/100\n",
      "61/61 [==============================] - 3s 54ms/step - loss: 0.2761 - val_loss: 0.2852\n",
      "Epoch 23/100\n",
      "61/61 [==============================] - 3s 49ms/step - loss: 0.2755 - val_loss: 0.2846\n",
      "Epoch 24/100\n",
      "61/61 [==============================] - 3s 50ms/step - loss: 0.2750 - val_loss: 0.2841\n",
      "Epoch 25/100\n",
      "61/61 [==============================] - 3s 49ms/step - loss: 0.2744 - val_loss: 0.2835\n",
      "Epoch 26/100\n",
      "61/61 [==============================] - 3s 51ms/step - loss: 0.2738 - val_loss: 0.2830\n",
      "Epoch 27/100\n",
      "61/61 [==============================] - 3s 49ms/step - loss: 0.2733 - val_loss: 0.2825\n",
      "Epoch 28/100\n",
      "61/61 [==============================] - 3s 49ms/step - loss: 0.2728 - val_loss: 0.2820\n",
      "Epoch 29/100\n",
      "61/61 [==============================] - 3s 49ms/step - loss: 0.2723 - val_loss: 0.2815\n",
      "Epoch 30/100\n",
      "61/61 [==============================] - 3s 49ms/step - loss: 0.2718 - val_loss: 0.2811\n",
      "Epoch 31/100\n",
      "61/61 [==============================] - 3s 48ms/step - loss: 0.2713 - val_loss: 0.2806\n",
      "Epoch 32/100\n",
      "61/61 [==============================] - 3s 49ms/step - loss: 0.2709 - val_loss: 0.2802\n",
      "Epoch 33/100\n",
      "61/61 [==============================] - 3s 48ms/step - loss: 0.2704 - val_loss: 0.2798\n",
      "Epoch 34/100\n",
      "61/61 [==============================] - 3s 52ms/step - loss: 0.2700 - val_loss: 0.2794\n",
      "Epoch 35/100\n",
      "61/61 [==============================] - 3s 49ms/step - loss: 0.2696 - val_loss: 0.2790\n",
      "Epoch 36/100\n",
      "61/61 [==============================] - 3s 49ms/step - loss: 0.2692 - val_loss: 0.2786\n",
      "Epoch 37/100\n",
      "61/61 [==============================] - 3s 49ms/step - loss: 0.2688 - val_loss: 0.2783\n",
      "Epoch 38/100\n",
      "61/61 [==============================] - 3s 51ms/step - loss: 0.2684 - val_loss: 0.2779\n",
      "Epoch 39/100\n",
      "61/61 [==============================] - 3s 54ms/step - loss: 0.2680 - val_loss: 0.2776\n",
      "Epoch 40/100\n",
      "61/61 [==============================] - 3s 49ms/step - loss: 0.2676 - val_loss: 0.2773\n",
      "Epoch 41/100\n",
      "61/61 [==============================] - 3s 49ms/step - loss: 0.2673 - val_loss: 0.2769\n",
      "Epoch 42/100\n",
      "61/61 [==============================] - 3s 49ms/step - loss: 0.2669 - val_loss: 0.2767\n",
      "Epoch 43/100\n",
      "61/61 [==============================] - 3s 49ms/step - loss: 0.2666 - val_loss: 0.2764\n",
      "Epoch 44/100\n",
      "61/61 [==============================] - 3s 49ms/step - loss: 0.2662 - val_loss: 0.2761\n",
      "Epoch 45/100\n",
      "61/61 [==============================] - 3s 49ms/step - loss: 0.2659 - val_loss: 0.2758\n",
      "Epoch 46/100\n",
      "61/61 [==============================] - 3s 49ms/step - loss: 0.2656 - val_loss: 0.2756\n",
      "Epoch 47/100\n",
      "61/61 [==============================] - 3s 53ms/step - loss: 0.2652 - val_loss: 0.2753\n",
      "Epoch 48/100\n",
      "61/61 [==============================] - 3s 49ms/step - loss: 0.2649 - val_loss: 0.2751\n",
      "Epoch 49/100\n",
      "61/61 [==============================] - 3s 51ms/step - loss: 0.2646 - val_loss: 0.2748\n",
      "Epoch 50/100\n",
      "61/61 [==============================] - 3s 49ms/step - loss: 0.2643 - val_loss: 0.2746\n",
      "Epoch 51/100\n",
      "61/61 [==============================] - 3s 50ms/step - loss: 0.2640 - val_loss: 0.2744\n",
      "Epoch 52/100\n",
      "61/61 [==============================] - 3s 50ms/step - loss: 0.2638 - val_loss: 0.2742\n",
      "Epoch 53/100\n",
      "61/61 [==============================] - 3s 49ms/step - loss: 0.2635 - val_loss: 0.2740\n",
      "Epoch 54/100\n",
      "61/61 [==============================] - 3s 50ms/step - loss: 0.2632 - val_loss: 0.2738\n",
      "Epoch 55/100\n",
      "61/61 [==============================] - 3s 49ms/step - loss: 0.2629 - val_loss: 0.2736\n",
      "Epoch 56/100\n",
      "61/61 [==============================] - 3s 51ms/step - loss: 0.2626 - val_loss: 0.2734\n",
      "Epoch 57/100\n",
      "61/61 [==============================] - 3s 49ms/step - loss: 0.2624 - val_loss: 0.2733\n",
      "Epoch 58/100\n",
      "61/61 [==============================] - 3s 49ms/step - loss: 0.2621 - val_loss: 0.2731\n",
      "Epoch 59/100\n",
      "61/61 [==============================] - 3s 54ms/step - loss: 0.2619 - val_loss: 0.2729\n",
      "Epoch 60/100\n",
      "61/61 [==============================] - 3s 49ms/step - loss: 0.2616 - val_loss: 0.2727\n",
      "Epoch 61/100\n"
     ]
    },
    {
     "name": "stdout",
     "output_type": "stream",
     "text": [
      "61/61 [==============================] - 3s 49ms/step - loss: 0.2614 - val_loss: 0.2726\n",
      "Epoch 62/100\n",
      "61/61 [==============================] - 3s 49ms/step - loss: 0.2611 - val_loss: 0.2725\n",
      "Epoch 63/100\n",
      "61/61 [==============================] - 3s 53ms/step - loss: 0.2609 - val_loss: 0.2723\n",
      "Epoch 64/100\n",
      "61/61 [==============================] - 3s 49ms/step - loss: 0.2606 - val_loss: 0.2722\n",
      "Epoch 65/100\n",
      "61/61 [==============================] - 3s 53ms/step - loss: 0.2604 - val_loss: 0.2720\n",
      "Epoch 66/100\n",
      "61/61 [==============================] - 3s 49ms/step - loss: 0.2602 - val_loss: 0.2719\n",
      "Epoch 67/100\n",
      "61/61 [==============================] - 3s 49ms/step - loss: 0.2600 - val_loss: 0.2717\n",
      "Epoch 68/100\n",
      "61/61 [==============================] - 3s 50ms/step - loss: 0.2598 - val_loss: 0.2717\n",
      "Epoch 69/100\n",
      "61/61 [==============================] - 3s 49ms/step - loss: 0.2596 - val_loss: 0.2715\n",
      "Epoch 70/100\n",
      "61/61 [==============================] - 3s 49ms/step - loss: 0.2593 - val_loss: 0.2714\n",
      "Epoch 71/100\n",
      "61/61 [==============================] - 3s 49ms/step - loss: 0.2591 - val_loss: 0.2713\n",
      "Epoch 72/100\n",
      "61/61 [==============================] - 3s 49ms/step - loss: 0.2589 - val_loss: 0.2711\n",
      "Epoch 73/100\n",
      "61/61 [==============================] - 3s 52ms/step - loss: 0.2587 - val_loss: 0.2711\n",
      "Epoch 74/100\n",
      "61/61 [==============================] - 3s 49ms/step - loss: 0.2585 - val_loss: 0.2709\n",
      "Epoch 75/100\n",
      "61/61 [==============================] - 3s 52ms/step - loss: 0.2583 - val_loss: 0.2709\n",
      "Epoch 76/100\n",
      "61/61 [==============================] - 3s 49ms/step - loss: 0.2582 - val_loss: 0.2707\n",
      "Epoch 77/100\n",
      "61/61 [==============================] - 3s 48ms/step - loss: 0.2579 - val_loss: 0.2707\n",
      "Epoch 78/100\n",
      "61/61 [==============================] - 3s 49ms/step - loss: 0.2577 - val_loss: 0.2705\n",
      "Epoch 79/100\n",
      "61/61 [==============================] - 3s 49ms/step - loss: 0.2576 - val_loss: 0.2704\n",
      "Epoch 80/100\n",
      "61/61 [==============================] - 3s 49ms/step - loss: 0.2574 - val_loss: 0.2704\n",
      "Epoch 81/100\n",
      "61/61 [==============================] - 3s 49ms/step - loss: 0.2572 - val_loss: 0.2702\n",
      "Epoch 82/100\n",
      "61/61 [==============================] - 3s 49ms/step - loss: 0.2570 - val_loss: 0.2701\n",
      "Epoch 83/100\n",
      "61/61 [==============================] - 3s 51ms/step - loss: 0.2568 - val_loss: 0.2701\n",
      "Epoch 84/100\n",
      "61/61 [==============================] - 3s 49ms/step - loss: 0.2567 - val_loss: 0.2700\n",
      "Epoch 85/100\n",
      "61/61 [==============================] - 3s 50ms/step - loss: 0.2565 - val_loss: 0.2699\n",
      "Epoch 86/100\n",
      "61/61 [==============================] - 3s 49ms/step - loss: 0.2563 - val_loss: 0.2698\n",
      "Epoch 87/100\n",
      "61/61 [==============================] - 3s 51ms/step - loss: 0.2561 - val_loss: 0.2698\n",
      "Epoch 88/100\n",
      "61/61 [==============================] - 3s 49ms/step - loss: 0.2559 - val_loss: 0.2697\n",
      "Epoch 89/100\n",
      "61/61 [==============================] - 3s 50ms/step - loss: 0.2557 - val_loss: 0.2696\n",
      "Epoch 90/100\n",
      "61/61 [==============================] - 3s 50ms/step - loss: 0.2556 - val_loss: 0.2696\n",
      "Epoch 91/100\n",
      "61/61 [==============================] - 3s 50ms/step - loss: 0.2554 - val_loss: 0.2694\n",
      "Epoch 92/100\n",
      "61/61 [==============================] - 3s 54ms/step - loss: 0.2552 - val_loss: 0.2694\n",
      "Epoch 93/100\n",
      "61/61 [==============================] - 3s 49ms/step - loss: 0.2551 - val_loss: 0.2694\n",
      "Epoch 94/100\n",
      "61/61 [==============================] - 3s 54ms/step - loss: 0.2549 - val_loss: 0.2693\n",
      "Epoch 95/100\n",
      "61/61 [==============================] - 3s 56ms/step - loss: 0.2547 - val_loss: 0.2692\n",
      "Epoch 96/100\n",
      "61/61 [==============================] - 3s 50ms/step - loss: 0.2545 - val_loss: 0.2691\n",
      "Epoch 97/100\n",
      "61/61 [==============================] - 3s 51ms/step - loss: 0.2544 - val_loss: 0.2691\n",
      "Epoch 98/100\n",
      "61/61 [==============================] - 3s 52ms/step - loss: 0.2542 - val_loss: 0.2690\n",
      "Epoch 99/100\n",
      "61/61 [==============================] - 3s 51ms/step - loss: 0.2541 - val_loss: 0.2690\n",
      "Epoch 100/100\n",
      "61/61 [==============================] - 3s 50ms/step - loss: 0.2539 - val_loss: 0.2690\n",
      "In calc_results: 3893, 1297, 1298, sum = 6488\n",
      "In split_to_train_test: dataset_X.shape=(6393, 20, 65), dataset_y.shape=(6393, 65)\n",
      "Epoch 1/100\n",
      "60/60 [==============================] - 3s 52ms/step - loss: 0.2974 - val_loss: 0.3065\n",
      "Epoch 2/100\n",
      "60/60 [==============================] - 3s 49ms/step - loss: 0.2906 - val_loss: 0.3008\n",
      "Epoch 3/100\n",
      "60/60 [==============================] - 3s 48ms/step - loss: 0.2858 - val_loss: 0.2965\n",
      "Epoch 4/100\n",
      "60/60 [==============================] - 3s 48ms/step - loss: 0.2820 - val_loss: 0.2933\n",
      "Epoch 5/100\n",
      "60/60 [==============================] - 3s 48ms/step - loss: 0.2790 - val_loss: 0.2907\n",
      "Epoch 6/100\n",
      "60/60 [==============================] - 3s 48ms/step - loss: 0.2766 - val_loss: 0.2886\n",
      "Epoch 7/100\n",
      "60/60 [==============================] - 3s 48ms/step - loss: 0.2745 - val_loss: 0.2868\n",
      "Epoch 8/100\n",
      "60/60 [==============================] - 3s 48ms/step - loss: 0.2727 - val_loss: 0.2852\n",
      "Epoch 9/100\n",
      "60/60 [==============================] - 3s 50ms/step - loss: 0.2712 - val_loss: 0.2838\n",
      "Epoch 10/100\n",
      "60/60 [==============================] - 3s 51ms/step - loss: 0.2698 - val_loss: 0.2826\n",
      "Epoch 11/100\n",
      "60/60 [==============================] - 3s 48ms/step - loss: 0.2686 - val_loss: 0.2815\n",
      "Epoch 12/100\n",
      "60/60 [==============================] - 3s 48ms/step - loss: 0.2674 - val_loss: 0.2806\n",
      "Epoch 13/100\n",
      "60/60 [==============================] - 3s 48ms/step - loss: 0.2664 - val_loss: 0.2797\n",
      "Epoch 14/100\n",
      "60/60 [==============================] - 3s 48ms/step - loss: 0.2655 - val_loss: 0.2789\n",
      "Epoch 15/100\n",
      "60/60 [==============================] - 3s 48ms/step - loss: 0.2646 - val_loss: 0.2781\n",
      "Epoch 16/100\n",
      "60/60 [==============================] - 3s 48ms/step - loss: 0.2638 - val_loss: 0.2775\n",
      "Epoch 17/100\n",
      "60/60 [==============================] - 3s 48ms/step - loss: 0.2630 - val_loss: 0.2768\n",
      "Epoch 18/100\n",
      "60/60 [==============================] - 3s 48ms/step - loss: 0.2623 - val_loss: 0.2762\n",
      "Epoch 19/100\n",
      "60/60 [==============================] - 3s 48ms/step - loss: 0.2616 - val_loss: 0.2757\n",
      "Epoch 20/100\n",
      "60/60 [==============================] - 3s 51ms/step - loss: 0.2610 - val_loss: 0.2751\n",
      "Epoch 21/100\n",
      "60/60 [==============================] - 3s 56ms/step - loss: 0.2604 - val_loss: 0.2746\n",
      "Epoch 22/100\n",
      "60/60 [==============================] - 3s 49ms/step - loss: 0.2598 - val_loss: 0.2742\n",
      "Epoch 23/100\n",
      "60/60 [==============================] - 3s 48ms/step - loss: 0.2592 - val_loss: 0.2737\n",
      "Epoch 24/100\n",
      "60/60 [==============================] - 3s 48ms/step - loss: 0.2587 - val_loss: 0.2733\n",
      "Epoch 25/100\n",
      "60/60 [==============================] - 3s 49ms/step - loss: 0.2582 - val_loss: 0.2729\n",
      "Epoch 26/100\n",
      "60/60 [==============================] - 3s 49ms/step - loss: 0.2577 - val_loss: 0.2725\n",
      "Epoch 27/100\n",
      "60/60 [==============================] - 3s 48ms/step - loss: 0.2572 - val_loss: 0.2721\n",
      "Epoch 28/100\n",
      "60/60 [==============================] - 3s 49ms/step - loss: 0.2567 - val_loss: 0.2718\n",
      "Epoch 29/100\n",
      "60/60 [==============================] - 3s 48ms/step - loss: 0.2562 - val_loss: 0.2714\n",
      "Epoch 30/100\n",
      "60/60 [==============================] - 3s 48ms/step - loss: 0.2558 - val_loss: 0.2711\n",
      "Epoch 31/100\n",
      "60/60 [==============================] - 3s 49ms/step - loss: 0.2554 - val_loss: 0.2708\n",
      "Epoch 32/100\n",
      "60/60 [==============================] - 3s 48ms/step - loss: 0.2550 - val_loss: 0.2705\n",
      "Epoch 33/100\n",
      "60/60 [==============================] - 3s 48ms/step - loss: 0.2546 - val_loss: 0.2702\n",
      "Epoch 34/100\n",
      "60/60 [==============================] - 3s 53ms/step - loss: 0.2542 - val_loss: 0.2699\n",
      "Epoch 35/100\n",
      "60/60 [==============================] - 3s 48ms/step - loss: 0.2538 - val_loss: 0.2696\n",
      "Epoch 36/100\n",
      "60/60 [==============================] - 3s 49ms/step - loss: 0.2534 - val_loss: 0.2693\n",
      "Epoch 37/100\n",
      "60/60 [==============================] - 3s 49ms/step - loss: 0.2530 - val_loss: 0.2691\n",
      "Epoch 38/100\n",
      "60/60 [==============================] - 3s 48ms/step - loss: 0.2527 - val_loss: 0.2688\n",
      "Epoch 39/100\n",
      "60/60 [==============================] - 3s 49ms/step - loss: 0.2523 - val_loss: 0.2686\n",
      "Epoch 40/100\n",
      "60/60 [==============================] - 3s 48ms/step - loss: 0.2520 - val_loss: 0.2683\n",
      "Epoch 41/100\n"
     ]
    },
    {
     "name": "stdout",
     "output_type": "stream",
     "text": [
      "60/60 [==============================] - 3s 48ms/step - loss: 0.2516 - val_loss: 0.2681\n",
      "Epoch 42/100\n",
      "60/60 [==============================] - 3s 50ms/step - loss: 0.2513 - val_loss: 0.2679\n",
      "Epoch 43/100\n",
      "60/60 [==============================] - 3s 48ms/step - loss: 0.2510 - val_loss: 0.2676\n",
      "Epoch 44/100\n",
      "60/60 [==============================] - 3s 52ms/step - loss: 0.2507 - val_loss: 0.2674\n",
      "Epoch 45/100\n",
      "60/60 [==============================] - 3s 51ms/step - loss: 0.2503 - val_loss: 0.2672\n",
      "Epoch 46/100\n",
      "60/60 [==============================] - 3s 48ms/step - loss: 0.2500 - val_loss: 0.2670\n",
      "Epoch 47/100\n",
      "60/60 [==============================] - 3s 48ms/step - loss: 0.2497 - val_loss: 0.2668\n",
      "Epoch 48/100\n",
      "60/60 [==============================] - 3s 49ms/step - loss: 0.2495 - val_loss: 0.2666\n",
      "Epoch 49/100\n",
      "60/60 [==============================] - 3s 49ms/step - loss: 0.2492 - val_loss: 0.2664\n",
      "Epoch 50/100\n",
      "60/60 [==============================] - 3s 51ms/step - loss: 0.2489 - val_loss: 0.2662\n",
      "Epoch 51/100\n",
      "60/60 [==============================] - 3s 48ms/step - loss: 0.2486 - val_loss: 0.2661\n",
      "Epoch 52/100\n",
      "60/60 [==============================] - 3s 48ms/step - loss: 0.2484 - val_loss: 0.2659\n",
      "Epoch 53/100\n",
      "60/60 [==============================] - 3s 48ms/step - loss: 0.2481 - val_loss: 0.2657\n",
      "Epoch 54/100\n",
      "60/60 [==============================] - 3s 48ms/step - loss: 0.2478 - val_loss: 0.2656\n",
      "Epoch 55/100\n",
      "60/60 [==============================] - 3s 50ms/step - loss: 0.2476 - val_loss: 0.2654\n",
      "Epoch 56/100\n",
      "60/60 [==============================] - 3s 52ms/step - loss: 0.2474 - val_loss: 0.2653\n",
      "Epoch 57/100\n",
      "60/60 [==============================] - 3s 49ms/step - loss: 0.2471 - val_loss: 0.2652\n",
      "Epoch 58/100\n",
      "60/60 [==============================] - 3s 51ms/step - loss: 0.2469 - val_loss: 0.2650\n",
      "Epoch 59/100\n",
      "60/60 [==============================] - 3s 50ms/step - loss: 0.2467 - val_loss: 0.2649\n",
      "Epoch 60/100\n",
      "60/60 [==============================] - 3s 50ms/step - loss: 0.2464 - val_loss: 0.2648\n",
      "Epoch 61/100\n",
      "60/60 [==============================] - 3s 51ms/step - loss: 0.2462 - val_loss: 0.2646\n",
      "Epoch 62/100\n",
      "60/60 [==============================] - 3s 50ms/step - loss: 0.2460 - val_loss: 0.2645\n",
      "Epoch 63/100\n",
      "60/60 [==============================] - 3s 50ms/step - loss: 0.2458 - val_loss: 0.2644\n",
      "Epoch 64/100\n",
      "60/60 [==============================] - 3s 53ms/step - loss: 0.2456 - val_loss: 0.2643\n",
      "Epoch 65/100\n",
      "60/60 [==============================] - 3s 49ms/step - loss: 0.2454 - val_loss: 0.2642\n",
      "Epoch 66/100\n",
      "60/60 [==============================] - 3s 49ms/step - loss: 0.2452 - val_loss: 0.2641\n",
      "Epoch 67/100\n",
      "60/60 [==============================] - 3s 49ms/step - loss: 0.2450 - val_loss: 0.2639\n",
      "Epoch 68/100\n",
      "60/60 [==============================] - 3s 48ms/step - loss: 0.2448 - val_loss: 0.2638\n",
      "Epoch 69/100\n",
      "60/60 [==============================] - 3s 52ms/step - loss: 0.2446 - val_loss: 0.2637\n",
      "Epoch 70/100\n",
      "60/60 [==============================] - 3s 49ms/step - loss: 0.2444 - val_loss: 0.2636\n",
      "Epoch 71/100\n",
      "60/60 [==============================] - 3s 52ms/step - loss: 0.2443 - val_loss: 0.2635\n",
      "Epoch 72/100\n",
      "60/60 [==============================] - 3s 51ms/step - loss: 0.2441 - val_loss: 0.2634\n",
      "Epoch 73/100\n",
      "60/60 [==============================] - 3s 49ms/step - loss: 0.2439 - val_loss: 0.2634\n",
      "Epoch 74/100\n",
      "60/60 [==============================] - 3s 55ms/step - loss: 0.2437 - val_loss: 0.2631\n",
      "Epoch 75/100\n",
      "60/60 [==============================] - 3s 49ms/step - loss: 0.2435 - val_loss: 0.2631\n",
      "Epoch 76/100\n",
      "60/60 [==============================] - 3s 50ms/step - loss: 0.2434 - val_loss: 0.2630\n",
      "Epoch 77/100\n",
      "60/60 [==============================] - 3s 49ms/step - loss: 0.2432 - val_loss: 0.2630\n",
      "Epoch 78/100\n",
      "60/60 [==============================] - 3s 50ms/step - loss: 0.2430 - val_loss: 0.2628\n",
      "Epoch 79/100\n",
      "60/60 [==============================] - 3s 49ms/step - loss: 0.2429 - val_loss: 0.2628\n",
      "Epoch 80/100\n",
      "60/60 [==============================] - 3s 51ms/step - loss: 0.2427 - val_loss: 0.2627\n",
      "Epoch 81/100\n",
      "60/60 [==============================] - 3s 55ms/step - loss: 0.2425 - val_loss: 0.2627\n",
      "Epoch 82/100\n",
      "60/60 [==============================] - 3s 55ms/step - loss: 0.2424 - val_loss: 0.2625\n",
      "Epoch 83/100\n",
      "60/60 [==============================] - 3s 51ms/step - loss: 0.2422 - val_loss: 0.2625\n",
      "Epoch 84/100\n",
      "60/60 [==============================] - 3s 52ms/step - loss: 0.2420 - val_loss: 0.2624\n",
      "Epoch 85/100\n",
      "60/60 [==============================] - 3s 54ms/step - loss: 0.2419 - val_loss: 0.2623\n",
      "Epoch 86/100\n",
      "60/60 [==============================] - 3s 50ms/step - loss: 0.2417 - val_loss: 0.2622\n",
      "Epoch 87/100\n",
      "60/60 [==============================] - 3s 51ms/step - loss: 0.2416 - val_loss: 0.2621\n",
      "Epoch 88/100\n",
      "60/60 [==============================] - 3s 49ms/step - loss: 0.2414 - val_loss: 0.2620\n",
      "Epoch 89/100\n",
      "60/60 [==============================] - 3s 52ms/step - loss: 0.2412 - val_loss: 0.2620\n",
      "Epoch 90/100\n",
      "60/60 [==============================] - 3s 49ms/step - loss: 0.2411 - val_loss: 0.2619\n",
      "Epoch 91/100\n",
      "60/60 [==============================] - 3s 49ms/step - loss: 0.2409 - val_loss: 0.2618\n",
      "Epoch 92/100\n",
      "60/60 [==============================] - 3s 49ms/step - loss: 0.2408 - val_loss: 0.2618\n",
      "Epoch 93/100\n",
      "60/60 [==============================] - 3s 49ms/step - loss: 0.2406 - val_loss: 0.2618\n",
      "Epoch 94/100\n",
      "60/60 [==============================] - 3s 48ms/step - loss: 0.2405 - val_loss: 0.2616\n",
      "Epoch 95/100\n",
      "60/60 [==============================] - 3s 51ms/step - loss: 0.2403 - val_loss: 0.2615\n",
      "Epoch 96/100\n",
      "60/60 [==============================] - 3s 50ms/step - loss: 0.2402 - val_loss: 0.2614\n",
      "Epoch 97/100\n",
      "60/60 [==============================] - 3s 50ms/step - loss: 0.2400 - val_loss: 0.2614\n",
      "Epoch 98/100\n",
      "60/60 [==============================] - 3s 48ms/step - loss: 0.2399 - val_loss: 0.2613\n",
      "Epoch 99/100\n",
      "60/60 [==============================] - 3s 49ms/step - loss: 0.2397 - val_loss: 0.2612\n",
      "Epoch 100/100\n",
      "60/60 [==============================] - 3s 49ms/step - loss: 0.2396 - val_loss: 0.2612\n",
      "In calc_results: 3836, 1278, 1279, sum = 6393\n",
      "In split_to_train_test: dataset_X.shape=(196, 20, 65), dataset_y.shape=(196, 65)\n",
      "Epoch 1/100\n",
      "2/2 [==============================] - 0s 115ms/step - loss: 0.8720 - val_loss: 0.2790\n",
      "Epoch 2/100\n",
      "2/2 [==============================] - 0s 81ms/step - loss: 0.8707 - val_loss: 0.2788\n",
      "Epoch 3/100\n",
      "2/2 [==============================] - 0s 83ms/step - loss: 0.8696 - val_loss: 0.2786\n",
      "Epoch 4/100\n",
      "2/2 [==============================] - 0s 91ms/step - loss: 0.8685 - val_loss: 0.2784\n",
      "Epoch 5/100\n",
      "2/2 [==============================] - 0s 88ms/step - loss: 0.8674 - val_loss: 0.2782\n",
      "Epoch 6/100\n",
      "2/2 [==============================] - 0s 81ms/step - loss: 0.8664 - val_loss: 0.2780\n",
      "Epoch 7/100\n",
      "2/2 [==============================] - 0s 82ms/step - loss: 0.8653 - val_loss: 0.2778\n",
      "Epoch 8/100\n",
      "2/2 [==============================] - 0s 87ms/step - loss: 0.8643 - val_loss: 0.2776\n",
      "Epoch 9/100\n",
      "2/2 [==============================] - 0s 83ms/step - loss: 0.8633 - val_loss: 0.2774\n",
      "Epoch 10/100\n",
      "2/2 [==============================] - 0s 82ms/step - loss: 0.8623 - val_loss: 0.2772\n",
      "Epoch 11/100\n",
      "2/2 [==============================] - 0s 82ms/step - loss: 0.8613 - val_loss: 0.2770\n",
      "Epoch 12/100\n",
      "2/2 [==============================] - 0s 84ms/step - loss: 0.8604 - val_loss: 0.2768\n",
      "Epoch 13/100\n",
      "2/2 [==============================] - 0s 83ms/step - loss: 0.8594 - val_loss: 0.2766\n",
      "Epoch 14/100\n",
      "2/2 [==============================] - 0s 83ms/step - loss: 0.8586 - val_loss: 0.2765\n",
      "Epoch 15/100\n",
      "2/2 [==============================] - 0s 81ms/step - loss: 0.8576 - val_loss: 0.2763\n",
      "Epoch 16/100\n",
      "2/2 [==============================] - 0s 81ms/step - loss: 0.8567 - val_loss: 0.2761\n",
      "Epoch 17/100\n",
      "2/2 [==============================] - 0s 81ms/step - loss: 0.8558 - val_loss: 0.2759\n",
      "Epoch 18/100\n",
      "2/2 [==============================] - 0s 82ms/step - loss: 0.8550 - val_loss: 0.2758\n",
      "Epoch 19/100\n",
      "2/2 [==============================] - 0s 86ms/step - loss: 0.8541 - val_loss: 0.2756\n",
      "Epoch 20/100\n",
      "2/2 [==============================] - 0s 92ms/step - loss: 0.8532 - val_loss: 0.2754\n",
      "Epoch 21/100\n"
     ]
    },
    {
     "name": "stdout",
     "output_type": "stream",
     "text": [
      "2/2 [==============================] - 0s 80ms/step - loss: 0.8523 - val_loss: 0.2753\n",
      "Epoch 22/100\n",
      "2/2 [==============================] - 0s 82ms/step - loss: 0.8515 - val_loss: 0.2751\n",
      "Epoch 23/100\n",
      "2/2 [==============================] - 0s 84ms/step - loss: 0.8507 - val_loss: 0.2749\n",
      "Epoch 24/100\n",
      "2/2 [==============================] - 0s 91ms/step - loss: 0.8498 - val_loss: 0.2748\n",
      "Epoch 25/100\n",
      "2/2 [==============================] - 0s 93ms/step - loss: 0.8490 - val_loss: 0.2746\n",
      "Epoch 26/100\n",
      "2/2 [==============================] - 0s 89ms/step - loss: 0.8482 - val_loss: 0.2745\n",
      "Epoch 27/100\n",
      "2/2 [==============================] - 0s 91ms/step - loss: 0.8474 - val_loss: 0.2743\n",
      "Epoch 28/100\n",
      "2/2 [==============================] - 0s 88ms/step - loss: 0.8465 - val_loss: 0.2742\n",
      "Epoch 29/100\n",
      "2/2 [==============================] - 0s 81ms/step - loss: 0.8457 - val_loss: 0.2740\n",
      "Epoch 30/100\n",
      "2/2 [==============================] - 0s 91ms/step - loss: 0.8450 - val_loss: 0.2739\n",
      "Epoch 31/100\n",
      "2/2 [==============================] - 0s 93ms/step - loss: 0.8442 - val_loss: 0.2737\n",
      "Epoch 32/100\n",
      "2/2 [==============================] - 0s 92ms/step - loss: 0.8434 - val_loss: 0.2736\n",
      "Epoch 33/100\n",
      "2/2 [==============================] - 0s 89ms/step - loss: 0.8427 - val_loss: 0.2735\n",
      "Epoch 34/100\n",
      "2/2 [==============================] - 0s 88ms/step - loss: 0.8419 - val_loss: 0.2733\n",
      "Epoch 35/100\n",
      "2/2 [==============================] - 0s 89ms/step - loss: 0.8411 - val_loss: 0.2732\n",
      "Epoch 36/100\n",
      "2/2 [==============================] - 0s 91ms/step - loss: 0.8404 - val_loss: 0.2731\n",
      "Epoch 37/100\n",
      "2/2 [==============================] - 0s 92ms/step - loss: 0.8397 - val_loss: 0.2729\n",
      "Epoch 38/100\n",
      "2/2 [==============================] - 0s 85ms/step - loss: 0.8390 - val_loss: 0.2728\n",
      "Epoch 39/100\n",
      "2/2 [==============================] - 0s 89ms/step - loss: 0.8382 - val_loss: 0.2727\n",
      "Epoch 40/100\n",
      "2/2 [==============================] - 0s 81ms/step - loss: 0.8375 - val_loss: 0.2725\n",
      "Epoch 41/100\n",
      "2/2 [==============================] - 0s 89ms/step - loss: 0.8369 - val_loss: 0.2724\n",
      "Epoch 42/100\n",
      "2/2 [==============================] - 0s 93ms/step - loss: 0.8362 - val_loss: 0.2723\n",
      "Epoch 43/100\n",
      "2/2 [==============================] - 0s 81ms/step - loss: 0.8355 - val_loss: 0.2722\n",
      "Epoch 44/100\n",
      "2/2 [==============================] - 0s 83ms/step - loss: 0.8348 - val_loss: 0.2720\n",
      "Epoch 45/100\n",
      "2/2 [==============================] - 0s 83ms/step - loss: 0.8342 - val_loss: 0.2719\n",
      "Epoch 46/100\n",
      "2/2 [==============================] - 0s 84ms/step - loss: 0.8335 - val_loss: 0.2718\n",
      "Epoch 47/100\n",
      "2/2 [==============================] - 0s 92ms/step - loss: 0.8329 - val_loss: 0.2717\n",
      "Epoch 48/100\n",
      "2/2 [==============================] - 0s 88ms/step - loss: 0.8322 - val_loss: 0.2715\n",
      "Epoch 49/100\n",
      "2/2 [==============================] - 0s 82ms/step - loss: 0.8316 - val_loss: 0.2714\n",
      "Epoch 50/100\n",
      "2/2 [==============================] - 0s 91ms/step - loss: 0.8310 - val_loss: 0.2713\n",
      "Epoch 51/100\n",
      "2/2 [==============================] - 0s 91ms/step - loss: 0.8303 - val_loss: 0.2712\n",
      "Epoch 52/100\n",
      "2/2 [==============================] - 0s 92ms/step - loss: 0.8297 - val_loss: 0.2710\n",
      "Epoch 53/100\n",
      "2/2 [==============================] - 0s 84ms/step - loss: 0.8291 - val_loss: 0.2709\n",
      "Epoch 54/100\n",
      "2/2 [==============================] - 0s 91ms/step - loss: 0.8285 - val_loss: 0.2708\n",
      "Epoch 55/100\n",
      "2/2 [==============================] - 0s 91ms/step - loss: 0.8279 - val_loss: 0.2707\n",
      "Epoch 56/100\n",
      "2/2 [==============================] - 0s 92ms/step - loss: 0.8273 - val_loss: 0.2706\n",
      "Epoch 57/100\n",
      "2/2 [==============================] - 0s 91ms/step - loss: 0.8267 - val_loss: 0.2705\n",
      "Epoch 58/100\n",
      "2/2 [==============================] - 0s 85ms/step - loss: 0.8261 - val_loss: 0.2704\n",
      "Epoch 59/100\n",
      "2/2 [==============================] - 0s 91ms/step - loss: 0.8256 - val_loss: 0.2703\n",
      "Epoch 60/100\n",
      "2/2 [==============================] - 0s 94ms/step - loss: 0.8250 - val_loss: 0.2702\n",
      "Epoch 61/100\n",
      "2/2 [==============================] - 0s 92ms/step - loss: 0.8244 - val_loss: 0.2701\n",
      "Epoch 62/100\n",
      "2/2 [==============================] - 0s 84ms/step - loss: 0.8239 - val_loss: 0.2700\n",
      "Epoch 63/100\n",
      "2/2 [==============================] - 0s 82ms/step - loss: 0.8233 - val_loss: 0.2699\n",
      "Epoch 64/100\n",
      "2/2 [==============================] - 0s 81ms/step - loss: 0.8227 - val_loss: 0.2698\n",
      "Epoch 65/100\n",
      "2/2 [==============================] - 0s 84ms/step - loss: 0.8222 - val_loss: 0.2697\n",
      "Epoch 66/100\n",
      "2/2 [==============================] - 0s 92ms/step - loss: 0.8216 - val_loss: 0.2696\n",
      "Epoch 67/100\n",
      "2/2 [==============================] - 0s 93ms/step - loss: 0.8211 - val_loss: 0.2695\n",
      "Epoch 68/100\n",
      "2/2 [==============================] - 0s 82ms/step - loss: 0.8205 - val_loss: 0.2694\n",
      "Epoch 69/100\n",
      "2/2 [==============================] - 0s 87ms/step - loss: 0.8200 - val_loss: 0.2693\n",
      "Epoch 70/100\n",
      "2/2 [==============================] - 0s 81ms/step - loss: 0.8195 - val_loss: 0.2692\n",
      "Epoch 71/100\n",
      "2/2 [==============================] - 0s 82ms/step - loss: 0.8189 - val_loss: 0.2691\n",
      "Epoch 72/100\n",
      "2/2 [==============================] - 0s 82ms/step - loss: 0.8184 - val_loss: 0.2690\n",
      "Epoch 73/100\n",
      "2/2 [==============================] - 0s 90ms/step - loss: 0.8179 - val_loss: 0.2689\n",
      "Epoch 74/100\n",
      "2/2 [==============================] - 0s 82ms/step - loss: 0.8174 - val_loss: 0.2688\n",
      "Epoch 75/100\n",
      "2/2 [==============================] - 0s 82ms/step - loss: 0.8169 - val_loss: 0.2688\n",
      "Epoch 76/100\n",
      "2/2 [==============================] - 0s 81ms/step - loss: 0.8164 - val_loss: 0.2687\n",
      "Epoch 77/100\n",
      "2/2 [==============================] - 0s 84ms/step - loss: 0.8158 - val_loss: 0.2686\n",
      "Epoch 78/100\n",
      "2/2 [==============================] - 0s 83ms/step - loss: 0.8153 - val_loss: 0.2685\n",
      "Epoch 79/100\n",
      "2/2 [==============================] - 0s 84ms/step - loss: 0.8148 - val_loss: 0.2684\n",
      "Epoch 80/100\n",
      "2/2 [==============================] - 0s 84ms/step - loss: 0.8144 - val_loss: 0.2683\n",
      "Epoch 81/100\n",
      "2/2 [==============================] - 0s 96ms/step - loss: 0.8139 - val_loss: 0.2683\n",
      "Epoch 82/100\n",
      "2/2 [==============================] - 0s 89ms/step - loss: 0.8134 - val_loss: 0.2682\n",
      "Epoch 83/100\n",
      "2/2 [==============================] - 0s 82ms/step - loss: 0.8129 - val_loss: 0.2681\n",
      "Epoch 84/100\n",
      "2/2 [==============================] - 0s 87ms/step - loss: 0.8125 - val_loss: 0.2680\n",
      "Epoch 85/100\n",
      "2/2 [==============================] - 0s 83ms/step - loss: 0.8120 - val_loss: 0.2679\n",
      "Epoch 86/100\n",
      "2/2 [==============================] - 0s 81ms/step - loss: 0.8115 - val_loss: 0.2679\n",
      "Epoch 87/100\n",
      "2/2 [==============================] - 0s 84ms/step - loss: 0.8111 - val_loss: 0.2678\n",
      "Epoch 88/100\n",
      "2/2 [==============================] - 0s 82ms/step - loss: 0.8106 - val_loss: 0.2677\n",
      "Epoch 89/100\n",
      "2/2 [==============================] - 0s 82ms/step - loss: 0.8102 - val_loss: 0.2676\n",
      "Epoch 90/100\n",
      "2/2 [==============================] - 0s 85ms/step - loss: 0.8097 - val_loss: 0.2676\n",
      "Epoch 91/100\n",
      "2/2 [==============================] - 0s 88ms/step - loss: 0.8093 - val_loss: 0.2675\n",
      "Epoch 92/100\n",
      "2/2 [==============================] - 0s 84ms/step - loss: 0.8089 - val_loss: 0.2674\n",
      "Epoch 93/100\n",
      "2/2 [==============================] - 0s 82ms/step - loss: 0.8084 - val_loss: 0.2674\n",
      "Epoch 94/100\n",
      "2/2 [==============================] - 0s 82ms/step - loss: 0.8080 - val_loss: 0.2673\n",
      "Epoch 95/100\n",
      "2/2 [==============================] - 0s 83ms/step - loss: 0.8076 - val_loss: 0.2672\n",
      "Epoch 96/100\n",
      "2/2 [==============================] - 0s 82ms/step - loss: 0.8072 - val_loss: 0.2672\n",
      "Epoch 97/100\n",
      "2/2 [==============================] - 0s 83ms/step - loss: 0.8067 - val_loss: 0.2671\n",
      "Epoch 98/100\n",
      "2/2 [==============================] - 0s 82ms/step - loss: 0.8063 - val_loss: 0.2670\n",
      "Epoch 99/100\n",
      "2/2 [==============================] - 0s 83ms/step - loss: 0.8059 - val_loss: 0.2670\n",
      "Epoch 100/100\n",
      "2/2 [==============================] - 0s 82ms/step - loss: 0.8055 - val_loss: 0.2669\n",
      "In calc_results: 118, 39, 39, sum = 196\n",
      "In split_to_train_test: dataset_X.shape=(805, 20, 65), dataset_y.shape=(805, 65)\n",
      "Epoch 1/100\n",
      "8/8 [==============================] - 0s 57ms/step - loss: 0.5829 - val_loss: 0.4870\n",
      "Epoch 2/100\n"
     ]
    },
    {
     "name": "stdout",
     "output_type": "stream",
     "text": [
      "8/8 [==============================] - 0s 52ms/step - loss: 0.5781 - val_loss: 0.4851\n",
      "Epoch 3/100\n",
      "8/8 [==============================] - 0s 52ms/step - loss: 0.5739 - val_loss: 0.4832\n",
      "Epoch 4/100\n",
      "8/8 [==============================] - 0s 53ms/step - loss: 0.5699 - val_loss: 0.4814\n",
      "Epoch 5/100\n",
      "8/8 [==============================] - 0s 53ms/step - loss: 0.5663 - val_loss: 0.4797\n",
      "Epoch 6/100\n",
      "8/8 [==============================] - 0s 54ms/step - loss: 0.5629 - val_loss: 0.4781\n",
      "Epoch 7/100\n",
      "8/8 [==============================] - 0s 54ms/step - loss: 0.5597 - val_loss: 0.4765\n",
      "Epoch 8/100\n",
      "8/8 [==============================] - 0s 53ms/step - loss: 0.5567 - val_loss: 0.4749\n",
      "Epoch 9/100\n",
      "8/8 [==============================] - 0s 53ms/step - loss: 0.5538 - val_loss: 0.4733\n",
      "Epoch 10/100\n",
      "8/8 [==============================] - 0s 52ms/step - loss: 0.5510 - val_loss: 0.4718\n",
      "Epoch 11/100\n",
      "8/8 [==============================] - 0s 53ms/step - loss: 0.5484 - val_loss: 0.4703\n",
      "Epoch 12/100\n",
      "8/8 [==============================] - 0s 54ms/step - loss: 0.5458 - val_loss: 0.4689\n",
      "Epoch 13/100\n",
      "8/8 [==============================] - 0s 53ms/step - loss: 0.5433 - val_loss: 0.4675\n",
      "Epoch 14/100\n",
      "8/8 [==============================] - 0s 52ms/step - loss: 0.5410 - val_loss: 0.4661\n",
      "Epoch 15/100\n",
      "8/8 [==============================] - 0s 52ms/step - loss: 0.5387 - val_loss: 0.4647\n",
      "Epoch 16/100\n",
      "8/8 [==============================] - 0s 53ms/step - loss: 0.5364 - val_loss: 0.4634\n",
      "Epoch 17/100\n",
      "8/8 [==============================] - 0s 60ms/step - loss: 0.5343 - val_loss: 0.4621\n",
      "Epoch 18/100\n",
      "8/8 [==============================] - 0s 57ms/step - loss: 0.5322 - val_loss: 0.4608\n",
      "Epoch 19/100\n",
      "8/8 [==============================] - 0s 53ms/step - loss: 0.5301 - val_loss: 0.4595\n",
      "Epoch 20/100\n",
      "8/8 [==============================] - 0s 54ms/step - loss: 0.5281 - val_loss: 0.4582\n",
      "Epoch 21/100\n",
      "8/8 [==============================] - 0s 55ms/step - loss: 0.5261 - val_loss: 0.4570\n",
      "Epoch 22/100\n",
      "8/8 [==============================] - 0s 53ms/step - loss: 0.5242 - val_loss: 0.4558\n",
      "Epoch 23/100\n",
      "8/8 [==============================] - 0s 52ms/step - loss: 0.5223 - val_loss: 0.4547\n",
      "Epoch 24/100\n",
      "8/8 [==============================] - 0s 52ms/step - loss: 0.5205 - val_loss: 0.4535\n",
      "Epoch 25/100\n",
      "8/8 [==============================] - 0s 52ms/step - loss: 0.5187 - val_loss: 0.4524\n",
      "Epoch 26/100\n",
      "8/8 [==============================] - 0s 52ms/step - loss: 0.5169 - val_loss: 0.4513\n",
      "Epoch 27/100\n",
      "8/8 [==============================] - 0s 53ms/step - loss: 0.5152 - val_loss: 0.4502\n",
      "Epoch 28/100\n",
      "8/8 [==============================] - 0s 52ms/step - loss: 0.5135 - val_loss: 0.4492\n",
      "Epoch 29/100\n",
      "8/8 [==============================] - 0s 54ms/step - loss: 0.5118 - val_loss: 0.4481\n",
      "Epoch 30/100\n",
      "8/8 [==============================] - 0s 54ms/step - loss: 0.5102 - val_loss: 0.4471\n",
      "Epoch 31/100\n",
      "8/8 [==============================] - 0s 53ms/step - loss: 0.5086 - val_loss: 0.4461\n",
      "Epoch 32/100\n",
      "8/8 [==============================] - 0s 52ms/step - loss: 0.5070 - val_loss: 0.4451\n",
      "Epoch 33/100\n",
      "8/8 [==============================] - 0s 52ms/step - loss: 0.5054 - val_loss: 0.4442\n",
      "Epoch 34/100\n",
      "8/8 [==============================] - 0s 53ms/step - loss: 0.5039 - val_loss: 0.4432\n",
      "Epoch 35/100\n",
      "8/8 [==============================] - 0s 54ms/step - loss: 0.5025 - val_loss: 0.4423\n",
      "Epoch 36/100\n",
      "8/8 [==============================] - 0s 54ms/step - loss: 0.5010 - val_loss: 0.4414\n",
      "Epoch 37/100\n",
      "8/8 [==============================] - 0s 52ms/step - loss: 0.4995 - val_loss: 0.4405\n",
      "Epoch 38/100\n",
      "8/8 [==============================] - 0s 52ms/step - loss: 0.4981 - val_loss: 0.4396\n",
      "Epoch 39/100\n",
      "8/8 [==============================] - 0s 55ms/step - loss: 0.4967 - val_loss: 0.4387\n",
      "Epoch 40/100\n",
      "8/8 [==============================] - 0s 52ms/step - loss: 0.4953 - val_loss: 0.4378\n",
      "Epoch 41/100\n",
      "8/8 [==============================] - 0s 54ms/step - loss: 0.4940 - val_loss: 0.4370\n",
      "Epoch 42/100\n",
      "8/8 [==============================] - 0s 52ms/step - loss: 0.4926 - val_loss: 0.4362\n",
      "Epoch 43/100\n",
      "8/8 [==============================] - 0s 54ms/step - loss: 0.4913 - val_loss: 0.4353\n",
      "Epoch 44/100\n",
      "8/8 [==============================] - 0s 53ms/step - loss: 0.4899 - val_loss: 0.4345\n",
      "Epoch 45/100\n",
      "8/8 [==============================] - 0s 52ms/step - loss: 0.4886 - val_loss: 0.4338\n",
      "Epoch 46/100\n",
      "8/8 [==============================] - 0s 53ms/step - loss: 0.4873 - val_loss: 0.4330\n",
      "Epoch 47/100\n",
      "8/8 [==============================] - 0s 54ms/step - loss: 0.4860 - val_loss: 0.4322\n",
      "Epoch 48/100\n",
      "8/8 [==============================] - 0s 52ms/step - loss: 0.4847 - val_loss: 0.4314\n",
      "Epoch 49/100\n",
      "8/8 [==============================] - 0s 52ms/step - loss: 0.4835 - val_loss: 0.4307\n",
      "Epoch 50/100\n",
      "8/8 [==============================] - 0s 62ms/step - loss: 0.4822 - val_loss: 0.4299\n",
      "Epoch 51/100\n",
      "8/8 [==============================] - 0s 61ms/step - loss: 0.4811 - val_loss: 0.4292\n",
      "Epoch 52/100\n",
      "8/8 [==============================] - 0s 56ms/step - loss: 0.4799 - val_loss: 0.4285\n",
      "Epoch 53/100\n",
      "8/8 [==============================] - 0s 52ms/step - loss: 0.4788 - val_loss: 0.4278\n",
      "Epoch 54/100\n",
      "8/8 [==============================] - 0s 59ms/step - loss: 0.4776 - val_loss: 0.4271\n",
      "Epoch 55/100\n",
      "8/8 [==============================] - 0s 59ms/step - loss: 0.4765 - val_loss: 0.4264\n",
      "Epoch 56/100\n",
      "8/8 [==============================] - 0s 55ms/step - loss: 0.4754 - val_loss: 0.4257\n",
      "Epoch 57/100\n",
      "8/8 [==============================] - 0s 52ms/step - loss: 0.4743 - val_loss: 0.4250\n",
      "Epoch 58/100\n",
      "8/8 [==============================] - 0s 52ms/step - loss: 0.4732 - val_loss: 0.4243\n",
      "Epoch 59/100\n",
      "8/8 [==============================] - 0s 53ms/step - loss: 0.4721 - val_loss: 0.4237\n",
      "Epoch 60/100\n",
      "8/8 [==============================] - 0s 52ms/step - loss: 0.4711 - val_loss: 0.4230\n",
      "Epoch 61/100\n",
      "8/8 [==============================] - 0s 52ms/step - loss: 0.4701 - val_loss: 0.4224\n",
      "Epoch 62/100\n",
      "8/8 [==============================] - 0s 53ms/step - loss: 0.4691 - val_loss: 0.4217\n",
      "Epoch 63/100\n",
      "8/8 [==============================] - 0s 52ms/step - loss: 0.4681 - val_loss: 0.4211\n",
      "Epoch 64/100\n",
      "8/8 [==============================] - 0s 53ms/step - loss: 0.4671 - val_loss: 0.4205\n",
      "Epoch 65/100\n",
      "8/8 [==============================] - 0s 53ms/step - loss: 0.4661 - val_loss: 0.4199\n",
      "Epoch 66/100\n",
      "8/8 [==============================] - 0s 54ms/step - loss: 0.4651 - val_loss: 0.4193\n",
      "Epoch 67/100\n",
      "8/8 [==============================] - 0s 52ms/step - loss: 0.4642 - val_loss: 0.4187\n",
      "Epoch 68/100\n",
      "8/8 [==============================] - 0s 53ms/step - loss: 0.4633 - val_loss: 0.4180\n",
      "Epoch 69/100\n",
      "8/8 [==============================] - 0s 53ms/step - loss: 0.4624 - val_loss: 0.4175\n",
      "Epoch 70/100\n",
      "8/8 [==============================] - 0s 53ms/step - loss: 0.4615 - val_loss: 0.4169\n",
      "Epoch 71/100\n",
      "8/8 [==============================] - 0s 53ms/step - loss: 0.4606 - val_loss: 0.4163\n",
      "Epoch 72/100\n",
      "8/8 [==============================] - 0s 53ms/step - loss: 0.4598 - val_loss: 0.4157\n",
      "Epoch 73/100\n",
      "8/8 [==============================] - 0s 53ms/step - loss: 0.4590 - val_loss: 0.4152\n",
      "Epoch 74/100\n",
      "8/8 [==============================] - 0s 52ms/step - loss: 0.4581 - val_loss: 0.4147\n",
      "Epoch 75/100\n",
      "8/8 [==============================] - 0s 52ms/step - loss: 0.4573 - val_loss: 0.4141\n",
      "Epoch 76/100\n",
      "8/8 [==============================] - 0s 52ms/step - loss: 0.4565 - val_loss: 0.4136\n",
      "Epoch 77/100\n",
      "8/8 [==============================] - 0s 53ms/step - loss: 0.4558 - val_loss: 0.4131\n",
      "Epoch 78/100\n",
      "8/8 [==============================] - 0s 55ms/step - loss: 0.4550 - val_loss: 0.4126\n",
      "Epoch 79/100\n",
      "8/8 [==============================] - 0s 52ms/step - loss: 0.4542 - val_loss: 0.4121\n",
      "Epoch 80/100\n",
      "8/8 [==============================] - 0s 52ms/step - loss: 0.4535 - val_loss: 0.4116\n",
      "Epoch 81/100\n",
      "8/8 [==============================] - 0s 57ms/step - loss: 0.4527 - val_loss: 0.4111\n",
      "Epoch 82/100\n",
      "8/8 [==============================] - 0s 61ms/step - loss: 0.4519 - val_loss: 0.4107\n",
      "Epoch 83/100\n",
      "8/8 [==============================] - 0s 61ms/step - loss: 0.4512 - val_loss: 0.4102\n",
      "Epoch 84/100\n",
      "8/8 [==============================] - 0s 61ms/step - loss: 0.4505 - val_loss: 0.4097\n"
     ]
    },
    {
     "name": "stdout",
     "output_type": "stream",
     "text": [
      "Epoch 85/100\n",
      "8/8 [==============================] - 0s 55ms/step - loss: 0.4498 - val_loss: 0.4093\n",
      "Epoch 86/100\n",
      "8/8 [==============================] - 0s 56ms/step - loss: 0.4491 - val_loss: 0.4089\n",
      "Epoch 87/100\n",
      "8/8 [==============================] - 0s 54ms/step - loss: 0.4485 - val_loss: 0.4084\n",
      "Epoch 88/100\n",
      "8/8 [==============================] - 0s 60ms/step - loss: 0.4478 - val_loss: 0.4080\n",
      "Epoch 89/100\n",
      "8/8 [==============================] - 0s 53ms/step - loss: 0.4471 - val_loss: 0.4076\n",
      "Epoch 90/100\n",
      "8/8 [==============================] - 0s 52ms/step - loss: 0.4465 - val_loss: 0.4072\n",
      "Epoch 91/100\n",
      "8/8 [==============================] - 0s 52ms/step - loss: 0.4459 - val_loss: 0.4068\n",
      "Epoch 92/100\n",
      "8/8 [==============================] - 0s 52ms/step - loss: 0.4453 - val_loss: 0.4064\n",
      "Epoch 93/100\n",
      "8/8 [==============================] - 1s 53ms/step - loss: 0.4446 - val_loss: 0.4060\n",
      "Epoch 94/100\n",
      "8/8 [==============================] - 0s 56ms/step - loss: 0.4441 - val_loss: 0.4056\n",
      "Epoch 95/100\n",
      "8/8 [==============================] - 0s 62ms/step - loss: 0.4435 - val_loss: 0.4053\n",
      "Epoch 96/100\n",
      "8/8 [==============================] - 0s 62ms/step - loss: 0.4429 - val_loss: 0.4049\n",
      "Epoch 97/100\n",
      "8/8 [==============================] - 0s 62ms/step - loss: 0.4423 - val_loss: 0.4046\n",
      "Epoch 98/100\n",
      "8/8 [==============================] - 0s 62ms/step - loss: 0.4418 - val_loss: 0.4042\n",
      "Epoch 99/100\n",
      "8/8 [==============================] - 0s 62ms/step - loss: 0.4412 - val_loss: 0.4039\n",
      "Epoch 100/100\n",
      "8/8 [==============================] - 0s 62ms/step - loss: 0.4407 - val_loss: 0.4035\n",
      "In calc_results: 483, 161, 161, sum = 805\n",
      "In split_to_train_test: dataset_X.shape=(9479, 20, 65), dataset_y.shape=(9479, 65)\n",
      "Epoch 1/100\n",
      "89/89 [==============================] - 5s 53ms/step - loss: 0.2554 - val_loss: 0.2097\n",
      "Epoch 2/100\n",
      "89/89 [==============================] - 4s 49ms/step - loss: 0.2479 - val_loss: 0.2039\n",
      "Epoch 3/100\n",
      "89/89 [==============================] - 4s 48ms/step - loss: 0.2428 - val_loss: 0.1997\n",
      "Epoch 4/100\n",
      "89/89 [==============================] - 4s 48ms/step - loss: 0.2390 - val_loss: 0.1963\n",
      "Epoch 5/100\n",
      "89/89 [==============================] - 4s 49ms/step - loss: 0.2359 - val_loss: 0.1934\n",
      "Epoch 6/100\n",
      "89/89 [==============================] - 4s 48ms/step - loss: 0.2334 - val_loss: 0.1910\n",
      "Epoch 7/100\n",
      "89/89 [==============================] - 4s 48ms/step - loss: 0.2312 - val_loss: 0.1889\n",
      "Epoch 8/100\n",
      "89/89 [==============================] - 4s 49ms/step - loss: 0.2295 - val_loss: 0.1871\n",
      "Epoch 9/100\n",
      "89/89 [==============================] - 5s 54ms/step - loss: 0.2279 - val_loss: 0.1857\n",
      "Epoch 10/100\n",
      "89/89 [==============================] - 5s 51ms/step - loss: 0.2266 - val_loss: 0.1845\n",
      "Epoch 11/100\n",
      "89/89 [==============================] - 4s 48ms/step - loss: 0.2255 - val_loss: 0.1834\n",
      "Epoch 12/100\n",
      "89/89 [==============================] - 4s 50ms/step - loss: 0.2245 - val_loss: 0.1825\n",
      "Epoch 13/100\n",
      "89/89 [==============================] - 4s 49ms/step - loss: 0.2236 - val_loss: 0.1817\n",
      "Epoch 14/100\n",
      "89/89 [==============================] - 4s 49ms/step - loss: 0.2228 - val_loss: 0.1810\n",
      "Epoch 15/100\n",
      "89/89 [==============================] - 5s 52ms/step - loss: 0.2221 - val_loss: 0.1804\n",
      "Epoch 16/100\n",
      "89/89 [==============================] - 5s 51ms/step - loss: 0.2214 - val_loss: 0.1798\n",
      "Epoch 17/100\n",
      "89/89 [==============================] - 4s 49ms/step - loss: 0.2208 - val_loss: 0.1793\n",
      "Epoch 18/100\n",
      "89/89 [==============================] - 5s 51ms/step - loss: 0.2202 - val_loss: 0.1788\n",
      "Epoch 19/100\n",
      "89/89 [==============================] - 4s 50ms/step - loss: 0.2196 - val_loss: 0.1783\n",
      "Epoch 20/100\n",
      "89/89 [==============================] - 4s 49ms/step - loss: 0.2191 - val_loss: 0.1779\n",
      "Epoch 21/100\n",
      "89/89 [==============================] - 4s 49ms/step - loss: 0.2186 - val_loss: 0.1775\n",
      "Epoch 22/100\n",
      "89/89 [==============================] - 4s 49ms/step - loss: 0.2182 - val_loss: 0.1772\n",
      "Epoch 23/100\n",
      "89/89 [==============================] - 4s 51ms/step - loss: 0.2177 - val_loss: 0.1768\n",
      "Epoch 24/100\n",
      "89/89 [==============================] - 4s 49ms/step - loss: 0.2173 - val_loss: 0.1765\n",
      "Epoch 25/100\n",
      "89/89 [==============================] - 5s 54ms/step - loss: 0.2170 - val_loss: 0.1762\n",
      "Epoch 26/100\n",
      "89/89 [==============================] - 6s 68ms/step - loss: 0.2166 - val_loss: 0.1759\n",
      "Epoch 27/100\n",
      "89/89 [==============================] - 6s 69ms/step - loss: 0.2162 - val_loss: 0.1756\n",
      "Epoch 28/100\n",
      "89/89 [==============================] - 7s 77ms/step - loss: 0.2159 - val_loss: 0.1754\n",
      "Epoch 29/100\n",
      "89/89 [==============================] - 6s 68ms/step - loss: 0.2156 - val_loss: 0.1751\n",
      "Epoch 30/100\n",
      "89/89 [==============================] - 6s 67ms/step - loss: 0.2152 - val_loss: 0.1749\n",
      "Epoch 31/100\n",
      "89/89 [==============================] - 6s 67ms/step - loss: 0.2149 - val_loss: 0.1746\n",
      "Epoch 32/100\n",
      "89/89 [==============================] - 6s 67ms/step - loss: 0.2146 - val_loss: 0.1744\n",
      "Epoch 33/100\n",
      "89/89 [==============================] - 6s 73ms/step - loss: 0.2144 - val_loss: 0.1742\n",
      "Epoch 34/100\n",
      "89/89 [==============================] - 6s 68ms/step - loss: 0.2141 - val_loss: 0.1740\n",
      "Epoch 35/100\n",
      "89/89 [==============================] - 6s 67ms/step - loss: 0.2138 - val_loss: 0.1738\n",
      "Epoch 36/100\n",
      "89/89 [==============================] - 6s 68ms/step - loss: 0.2135 - val_loss: 0.1736\n",
      "Epoch 37/100\n",
      "89/89 [==============================] - 6s 65ms/step - loss: 0.2133 - val_loss: 0.1734\n",
      "Epoch 38/100\n",
      "89/89 [==============================] - 6s 66ms/step - loss: 0.2130 - val_loss: 0.1732\n",
      "Epoch 39/100\n",
      "89/89 [==============================] - 6s 71ms/step - loss: 0.2127 - val_loss: 0.1730\n",
      "Epoch 40/100\n",
      "89/89 [==============================] - 6s 66ms/step - loss: 0.2125 - val_loss: 0.1729\n",
      "Epoch 41/100\n",
      "89/89 [==============================] - 6s 71ms/step - loss: 0.2122 - val_loss: 0.1727\n",
      "Epoch 42/100\n",
      "89/89 [==============================] - 6s 68ms/step - loss: 0.2120 - val_loss: 0.1725\n",
      "Epoch 43/100\n",
      "89/89 [==============================] - 6s 65ms/step - loss: 0.2118 - val_loss: 0.1724\n",
      "Epoch 44/100\n",
      "89/89 [==============================] - 6s 66ms/step - loss: 0.2115 - val_loss: 0.1723\n",
      "Epoch 45/100\n",
      "89/89 [==============================] - 6s 69ms/step - loss: 0.2113 - val_loss: 0.1721\n",
      "Epoch 46/100\n",
      "89/89 [==============================] - 6s 71ms/step - loss: 0.2111 - val_loss: 0.1719\n",
      "Epoch 47/100\n",
      "89/89 [==============================] - 6s 70ms/step - loss: 0.2109 - val_loss: 0.1718\n",
      "Epoch 48/100\n",
      "89/89 [==============================] - 6s 71ms/step - loss: 0.2106 - val_loss: 0.1717\n",
      "Epoch 49/100\n",
      "89/89 [==============================] - 7s 79ms/step - loss: 0.2104 - val_loss: 0.1716\n",
      "Epoch 50/100\n",
      "89/89 [==============================] - 6s 69ms/step - loss: 0.2102 - val_loss: 0.1714\n",
      "Epoch 51/100\n",
      "89/89 [==============================] - 6s 69ms/step - loss: 0.2100 - val_loss: 0.1714\n",
      "Epoch 52/100\n",
      "89/89 [==============================] - 6s 66ms/step - loss: 0.2098 - val_loss: 0.1713\n",
      "Epoch 53/100\n",
      "89/89 [==============================] - 6s 66ms/step - loss: 0.2096 - val_loss: 0.1711\n",
      "Epoch 54/100\n",
      "89/89 [==============================] - 6s 68ms/step - loss: 0.2094 - val_loss: 0.1710\n",
      "Epoch 55/100\n",
      "89/89 [==============================] - 6s 66ms/step - loss: 0.2092 - val_loss: 0.1709\n",
      "Epoch 56/100\n",
      "89/89 [==============================] - 7s 74ms/step - loss: 0.2090 - val_loss: 0.1708\n",
      "Epoch 57/100\n",
      "89/89 [==============================] - 6s 68ms/step - loss: 0.2088 - val_loss: 0.1707\n",
      "Epoch 58/100\n",
      "89/89 [==============================] - 6s 67ms/step - loss: 0.2086 - val_loss: 0.1706\n",
      "Epoch 59/100\n",
      "89/89 [==============================] - 6s 71ms/step - loss: 0.2084 - val_loss: 0.1705\n",
      "Epoch 60/100\n",
      "89/89 [==============================] - 6s 66ms/step - loss: 0.2083 - val_loss: 0.1704\n",
      "Epoch 61/100\n",
      "89/89 [==============================] - 6s 66ms/step - loss: 0.2081 - val_loss: 0.1703\n",
      "Epoch 62/100\n",
      "89/89 [==============================] - 6s 65ms/step - loss: 0.2079 - val_loss: 0.1702\n",
      "Epoch 63/100\n",
      "89/89 [==============================] - 6s 68ms/step - loss: 0.2077 - val_loss: 0.1702\n",
      "Epoch 64/100\n",
      "89/89 [==============================] - 6s 66ms/step - loss: 0.2076 - val_loss: 0.1701\n",
      "Epoch 65/100\n"
     ]
    },
    {
     "name": "stdout",
     "output_type": "stream",
     "text": [
      "89/89 [==============================] - 6s 70ms/step - loss: 0.2074 - val_loss: 0.1700\n",
      "Epoch 66/100\n",
      "89/89 [==============================] - 7s 74ms/step - loss: 0.2072 - val_loss: 0.1699\n",
      "Epoch 67/100\n",
      "89/89 [==============================] - 6s 66ms/step - loss: 0.2071 - val_loss: 0.1698\n",
      "Epoch 68/100\n",
      "89/89 [==============================] - 6s 71ms/step - loss: 0.2069 - val_loss: 0.1698\n",
      "Epoch 69/100\n",
      "89/89 [==============================] - 6s 68ms/step - loss: 0.2067 - val_loss: 0.1697\n",
      "Epoch 70/100\n",
      "89/89 [==============================] - 6s 67ms/step - loss: 0.2066 - val_loss: 0.1697\n",
      "Epoch 71/100\n",
      "89/89 [==============================] - 6s 70ms/step - loss: 0.2064 - val_loss: 0.1696\n",
      "Epoch 72/100\n",
      "89/89 [==============================] - 6s 68ms/step - loss: 0.2063 - val_loss: 0.1695\n",
      "Epoch 73/100\n",
      "89/89 [==============================] - 6s 69ms/step - loss: 0.2061 - val_loss: 0.1695\n",
      "Epoch 74/100\n",
      "89/89 [==============================] - 7s 75ms/step - loss: 0.2059 - val_loss: 0.1694\n",
      "Epoch 75/100\n",
      "89/89 [==============================] - 6s 70ms/step - loss: 0.2058 - val_loss: 0.1694\n",
      "Epoch 76/100\n",
      "89/89 [==============================] - 6s 67ms/step - loss: 0.2057 - val_loss: 0.1694\n",
      "Epoch 77/100\n",
      "89/89 [==============================] - 6s 67ms/step - loss: 0.2055 - val_loss: 0.1693\n",
      "Epoch 78/100\n",
      "89/89 [==============================] - 6s 66ms/step - loss: 0.2054 - val_loss: 0.1692\n",
      "Epoch 79/100\n",
      "89/89 [==============================] - 6s 67ms/step - loss: 0.2052 - val_loss: 0.1692\n",
      "Epoch 80/100\n",
      "89/89 [==============================] - 6s 66ms/step - loss: 0.2051 - val_loss: 0.1692\n",
      "Epoch 81/100\n",
      "89/89 [==============================] - 6s 68ms/step - loss: 0.2049 - val_loss: 0.1691\n",
      "Epoch 82/100\n",
      "89/89 [==============================] - 6s 65ms/step - loss: 0.2048 - val_loss: 0.1691\n",
      "Epoch 83/100\n",
      "89/89 [==============================] - 6s 65ms/step - loss: 0.2047 - val_loss: 0.1690\n",
      "Epoch 84/100\n",
      "89/89 [==============================] - 6s 66ms/step - loss: 0.2045 - val_loss: 0.1690\n",
      "Epoch 85/100\n",
      "89/89 [==============================] - 6s 67ms/step - loss: 0.2044 - val_loss: 0.1689\n",
      "Epoch 86/100\n",
      "89/89 [==============================] - 6s 66ms/step - loss: 0.2043 - val_loss: 0.1689\n",
      "Epoch 87/100\n",
      "89/89 [==============================] - 6s 68ms/step - loss: 0.2041 - val_loss: 0.1689\n",
      "Epoch 88/100\n",
      "89/89 [==============================] - 6s 65ms/step - loss: 0.2040 - val_loss: 0.1688\n",
      "Epoch 89/100\n",
      "89/89 [==============================] - 6s 65ms/step - loss: 0.2039 - val_loss: 0.1688\n",
      "Epoch 90/100\n",
      "89/89 [==============================] - 6s 64ms/step - loss: 0.2037 - val_loss: 0.1687\n",
      "Epoch 91/100\n",
      "89/89 [==============================] - 6s 66ms/step - loss: 0.2036 - val_loss: 0.1687\n",
      "Epoch 92/100\n",
      "89/89 [==============================] - 6s 73ms/step - loss: 0.2035 - val_loss: 0.1687\n",
      "Epoch 93/100\n",
      "89/89 [==============================] - 7s 73ms/step - loss: 0.2033 - val_loss: 0.1686\n",
      "Epoch 94/100\n",
      "89/89 [==============================] - 6s 66ms/step - loss: 0.2032 - val_loss: 0.1686\n",
      "Epoch 95/100\n",
      "89/89 [==============================] - 6s 65ms/step - loss: 0.2031 - val_loss: 0.1685\n",
      "Epoch 96/100\n",
      "89/89 [==============================] - 6s 73ms/step - loss: 0.2030 - val_loss: 0.1686\n",
      "Epoch 97/100\n",
      "89/89 [==============================] - ETA: 0s - loss: 0.2029Restoring model weights from the end of the best epoch: 95.\n",
      "89/89 [==============================] - 6s 72ms/step - loss: 0.2029 - val_loss: 0.1685\n",
      "Epoch 97: early stopping\n",
      "In calc_results: 5687, 1896, 1896, sum = 9479\n",
      "In split_to_train_test: dataset_X.shape=(1800, 20, 65), dataset_y.shape=(1800, 65)\n",
      "Epoch 1/100\n",
      "17/17 [==============================] - 1s 69ms/step - loss: 0.2088 - val_loss: 0.1582\n",
      "Epoch 2/100\n",
      "17/17 [==============================] - 1s 66ms/step - loss: 0.2054 - val_loss: 0.1562\n",
      "Epoch 3/100\n",
      "17/17 [==============================] - 1s 67ms/step - loss: 0.2026 - val_loss: 0.1545\n",
      "Epoch 4/100\n",
      "17/17 [==============================] - 1s 67ms/step - loss: 0.2002 - val_loss: 0.1530\n",
      "Epoch 5/100\n",
      "17/17 [==============================] - 1s 75ms/step - loss: 0.1981 - val_loss: 0.1517\n",
      "Epoch 6/100\n",
      "17/17 [==============================] - 1s 74ms/step - loss: 0.1963 - val_loss: 0.1505\n",
      "Epoch 7/100\n",
      "17/17 [==============================] - 1s 68ms/step - loss: 0.1947 - val_loss: 0.1494\n",
      "Epoch 8/100\n",
      "17/17 [==============================] - 1s 66ms/step - loss: 0.1932 - val_loss: 0.1485\n",
      "Epoch 9/100\n",
      "17/17 [==============================] - 1s 65ms/step - loss: 0.1919 - val_loss: 0.1475\n",
      "Epoch 10/100\n",
      "17/17 [==============================] - 1s 74ms/step - loss: 0.1907 - val_loss: 0.1467\n",
      "Epoch 11/100\n",
      "17/17 [==============================] - 1s 67ms/step - loss: 0.1896 - val_loss: 0.1459\n",
      "Epoch 12/100\n",
      "17/17 [==============================] - 1s 76ms/step - loss: 0.1885 - val_loss: 0.1451\n",
      "Epoch 13/100\n",
      "17/17 [==============================] - 1s 65ms/step - loss: 0.1875 - val_loss: 0.1444\n",
      "Epoch 14/100\n",
      "17/17 [==============================] - 1s 66ms/step - loss: 0.1866 - val_loss: 0.1438\n",
      "Epoch 15/100\n",
      "17/17 [==============================] - 1s 67ms/step - loss: 0.1857 - val_loss: 0.1431\n",
      "Epoch 16/100\n",
      "17/17 [==============================] - 1s 65ms/step - loss: 0.1848 - val_loss: 0.1426\n",
      "Epoch 17/100\n",
      "17/17 [==============================] - 1s 66ms/step - loss: 0.1840 - val_loss: 0.1420\n",
      "Epoch 18/100\n",
      "17/17 [==============================] - 1s 68ms/step - loss: 0.1833 - val_loss: 0.1414\n",
      "Epoch 19/100\n",
      "17/17 [==============================] - 1s 65ms/step - loss: 0.1825 - val_loss: 0.1409\n",
      "Epoch 20/100\n",
      "17/17 [==============================] - 1s 78ms/step - loss: 0.1818 - val_loss: 0.1404\n",
      "Epoch 21/100\n",
      "17/17 [==============================] - 1s 72ms/step - loss: 0.1811 - val_loss: 0.1400\n",
      "Epoch 22/100\n",
      "17/17 [==============================] - 1s 67ms/step - loss: 0.1805 - val_loss: 0.1395\n",
      "Epoch 23/100\n",
      "17/17 [==============================] - 1s 66ms/step - loss: 0.1799 - val_loss: 0.1391\n",
      "Epoch 24/100\n",
      "17/17 [==============================] - 1s 66ms/step - loss: 0.1793 - val_loss: 0.1387\n",
      "Epoch 25/100\n",
      "17/17 [==============================] - 1s 69ms/step - loss: 0.1787 - val_loss: 0.1383\n",
      "Epoch 26/100\n",
      "17/17 [==============================] - 1s 77ms/step - loss: 0.1782 - val_loss: 0.1379\n",
      "Epoch 27/100\n",
      "17/17 [==============================] - 1s 68ms/step - loss: 0.1776 - val_loss: 0.1375\n",
      "Epoch 28/100\n",
      "17/17 [==============================] - 1s 76ms/step - loss: 0.1771 - val_loss: 0.1372\n",
      "Epoch 29/100\n",
      "17/17 [==============================] - 1s 75ms/step - loss: 0.1766 - val_loss: 0.1369\n",
      "Epoch 30/100\n",
      "17/17 [==============================] - 1s 67ms/step - loss: 0.1762 - val_loss: 0.1366\n",
      "Epoch 31/100\n",
      "17/17 [==============================] - 1s 64ms/step - loss: 0.1757 - val_loss: 0.1363\n",
      "Epoch 32/100\n",
      "17/17 [==============================] - 1s 65ms/step - loss: 0.1752 - val_loss: 0.1360\n",
      "Epoch 33/100\n",
      "17/17 [==============================] - 1s 68ms/step - loss: 0.1748 - val_loss: 0.1357\n",
      "Epoch 34/100\n",
      "17/17 [==============================] - 1s 70ms/step - loss: 0.1744 - val_loss: 0.1354\n",
      "Epoch 35/100\n",
      "17/17 [==============================] - 1s 81ms/step - loss: 0.1740 - val_loss: 0.1351\n",
      "Epoch 36/100\n",
      "17/17 [==============================] - 1s 67ms/step - loss: 0.1736 - val_loss: 0.1349\n",
      "Epoch 37/100\n",
      "17/17 [==============================] - 1s 65ms/step - loss: 0.1732 - val_loss: 0.1346\n",
      "Epoch 38/100\n",
      "17/17 [==============================] - 1s 76ms/step - loss: 0.1728 - val_loss: 0.1344\n",
      "Epoch 39/100\n",
      "17/17 [==============================] - 1s 66ms/step - loss: 0.1725 - val_loss: 0.1342\n",
      "Epoch 40/100\n",
      "17/17 [==============================] - 1s 66ms/step - loss: 0.1721 - val_loss: 0.1339\n",
      "Epoch 41/100\n",
      "17/17 [==============================] - 1s 65ms/step - loss: 0.1717 - val_loss: 0.1337\n",
      "Epoch 42/100\n",
      "17/17 [==============================] - 1s 66ms/step - loss: 0.1714 - val_loss: 0.1335\n",
      "Epoch 43/100\n",
      "17/17 [==============================] - 1s 68ms/step - loss: 0.1711 - val_loss: 0.1333\n",
      "Epoch 44/100\n",
      "17/17 [==============================] - 1s 64ms/step - loss: 0.1707 - val_loss: 0.1331\n",
      "Epoch 45/100\n",
      "17/17 [==============================] - 1s 73ms/step - loss: 0.1704 - val_loss: 0.1329\n",
      "Epoch 46/100\n"
     ]
    },
    {
     "name": "stdout",
     "output_type": "stream",
     "text": [
      "17/17 [==============================] - 1s 76ms/step - loss: 0.1701 - val_loss: 0.1327\n",
      "Epoch 47/100\n",
      "17/17 [==============================] - 1s 73ms/step - loss: 0.1698 - val_loss: 0.1325\n",
      "Epoch 48/100\n",
      "17/17 [==============================] - 1s 70ms/step - loss: 0.1695 - val_loss: 0.1323\n",
      "Epoch 49/100\n",
      "17/17 [==============================] - 1s 74ms/step - loss: 0.1692 - val_loss: 0.1321\n",
      "Epoch 50/100\n",
      "17/17 [==============================] - 1s 64ms/step - loss: 0.1689 - val_loss: 0.1319\n",
      "Epoch 51/100\n",
      "17/17 [==============================] - 1s 66ms/step - loss: 0.1686 - val_loss: 0.1318\n",
      "Epoch 52/100\n",
      "17/17 [==============================] - 1s 77ms/step - loss: 0.1684 - val_loss: 0.1316\n",
      "Epoch 53/100\n",
      "17/17 [==============================] - 1s 70ms/step - loss: 0.1681 - val_loss: 0.1314\n",
      "Epoch 54/100\n",
      "17/17 [==============================] - 1s 65ms/step - loss: 0.1678 - val_loss: 0.1313\n",
      "Epoch 55/100\n",
      "17/17 [==============================] - 1s 65ms/step - loss: 0.1676 - val_loss: 0.1311\n",
      "Epoch 56/100\n",
      "17/17 [==============================] - 1s 68ms/step - loss: 0.1673 - val_loss: 0.1309\n",
      "Epoch 57/100\n",
      "17/17 [==============================] - 2s 97ms/step - loss: 0.1671 - val_loss: 0.1308\n",
      "Epoch 58/100\n",
      "17/17 [==============================] - 1s 73ms/step - loss: 0.1668 - val_loss: 0.1306\n",
      "Epoch 59/100\n",
      "17/17 [==============================] - 1s 67ms/step - loss: 0.1666 - val_loss: 0.1304\n",
      "Epoch 60/100\n",
      "17/17 [==============================] - 1s 67ms/step - loss: 0.1663 - val_loss: 0.1303\n",
      "Epoch 61/100\n",
      "17/17 [==============================] - 1s 67ms/step - loss: 0.1661 - val_loss: 0.1301\n",
      "Epoch 62/100\n",
      "17/17 [==============================] - 1s 66ms/step - loss: 0.1659 - val_loss: 0.1300\n",
      "Epoch 63/100\n",
      "17/17 [==============================] - 1s 66ms/step - loss: 0.1656 - val_loss: 0.1298\n",
      "Epoch 64/100\n",
      "17/17 [==============================] - 1s 66ms/step - loss: 0.1654 - val_loss: 0.1297\n",
      "Epoch 65/100\n",
      "17/17 [==============================] - 1s 66ms/step - loss: 0.1652 - val_loss: 0.1296\n",
      "Epoch 66/100\n",
      "17/17 [==============================] - 1s 65ms/step - loss: 0.1650 - val_loss: 0.1294\n",
      "Epoch 67/100\n",
      "17/17 [==============================] - 1s 67ms/step - loss: 0.1647 - val_loss: 0.1293\n",
      "Epoch 68/100\n",
      "17/17 [==============================] - 1s 68ms/step - loss: 0.1645 - val_loss: 0.1292\n",
      "Epoch 69/100\n",
      "17/17 [==============================] - 1s 69ms/step - loss: 0.1643 - val_loss: 0.1290\n",
      "Epoch 70/100\n",
      "17/17 [==============================] - 1s 66ms/step - loss: 0.1641 - val_loss: 0.1289\n",
      "Epoch 71/100\n",
      "17/17 [==============================] - 1s 68ms/step - loss: 0.1639 - val_loss: 0.1288\n",
      "Epoch 72/100\n",
      "17/17 [==============================] - 1s 67ms/step - loss: 0.1637 - val_loss: 0.1287\n",
      "Epoch 73/100\n",
      "17/17 [==============================] - 1s 69ms/step - loss: 0.1635 - val_loss: 0.1286\n",
      "Epoch 74/100\n",
      "17/17 [==============================] - 1s 71ms/step - loss: 0.1633 - val_loss: 0.1284\n",
      "Epoch 75/100\n",
      "17/17 [==============================] - 1s 66ms/step - loss: 0.1631 - val_loss: 0.1283\n",
      "Epoch 76/100\n",
      "17/17 [==============================] - 1s 67ms/step - loss: 0.1629 - val_loss: 0.1282\n",
      "Epoch 77/100\n",
      "17/17 [==============================] - 1s 67ms/step - loss: 0.1627 - val_loss: 0.1281\n",
      "Epoch 78/100\n",
      "17/17 [==============================] - 1s 78ms/step - loss: 0.1626 - val_loss: 0.1280\n",
      "Epoch 79/100\n",
      "17/17 [==============================] - 1s 72ms/step - loss: 0.1624 - val_loss: 0.1279\n",
      "Epoch 80/100\n",
      "17/17 [==============================] - 1s 67ms/step - loss: 0.1622 - val_loss: 0.1278\n",
      "Epoch 81/100\n",
      "17/17 [==============================] - 1s 77ms/step - loss: 0.1620 - val_loss: 0.1277\n",
      "Epoch 82/100\n",
      "17/17 [==============================] - 1s 71ms/step - loss: 0.1618 - val_loss: 0.1276\n",
      "Epoch 83/100\n",
      "17/17 [==============================] - 1s 66ms/step - loss: 0.1617 - val_loss: 0.1275\n",
      "Epoch 84/100\n",
      "17/17 [==============================] - 1s 67ms/step - loss: 0.1615 - val_loss: 0.1274\n",
      "Epoch 85/100\n",
      "17/17 [==============================] - 1s 67ms/step - loss: 0.1613 - val_loss: 0.1273\n",
      "Epoch 86/100\n",
      "17/17 [==============================] - 1s 68ms/step - loss: 0.1612 - val_loss: 0.1272\n",
      "Epoch 87/100\n",
      "17/17 [==============================] - 1s 67ms/step - loss: 0.1610 - val_loss: 0.1271\n",
      "Epoch 88/100\n",
      "17/17 [==============================] - 1s 68ms/step - loss: 0.1609 - val_loss: 0.1271\n",
      "Epoch 89/100\n",
      "17/17 [==============================] - 1s 72ms/step - loss: 0.1607 - val_loss: 0.1270\n",
      "Epoch 90/100\n",
      "17/17 [==============================] - 1s 84ms/step - loss: 0.1605 - val_loss: 0.1269\n",
      "Epoch 91/100\n",
      "17/17 [==============================] - 1s 68ms/step - loss: 0.1604 - val_loss: 0.1268\n",
      "Epoch 92/100\n",
      "17/17 [==============================] - 1s 64ms/step - loss: 0.1602 - val_loss: 0.1268\n",
      "Epoch 93/100\n",
      "17/17 [==============================] - 1s 66ms/step - loss: 0.1601 - val_loss: 0.1267\n",
      "Epoch 94/100\n",
      "17/17 [==============================] - 1s 65ms/step - loss: 0.1599 - val_loss: 0.1266\n",
      "Epoch 95/100\n",
      "17/17 [==============================] - 1s 79ms/step - loss: 0.1598 - val_loss: 0.1265\n",
      "Epoch 96/100\n",
      "17/17 [==============================] - 1s 73ms/step - loss: 0.1596 - val_loss: 0.1264\n",
      "Epoch 97/100\n",
      "17/17 [==============================] - 1s 83ms/step - loss: 0.1595 - val_loss: 0.1263\n",
      "Epoch 98/100\n",
      "17/17 [==============================] - 1s 68ms/step - loss: 0.1593 - val_loss: 0.1263\n",
      "Epoch 99/100\n",
      "17/17 [==============================] - 1s 67ms/step - loss: 0.1592 - val_loss: 0.1262\n",
      "Epoch 100/100\n",
      "17/17 [==============================] - 1s 72ms/step - loss: 0.1591 - val_loss: 0.1261\n",
      "In calc_results: 1080, 360, 360, sum = 1800\n",
      "In split_to_train_test: dataset_X.shape=(166, 20, 65), dataset_y.shape=(166, 65)\n",
      "Epoch 1/100\n",
      "2/2 [==============================] - 0s 131ms/step - loss: 2.8197 - val_loss: 2.9143\n",
      "Epoch 2/100\n",
      "2/2 [==============================] - 0s 100ms/step - loss: 2.8162 - val_loss: 2.9128\n",
      "Epoch 3/100\n",
      "2/2 [==============================] - 0s 108ms/step - loss: 2.8129 - val_loss: 2.9114\n",
      "Epoch 4/100\n",
      "2/2 [==============================] - 0s 105ms/step - loss: 2.8096 - val_loss: 2.9101\n",
      "Epoch 5/100\n",
      "2/2 [==============================] - 0s 107ms/step - loss: 2.8064 - val_loss: 2.9088\n",
      "Epoch 6/100\n",
      "2/2 [==============================] - 0s 136ms/step - loss: 2.8033 - val_loss: 2.9075\n",
      "Epoch 7/100\n",
      "2/2 [==============================] - 0s 104ms/step - loss: 2.8003 - val_loss: 2.9063\n",
      "Epoch 8/100\n",
      "2/2 [==============================] - 0s 103ms/step - loss: 2.7973 - val_loss: 2.9051\n",
      "Epoch 9/100\n",
      "2/2 [==============================] - 0s 103ms/step - loss: 2.7944 - val_loss: 2.9039\n",
      "Epoch 10/100\n",
      "2/2 [==============================] - 0s 107ms/step - loss: 2.7915 - val_loss: 2.9028\n",
      "Epoch 11/100\n",
      "2/2 [==============================] - 0s 135ms/step - loss: 2.7888 - val_loss: 2.9018\n",
      "Epoch 12/100\n",
      "2/2 [==============================] - 0s 108ms/step - loss: 2.7861 - val_loss: 2.9008\n",
      "Epoch 13/100\n",
      "2/2 [==============================] - 0s 105ms/step - loss: 2.7835 - val_loss: 2.8999\n",
      "Epoch 14/100\n",
      "2/2 [==============================] - 0s 108ms/step - loss: 2.7809 - val_loss: 2.8990\n",
      "Epoch 15/100\n",
      "2/2 [==============================] - 0s 103ms/step - loss: 2.7783 - val_loss: 2.8981\n",
      "Epoch 16/100\n",
      "2/2 [==============================] - 0s 95ms/step - loss: 2.7758 - val_loss: 2.8973\n",
      "Epoch 17/100\n",
      "2/2 [==============================] - 0s 105ms/step - loss: 2.7734 - val_loss: 2.8965\n",
      "Epoch 18/100\n",
      "2/2 [==============================] - 0s 106ms/step - loss: 2.7710 - val_loss: 2.8957\n",
      "Epoch 19/100\n",
      "2/2 [==============================] - 0s 118ms/step - loss: 2.7687 - val_loss: 2.8950\n",
      "Epoch 20/100\n",
      "2/2 [==============================] - 0s 106ms/step - loss: 2.7666 - val_loss: 2.8942\n",
      "Epoch 21/100\n",
      "2/2 [==============================] - 0s 107ms/step - loss: 2.7643 - val_loss: 2.8935\n",
      "Epoch 22/100\n",
      "2/2 [==============================] - 0s 128ms/step - loss: 2.7623 - val_loss: 2.8928\n",
      "Epoch 23/100\n",
      "2/2 [==============================] - 0s 102ms/step - loss: 2.7602 - val_loss: 2.8922\n",
      "Epoch 24/100\n",
      "2/2 [==============================] - 0s 113ms/step - loss: 2.7582 - val_loss: 2.8915\n",
      "Epoch 25/100\n",
      "2/2 [==============================] - 0s 110ms/step - loss: 2.7563 - val_loss: 2.8909\n",
      "Epoch 26/100\n"
     ]
    },
    {
     "name": "stdout",
     "output_type": "stream",
     "text": [
      "2/2 [==============================] - 0s 107ms/step - loss: 2.7544 - val_loss: 2.8903\n",
      "Epoch 27/100\n",
      "2/2 [==============================] - 0s 109ms/step - loss: 2.7525 - val_loss: 2.8897\n",
      "Epoch 28/100\n",
      "2/2 [==============================] - 0s 130ms/step - loss: 2.7507 - val_loss: 2.8890\n",
      "Epoch 29/100\n",
      "2/2 [==============================] - 0s 103ms/step - loss: 2.7490 - val_loss: 2.8884\n",
      "Epoch 30/100\n",
      "2/2 [==============================] - 0s 92ms/step - loss: 2.7472 - val_loss: 2.8878\n",
      "Epoch 31/100\n",
      "2/2 [==============================] - 0s 106ms/step - loss: 2.7455 - val_loss: 2.8872\n",
      "Epoch 32/100\n",
      "2/2 [==============================] - 0s 94ms/step - loss: 2.7439 - val_loss: 2.8865\n",
      "Epoch 33/100\n",
      "2/2 [==============================] - 0s 101ms/step - loss: 2.7422 - val_loss: 2.8859\n",
      "Epoch 34/100\n",
      "2/2 [==============================] - 0s 97ms/step - loss: 2.7406 - val_loss: 2.8853\n",
      "Epoch 35/100\n",
      "2/2 [==============================] - 0s 110ms/step - loss: 2.7390 - val_loss: 2.8846\n",
      "Epoch 36/100\n",
      "2/2 [==============================] - 0s 103ms/step - loss: 2.7374 - val_loss: 2.8839\n",
      "Epoch 37/100\n",
      "2/2 [==============================] - 0s 115ms/step - loss: 2.7358 - val_loss: 2.8832\n",
      "Epoch 38/100\n",
      "2/2 [==============================] - 0s 97ms/step - loss: 2.7341 - val_loss: 2.8825\n",
      "Epoch 39/100\n",
      "2/2 [==============================] - 0s 95ms/step - loss: 2.7326 - val_loss: 2.8817\n",
      "Epoch 40/100\n",
      "2/2 [==============================] - 0s 103ms/step - loss: 2.7310 - val_loss: 2.8809\n",
      "Epoch 41/100\n",
      "2/2 [==============================] - 0s 96ms/step - loss: 2.7294 - val_loss: 2.8802\n",
      "Epoch 42/100\n",
      "2/2 [==============================] - 0s 94ms/step - loss: 2.7279 - val_loss: 2.8794\n",
      "Epoch 43/100\n",
      "2/2 [==============================] - 0s 99ms/step - loss: 2.7263 - val_loss: 2.8786\n",
      "Epoch 44/100\n",
      "2/2 [==============================] - 0s 103ms/step - loss: 2.7249 - val_loss: 2.8779\n",
      "Epoch 45/100\n",
      "2/2 [==============================] - 0s 100ms/step - loss: 2.7234 - val_loss: 2.8771\n",
      "Epoch 46/100\n",
      "2/2 [==============================] - 0s 94ms/step - loss: 2.7220 - val_loss: 2.8765\n",
      "Epoch 47/100\n",
      "2/2 [==============================] - 0s 99ms/step - loss: 2.7205 - val_loss: 2.8758\n",
      "Epoch 48/100\n",
      "2/2 [==============================] - 0s 95ms/step - loss: 2.7192 - val_loss: 2.8751\n",
      "Epoch 49/100\n",
      "2/2 [==============================] - 0s 99ms/step - loss: 2.7178 - val_loss: 2.8745\n",
      "Epoch 50/100\n",
      "2/2 [==============================] - 0s 103ms/step - loss: 2.7164 - val_loss: 2.8738\n",
      "Epoch 51/100\n",
      "2/2 [==============================] - 0s 97ms/step - loss: 2.7151 - val_loss: 2.8731\n",
      "Epoch 52/100\n",
      "2/2 [==============================] - 0s 95ms/step - loss: 2.7138 - val_loss: 2.8725\n",
      "Epoch 53/100\n",
      "2/2 [==============================] - 0s 95ms/step - loss: 2.7125 - val_loss: 2.8719\n",
      "Epoch 54/100\n",
      "2/2 [==============================] - 0s 92ms/step - loss: 2.7112 - val_loss: 2.8713\n",
      "Epoch 55/100\n",
      "2/2 [==============================] - 0s 99ms/step - loss: 2.7100 - val_loss: 2.8706\n",
      "Epoch 56/100\n",
      "2/2 [==============================] - 0s 104ms/step - loss: 2.7087 - val_loss: 2.8700\n",
      "Epoch 57/100\n",
      "2/2 [==============================] - 0s 110ms/step - loss: 2.7075 - val_loss: 2.8694\n",
      "Epoch 58/100\n",
      "2/2 [==============================] - 0s 112ms/step - loss: 2.7062 - val_loss: 2.8689\n",
      "Epoch 59/100\n",
      "2/2 [==============================] - 0s 104ms/step - loss: 2.7050 - val_loss: 2.8683\n",
      "Epoch 60/100\n",
      "2/2 [==============================] - 0s 96ms/step - loss: 2.7037 - val_loss: 2.8677\n",
      "Epoch 61/100\n",
      "2/2 [==============================] - 0s 99ms/step - loss: 2.7025 - val_loss: 2.8671\n",
      "Epoch 62/100\n",
      "2/2 [==============================] - 0s 105ms/step - loss: 2.7013 - val_loss: 2.8665\n",
      "Epoch 63/100\n",
      "2/2 [==============================] - 0s 94ms/step - loss: 2.7000 - val_loss: 2.8660\n",
      "Epoch 64/100\n",
      "2/2 [==============================] - 0s 109ms/step - loss: 2.6988 - val_loss: 2.8654\n",
      "Epoch 65/100\n",
      "2/2 [==============================] - 0s 97ms/step - loss: 2.6976 - val_loss: 2.8648\n",
      "Epoch 66/100\n",
      "2/2 [==============================] - 0s 112ms/step - loss: 2.6964 - val_loss: 2.8643\n",
      "Epoch 67/100\n",
      "2/2 [==============================] - 0s 100ms/step - loss: 2.6952 - val_loss: 2.8637\n",
      "Epoch 68/100\n",
      "2/2 [==============================] - 0s 100ms/step - loss: 2.6940 - val_loss: 2.8631\n",
      "Epoch 69/100\n",
      "2/2 [==============================] - 0s 94ms/step - loss: 2.6928 - val_loss: 2.8625\n",
      "Epoch 70/100\n",
      "2/2 [==============================] - 0s 97ms/step - loss: 2.6915 - val_loss: 2.8619\n",
      "Epoch 71/100\n",
      "2/2 [==============================] - 0s 100ms/step - loss: 2.6903 - val_loss: 2.8613\n",
      "Epoch 72/100\n",
      "2/2 [==============================] - 0s 95ms/step - loss: 2.6891 - val_loss: 2.8607\n",
      "Epoch 73/100\n",
      "2/2 [==============================] - 0s 99ms/step - loss: 2.6879 - val_loss: 2.8601\n",
      "Epoch 74/100\n",
      "2/2 [==============================] - 0s 100ms/step - loss: 2.6867 - val_loss: 2.8595\n",
      "Epoch 75/100\n",
      "2/2 [==============================] - 0s 97ms/step - loss: 2.6855 - val_loss: 2.8589\n",
      "Epoch 76/100\n",
      "2/2 [==============================] - 0s 98ms/step - loss: 2.6842 - val_loss: 2.8583\n",
      "Epoch 77/100\n",
      "2/2 [==============================] - 0s 115ms/step - loss: 2.6830 - val_loss: 2.8577\n",
      "Epoch 78/100\n",
      "2/2 [==============================] - 0s 131ms/step - loss: 2.6818 - val_loss: 2.8570\n",
      "Epoch 79/100\n",
      "2/2 [==============================] - 0s 101ms/step - loss: 2.6805 - val_loss: 2.8564\n",
      "Epoch 80/100\n",
      "2/2 [==============================] - 0s 107ms/step - loss: 2.6792 - val_loss: 2.8558\n",
      "Epoch 81/100\n",
      "2/2 [==============================] - 0s 109ms/step - loss: 2.6780 - val_loss: 2.8552\n",
      "Epoch 82/100\n",
      "2/2 [==============================] - 0s 107ms/step - loss: 2.6767 - val_loss: 2.8545\n",
      "Epoch 83/100\n",
      "2/2 [==============================] - 0s 107ms/step - loss: 2.6755 - val_loss: 2.8539\n",
      "Epoch 84/100\n",
      "2/2 [==============================] - 0s 105ms/step - loss: 2.6743 - val_loss: 2.8533\n",
      "Epoch 85/100\n",
      "2/2 [==============================] - 0s 107ms/step - loss: 2.6730 - val_loss: 2.8527\n",
      "Epoch 86/100\n",
      "2/2 [==============================] - 0s 133ms/step - loss: 2.6718 - val_loss: 2.8520\n",
      "Epoch 87/100\n",
      "2/2 [==============================] - 0s 103ms/step - loss: 2.6705 - val_loss: 2.8514\n",
      "Epoch 88/100\n",
      "2/2 [==============================] - 0s 116ms/step - loss: 2.6693 - val_loss: 2.8508\n",
      "Epoch 89/100\n",
      "2/2 [==============================] - 0s 116ms/step - loss: 2.6680 - val_loss: 2.8501\n",
      "Epoch 90/100\n",
      "2/2 [==============================] - 0s 101ms/step - loss: 2.6668 - val_loss: 2.8495\n",
      "Epoch 91/100\n",
      "2/2 [==============================] - 0s 108ms/step - loss: 2.6655 - val_loss: 2.8488\n",
      "Epoch 92/100\n",
      "2/2 [==============================] - 0s 106ms/step - loss: 2.6642 - val_loss: 2.8482\n",
      "Epoch 93/100\n",
      "2/2 [==============================] - 0s 113ms/step - loss: 2.6630 - val_loss: 2.8475\n",
      "Epoch 94/100\n",
      "2/2 [==============================] - 0s 102ms/step - loss: 2.6617 - val_loss: 2.8469\n",
      "Epoch 95/100\n",
      "2/2 [==============================] - 0s 104ms/step - loss: 2.6604 - val_loss: 2.8462\n",
      "Epoch 96/100\n",
      "2/2 [==============================] - 0s 106ms/step - loss: 2.6591 - val_loss: 2.8455\n",
      "Epoch 97/100\n",
      "2/2 [==============================] - 0s 100ms/step - loss: 2.6578 - val_loss: 2.8448\n",
      "Epoch 98/100\n",
      "2/2 [==============================] - 0s 101ms/step - loss: 2.6565 - val_loss: 2.8441\n",
      "Epoch 99/100\n",
      "2/2 [==============================] - 0s 113ms/step - loss: 2.6552 - val_loss: 2.8434\n",
      "Epoch 100/100\n",
      "2/2 [==============================] - 0s 134ms/step - loss: 2.6539 - val_loss: 2.8427\n",
      "In calc_results: 100, 33, 33, sum = 166\n",
      "In split_to_train_test: dataset_X.shape=(391, 20, 65), dataset_y.shape=(391, 65)\n",
      "Epoch 1/100\n",
      "4/4 [==============================] - 0s 88ms/step - loss: 0.5317 - val_loss: 0.4714\n",
      "Epoch 2/100\n",
      "4/4 [==============================] - 0s 81ms/step - loss: 0.5289 - val_loss: 0.4700\n",
      "Epoch 3/100\n",
      "4/4 [==============================] - 0s 109ms/step - loss: 0.5264 - val_loss: 0.4687\n",
      "Epoch 4/100\n",
      "4/4 [==============================] - 0s 87ms/step - loss: 0.5240 - val_loss: 0.4674\n",
      "Epoch 5/100\n",
      "4/4 [==============================] - 0s 89ms/step - loss: 0.5217 - val_loss: 0.4662\n",
      "Epoch 6/100\n",
      "4/4 [==============================] - 0s 87ms/step - loss: 0.5196 - val_loss: 0.4650\n",
      "Epoch 7/100\n"
     ]
    },
    {
     "name": "stdout",
     "output_type": "stream",
     "text": [
      "4/4 [==============================] - 0s 83ms/step - loss: 0.5175 - val_loss: 0.4639\n",
      "Epoch 8/100\n",
      "4/4 [==============================] - 0s 80ms/step - loss: 0.5155 - val_loss: 0.4629\n",
      "Epoch 9/100\n",
      "4/4 [==============================] - 0s 83ms/step - loss: 0.5136 - val_loss: 0.4619\n",
      "Epoch 10/100\n",
      "4/4 [==============================] - 0s 80ms/step - loss: 0.5117 - val_loss: 0.4609\n",
      "Epoch 11/100\n",
      "4/4 [==============================] - 0s 77ms/step - loss: 0.5100 - val_loss: 0.4600\n",
      "Epoch 12/100\n",
      "4/4 [==============================] - 0s 77ms/step - loss: 0.5083 - val_loss: 0.4591\n",
      "Epoch 13/100\n",
      "4/4 [==============================] - 0s 76ms/step - loss: 0.5067 - val_loss: 0.4582\n",
      "Epoch 14/100\n",
      "4/4 [==============================] - 0s 78ms/step - loss: 0.5051 - val_loss: 0.4574\n",
      "Epoch 15/100\n",
      "4/4 [==============================] - 0s 79ms/step - loss: 0.5036 - val_loss: 0.4566\n",
      "Epoch 16/100\n",
      "4/4 [==============================] - 0s 81ms/step - loss: 0.5021 - val_loss: 0.4558\n",
      "Epoch 17/100\n",
      "4/4 [==============================] - 0s 78ms/step - loss: 0.5007 - val_loss: 0.4551\n",
      "Epoch 18/100\n",
      "4/4 [==============================] - 0s 82ms/step - loss: 0.4993 - val_loss: 0.4544\n",
      "Epoch 19/100\n",
      "4/4 [==============================] - 0s 77ms/step - loss: 0.4979 - val_loss: 0.4537\n",
      "Epoch 20/100\n",
      "4/4 [==============================] - 0s 90ms/step - loss: 0.4966 - val_loss: 0.4530\n",
      "Epoch 21/100\n",
      "4/4 [==============================] - 0s 84ms/step - loss: 0.4953 - val_loss: 0.4523\n",
      "Epoch 22/100\n",
      "4/4 [==============================] - 0s 97ms/step - loss: 0.4940 - val_loss: 0.4517\n",
      "Epoch 23/100\n",
      "4/4 [==============================] - 0s 97ms/step - loss: 0.4928 - val_loss: 0.4511\n",
      "Epoch 24/100\n",
      "4/4 [==============================] - 0s 81ms/step - loss: 0.4916 - val_loss: 0.4505\n",
      "Epoch 25/100\n",
      "4/4 [==============================] - 0s 79ms/step - loss: 0.4905 - val_loss: 0.4498\n",
      "Epoch 26/100\n",
      "4/4 [==============================] - 0s 85ms/step - loss: 0.4893 - val_loss: 0.4492\n",
      "Epoch 27/100\n",
      "4/4 [==============================] - 0s 79ms/step - loss: 0.4882 - val_loss: 0.4486\n",
      "Epoch 28/100\n",
      "4/4 [==============================] - 0s 75ms/step - loss: 0.4871 - val_loss: 0.4480\n",
      "Epoch 29/100\n",
      "4/4 [==============================] - 0s 76ms/step - loss: 0.4860 - val_loss: 0.4474\n",
      "Epoch 30/100\n",
      "4/4 [==============================] - 0s 75ms/step - loss: 0.4849 - val_loss: 0.4469\n",
      "Epoch 31/100\n",
      "4/4 [==============================] - 0s 76ms/step - loss: 0.4839 - val_loss: 0.4463\n",
      "Epoch 32/100\n",
      "4/4 [==============================] - 0s 79ms/step - loss: 0.4829 - val_loss: 0.4457\n",
      "Epoch 33/100\n",
      "4/4 [==============================] - 0s 78ms/step - loss: 0.4819 - val_loss: 0.4452\n",
      "Epoch 34/100\n",
      "4/4 [==============================] - 0s 79ms/step - loss: 0.4809 - val_loss: 0.4446\n",
      "Epoch 35/100\n",
      "4/4 [==============================] - 0s 81ms/step - loss: 0.4799 - val_loss: 0.4441\n",
      "Epoch 36/100\n",
      "4/4 [==============================] - 0s 81ms/step - loss: 0.4789 - val_loss: 0.4436\n",
      "Epoch 37/100\n",
      "4/4 [==============================] - 0s 99ms/step - loss: 0.4779 - val_loss: 0.4431\n",
      "Epoch 38/100\n",
      "4/4 [==============================] - 0s 110ms/step - loss: 0.4770 - val_loss: 0.4426\n",
      "Epoch 39/100\n",
      "4/4 [==============================] - 0s 90ms/step - loss: 0.4761 - val_loss: 0.4421\n",
      "Epoch 40/100\n",
      "4/4 [==============================] - 0s 95ms/step - loss: 0.4751 - val_loss: 0.4416\n",
      "Epoch 41/100\n",
      "4/4 [==============================] - 0s 87ms/step - loss: 0.4742 - val_loss: 0.4411\n",
      "Epoch 42/100\n",
      "4/4 [==============================] - 0s 85ms/step - loss: 0.4733 - val_loss: 0.4406\n",
      "Epoch 43/100\n",
      "4/4 [==============================] - 0s 75ms/step - loss: 0.4724 - val_loss: 0.4401\n",
      "Epoch 44/100\n",
      "4/4 [==============================] - 0s 76ms/step - loss: 0.4715 - val_loss: 0.4397\n",
      "Epoch 45/100\n",
      "4/4 [==============================] - 0s 86ms/step - loss: 0.4707 - val_loss: 0.4392\n",
      "Epoch 46/100\n",
      "4/4 [==============================] - 0s 94ms/step - loss: 0.4698 - val_loss: 0.4387\n",
      "Epoch 47/100\n",
      "4/4 [==============================] - 0s 78ms/step - loss: 0.4690 - val_loss: 0.4382\n",
      "Epoch 48/100\n",
      "4/4 [==============================] - 0s 79ms/step - loss: 0.4681 - val_loss: 0.4378\n",
      "Epoch 49/100\n",
      "4/4 [==============================] - 0s 75ms/step - loss: 0.4673 - val_loss: 0.4373\n",
      "Epoch 50/100\n",
      "4/4 [==============================] - 0s 83ms/step - loss: 0.4664 - val_loss: 0.4368\n",
      "Epoch 51/100\n",
      "4/4 [==============================] - 0s 85ms/step - loss: 0.4656 - val_loss: 0.4364\n",
      "Epoch 52/100\n",
      "4/4 [==============================] - 0s 84ms/step - loss: 0.4648 - val_loss: 0.4359\n",
      "Epoch 53/100\n",
      "4/4 [==============================] - 0s 89ms/step - loss: 0.4640 - val_loss: 0.4355\n",
      "Epoch 54/100\n",
      "4/4 [==============================] - 0s 80ms/step - loss: 0.4632 - val_loss: 0.4350\n",
      "Epoch 55/100\n",
      "4/4 [==============================] - 0s 86ms/step - loss: 0.4624 - val_loss: 0.4346\n",
      "Epoch 56/100\n",
      "4/4 [==============================] - 0s 83ms/step - loss: 0.4616 - val_loss: 0.4342\n",
      "Epoch 57/100\n",
      "4/4 [==============================] - 0s 87ms/step - loss: 0.4608 - val_loss: 0.4337\n",
      "Epoch 58/100\n",
      "4/4 [==============================] - 0s 90ms/step - loss: 0.4600 - val_loss: 0.4333\n",
      "Epoch 59/100\n",
      "4/4 [==============================] - 0s 85ms/step - loss: 0.4592 - val_loss: 0.4329\n",
      "Epoch 60/100\n",
      "4/4 [==============================] - 0s 80ms/step - loss: 0.4584 - val_loss: 0.4324\n",
      "Epoch 61/100\n",
      "4/4 [==============================] - 0s 80ms/step - loss: 0.4576 - val_loss: 0.4320\n",
      "Epoch 62/100\n",
      "4/4 [==============================] - 0s 84ms/step - loss: 0.4569 - val_loss: 0.4316\n",
      "Epoch 63/100\n",
      "4/4 [==============================] - 0s 74ms/step - loss: 0.4561 - val_loss: 0.4312\n",
      "Epoch 64/100\n",
      "4/4 [==============================] - 0s 77ms/step - loss: 0.4553 - val_loss: 0.4308\n",
      "Epoch 65/100\n",
      "4/4 [==============================] - 0s 77ms/step - loss: 0.4546 - val_loss: 0.4304\n",
      "Epoch 66/100\n",
      "4/4 [==============================] - 0s 75ms/step - loss: 0.4538 - val_loss: 0.4300\n",
      "Epoch 67/100\n",
      "4/4 [==============================] - 0s 81ms/step - loss: 0.4531 - val_loss: 0.4296\n",
      "Epoch 68/100\n",
      "4/4 [==============================] - 0s 78ms/step - loss: 0.4523 - val_loss: 0.4292\n",
      "Epoch 69/100\n",
      "4/4 [==============================] - 0s 77ms/step - loss: 0.4516 - val_loss: 0.4288\n",
      "Epoch 70/100\n",
      "4/4 [==============================] - 0s 76ms/step - loss: 0.4508 - val_loss: 0.4285\n",
      "Epoch 71/100\n",
      "4/4 [==============================] - 0s 80ms/step - loss: 0.4501 - val_loss: 0.4281\n",
      "Epoch 72/100\n",
      "4/4 [==============================] - 0s 79ms/step - loss: 0.4494 - val_loss: 0.4278\n",
      "Epoch 73/100\n",
      "4/4 [==============================] - 0s 78ms/step - loss: 0.4486 - val_loss: 0.4274\n",
      "Epoch 74/100\n",
      "4/4 [==============================] - 0s 84ms/step - loss: 0.4480 - val_loss: 0.4270\n",
      "Epoch 75/100\n",
      "4/4 [==============================] - 0s 85ms/step - loss: 0.4473 - val_loss: 0.4267\n",
      "Epoch 76/100\n",
      "4/4 [==============================] - 0s 79ms/step - loss: 0.4466 - val_loss: 0.4264\n",
      "Epoch 77/100\n",
      "4/4 [==============================] - 0s 82ms/step - loss: 0.4459 - val_loss: 0.4260\n",
      "Epoch 78/100\n",
      "4/4 [==============================] - 0s 78ms/step - loss: 0.4452 - val_loss: 0.4257\n",
      "Epoch 79/100\n",
      "4/4 [==============================] - 0s 79ms/step - loss: 0.4446 - val_loss: 0.4254\n",
      "Epoch 80/100\n",
      "4/4 [==============================] - 0s 81ms/step - loss: 0.4439 - val_loss: 0.4250\n",
      "Epoch 81/100\n",
      "4/4 [==============================] - 0s 84ms/step - loss: 0.4433 - val_loss: 0.4247\n",
      "Epoch 82/100\n",
      "4/4 [==============================] - 0s 80ms/step - loss: 0.4426 - val_loss: 0.4244\n",
      "Epoch 83/100\n",
      "4/4 [==============================] - 0s 86ms/step - loss: 0.4420 - val_loss: 0.4241\n",
      "Epoch 84/100\n",
      "4/4 [==============================] - 0s 82ms/step - loss: 0.4414 - val_loss: 0.4237\n",
      "Epoch 85/100\n",
      "4/4 [==============================] - 0s 80ms/step - loss: 0.4408 - val_loss: 0.4234\n",
      "Epoch 86/100\n",
      "4/4 [==============================] - 0s 85ms/step - loss: 0.4402 - val_loss: 0.4231\n",
      "Epoch 87/100\n",
      "4/4 [==============================] - 0s 83ms/step - loss: 0.4397 - val_loss: 0.4228\n",
      "Epoch 88/100\n",
      "4/4 [==============================] - 0s 87ms/step - loss: 0.4391 - val_loss: 0.4225\n",
      "Epoch 89/100\n",
      "4/4 [==============================] - 0s 84ms/step - loss: 0.4385 - val_loss: 0.4222\n"
     ]
    },
    {
     "name": "stdout",
     "output_type": "stream",
     "text": [
      "Epoch 90/100\n",
      "4/4 [==============================] - 0s 82ms/step - loss: 0.4380 - val_loss: 0.4218\n",
      "Epoch 91/100\n",
      "4/4 [==============================] - 0s 71ms/step - loss: 0.4375 - val_loss: 0.4216\n",
      "Epoch 92/100\n",
      "4/4 [==============================] - 0s 71ms/step - loss: 0.4369 - val_loss: 0.4213\n",
      "Epoch 93/100\n",
      "4/4 [==============================] - 0s 61ms/step - loss: 0.4364 - val_loss: 0.4210\n",
      "Epoch 94/100\n",
      "4/4 [==============================] - 0s 77ms/step - loss: 0.4359 - val_loss: 0.4207\n",
      "Epoch 95/100\n",
      "4/4 [==============================] - 0s 65ms/step - loss: 0.4354 - val_loss: 0.4204\n",
      "Epoch 96/100\n",
      "4/4 [==============================] - 0s 65ms/step - loss: 0.4349 - val_loss: 0.4202\n",
      "Epoch 97/100\n",
      "4/4 [==============================] - 0s 72ms/step - loss: 0.4344 - val_loss: 0.4199\n",
      "Epoch 98/100\n",
      "4/4 [==============================] - 0s 72ms/step - loss: 0.4339 - val_loss: 0.4197\n",
      "Epoch 99/100\n",
      "4/4 [==============================] - 0s 67ms/step - loss: 0.4334 - val_loss: 0.4194\n",
      "Epoch 100/100\n",
      "4/4 [==============================] - 0s 64ms/step - loss: 0.4329 - val_loss: 0.4191\n",
      "In calc_results: 235, 78, 78, sum = 391\n",
      "In split_to_train_test: dataset_X.shape=(157, 20, 65), dataset_y.shape=(157, 65)\n",
      "Epoch 1/100\n",
      "2/2 [==============================] - 0s 111ms/step - loss: 0.5575 - val_loss: 0.5679\n",
      "Epoch 2/100\n",
      "2/2 [==============================] - 0s 82ms/step - loss: 0.5561 - val_loss: 0.5676\n",
      "Epoch 3/100\n",
      "2/2 [==============================] - 0s 82ms/step - loss: 0.5548 - val_loss: 0.5673\n",
      "Epoch 4/100\n",
      "2/2 [==============================] - 0s 85ms/step - loss: 0.5535 - val_loss: 0.5670\n",
      "Epoch 5/100\n",
      "2/2 [==============================] - 0s 91ms/step - loss: 0.5522 - val_loss: 0.5667\n",
      "Epoch 6/100\n",
      "2/2 [==============================] - 0s 89ms/step - loss: 0.5510 - val_loss: 0.5664\n",
      "Epoch 7/100\n",
      "2/2 [==============================] - 0s 88ms/step - loss: 0.5498 - val_loss: 0.5661\n",
      "Epoch 8/100\n",
      "2/2 [==============================] - 0s 90ms/step - loss: 0.5485 - val_loss: 0.5658\n",
      "Epoch 9/100\n",
      "2/2 [==============================] - 0s 84ms/step - loss: 0.5473 - val_loss: 0.5655\n",
      "Epoch 10/100\n",
      "2/2 [==============================] - 0s 85ms/step - loss: 0.5462 - val_loss: 0.5652\n",
      "Epoch 11/100\n",
      "2/2 [==============================] - 0s 90ms/step - loss: 0.5450 - val_loss: 0.5649\n",
      "Epoch 12/100\n",
      "2/2 [==============================] - 0s 84ms/step - loss: 0.5438 - val_loss: 0.5646\n",
      "Epoch 13/100\n",
      "2/2 [==============================] - 0s 89ms/step - loss: 0.5427 - val_loss: 0.5643\n",
      "Epoch 14/100\n",
      "2/2 [==============================] - 0s 90ms/step - loss: 0.5416 - val_loss: 0.5640\n",
      "Epoch 15/100\n",
      "2/2 [==============================] - 0s 89ms/step - loss: 0.5405 - val_loss: 0.5638\n",
      "Epoch 16/100\n",
      "2/2 [==============================] - 0s 91ms/step - loss: 0.5393 - val_loss: 0.5635\n",
      "Epoch 17/100\n",
      "2/2 [==============================] - 0s 90ms/step - loss: 0.5383 - val_loss: 0.5632\n",
      "Epoch 18/100\n",
      "2/2 [==============================] - 0s 90ms/step - loss: 0.5372 - val_loss: 0.5629\n",
      "Epoch 19/100\n",
      "2/2 [==============================] - 0s 90ms/step - loss: 0.5361 - val_loss: 0.5626\n",
      "Epoch 20/100\n",
      "2/2 [==============================] - 0s 90ms/step - loss: 0.5351 - val_loss: 0.5623\n",
      "Epoch 21/100\n",
      "2/2 [==============================] - 0s 89ms/step - loss: 0.5340 - val_loss: 0.5620\n",
      "Epoch 22/100\n",
      "2/2 [==============================] - 0s 90ms/step - loss: 0.5330 - val_loss: 0.5617\n",
      "Epoch 23/100\n",
      "2/2 [==============================] - 0s 90ms/step - loss: 0.5320 - val_loss: 0.5614\n",
      "Epoch 24/100\n",
      "2/2 [==============================] - 0s 93ms/step - loss: 0.5310 - val_loss: 0.5611\n",
      "Epoch 25/100\n",
      "2/2 [==============================] - 0s 95ms/step - loss: 0.5300 - val_loss: 0.5609\n",
      "Epoch 26/100\n",
      "2/2 [==============================] - 0s 90ms/step - loss: 0.5290 - val_loss: 0.5606\n",
      "Epoch 27/100\n",
      "2/2 [==============================] - 0s 90ms/step - loss: 0.5281 - val_loss: 0.5603\n",
      "Epoch 28/100\n",
      "2/2 [==============================] - 0s 90ms/step - loss: 0.5271 - val_loss: 0.5600\n",
      "Epoch 29/100\n",
      "2/2 [==============================] - 0s 89ms/step - loss: 0.5262 - val_loss: 0.5597\n",
      "Epoch 30/100\n",
      "2/2 [==============================] - 0s 87ms/step - loss: 0.5253 - val_loss: 0.5594\n",
      "Epoch 31/100\n",
      "2/2 [==============================] - 0s 86ms/step - loss: 0.5244 - val_loss: 0.5591\n",
      "Epoch 32/100\n",
      "2/2 [==============================] - 0s 90ms/step - loss: 0.5235 - val_loss: 0.5588\n",
      "Epoch 33/100\n",
      "2/2 [==============================] - 0s 90ms/step - loss: 0.5226 - val_loss: 0.5585\n",
      "Epoch 34/100\n",
      "2/2 [==============================] - 0s 82ms/step - loss: 0.5217 - val_loss: 0.5582\n",
      "Epoch 35/100\n",
      "2/2 [==============================] - 0s 87ms/step - loss: 0.5208 - val_loss: 0.5580\n",
      "Epoch 36/100\n",
      "2/2 [==============================] - 0s 90ms/step - loss: 0.5200 - val_loss: 0.5577\n",
      "Epoch 37/100\n",
      "2/2 [==============================] - 0s 89ms/step - loss: 0.5191 - val_loss: 0.5574\n",
      "Epoch 38/100\n",
      "2/2 [==============================] - 0s 89ms/step - loss: 0.5183 - val_loss: 0.5571\n",
      "Epoch 39/100\n",
      "2/2 [==============================] - 0s 89ms/step - loss: 0.5174 - val_loss: 0.5569\n",
      "Epoch 40/100\n",
      "2/2 [==============================] - 0s 90ms/step - loss: 0.5166 - val_loss: 0.5566\n",
      "Epoch 41/100\n",
      "2/2 [==============================] - 0s 90ms/step - loss: 0.5158 - val_loss: 0.5563\n",
      "Epoch 42/100\n",
      "2/2 [==============================] - 0s 84ms/step - loss: 0.5150 - val_loss: 0.5560\n",
      "Epoch 43/100\n",
      "2/2 [==============================] - 0s 96ms/step - loss: 0.5142 - val_loss: 0.5558\n",
      "Epoch 44/100\n",
      "2/2 [==============================] - 0s 82ms/step - loss: 0.5134 - val_loss: 0.5555\n",
      "Epoch 45/100\n",
      "2/2 [==============================] - 0s 83ms/step - loss: 0.5126 - val_loss: 0.5552\n",
      "Epoch 46/100\n",
      "2/2 [==============================] - 0s 85ms/step - loss: 0.5118 - val_loss: 0.5550\n",
      "Epoch 47/100\n",
      "2/2 [==============================] - 0s 81ms/step - loss: 0.5111 - val_loss: 0.5547\n",
      "Epoch 48/100\n",
      "2/2 [==============================] - 0s 81ms/step - loss: 0.5103 - val_loss: 0.5544\n",
      "Epoch 49/100\n",
      "2/2 [==============================] - 0s 81ms/step - loss: 0.5096 - val_loss: 0.5541\n",
      "Epoch 50/100\n",
      "2/2 [==============================] - 0s 85ms/step - loss: 0.5088 - val_loss: 0.5539\n",
      "Epoch 51/100\n",
      "2/2 [==============================] - 0s 82ms/step - loss: 0.5081 - val_loss: 0.5536\n",
      "Epoch 52/100\n",
      "2/2 [==============================] - 0s 83ms/step - loss: 0.5073 - val_loss: 0.5533\n",
      "Epoch 53/100\n",
      "2/2 [==============================] - 0s 86ms/step - loss: 0.5066 - val_loss: 0.5530\n",
      "Epoch 54/100\n",
      "2/2 [==============================] - 0s 82ms/step - loss: 0.5059 - val_loss: 0.5528\n",
      "Epoch 55/100\n",
      "2/2 [==============================] - 0s 81ms/step - loss: 0.5052 - val_loss: 0.5525\n",
      "Epoch 56/100\n",
      "2/2 [==============================] - 0s 82ms/step - loss: 0.5045 - val_loss: 0.5522\n",
      "Epoch 57/100\n",
      "2/2 [==============================] - 0s 82ms/step - loss: 0.5038 - val_loss: 0.5519\n",
      "Epoch 58/100\n",
      "2/2 [==============================] - 0s 86ms/step - loss: 0.5031 - val_loss: 0.5516\n",
      "Epoch 59/100\n",
      "2/2 [==============================] - 0s 81ms/step - loss: 0.5024 - val_loss: 0.5513\n",
      "Epoch 60/100\n",
      "2/2 [==============================] - 0s 83ms/step - loss: 0.5017 - val_loss: 0.5510\n",
      "Epoch 61/100\n",
      "2/2 [==============================] - 0s 84ms/step - loss: 0.5010 - val_loss: 0.5507\n",
      "Epoch 62/100\n",
      "2/2 [==============================] - 0s 82ms/step - loss: 0.5003 - val_loss: 0.5504\n",
      "Epoch 63/100\n",
      "2/2 [==============================] - 0s 86ms/step - loss: 0.4997 - val_loss: 0.5502\n",
      "Epoch 64/100\n",
      "2/2 [==============================] - 0s 81ms/step - loss: 0.4990 - val_loss: 0.5499\n",
      "Epoch 65/100\n",
      "2/2 [==============================] - 0s 86ms/step - loss: 0.4983 - val_loss: 0.5496\n",
      "Epoch 66/100\n",
      "2/2 [==============================] - 0s 82ms/step - loss: 0.4977 - val_loss: 0.5493\n",
      "Epoch 67/100\n",
      "2/2 [==============================] - 0s 82ms/step - loss: 0.4970 - val_loss: 0.5491\n",
      "Epoch 68/100\n",
      "2/2 [==============================] - 0s 81ms/step - loss: 0.4964 - val_loss: 0.5488\n",
      "Epoch 69/100\n",
      "2/2 [==============================] - 0s 88ms/step - loss: 0.4958 - val_loss: 0.5485\n",
      "Epoch 70/100\n",
      "2/2 [==============================] - 0s 86ms/step - loss: 0.4951 - val_loss: 0.5483\n",
      "Epoch 71/100\n"
     ]
    },
    {
     "name": "stdout",
     "output_type": "stream",
     "text": [
      "2/2 [==============================] - 0s 81ms/step - loss: 0.4945 - val_loss: 0.5480\n",
      "Epoch 72/100\n",
      "2/2 [==============================] - 0s 80ms/step - loss: 0.4939 - val_loss: 0.5478\n",
      "Epoch 73/100\n",
      "2/2 [==============================] - 0s 88ms/step - loss: 0.4933 - val_loss: 0.5475\n",
      "Epoch 74/100\n",
      "2/2 [==============================] - 0s 82ms/step - loss: 0.4927 - val_loss: 0.5473\n",
      "Epoch 75/100\n",
      "2/2 [==============================] - 0s 81ms/step - loss: 0.4920 - val_loss: 0.5470\n",
      "Epoch 76/100\n",
      "2/2 [==============================] - 0s 87ms/step - loss: 0.4915 - val_loss: 0.5468\n",
      "Epoch 77/100\n",
      "2/2 [==============================] - 0s 81ms/step - loss: 0.4909 - val_loss: 0.5465\n",
      "Epoch 78/100\n",
      "2/2 [==============================] - 0s 82ms/step - loss: 0.4903 - val_loss: 0.5463\n",
      "Epoch 79/100\n",
      "2/2 [==============================] - 0s 80ms/step - loss: 0.4897 - val_loss: 0.5460\n",
      "Epoch 80/100\n",
      "2/2 [==============================] - 0s 81ms/step - loss: 0.4891 - val_loss: 0.5458\n",
      "Epoch 81/100\n",
      "2/2 [==============================] - 0s 81ms/step - loss: 0.4885 - val_loss: 0.5455\n",
      "Epoch 82/100\n",
      "2/2 [==============================] - 0s 85ms/step - loss: 0.4880 - val_loss: 0.5453\n",
      "Epoch 83/100\n",
      "2/2 [==============================] - 0s 81ms/step - loss: 0.4874 - val_loss: 0.5451\n",
      "Epoch 84/100\n",
      "2/2 [==============================] - 0s 81ms/step - loss: 0.4869 - val_loss: 0.5448\n",
      "Epoch 85/100\n",
      "2/2 [==============================] - 0s 81ms/step - loss: 0.4863 - val_loss: 0.5446\n",
      "Epoch 86/100\n",
      "2/2 [==============================] - 0s 80ms/step - loss: 0.4858 - val_loss: 0.5444\n",
      "Epoch 87/100\n",
      "2/2 [==============================] - 0s 82ms/step - loss: 0.4852 - val_loss: 0.5442\n",
      "Epoch 88/100\n",
      "2/2 [==============================] - 0s 81ms/step - loss: 0.4847 - val_loss: 0.5440\n",
      "Epoch 89/100\n",
      "2/2 [==============================] - 0s 82ms/step - loss: 0.4841 - val_loss: 0.5438\n",
      "Epoch 90/100\n",
      "2/2 [==============================] - 0s 91ms/step - loss: 0.4836 - val_loss: 0.5436\n",
      "Epoch 91/100\n",
      "2/2 [==============================] - 0s 80ms/step - loss: 0.4831 - val_loss: 0.5433\n",
      "Epoch 92/100\n",
      "2/2 [==============================] - 0s 80ms/step - loss: 0.4825 - val_loss: 0.5431\n",
      "Epoch 93/100\n",
      "2/2 [==============================] - 0s 83ms/step - loss: 0.4820 - val_loss: 0.5429\n",
      "Epoch 94/100\n",
      "2/2 [==============================] - 0s 92ms/step - loss: 0.4815 - val_loss: 0.5427\n",
      "Epoch 95/100\n",
      "2/2 [==============================] - 0s 90ms/step - loss: 0.4810 - val_loss: 0.5425\n",
      "Epoch 96/100\n",
      "2/2 [==============================] - 0s 90ms/step - loss: 0.4805 - val_loss: 0.5423\n",
      "Epoch 97/100\n",
      "2/2 [==============================] - 0s 90ms/step - loss: 0.4799 - val_loss: 0.5420\n",
      "Epoch 98/100\n",
      "2/2 [==============================] - 0s 90ms/step - loss: 0.4794 - val_loss: 0.5418\n",
      "Epoch 99/100\n",
      "2/2 [==============================] - 0s 93ms/step - loss: 0.4789 - val_loss: 0.5416\n",
      "Epoch 100/100\n",
      "2/2 [==============================] - 0s 88ms/step - loss: 0.4784 - val_loss: 0.5414\n",
      "In calc_results: 94, 32, 31, sum = 157\n"
     ]
    }
   ],
   "source": [
    "# models, results_training \n",
    "# forecasting_training_results = [Forecasting.apply_forecasting_training(dataset, cur_cluster_labels, W=10) for cur_cluster_labels in clusters_labels]\n",
    "# models = [x[0] for x in forecasting_training_results]\n",
    "# results_training = [x[1] for x in forecasting_training_results]\n",
    "# metrics = [x[2] for x in forecasting_training_results]\n",
    "#_simple_version\n",
    "forecasting_training_results = [Forecasting.apply_forecasting_training_simple_version(dataset_train, cur_cluster_labels, W=W) for cur_cluster_labels in clusters_labels]\n",
    "models = [x[0] for x in forecasting_training_results]\n",
    "results_training = [x[1] for x in forecasting_training_results]\n",
    "metrics_training = [x[2] for x in forecasting_training_results]"
   ]
  },
  {
   "cell_type": "code",
   "execution_count": null,
   "metadata": {},
   "outputs": [],
   "source": [
    "# without clustering\n",
    "cur_cluster_labels = np.zeros(dataset_train.shape[0])\n",
    "forecasting_training_results = [Forecasting.apply_forecasting_training_simple_version(dataset_train, cur_cluster_labels, W=W)]\n",
    "models = [x[0] for x in forecasting_training_results]\n",
    "results_training = [x[1] for x in forecasting_training_results]\n",
    "metrics_training = [x[2] for x in forecasting_training_results]"
   ]
  },
  {
   "cell_type": "code",
   "execution_count": null,
   "metadata": {},
   "outputs": [],
   "source": []
  },
  {
   "cell_type": "code",
   "execution_count": null,
   "metadata": {},
   "outputs": [],
   "source": [
    "# results_training = results_training[0]"
   ]
  },
  {
   "cell_type": "code",
   "execution_count": 69,
   "metadata": {},
   "outputs": [],
   "source": [
    "assert(len(models) == len(results_training))"
   ]
  },
  {
   "cell_type": "code",
   "execution_count": 70,
   "metadata": {},
   "outputs": [],
   "source": [
    "Q = dataset.shape[-1]"
   ]
  },
  {
   "cell_type": "code",
   "execution_count": 71,
   "metadata": {},
   "outputs": [
    {
     "data": {
      "text/plain": [
       "1"
      ]
     },
     "execution_count": 71,
     "metadata": {},
     "output_type": "execute_result"
    }
   ],
   "source": [
    "len(results_training)"
   ]
  },
  {
   "cell_type": "code",
   "execution_count": 72,
   "metadata": {},
   "outputs": [
    {
     "data": {
      "image/png": "[encoded data removed]",
      "text/plain": [
       "<Figure size 640x480 with 1 Axes>"
      ]
     },
     "metadata": {},
     "output_type": "display_data"
    }
   ],
   "source": [
    "plt.plot(results_training[0][:100, 8], label=\"true\")\n",
    "plt.plot(results_training[0][:100, Q+8], label=\"predicted\")\n",
    "plt.legend()\n",
    "plt.title(\"Оригинальные значения\")\n",
    "plt.show()"
   ]
  },
  {
   "cell_type": "code",
   "execution_count": null,
   "metadata": {},
   "outputs": [],
   "source": [
    "# import csv\n",
    "# # full_results = np.concatenate((results_training, results_testing), axis=0)\n",
    "# # full_results = results_training\n",
    "# full_results = np.concatenate([results_training[:, :2*Q], results_training[:, 4*Q:]], axis=1)\n",
    "# with open(\"output_table_03-24.csv\", \"w\") as fout:\n",
    "#     writer = csv.writer(fout)\n",
    "#     writer.writerow([\"real \"+str(i) for i in range(Q)] + [\"predicted \" + str(i) for i in range(Q)] + [\"cluster_num\", \"mode\"])\n",
    "#     for i in range(full_results.shape[0]):\n",
    "#         writer.writerow(full_results[i])\n"
   ]
  },
  {
   "cell_type": "code",
   "execution_count": 76,
   "metadata": {},
   "outputs": [
    {
     "name": "stdout",
     "output_type": "stream",
     "text": [
      "[ 1.14789836  0.92820034  0.83646022  0.90411633  2.31104929  2.07166969\n",
      "  0.66554977  0.83961822 10.37241857  1.15218634  1.45496226]\n",
      "[1.25343855e+13 7.44237323e-01 7.34364024e-01 7.33748805e-01\n",
      " 8.92456375e-01 1.34716077e+12 7.11910908e-01 7.87867112e-01\n",
      " 8.50664930e-01 1.16863204e+00 1.45440359e+14]\n"
     ]
    }
   ],
   "source": [
    "# print(\"weighted mae:\", [x[-1] for x in forecasting_training_results])\n",
    "print(np.mean([x['mae'] for x in metrics_training[0]], axis=1))\n",
    "print(np.mean([x['mase'] for x in metrics_training[0]], axis=1))\n",
    "# plt.plot([x['mae'] for x in metrics_training[0]][0])"
   ]
  },
  {
   "cell_type": "code",
   "execution_count": 77,
   "metadata": {},
   "outputs": [],
   "source": [
    "clusters_sizes = [[np.sum(cur_clusters_labels == i) for i in range(len(np.unique(cur_clusters_labels)))] for cur_clusters_labels in clusters_labels]\n",
    "N_clusters = len(clusters_sizes)\n",
    "mae_on_max_cluster = np.array([metrics_training[i][np.argmax(clusters_sizes[i])]['mae'] for i in range(len(forecasting_training_results))])\n"
   ]
  },
  {
   "cell_type": "code",
   "execution_count": null,
   "metadata": {},
   "outputs": [],
   "source": []
  },
  {
   "cell_type": "code",
   "execution_count": 78,
   "metadata": {},
   "outputs": [],
   "source": [
    "# maes = np.array([[metrics_training[i][c]['mae'] for c in range(N_clusters)] for i in range(len(metrics_training))])\n",
    "# # weighted_mae = np.array([np.average(maes[i, :, :], weights=clusters_sizes[i], axis=0) for i in range(len(forecasting_training_results))])\n"
   ]
  },
  {
   "cell_type": "code",
   "execution_count": 79,
   "metadata": {},
   "outputs": [
    {
     "data": {
      "text/plain": [
       "array([0.66554977])"
      ]
     },
     "execution_count": 79,
     "metadata": {},
     "output_type": "execute_result"
    }
   ],
   "source": [
    "np.mean(mae_on_max_cluster, axis=1)"
   ]
  },
  {
   "cell_type": "code",
   "execution_count": 80,
   "metadata": {},
   "outputs": [
    {
     "data": {
      "text/plain": [
       "11"
      ]
     },
     "execution_count": 80,
     "metadata": {},
     "output_type": "execute_result"
    }
   ],
   "source": [
    "len(models[0])"
   ]
  },
  {
   "cell_type": "code",
   "execution_count": 81,
   "metadata": {},
   "outputs": [
    {
     "name": "stdout",
     "output_type": "stream",
     "text": [
      "N_clusters=11\n",
      "dataset_windows.shape=(6782, 1, 21, 65), labels.shape=(6782,)\n",
      "IN Clustering.split_to_clusters: mask.sum()=3569, 3569\n",
      "IN Clustering.split_to_clusters: mask.sum()=2997, 2997\n",
      "IN Clustering.split_to_clusters: mask.sum()=135, 135\n",
      "IN Clustering.split_to_clusters: mask.sum()=51, 51\n",
      "IN Clustering.split_to_clusters: mask.sum()=30, 30\n",
      "112/112 [==============================] - 1s 8ms/step\n",
      "94/94 [==============================] - 1s 6ms/step\n",
      "5/5 [==============================] - 0s 14ms/step\n",
      "2/2 [==============================] - 0s 8ms/step\n",
      "1/1 [==============================] - 1s 588ms/step\n"
     ]
    }
   ],
   "source": [
    "results_testing = [Forecasting.predict_through_clusters(dataset_test, clustering_algorithms[i], models[i], W=W) for i in range(len(results_training))]"
   ]
  },
  {
   "cell_type": "code",
   "execution_count": 82,
   "metadata": {},
   "outputs": [
    {
     "data": {
      "text/plain": [
       "1"
      ]
     },
     "execution_count": 82,
     "metadata": {},
     "output_type": "execute_result"
    }
   ],
   "source": [
    "len(results_testing)"
   ]
  },
  {
   "cell_type": "code",
   "execution_count": 83,
   "metadata": {},
   "outputs": [
    {
     "data": {
      "text/plain": [
       "['AgglomerativeClustering_for_windows']"
      ]
     },
     "execution_count": 83,
     "metadata": {},
     "output_type": "execute_result"
    }
   ],
   "source": [
    "[str(x) for x in clustering_algorithms]"
   ]
  },
  {
   "cell_type": "markdown",
   "metadata": {},
   "source": [
    "Выбор алгоритма"
   ]
  },
  {
   "cell_type": "code",
   "execution_count": 84,
   "metadata": {},
   "outputs": [],
   "source": [
    "TRAIN_MODE, VALID_MODE, TEST_MODE, GLOBAL_TEST_MODE = [0, 1, 2, 3]"
   ]
  },
  {
   "cell_type": "code",
   "execution_count": 85,
   "metadata": {},
   "outputs": [],
   "source": [
    "full_results = [np.concatenate((\n",
    "                    results_training[i],\n",
    "                    np.concatenate((dataset_test[W:], results_testing[i]), axis=1)\n",
    "                    ),\n",
    "                    axis=0\n",
    "                ) for i in range(len(results_training))]"
   ]
  },
  {
   "cell_type": "code",
   "execution_count": 86,
   "metadata": {},
   "outputs": [],
   "source": [
    "#tmp\n",
    "# full_results = results_testing\n",
    "# full_results = [np.concatenate((dataset_test[W:], results_testing[i]), axis=1) for i in range(len(results_training))]\n",
    "full_results = results_training"
   ]
  },
  {
   "cell_type": "code",
   "execution_count": 87,
   "metadata": {},
   "outputs": [],
   "source": [
    "# [((x[x[:, -1] == TEST_MODE]).shape, x.shape) for x in full_results]"
   ]
  },
  {
   "cell_type": "code",
   "execution_count": 88,
   "metadata": {},
   "outputs": [],
   "source": [
    "# global_metrics = [Forecasting.calc_metrics_for_full_results(x) for x in full_results]\n",
    "global_metrics = [Forecasting.calc_metrics_for_full_results(x[x[:, -1] == TEST_MODE]) for x in full_results]"
   ]
  },
  {
   "cell_type": "code",
   "execution_count": 89,
   "metadata": {},
   "outputs": [
    {
     "data": {
      "text/plain": [
       "1"
      ]
     },
     "execution_count": 89,
     "metadata": {},
     "output_type": "execute_result"
    }
   ],
   "source": [
    "len(global_metrics)"
   ]
  },
  {
   "cell_type": "code",
   "execution_count": 90,
   "metadata": {},
   "outputs": [
    {
     "data": {
      "text/plain": [
       "0.8463797386255971"
      ]
     },
     "execution_count": 90,
     "metadata": {},
     "output_type": "execute_result"
    }
   ],
   "source": [
    "np.mean(global_metrics[0]['mase'])"
   ]
  },
  {
   "cell_type": "code",
   "execution_count": 91,
   "metadata": {},
   "outputs": [
    {
     "name": "stdout",
     "output_type": "stream",
     "text": [
      "[11]\n"
     ]
    }
   ],
   "source": [
    "# global_metrics\n",
    "clusters_sizes = [np.array([np.sum(x[:, -2] == i) for i in range(len(np.unique(x[:, -2])))]) for x in full_results]\n",
    "N_clusters = [len(x) for x in clusters_sizes]\n",
    "print(N_clusters)\n",
    "# mae_on_max_cluster = np.array([global_metrics[i][np.argmax(clusters_sizes[i])]['mae'] for i in range(len(full_results))])\n",
    "# mae_mean = np.array([np.mean(global_metrics[i][np.argmax(clusters_sizes[i])]['mae']) for i in range(full_results)])"
   ]
  },
  {
   "cell_type": "code",
   "execution_count": 92,
   "metadata": {},
   "outputs": [],
   "source": [
    "maes = np.array([global_metrics[i]['mae'] for i in range(len(full_results))])\n",
    "mases = np.array([global_metrics[i]['mase'] for i in range(len(full_results))])\n",
    "mae_on_max_cluster = np.array([\n",
    "        Forecasting.calc_metrics_for_full_results(\n",
    "            full_results[i][full_results[i][:, -2] == np.argmax(clusters_sizes[i])]\n",
    "        )['mae'] \n",
    "    for i in range(len(full_results))])\n",
    "mase_on_max_cluster = np.array([\n",
    "        Forecasting.calc_metrics_for_full_results(\n",
    "            full_results[i][full_results[i][:, -2] == np.argmax(clusters_sizes[i])]\n",
    "        )['mase'] \n",
    "    for i in range(len(full_results))])"
   ]
  },
  {
   "cell_type": "code",
   "execution_count": 93,
   "metadata": {},
   "outputs": [],
   "source": [
    "# np.around(maes, decimals=3)"
   ]
  },
  {
   "cell_type": "code",
   "execution_count": 94,
   "metadata": {
    "scrolled": true
   },
   "outputs": [
    {
     "name": "stdout",
     "output_type": "stream",
     "text": [
      "[0.666]\n",
      "[0.84]\n"
     ]
    }
   ],
   "source": [
    "print(np.around(np.mean(mae_on_max_cluster, axis=1),decimals=3))\n",
    "print(np.around(np.mean(mase_on_max_cluster, axis=1),decimals=3))"
   ]
  },
  {
   "cell_type": "code",
   "execution_count": 95,
   "metadata": {
    "scrolled": true
   },
   "outputs": [
    {
     "data": {
      "image/png": "[encoded data removed]",
      "text/plain": [
       "<Figure size 640x480 with 1 Axes>"
      ]
     },
     "metadata": {},
     "output_type": "display_data"
    }
   ],
   "source": [
    "plt.plot(np.mean(mae_on_max_cluster, axis=1), label=\"on max cluster\")\n",
    "plt.plot(np.mean(maes, axis=1), label=\"global mae\")\n",
    "plt.legend()\n",
    "plt.title(\"Average mae\")\n",
    "plt.ylabel(\"mae\")\n",
    "plt.xlabel(\"Number of experiment\")\n",
    "plt.show()"
   ]
  },
  {
   "cell_type": "code",
   "execution_count": null,
   "metadata": {},
   "outputs": [],
   "source": [
    "plt.plot(np.mean(mase_on_max_cluster, axis=1), label=\"on max cluster\")\n",
    "plt.plot(np.mean(mases, axis=1), label=\"global mase\")\n",
    "plt.legend()\n",
    "plt.title(\"Average mase\")\n",
    "plt.ylabel(\"mase\")\n",
    "plt.xlabel(\"Number of experiment\")\n",
    "plt.show()"
   ]
  },
  {
   "cell_type": "code",
   "execution_count": null,
   "metadata": {},
   "outputs": [],
   "source": [
    "ind1 = np.argmin(np.mean(mae_on_max_cluster, axis=1))\n",
    "ind1"
   ]
  },
  {
   "cell_type": "code",
   "execution_count": null,
   "metadata": {},
   "outputs": [],
   "source": [
    "plt.hist(clusters_labels[ind1])\n",
    "plt.title(\"Размеры кластеров\")"
   ]
  },
  {
   "cell_type": "code",
   "execution_count": null,
   "metadata": {},
   "outputs": [],
   "source": [
    "np.mean(global_metrics[ind1]['mase'])"
   ]
  },
  {
   "cell_type": "code",
   "execution_count": null,
   "metadata": {},
   "outputs": [],
   "source": [
    "plt.plot([np.mean(x['mase']) for x in global_metrics])"
   ]
  },
  {
   "cell_type": "code",
   "execution_count": null,
   "metadata": {},
   "outputs": [],
   "source": [
    "ind2 = np.argmin([np.mean(x['mase']) for x in global_metrics])\n",
    "ind2, np.mean(global_metrics[ind2]['mase'])"
   ]
  },
  {
   "cell_type": "code",
   "execution_count": null,
   "metadata": {},
   "outputs": [],
   "source": [
    "num = (np.abs(full_results[ind2][:, :Q] - full_results[ind2][:, Q:2*Q])).sum(axis=0) / full_results[ind2].shape[0]\n",
    "denom = (np.abs(full_results[ind2][1:, :Q] - full_results[ind2][:-1, :Q])).sum(axis=0) / (full_results[ind2].shape[0] - 1)"
   ]
  },
  {
   "cell_type": "code",
   "execution_count": null,
   "metadata": {},
   "outputs": [],
   "source": [
    "denom.mean(), num.mean()"
   ]
  },
  {
   "cell_type": "code",
   "execution_count": null,
   "metadata": {},
   "outputs": [],
   "source": [
    "np.mean(num / denom)"
   ]
  },
  {
   "cell_type": "markdown",
   "metadata": {},
   "source": [
    "Тестирование (старое)"
   ]
  },
  {
   "cell_type": "code",
   "execution_count": null,
   "metadata": {},
   "outputs": [],
   "source": [
    "#номер сохраняемого эксперимента\n",
    "IND = 0"
   ]
  },
  {
   "cell_type": "code",
   "execution_count": null,
   "metadata": {},
   "outputs": [],
   "source": [
    "# ws = np.array([1, 1, 1, 5, 5, 5, 10, 10, 10] + [1, 1, 1, 5, 5, 5, 10, 10, 10])\n",
    "ws = [1] * 5\n",
    "len(ws)"
   ]
  },
  {
   "cell_type": "code",
   "execution_count": null,
   "metadata": {},
   "outputs": [],
   "source": [
    "ns = N_clusters\n",
    "ns"
   ]
  },
  {
   "cell_type": "code",
   "execution_count": null,
   "metadata": {},
   "outputs": [],
   "source": [
    "# algs = [\"Kmeans\"] * 9 + [\"Agglomer\"] * 9\n",
    "algs = ['DBSCAN'] * 5"
   ]
  },
  {
   "cell_type": "code",
   "execution_count": null,
   "metadata": {},
   "outputs": [],
   "source": [
    "IND = 3"
   ]
  },
  {
   "cell_type": "code",
   "execution_count": null,
   "metadata": {},
   "outputs": [],
   "source": [
    "algs = [x[0] for x in cluster_algs]\n",
    "ns = N_clusters\n",
    "ws = [x[1] for x in cluster_algs]\n",
    "#for DBSCAN\n",
    "k_s = [x[2] for x in cluster_algs]\n",
    "eps_s = [x[3] for x in cluster_algs]"
   ]
  },
  {
   "cell_type": "code",
   "execution_count": null,
   "metadata": {},
   "outputs": [],
   "source": [
    "[(algs[i], ws[i], ns[i]) for i in range(len(algs))]"
   ]
  },
  {
   "cell_type": "code",
   "execution_count": null,
   "metadata": {},
   "outputs": [],
   "source": [
    "cluster_algs"
   ]
  },
  {
   "cell_type": "code",
   "execution_count": null,
   "metadata": {},
   "outputs": [],
   "source": [
    "assert(len(full_results) == len(algs))"
   ]
  },
  {
   "cell_type": "code",
   "execution_count": null,
   "metadata": {},
   "outputs": [],
   "source": [
    "import csv\n",
    "# tmp = np.concatenate((dataset_test[W:], results_testing[0]), axis=1)\n",
    "# full_results = np.zeros((results_training.shape[0] + results_testing.shape[0], results_training))\n",
    "# full_results = np.concatenate((results_training[0], tmp), axis=0)\n",
    "# full_results = results_training\n",
    "# full_results = np.concatenate([results_training[:, :2*Q], results_training[:, 4*Q:]], axis=1)\n",
    "for IND in range(len(full_results)):\n",
    "#     with open(f\"./results/W20_group60/{IND+50:02}_{algs[IND]}_N{ns[IND]}_w{ws[IND]}.csv\", \"w\") as fout:\n",
    "    with open(f\"./results/W20_group30/{IND+50:02}_{algs[IND]}_N{ns[IND]}_w{ws[IND]}_k{k_s[IND]}_eps{eps_s[IND]}.csv\", \"w\") as fout:\n",
    "        writer = csv.writer(fout)\n",
    "        writer.writerow([\"real \"+str(i) for i in range(Q)] + [\"predicted \" + str(i) for i in range(Q)] + [\"cluster_num\", \"mode\"])\n",
    "        for i in range(full_results[IND].shape[0]):\n",
    "            writer.writerow(full_results[IND][i])\n"
   ]
  },
  {
   "cell_type": "code",
   "execution_count": null,
   "metadata": {},
   "outputs": [],
   "source": []
  },
  {
   "cell_type": "code",
   "execution_count": null,
   "metadata": {},
   "outputs": [],
   "source": []
  },
  {
   "cell_type": "code",
   "execution_count": null,
   "metadata": {},
   "outputs": [],
   "source": [
    "IND=0\n",
    "with open(f\"./results/W30_original.csv\", \"w\") as fout:\n",
    "    writer = csv.writer(fout)\n",
    "    writer.writerow([\"real \"+str(i) for i in range(Q)] + [\"predicted \" + str(i) for i in range(Q)] + [\"cluster_num\", \"mode\"])\n",
    "    for i in range(full_results[IND].shape[0]):\n",
    "        writer.writerow(full_results[IND][i])"
   ]
  },
  {
   "cell_type": "code",
   "execution_count": null,
   "metadata": {},
   "outputs": [],
   "source": [
    "data.columns"
   ]
  },
  {
   "cell_type": "code",
   "execution_count": null,
   "metadata": {},
   "outputs": [],
   "source": [
    "read = pd.read_csv(\"./output_table_04-07_for60_2.csv\")\n",
    "new_data = pd.DataFrame(read, columns=columns)"
   ]
  },
  {
   "cell_type": "code",
   "execution_count": null,
   "metadata": {},
   "outputs": [],
   "source": [
    "np.mean(mae_on_max_cluster, axis=1)"
   ]
  },
  {
   "cell_type": "code",
   "execution_count": null,
   "metadata": {},
   "outputs": [],
   "source": [
    "# plt.plot(np.mean([x[-1] for x in forecasting_training_results], axis=1), label=\"weighted MAE\")\n",
    "# plt.plot(np.mean(mae_on_max_cluster, axis=1), label=\"MAE on max cluster\")\n",
    "# plt.legend()\n",
    "# plt.title(\"MAE on different cluster algorithms\")\n",
    "# plt.show()"
   ]
  },
  {
   "cell_type": "code",
   "execution_count": null,
   "metadata": {},
   "outputs": [],
   "source": [
    "clustering_results1 = [Clustering.apply_clustering(dataset, cur_cluster_alg) for cur_cluster_alg in [Clustering.MeanShift_for_windows(W=W) for W in window_sizes_for_clustering]]\n"
   ]
  },
  {
   "cell_type": "code",
   "execution_count": null,
   "metadata": {},
   "outputs": [],
   "source": [
    "clusters_labels1 = [x[0] for x in clustering_results1]\n",
    "\n",
    "clusters_sizes1 = [[np.sum(cur_clusters_labels == i) for i in range(len(np.unique(cur_clusters_labels)))] for cur_clusters_labels in clusters_labels]\n"
   ]
  },
  {
   "cell_type": "code",
   "execution_count": null,
   "metadata": {},
   "outputs": [],
   "source": [
    "plt.hist(clusters_labels1[-1])\n",
    "plt.yscale(\"log\")\n",
    "plt.show()"
   ]
  },
  {
   "cell_type": "code",
   "execution_count": null,
   "metadata": {},
   "outputs": [],
   "source": [
    "np.argmin(np.mean(mae_on_max_cluster, axis=1))"
   ]
  },
  {
   "cell_type": "code",
   "execution_count": null,
   "metadata": {},
   "outputs": [],
   "source": [
    "parameters = {\"dif\":True, \n",
    "              \"cluster_algs\":clustering_algorithms}\n",
    "# models, model_mae, results_training = Forecasting.try_parameters(parameters, dataset_train)"
   ]
  },
  {
   "cell_type": "code",
   "execution_count": null,
   "metadata": {},
   "outputs": [],
   "source": [
    "model_mae"
   ]
  },
  {
   "cell_type": "code",
   "execution_count": null,
   "metadata": {},
   "outputs": [],
   "source": [
    "a = np.random.random((5, 4))\n",
    "sc = Forecasting.MyStandardScaler()\n",
    "sc.fit(a)\n",
    "sc.transform(a)\n",
    "sc.mean, a"
   ]
  },
  {
   "cell_type": "markdown",
   "metadata": {},
   "source": [
    "Сохранение моделей"
   ]
  },
  {
   "cell_type": "code",
   "execution_count": null,
   "metadata": {},
   "outputs": [],
   "source": [
    "IND = 14"
   ]
  },
  {
   "cell_type": "code",
   "execution_count": null,
   "metadata": {},
   "outputs": [],
   "source": [
    "# import os\n",
    "# for i, file_name in enumerate(list(os.listdir(\"scalers\"))):\n",
    "#     os.unlink(\"scalers/\"+file_name)\n",
    "# for i in range(len(models['scalers'])):\n",
    "#     with open(\"scalers/\"+str(i)+\".pkl\", \"wb\") as f:\n",
    "#         pickle.dump(models['scalers'][i], f)"
   ]
  },
  {
   "cell_type": "code",
   "execution_count": null,
   "metadata": {},
   "outputs": [],
   "source": [
    "os.unlink(\"clusters_model.pkl\")\n",
    "with open(\"clusters_model.pkl\", \"wb\") as f:\n",
    "#     pickle.dump(models['clusters_model'], f)\n",
    "        pickle.dump(clustering_algorithms[IND], f)\n"
   ]
  },
  {
   "cell_type": "code",
   "execution_count": null,
   "metadata": {},
   "outputs": [],
   "source": [
    "import os, shutil\n",
    "\n",
    "for i, file_name in enumerate(list(os.listdir(\"models\"))):\n",
    "    shutil.rmtree(\"models/\"+file_name)\n",
    "for i in range(len(models[IND])):\n",
    "    if not isinstance(models[IND][i], int):\n",
    "        models[IND][i].save(\"models/\"+str(i))\n",
    "print(len(models))"
   ]
  },
  {
   "cell_type": "markdown",
   "metadata": {},
   "source": [
    "Чтение моделей"
   ]
  },
  {
   "cell_type": "code",
   "execution_count": null,
   "metadata": {},
   "outputs": [],
   "source": [
    "import os\n",
    "N_clusters = len(os.listdir('models'))\n",
    "assert(len(os.listdir('scalers')) == N_clusters)\n",
    "models = {'models':[], 'clusters_model':[], 'scalers':[]}"
   ]
  },
  {
   "cell_type": "code",
   "execution_count": null,
   "metadata": {},
   "outputs": [],
   "source": [
    "from tensorflow import keras\n",
    "for file_name in os.listdir('models'):\n",
    "    models['models'].append(keras.models.load_model('models/'+file_name))"
   ]
  },
  {
   "cell_type": "code",
   "execution_count": null,
   "metadata": {},
   "outputs": [],
   "source": [
    "for file_name in os.listdir('scalers'):\n",
    "    with open('scalers/'+file_name, 'rb') as f:\n",
    "        models['scalers'].append(pickle.load(f))"
   ]
  },
  {
   "cell_type": "code",
   "execution_count": null,
   "metadata": {},
   "outputs": [],
   "source": [
    "with open('clusters_model.pkl', 'rb') as f:\n",
    "    models['clusters_model'] = pickle.load(f)"
   ]
  },
  {
   "cell_type": "code",
   "execution_count": null,
   "metadata": {},
   "outputs": [],
   "source": []
  },
  {
   "cell_type": "markdown",
   "metadata": {},
   "source": [
    "Тестирование"
   ]
  },
  {
   "cell_type": "code",
   "execution_count": null,
   "metadata": {},
   "outputs": [],
   "source": [
    "clusters_model = models[\"clusters_model\"]\n",
    "forecasting_models = models['models']\n",
    "scalers = models['scalers']\n",
    "assert(len(forecasting_models) == len(scalers))"
   ]
  },
  {
   "cell_type": "code",
   "execution_count": null,
   "metadata": {},
   "outputs": [],
   "source": [
    "import importlib\n",
    "import Clustering, Forecasting\n",
    "importlib.reload(Clustering)\n",
    "importlib.reload(Forecasting)"
   ]
  },
  {
   "cell_type": "code",
   "execution_count": null,
   "metadata": {},
   "outputs": [],
   "source": [
    "window_sizes_for_clustering"
   ]
  },
  {
   "cell_type": "code",
   "execution_count": null,
   "metadata": {},
   "outputs": [],
   "source": [
    "N_clusters = 7"
   ]
  },
  {
   "cell_type": "code",
   "execution_count": null,
   "metadata": {},
   "outputs": [],
   "source": [
    "# dataset_windows = sliding_window_view(dataset_train, (window_size_clustering, dataset_train.shape[-1])) #(N, 1, W, Q)\n",
    "# new_shape = dataset_windows.shape\n",
    "# dataset_windows = dataset_windows.reshape(new_shape[0], new_shape[2] * new_shape[3])\n",
    "# cluster_nums = clusters_model.labels_\n",
    "# print(f\"{dataset.shape=}, {dataset_windows.shape=}, {cluster_nums.shape=}, {dataset.shape[0] - dataset_windows.shape[0]}\")\n",
    "# cluster_nums = np.pad(cluster_nums, (dataset.shape[0] - dataset_windows.shape[0], 0), mode='constant', constant_values=(cluster_nums[0])) #-1\n",
    "# print(f\"After pad: {dataset.shape=}, {cluster_nums.shape=}\")\n",
    "# # if window_size_clustering > window_size_forecasting:\n",
    "# #     cluster_num = np.pad(cluster_nums, (0, ), mode='constant', constant_values=(cluster_nums[-1]))\n",
    "# y_pred = np.zeros((dataset.shape[0] - window_size_forecasting, dataset.shape[-1]))\n",
    "# #only if dif then +1\n",
    "# dataset_windows = sliding_window_view(dataset, (window_size_forecasting + 1, dataset.shape[-1]))\n",
    "# cluster_nums = cluster_nums[window_size_forecasting:] #+1\n",
    "    \n",
    "# full_results = np.zeros((cluster_nums.shape[0], 2 * dataset_train.shape[-1] + 2)) # real_Q, Q, cluster_num, mask\n",
    "\n",
    "# for cluster_num in range(N_clusters):\n",
    "#     mask = (cluster_nums == cluster_num)\n",
    "#     if np.sum(mask) == 0:\n",
    "#         continue\n",
    "\n",
    "#     cur_windows = dataset_windows[mask, 0, ...] #(M, Wf, Q)\n",
    "#     scalers[cluster_num].save_first_elements(cur_windows)\n",
    "#     cur_windows = np.array(scalers[cluster_num].transform(cur_windows))\n",
    "#     cur_pred = np.array(prediction_models[cluster_num](cur_windows)) #(M, Q)\n",
    "#     cur_pred = scalers[cluster_num].inverse_transform(cur_pred)\n",
    "#     cur_pred = scalers[cluster_num].add_first_elements(cur_pred)\n",
    "#     y_pred[mask] = cur_pred\n",
    "#     Q = dataset.shape[-1]\n",
    "#     full_results[mask, Q:2 * Q] = cur_pred\n",
    "#     full_results[mask, 2 * Q] = cluster_num\n",
    "#     full_results[mask, 2 * Q + 1] = 3 #global test"
   ]
  },
  {
   "cell_type": "code",
   "execution_count": null,
   "metadata": {},
   "outputs": [],
   "source": []
  },
  {
   "cell_type": "code",
   "execution_count": null,
   "metadata": {},
   "outputs": [],
   "source": [
    "# window_size_for_clustering = clusters_model.cluster_centers_.shape[-1] // dataset_test.shape[-1]\n",
    "window_size_for_clustering = window_sizes_for_clustering[0]\n",
    "y_pred, results_testing = Forecasting.predict_through_clusters(dataset_test, clusters_model, forecasting_models, scalers, window_size_clustering=window_size_for_clustering)"
   ]
  },
  {
   "cell_type": "code",
   "execution_count": null,
   "metadata": {},
   "outputs": [],
   "source": [
    "#лучшие параметры\n",
    "window_size_for_clustering, len(forecasting_models)"
   ]
  },
  {
   "cell_type": "code",
   "execution_count": null,
   "metadata": {},
   "outputs": [],
   "source": [
    "y_pred.shape, dataset.shape[-1]"
   ]
  },
  {
   "cell_type": "code",
   "execution_count": null,
   "metadata": {},
   "outputs": [],
   "source": [
    "print(f\"{y_pred.shape=}, {dataset_test.shape=}\")\n",
    "y_true = dataset_test[-y_pred.shape[0]:]\n",
    "print(y_true.shape, results_testing[:, :dataset_train.shape[-1]].shape)\n",
    "results_testing[:, :dataset_train.shape[-1]] = y_true\n",
    "cur_mase = Forecasting.my_mase(y_true, y_pred, multioutput='raw_values')\n",
    "cur_mae = Forecasting.my_mae(y_true, y_pred, multioutput=\"raw_values\")"
   ]
  },
  {
   "cell_type": "code",
   "execution_count": null,
   "metadata": {},
   "outputs": [],
   "source": [
    "Q = dataset_train.shape[-1]\n",
    "Q"
   ]
  },
  {
   "cell_type": "code",
   "execution_count": null,
   "metadata": {},
   "outputs": [],
   "source": [
    "import csv\n",
    "# full_results = np.concatenate((results_training, results_testing), axis=0)\n",
    "full_results = results_training\n",
    "with open(\"output_table_03-23.csv\", \"w\") as fout:\n",
    "    writer = csv.writer(fout)\n",
    "    writer.writerow([\"real \"+str(i) for i in range(Q)] + [\"predicted \" + str(i) for i in range(Q)] + [\"cluster_num\", \"mode\"])\n",
    "    for i in range(full_results.shape[0]):\n",
    "        writer.writerow(full_results[i])\n"
   ]
  },
  {
   "cell_type": "code",
   "execution_count": null,
   "metadata": {},
   "outputs": [],
   "source": [
    "# cur_mase, cur_mae"
   ]
  },
  {
   "cell_type": "code",
   "execution_count": null,
   "metadata": {},
   "outputs": [],
   "source": [
    "# full_results.shape"
   ]
  },
  {
   "cell_type": "code",
   "execution_count": null,
   "metadata": {},
   "outputs": [],
   "source": [
    "mask = cur_mase <= np.percentile(cur_mase, 60)\n",
    "plt.plot(np.arange(cur_mase.shape[0])[mask], cur_mase[mask])\n",
    "plt.yscale(\"log\")\n",
    "plt.xlabel(\"features\")\n",
    "plt.ylabel(\"MASE\")\n",
    "plt.title(\"MASE\")\n",
    "plt.show()"
   ]
  },
  {
   "cell_type": "code",
   "execution_count": null,
   "metadata": {},
   "outputs": [],
   "source": [
    "mask = cur_mae <= np.percentile(cur_mae, 60)\n",
    "# plt.plot(np.arange(cur_mae.shape[0])[mask], cur_mae[mask])\n",
    "plt.plot(cur_mae[mask])\n",
    "plt.xlabel(\"features\")\n",
    "plt.ylabel(\"MAE\")\n",
    "plt.title(\"best MAE\")\n",
    "# plt.show()\n",
    "plt.savefig(\"best MAE.png\")"
   ]
  },
  {
   "cell_type": "code",
   "execution_count": null,
   "metadata": {},
   "outputs": [],
   "source": [
    "plt.plot(cur_mase[cur_mase <= np.percentile(cur_mase, 100)])\n",
    "plt.yscale(\"log\")\n",
    "plt.xlabel(\"features\")\n",
    "plt.ylabel(\"MASE\")\n",
    "plt.title(\"50% best MASE\")\n",
    "plt.show()"
   ]
  },
  {
   "cell_type": "code",
   "execution_count": null,
   "metadata": {},
   "outputs": [],
   "source": [
    "cur_mape = mape(y_true, y_pred)\n",
    "plt.plot(cur_mape[cur_mape < np.percentile(cur_mape, 50)])\n",
    "plt.yscale(\"log\")\n",
    "plt.xlabel(\"features\")\n",
    "plt.ylabel(\"MAPE\")\n",
    "plt.title(\"50% best MAPE\")\n",
    "plt.show()"
   ]
  },
  {
   "cell_type": "markdown",
   "metadata": {},
   "source": [
    "**Мелкое тестирование**"
   ]
  },
  {
   "cell_type": "code",
   "execution_count": null,
   "metadata": {},
   "outputs": [],
   "source": [
    "N, Q = 1000, 10\n",
    "# test_array = (np.random.random((N * Q)) + np.sin(np.arange(N * Q) / 100)).reshape(N, Q)\n",
    "test_array = (np.sin(np.arange(N*Q)/100) * 5).reshape(N, Q)"
   ]
  },
  {
   "cell_type": "code",
   "execution_count": null,
   "metadata": {},
   "outputs": [],
   "source": [
    "test_array"
   ]
  },
  {
   "cell_type": "code",
   "execution_count": null,
   "metadata": {},
   "outputs": [],
   "source": [
    "W = 5\n",
    "sc = Forecasting.MyStandardScaler()\n",
    "clusters_X, clusters_labels = Clustering.split_to_clusters(test_array, np.zeros(test_array.shape[0]), W=W + 2)\n",
    "test_array_windows = clusters_X[0]\n",
    "X_true, y_true = Forecasting.split_X_y(test_array_windows)\n",
    "prepared_array = sc.fit_transform(test_array_windows)\n",
    "prepared_X, prepared_y = Forecasting.split_X_y(prepared_array)\n",
    "y_changed = sc.inverse_transform(prepared_y)\n",
    "# array_changed = sc.inverse_transform(prepared_array)"
   ]
  },
  {
   "cell_type": "code",
   "execution_count": null,
   "metadata": {},
   "outputs": [],
   "source": [
    "plt.plot(y_true[:100, 0], label=\"true\")\n",
    "plt.plot(prepared_y[:100, 0], label=\"transformed\")\n",
    "plt.legend()\n",
    "plt.show()"
   ]
  },
  {
   "cell_type": "code",
   "execution_count": null,
   "metadata": {},
   "outputs": [],
   "source": [
    "np.max(np.abs(y_true - y_changed))"
   ]
  },
  {
   "cell_type": "code",
   "execution_count": null,
   "metadata": {},
   "outputs": [],
   "source": [
    "test_labels = np.zeros(N)\n",
    "# test_labels[test_array[:, 0] <= np.percentile(test_array, 50)] = 1"
   ]
  },
  {
   "cell_type": "code",
   "execution_count": null,
   "metadata": {},
   "outputs": [],
   "source": [
    "test_array.shape"
   ]
  },
  {
   "cell_type": "code",
   "execution_count": null,
   "metadata": {},
   "outputs": [],
   "source": [
    "models, test_results, _ = Forecasting.apply_forecasting_training_simple_version(test_array, test_labels)"
   ]
  },
  {
   "cell_type": "code",
   "execution_count": null,
   "metadata": {},
   "outputs": [],
   "source": [
    "Q = test_array.shape[-1]\n",
    "plt.plot(test_results[:40, 0], label=\"true\")\n",
    "plt.plot(test_results[:40, Q], label=\"predicted\")\n",
    "plt.legend()\n",
    "plt.show()"
   ]
  },
  {
   "cell_type": "code",
   "execution_count": null,
   "metadata": {},
   "outputs": [],
   "source": []
  },
  {
   "cell_type": "code",
   "execution_count": null,
   "metadata": {},
   "outputs": [],
   "source": [
    "import csv\n",
    "with open(\"output_table_03-22.csv\", \"w\") as fout:\n",
    "    writer = csv.writer(fout)\n",
    "    writer.writerow([\"real \"+str(i) for i in range(Q)] + [\"predicted \" + str(i) for i in range(Q)] + [\"cluster_num\", \"mode\"])\n",
    "    for i in range(test_results.shape[0]):\n",
    "        writer.writerow(test_results[i])\n"
   ]
  },
  {
   "cell_type": "code",
   "execution_count": null,
   "metadata": {},
   "outputs": [],
   "source": []
  }
 ],
 "metadata": {
  "kernelspec": {
   "display_name": "Python 3 (ipykernel)",
   "language": "python",
   "name": "python3"
  },
  "language_info": {
   "codemirror_mode": {
    "name": "ipython",
    "version": 3
   },
   "file_extension": ".py",
   "mimetype": "text/x-python",
   "name": "python",
   "nbconvert_exporter": "python",
   "pygments_lexer": "ipython3",
   "version": "3.9.15"
  },
  "vscode": {
   "interpreter": {
    "hash": "916dbcbb3f70747c44a77c7bcd40155683ae19c65e1c03b4aa3499c5328201f1"
   }
  }
 },
 "nbformat": 4,
 "nbformat_minor": 2
}
