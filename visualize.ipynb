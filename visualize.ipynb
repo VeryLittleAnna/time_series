{
 "cells": [
  {
   "cell_type": "code",
   "execution_count": null,
   "id": "a33e1c8b",
   "metadata": {},
   "outputs": [],
   "source": [
    "%load_ext autoreload\n",
    "%autoreload"
   ]
  },
  {
   "cell_type": "code",
   "execution_count": null,
   "id": "4b952ce1",
   "metadata": {},
   "outputs": [],
   "source": [
    "import numpy as np\n",
    "import pandas as pd\n",
    "import matplotlib.pyplot as plt"
   ]
  },
  {
   "cell_type": "markdown",
   "id": "6b206408",
   "metadata": {},
   "source": [
    "-"
   ]
  },
  {
   "cell_type": "markdown",
   "id": "87256c21",
   "metadata": {},
   "source": [
    "Settings"
   ]
  },
  {
   "cell_type": "markdown",
   "id": "d7707f85",
   "metadata": {},
   "source": [
    "train = 0 </br>\n",
    "valid = 3 </br>\n",
    "test = 1 </br>\n",
    "test' = 2 </br>"
   ]
  },
  {
   "cell_type": "code",
   "execution_count": null,
   "id": "ccb4a30c",
   "metadata": {},
   "outputs": [],
   "source": [
    "# Тип выборки\n",
    "MODE = 0\n",
    "# Номер переменной\n",
    "VAR = 8\n",
    "# Число кластеров с наименьшей MAE на рассмотрение\n",
    "TOP = 8\n",
    "# Длина участка визуализации\n",
    "LEN = 10"
   ]
  },
  {
   "cell_type": "markdown",
   "id": "f0480e87",
   "metadata": {},
   "source": [
    "-"
   ]
  },
  {
   "cell_type": "code",
   "execution_count": null,
   "id": "fd8e904b",
   "metadata": {},
   "outputs": [],
   "source": [
    "data = pd.read_csv(\"./output_table_03-22.csv\")\n",
    "data = data[data[\"mode\"].astype(\"int\") == MODE]"
   ]
  },
  {
   "cell_type": "code",
   "execution_count": null,
   "id": "f2830c69",
   "metadata": {
    "scrolled": false
   },
   "outputs": [],
   "source": [
    "data.loc[:, [\"real 0\", \"real 23\", \"real 8\", \"predicted 0\", \"predicted 8\", \"predicted 23\", \"cluster_num\", \"mode\"]]"
   ]
  },
  {
   "cell_type": "markdown",
   "id": "e033834f",
   "metadata": {},
   "source": [
    "Оценим переменные"
   ]
  },
  {
   "cell_type": "code",
   "execution_count": null,
   "id": "95eb1634",
   "metadata": {
    "scrolled": true
   },
   "outputs": [],
   "source": [
    "real = [x for x in data.columns if \"real\" in x]\n",
    "predicted = [x for x in data.columns if \"predicted\" in x]\n",
    "err = abs(data[real].values - data[predicted].values)\n",
    "err = err[data[\"mode\"] == MODE]\n",
    "pd.DataFrame([dict(zip(real, err.mean(axis=0)))]).T.sort_values(0)[:10]"
   ]
  },
  {
   "cell_type": "code",
   "execution_count": null,
   "id": "62c619c5",
   "metadata": {},
   "outputs": [],
   "source": [
    "data[\"mode\"].value_counts()"
   ]
  },
  {
   "cell_type": "code",
   "execution_count": null,
   "id": "17a3dc6f",
   "metadata": {},
   "outputs": [],
   "source": [
    "AE = abs(data[f\"real {VAR}\"] - data[f\"predicted {VAR}\"])\n",
    "AE = pd.DataFrame(dict(AE=AE, cluster_num=data[\"cluster_num\"]))"
   ]
  },
  {
   "cell_type": "code",
   "execution_count": null,
   "id": "c0d9fa92",
   "metadata": {},
   "outputs": [],
   "source": [
    "AE"
   ]
  },
  {
   "cell_type": "code",
   "execution_count": null,
   "id": "367c2126",
   "metadata": {},
   "outputs": [],
   "source": [
    "top = [AE[AE[\"cluster_num\"] == c][\"AE\"].mean() for c in np.arange(AE[\"cluster_num\"].max())]\n",
    "top = np.argsort(top)"
   ]
  },
  {
   "cell_type": "code",
   "execution_count": null,
   "id": "60eb02b2",
   "metadata": {},
   "outputs": [],
   "source": [
    "top"
   ]
  },
  {
   "cell_type": "markdown",
   "id": "7cd39e47",
   "metadata": {},
   "source": [
    "-"
   ]
  },
  {
   "cell_type": "markdown",
   "id": "3ea0a94a",
   "metadata": {},
   "source": [
    "# Визуализация"
   ]
  },
  {
   "cell_type": "code",
   "execution_count": null,
   "id": "ed248970",
   "metadata": {},
   "outputs": [],
   "source": [
    "for i in range(min(TOP, len(top))):\n",
    "    #print(int(f\"{i+1}1{TOP}\"))\n",
    "    plt.subplot(int(f\"{TOP}1{i+1}\"))\n",
    "    index = AE[\"cluster_num\"] == top[i]\n",
    "    plt.title(f\"Cluster: {top[i]}, MAE: {AE[index]['AE'].mean():.5f}, Size: {sum(AE['cluster_num'] == top[i])}\")\n",
    "    cluster = data[[f\"real {VAR}\", f\"predicted {VAR}\"]][index]\n",
    "    print(cluster.shape)\n",
    "    # find continous index\n",
    "    print(cluster.index.shape)\n",
    "    cont = np.split(cluster, np.where(np.diff(cluster.index.to_numpy()) > 1)[0] + 1)\n",
    "    print([len(x) for x in cont])\n",
    "    ind = np.argmax([len(x) for x in cont])\n",
    "    chunk = [x for x in cont if len(x) > LEN][-1]\n",
    "#     chunk = cont[ind]\n",
    "    start = LEN * 0 // 5\n",
    "    plt.plot(chunk[start:start+5*LEN])\n",
    "    plt.legend(chunk.columns)\n",
    "    \n",
    "plt.gcf().set_size_inches(15, 5 * TOP)\n",
    "# plt.savefig(\"top_clusters_visualize.png\")\n",
    "plt.show()"
   ]
  },
  {
   "cell_type": "code",
   "execution_count": null,
   "id": "8c409c05",
   "metadata": {},
   "outputs": [],
   "source": []
  },
  {
   "cell_type": "code",
   "execution_count": null,
   "id": "f286dc1a",
   "metadata": {},
   "outputs": [],
   "source": []
  }
 ],
 "metadata": {
  "kernelspec": {
   "display_name": "Python 3 (ipykernel)",
   "language": "python",
   "name": "python3"
  },
  "language_info": {
   "codemirror_mode": {
    "name": "ipython",
    "version": 3
   },
   "file_extension": ".py",
   "mimetype": "text/x-python",
   "name": "python",
   "nbconvert_exporter": "python",
   "pygments_lexer": "ipython3",
   "version": "3.9.15"
  },
  "vscode": {
   "interpreter": {
    "hash": "916dbcbb3f70747c44a77c7bcd40155683ae19c65e1c03b4aa3499c5328201f1"
   }
  }
 },
 "nbformat": 4,
 "nbformat_minor": 5
}
