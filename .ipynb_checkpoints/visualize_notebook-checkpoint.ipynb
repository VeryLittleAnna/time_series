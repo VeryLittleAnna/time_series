{
 "cells": [
  {
   "cell_type": "code",
   "execution_count": 2,
   "metadata": {},
   "outputs": [],
   "source": [
    "import numpy as np\n",
    "import matplotlib.pyplot as plt\n",
    "import pickle\n"
   ]
  },
  {
   "cell_type": "code",
   "execution_count": 3,
   "metadata": {},
   "outputs": [],
   "source": [
    "with open(\"output_metrics.pickle\", \"rb\") as f:\n",
    "    answer = pickle.load(f)\n"
   ]
  },
  {
   "cell_type": "code",
   "execution_count": 5,
   "metadata": {},
   "outputs": [
    {
     "data": {
      "text/plain": [
       "dict_keys([(1, 2), (1, 5), (1, 7), (1, 9), (1, 11), (3, 2), (3, 5), (3, 7), (3, 9), (3, 11), (5, 2), (5, 5), (5, 7), (5, 9), (5, 11), (10, 2), (10, 5), (10, 7), (10, 9), (10, 11), (15, 2), (15, 5), (15, 7), (15, 9), (15, 11)])"
      ]
     },
     "execution_count": 5,
     "metadata": {},
     "output_type": "execute_result"
    }
   ],
   "source": [
    "answer.keys()"
   ]
  },
  {
   "cell_type": "code",
   "execution_count": 4,
   "metadata": {},
   "outputs": [
    {
     "data": {
      "text/plain": [
       "['str',\n",
       " 'cluster_metrics',\n",
       " 'metrics',\n",
       " 'clusters_sizes',\n",
       " 'weighted_mase',\n",
       " 'weighted_mape']"
      ]
     },
     "execution_count": 4,
     "metadata": {},
     "output_type": "execute_result"
    }
   ],
   "source": [
    "contents = answer[(3, 7)][0].split()\n",
    "contents"
   ]
  },
  {
   "cell_type": "markdown",
   "metadata": {},
   "source": [
    "**Кластеризация**"
   ]
  },
  {
   "cell_type": "code",
   "execution_count": 6,
   "metadata": {},
   "outputs": [
    {
     "name": "stdout",
     "output_type": "stream",
     "text": [
      "0.789 - (1, 2)\n",
      "0.826 - (1, 5)\n",
      "1.190 - (1, 7)\n",
      "1.187 - (1, 9)\n",
      "1.157 - (1, 11)\n",
      "0.362 - (3, 2)\n",
      "0.842 - (3, 5)\n",
      "1.100 - (3, 7)\n",
      "1.290 - (3, 9)\n",
      "1.626 - (3, 11)\n",
      "1.198 - (5, 2)\n",
      "0.760 - (5, 5)\n",
      "1.098 - (5, 7)\n",
      "1.418 - (5, 9)\n",
      "1.496 - (5, 11)\n",
      "0.364 - (10, 2)\n",
      "0.825 - (10, 5)\n",
      "1.391 - (10, 7)\n",
      "1.388 - (10, 9)\n",
      "1.476 - (10, 11)\n",
      "0.364 - (15, 2)\n",
      "0.789 - (15, 5)\n",
      "0.964 - (15, 7)\n",
      "1.401 - (15, 9)\n",
      "1.515 - (15, 11)\n"
     ]
    }
   ],
   "source": [
    "for key, value in answer.items():\n",
    "    print(f\"{value[1]['DB']:.3f} - {key}\")"
   ]
  },
  {
   "cell_type": "code",
   "execution_count": 17,
   "metadata": {},
   "outputs": [],
   "source": [
    "a = [[value[1][\"DB\"] for key, value in answer.items() if key[0] == W] for W in [1, 3, 10, 15]]"
   ]
  },
  {
   "cell_type": "code",
   "execution_count": 19,
   "metadata": {},
   "outputs": [
    {
     "data": {
      "image/png": "[encoded data removed]",
      "text/plain": [
       "<Figure size 432x288 with 1 Axes>"
      ]
     },
     "metadata": {
      "needs_background": "light"
     },
     "output_type": "display_data"
    }
   ],
   "source": [
    "for i in range(len(a)):\n",
    "    plt.plot([2, 5, 7, 9, 11], a[i])"
   ]
  },
  {
   "cell_type": "code",
   "execution_count": 14,
   "metadata": {},
   "outputs": [
    {
     "data": {
      "text/plain": [
       "[[(1, 2), (1, 5), (1, 7), (1, 9), (1, 11)],\n",
       " [(3, 2), (3, 5), (3, 7), (3, 9), (3, 11)],\n",
       " [(10, 2), (10, 5), (10, 7), (10, 9), (10, 11)],\n",
       " [(15, 2), (15, 5), (15, 7), (15, 9), (15, 11)]]"
      ]
     },
     "execution_count": 14,
     "metadata": {},
     "output_type": "execute_result"
    }
   ],
   "source": []
  },
  {
   "cell_type": "code",
   "execution_count": null,
   "metadata": {},
   "outputs": [],
   "source": []
  }
 ],
 "metadata": {
  "kernelspec": {
   "display_name": "Python 3",
   "language": "python",
   "name": "python3"
  },
  "language_info": {
   "codemirror_mode": {
    "name": "ipython",
    "version": 3
   },
   "file_extension": ".py",
   "mimetype": "text/x-python",
   "name": "python",
   "nbconvert_exporter": "python",
   "pygments_lexer": "ipython3",
   "version": "3.7.6"
  },
  "vscode": {
   "interpreter": {
    "hash": "916dbcbb3f70747c44a77c7bcd40155683ae19c65e1c03b4aa3499c5328201f1"
   }
  }
 },
 "nbformat": 4,
 "nbformat_minor": 2
}
