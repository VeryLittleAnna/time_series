{
 "cells": [
  {
   "cell_type": "code",
   "execution_count": 1,
   "id": "fab95c20",
   "metadata": {},
   "outputs": [],
   "source": [
    "%load_ext autoreload\n",
    "%autoreload 2\n",
    "import os\n",
    "os.environ[\"CUDA_VISIBLE_DEVICES\"] = '2'"
   ]
  },
  {
   "cell_type": "code",
   "execution_count": 2,
   "id": "886ee213",
   "metadata": {},
   "outputs": [
    {
     "name": "stderr",
     "output_type": "stream",
     "text": [
      "2023-05-02 19:42:26.737609: I tensorflow/core/platform/cpu_feature_guard.cc:193] This TensorFlow binary is optimized with oneAPI Deep Neural Network Library (oneDNN) to use the following CPU instructions in performance-critical operations:  AVX2 FMA\n",
      "To enable them in other operations, rebuild TensorFlow with the appropriate compiler flags.\n",
      "2023-05-02 19:42:27.449799: W tensorflow/compiler/xla/stream_executor/platform/default/dso_loader.cc:64] Could not load dynamic library 'libnvinfer.so.7'; dlerror: libnvinfer.so.7: cannot open shared object file: No such file or directory; LD_LIBRARY_PATH: :/home/grinenko/anaconda3/envs/the/lib/\n",
      "2023-05-02 19:42:27.449857: W tensorflow/compiler/xla/stream_executor/platform/default/dso_loader.cc:64] Could not load dynamic library 'libnvinfer_plugin.so.7'; dlerror: libnvinfer_plugin.so.7: cannot open shared object file: No such file or directory; LD_LIBRARY_PATH: :/home/grinenko/anaconda3/envs/the/lib/\n",
      "2023-05-02 19:42:27.449863: W tensorflow/compiler/tf2tensorrt/utils/py_utils.cc:38] TF-TRT Warning: Cannot dlopen some TensorRT libraries. If you would like to use Nvidia GPU with TensorRT, please make sure the missing libraries mentioned above are installed properly.\n"
     ]
    }
   ],
   "source": [
    "import pandas as pd\n",
    "import numpy as np\n",
    "import matplotlib.pyplot as plt\n",
    "import pickle\n",
    "from collections import defaultdict\n",
    "import json\n",
    "import tensorflow as tf\n",
    "import keras"
   ]
  },
  {
   "cell_type": "code",
   "execution_count": 3,
   "id": "49b4eb69",
   "metadata": {},
   "outputs": [],
   "source": [
    "gpus = tf.config.experimental.list_physical_devices(device_type='GPU')\n",
    "tf.config.experimental.set_memory_growth(device=gpus[0], enable=True)"
   ]
  },
  {
   "cell_type": "code",
   "execution_count": 4,
   "id": "9f0ebafa",
   "metadata": {},
   "outputs": [
    {
     "name": "stderr",
     "output_type": "stream",
     "text": [
      "2023-05-02 19:42:28.339612: I tensorflow/core/platform/cpu_feature_guard.cc:193] This TensorFlow binary is optimized with oneAPI Deep Neural Network Library (oneDNN) to use the following CPU instructions in performance-critical operations:  AVX2 FMA\n",
      "To enable them in other operations, rebuild TensorFlow with the appropriate compiler flags.\n",
      "2023-05-02 19:42:28.822274: I tensorflow/core/common_runtime/gpu/gpu_device.cc:1613] Created device /job:localhost/replica:0/task:0/device:GPU:0 with 46308 MB memory:  -> device: 0, name: NVIDIA RTX A6000, pci bus id: 0000:81:00.0, compute capability: 8.6\n"
     ]
    },
    {
     "name": "stdout",
     "output_type": "stream",
     "text": [
      "WARNING:tensorflow:From /home/grinenko/anna/time_series/Forecasting.py:28: The name tf.keras.backend.set_session is deprecated. Please use tf.compat.v1.keras.backend.set_session instead.\n",
      "\n"
     ]
    }
   ],
   "source": [
    "\n",
    "import Clustering\n",
    "import Forecasting"
   ]
  },
  {
   "cell_type": "code",
   "execution_count": 5,
   "id": "0aeab961",
   "metadata": {},
   "outputs": [],
   "source": [
    "W=20"
   ]
  },
  {
   "cell_type": "code",
   "execution_count": 6,
   "id": "34559e39",
   "metadata": {},
   "outputs": [
    {
     "name": "stderr",
     "output_type": "stream",
     "text": [
      "2023-05-02 19:42:30.917406: I tensorflow/core/common_runtime/gpu/gpu_device.cc:1613] Created device /device:GPU:0 with 46308 MB memory:  -> device: 0, name: NVIDIA RTX A6000, pci bus id: 0000:81:00.0, compute capability: 8.6\n"
     ]
    },
    {
     "data": {
      "text/plain": [
       "[name: \"/device:CPU:0\"\n",
       " device_type: \"CPU\"\n",
       " memory_limit: 268435456\n",
       " locality {\n",
       " }\n",
       " incarnation: 11653025825367546516\n",
       " xla_global_id: -1,\n",
       " name: \"/device:GPU:0\"\n",
       " device_type: \"GPU\"\n",
       " memory_limit: 48558374912\n",
       " locality {\n",
       "   bus_id: 1\n",
       "   links {\n",
       "   }\n",
       " }\n",
       " incarnation: 18160073326861908386\n",
       " physical_device_desc: \"device: 0, name: NVIDIA RTX A6000, pci bus id: 0000:81:00.0, compute capability: 8.6\"\n",
       " xla_global_id: 416903419]"
      ]
     },
     "execution_count": 6,
     "metadata": {},
     "output_type": "execute_result"
    }
   ],
   "source": [
    "from tensorflow.python.client import device_lib \n",
    "device_lib.list_local_devices() "
   ]
  },
  {
   "cell_type": "code",
   "execution_count": 7,
   "id": "3f56719a",
   "metadata": {},
   "outputs": [],
   "source": [
    "data = pd.read_csv(\"pulp_and_paper.csv\", sep=\";\")#, parse_dates=['time']) #, nrows=10)"
   ]
  },
  {
   "cell_type": "code",
   "execution_count": 8,
   "id": "692a58ef",
   "metadata": {},
   "outputs": [
    {
     "data": {
      "text/html": [
       "<div>\n",
       "<style scoped>\n",
       "    .dataframe tbody tr th:only-of-type {\n",
       "        vertical-align: middle;\n",
       "    }\n",
       "\n",
       "    .dataframe tbody tr th {\n",
       "        vertical-align: top;\n",
       "    }\n",
       "\n",
       "    .dataframe thead th {\n",
       "        text-align: right;\n",
       "    }\n",
       "</style>\n",
       "<table border=\"1\" class=\"dataframe\">\n",
       "  <thead>\n",
       "    <tr style=\"text-align: right;\">\n",
       "      <th></th>\n",
       "      <th>time</th>\n",
       "      <th>y</th>\n",
       "      <th>x1</th>\n",
       "      <th>x2</th>\n",
       "      <th>x3</th>\n",
       "      <th>x4</th>\n",
       "      <th>x5</th>\n",
       "      <th>x6</th>\n",
       "      <th>x7</th>\n",
       "      <th>x8</th>\n",
       "      <th>...</th>\n",
       "      <th>x52</th>\n",
       "      <th>x53</th>\n",
       "      <th>x54</th>\n",
       "      <th>x55</th>\n",
       "      <th>x56</th>\n",
       "      <th>x57</th>\n",
       "      <th>x58</th>\n",
       "      <th>x59</th>\n",
       "      <th>x60</th>\n",
       "      <th>x61</th>\n",
       "    </tr>\n",
       "  </thead>\n",
       "  <tbody>\n",
       "    <tr>\n",
       "      <th>0</th>\n",
       "      <td>5/1/99 0:00</td>\n",
       "      <td>0</td>\n",
       "      <td>0.376665</td>\n",
       "      <td>-4.596435</td>\n",
       "      <td>-4.095756</td>\n",
       "      <td>13.497687</td>\n",
       "      <td>-0.118830</td>\n",
       "      <td>-20.669883</td>\n",
       "      <td>0.000732</td>\n",
       "      <td>-0.061114</td>\n",
       "      <td>...</td>\n",
       "      <td>10.091721</td>\n",
       "      <td>0.053279</td>\n",
       "      <td>-4.936434</td>\n",
       "      <td>-24.590146</td>\n",
       "      <td>18.515436</td>\n",
       "      <td>3.473400</td>\n",
       "      <td>0.033444</td>\n",
       "      <td>0.953219</td>\n",
       "      <td>0.006076</td>\n",
       "      <td>0</td>\n",
       "    </tr>\n",
       "    <tr>\n",
       "      <th>1</th>\n",
       "      <td>5/1/99 0:02</td>\n",
       "      <td>0</td>\n",
       "      <td>0.475720</td>\n",
       "      <td>-4.542502</td>\n",
       "      <td>-4.018359</td>\n",
       "      <td>16.230659</td>\n",
       "      <td>-0.128733</td>\n",
       "      <td>-18.758079</td>\n",
       "      <td>0.000732</td>\n",
       "      <td>-0.061114</td>\n",
       "      <td>...</td>\n",
       "      <td>10.095871</td>\n",
       "      <td>0.062801</td>\n",
       "      <td>-4.937179</td>\n",
       "      <td>-32.413266</td>\n",
       "      <td>22.760065</td>\n",
       "      <td>2.682933</td>\n",
       "      <td>0.033536</td>\n",
       "      <td>1.090502</td>\n",
       "      <td>0.006083</td>\n",
       "      <td>0</td>\n",
       "    </tr>\n",
       "    <tr>\n",
       "      <th>2</th>\n",
       "      <td>5/1/99 0:04</td>\n",
       "      <td>0</td>\n",
       "      <td>0.363848</td>\n",
       "      <td>-4.681394</td>\n",
       "      <td>-4.353147</td>\n",
       "      <td>14.127997</td>\n",
       "      <td>-0.138636</td>\n",
       "      <td>-17.836632</td>\n",
       "      <td>0.010803</td>\n",
       "      <td>-0.061114</td>\n",
       "      <td>...</td>\n",
       "      <td>10.100265</td>\n",
       "      <td>0.072322</td>\n",
       "      <td>-4.937924</td>\n",
       "      <td>-34.183774</td>\n",
       "      <td>27.004663</td>\n",
       "      <td>3.537487</td>\n",
       "      <td>0.033629</td>\n",
       "      <td>1.840540</td>\n",
       "      <td>0.006090</td>\n",
       "      <td>0</td>\n",
       "    </tr>\n",
       "    <tr>\n",
       "      <th>3</th>\n",
       "      <td>5/1/99 0:06</td>\n",
       "      <td>0</td>\n",
       "      <td>0.301590</td>\n",
       "      <td>-4.758934</td>\n",
       "      <td>-4.023612</td>\n",
       "      <td>13.161566</td>\n",
       "      <td>-0.148142</td>\n",
       "      <td>-18.517601</td>\n",
       "      <td>0.002075</td>\n",
       "      <td>-0.061114</td>\n",
       "      <td>...</td>\n",
       "      <td>10.104660</td>\n",
       "      <td>0.081600</td>\n",
       "      <td>-4.938669</td>\n",
       "      <td>-35.954281</td>\n",
       "      <td>21.672449</td>\n",
       "      <td>3.986095</td>\n",
       "      <td>0.033721</td>\n",
       "      <td>2.554880</td>\n",
       "      <td>0.006097</td>\n",
       "      <td>0</td>\n",
       "    </tr>\n",
       "    <tr>\n",
       "      <th>4</th>\n",
       "      <td>5/1/99 0:08</td>\n",
       "      <td>0</td>\n",
       "      <td>0.265578</td>\n",
       "      <td>-4.749928</td>\n",
       "      <td>-4.333150</td>\n",
       "      <td>15.267340</td>\n",
       "      <td>-0.155314</td>\n",
       "      <td>-17.505913</td>\n",
       "      <td>0.000732</td>\n",
       "      <td>-0.061114</td>\n",
       "      <td>...</td>\n",
       "      <td>10.109054</td>\n",
       "      <td>0.091121</td>\n",
       "      <td>-4.939414</td>\n",
       "      <td>-37.724789</td>\n",
       "      <td>21.907251</td>\n",
       "      <td>3.601573</td>\n",
       "      <td>0.033777</td>\n",
       "      <td>1.410494</td>\n",
       "      <td>0.006105</td>\n",
       "      <td>0</td>\n",
       "    </tr>\n",
       "  </tbody>\n",
       "</table>\n",
       "<p>5 rows × 63 columns</p>\n",
       "</div>"
      ],
      "text/plain": [
       "          time  y        x1        x2        x3         x4        x5  \\\n",
       "0  5/1/99 0:00  0  0.376665 -4.596435 -4.095756  13.497687 -0.118830   \n",
       "1  5/1/99 0:02  0  0.475720 -4.542502 -4.018359  16.230659 -0.128733   \n",
       "2  5/1/99 0:04  0  0.363848 -4.681394 -4.353147  14.127997 -0.138636   \n",
       "3  5/1/99 0:06  0  0.301590 -4.758934 -4.023612  13.161566 -0.148142   \n",
       "4  5/1/99 0:08  0  0.265578 -4.749928 -4.333150  15.267340 -0.155314   \n",
       "\n",
       "          x6        x7        x8  ...        x52       x53       x54  \\\n",
       "0 -20.669883  0.000732 -0.061114  ...  10.091721  0.053279 -4.936434   \n",
       "1 -18.758079  0.000732 -0.061114  ...  10.095871  0.062801 -4.937179   \n",
       "2 -17.836632  0.010803 -0.061114  ...  10.100265  0.072322 -4.937924   \n",
       "3 -18.517601  0.002075 -0.061114  ...  10.104660  0.081600 -4.938669   \n",
       "4 -17.505913  0.000732 -0.061114  ...  10.109054  0.091121 -4.939414   \n",
       "\n",
       "         x55        x56       x57       x58       x59       x60  x61  \n",
       "0 -24.590146  18.515436  3.473400  0.033444  0.953219  0.006076    0  \n",
       "1 -32.413266  22.760065  2.682933  0.033536  1.090502  0.006083    0  \n",
       "2 -34.183774  27.004663  3.537487  0.033629  1.840540  0.006090    0  \n",
       "3 -35.954281  21.672449  3.986095  0.033721  2.554880  0.006097    0  \n",
       "4 -37.724789  21.907251  3.601573  0.033777  1.410494  0.006105    0  \n",
       "\n",
       "[5 rows x 63 columns]"
      ]
     },
     "execution_count": 8,
     "metadata": {},
     "output_type": "execute_result"
    }
   ],
   "source": [
    "data.head()"
   ]
  },
  {
   "cell_type": "code",
   "execution_count": 9,
   "id": "d309251c",
   "metadata": {},
   "outputs": [
    {
     "data": {
      "text/plain": [
       "(18398, 63)"
      ]
     },
     "execution_count": 9,
     "metadata": {},
     "output_type": "execute_result"
    }
   ],
   "source": [
    "data.shape"
   ]
  },
  {
   "cell_type": "code",
   "execution_count": 10,
   "id": "f50209e2",
   "metadata": {},
   "outputs": [],
   "source": [
    "# data.hist()"
   ]
  },
  {
   "cell_type": "code",
   "execution_count": 11,
   "id": "9ffcf098",
   "metadata": {},
   "outputs": [
    {
     "name": "stderr",
     "output_type": "stream",
     "text": [
      "/tmp/ipykernel_275361/2168214760.py:2: FutureWarning: The default value of numeric_only in DataFrameGroupBy.mean is deprecated. In a future version, numeric_only will default to False. Either specify numeric_only or select only columns which should be valid for the function.\n",
      "  df = data.groupby(data.index // K).mean() #усреднение\n"
     ]
    }
   ],
   "source": [
    "K = 1\n",
    "df = data.groupby(data.index // K).mean() #усреднение\n",
    "df_np = df.to_numpy()"
   ]
  },
  {
   "cell_type": "code",
   "execution_count": 12,
   "id": "7d6674a5",
   "metadata": {},
   "outputs": [
    {
     "data": {
      "text/plain": [
       "(18398, 62)"
      ]
     },
     "execution_count": 12,
     "metadata": {},
     "output_type": "execute_result"
    }
   ],
   "source": [
    "df_np.shape"
   ]
  },
  {
   "cell_type": "code",
   "execution_count": 13,
   "id": "2e57df02",
   "metadata": {},
   "outputs": [
    {
     "data": {
      "text/plain": [
       "(18398, 61)"
      ]
     },
     "execution_count": 13,
     "metadata": {},
     "output_type": "execute_result"
    }
   ],
   "source": [
    "dataset = df_np[:, 1:]\n",
    "dataset_y = df_np[:, 0]\n",
    "# dataset = np.concatenate((dataset[:, :8], dataset[:, 9:]), axis=1)\n",
    "dataset.shape"
   ]
  },
  {
   "cell_type": "markdown",
   "id": "1ddf65d3",
   "metadata": {},
   "source": [
    "Отбор переменных"
   ]
  },
  {
   "cell_type": "code",
   "execution_count": 14,
   "id": "b0b39e49",
   "metadata": {},
   "outputs": [
    {
     "data": {
      "text/plain": [
       "(18398, 60)"
      ]
     },
     "execution_count": 14,
     "metadata": {},
     "output_type": "execute_result"
    }
   ],
   "source": [
    "#удаление константных\n",
    "from sklearn.feature_selection import VarianceThreshold\n",
    "selector = VarianceThreshold(0.00001)\n",
    "dataset1 = selector.fit_transform(dataset) \n",
    "dataset1.shape"
   ]
  },
  {
   "cell_type": "code",
   "execution_count": 15,
   "id": "769a9bd0",
   "metadata": {},
   "outputs": [
    {
     "data": {
      "text/plain": [
       "{'x33'}"
      ]
     },
     "execution_count": 15,
     "metadata": {},
     "output_type": "execute_result"
    }
   ],
   "source": [
    "set(data.columns[2:]) - set(selector.get_feature_names_out(input_features=data.columns[2:]))"
   ]
  },
  {
   "cell_type": "code",
   "execution_count": null,
   "id": "43dde18a",
   "metadata": {},
   "outputs": [],
   "source": []
  },
  {
   "cell_type": "code",
   "execution_count": 16,
   "id": "ea5be895",
   "metadata": {},
   "outputs": [
    {
     "data": {
      "text/plain": [
       "[<matplotlib.lines.Line2D at 0x7f72f42eec40>]"
      ]
     },
     "execution_count": 16,
     "metadata": {},
     "output_type": "execute_result"
    },
    {
     "data": {
      "image/png": "[encoded data removed]",
      "text/plain": [
       "<Figure size 640x480 with 1 Axes>"
      ]
     },
     "metadata": {},
     "output_type": "display_data"
    }
   ],
   "source": [
    "plt.plot(data.x33)"
   ]
  },
  {
   "cell_type": "code",
   "execution_count": 17,
   "id": "730335c2",
   "metadata": {},
   "outputs": [
    {
     "data": {
      "text/plain": [
       "96     6574\n",
       "82     4378\n",
       "118    2646\n",
       "139    1807\n",
       "84     1313\n",
       "112    1235\n",
       "93      419\n",
       "51       26\n",
       "Name: x28, dtype: int64"
      ]
     },
     "execution_count": 17,
     "metadata": {},
     "output_type": "execute_result"
    }
   ],
   "source": [
    "#категориальная переменная (пока ничего не делаю)\n",
    "data.x28.value_counts()"
   ]
  },
  {
   "cell_type": "code",
   "execution_count": 18,
   "id": "29d700d8",
   "metadata": {},
   "outputs": [
    {
     "data": {
      "text/plain": [
       "[<matplotlib.lines.Line2D at 0x7f72f4202700>]"
      ]
     },
     "execution_count": 18,
     "metadata": {},
     "output_type": "execute_result"
    },
    {
     "data": {
      "image/png": "[encoded data removed]",
      "text/plain": [
       "<Figure size 640x480 with 1 Axes>"
      ]
     },
     "metadata": {},
     "output_type": "display_data"
    }
   ],
   "source": [
    "plt.plot(data.x60)"
   ]
  },
  {
   "cell_type": "code",
   "execution_count": 19,
   "id": "683d9099",
   "metadata": {},
   "outputs": [
    {
     "data": {
      "text/plain": [
       "(18398, 60)"
      ]
     },
     "execution_count": 19,
     "metadata": {},
     "output_type": "execute_result"
    }
   ],
   "source": [
    "dataset = dataset1\n",
    "dataset.shape"
   ]
  },
  {
   "cell_type": "markdown",
   "id": "c26947bb",
   "metadata": {},
   "source": [
    "Кластеризация"
   ]
  },
  {
   "cell_type": "code",
   "execution_count": 20,
   "id": "c141a3c1",
   "metadata": {},
   "outputs": [],
   "source": [
    "dataset = dataset[:]"
   ]
  },
  {
   "cell_type": "code",
   "execution_count": 21,
   "id": "c5738ee4",
   "metadata": {},
   "outputs": [
    {
     "data": {
      "text/plain": [
       "[<matplotlib.lines.Line2D at 0x7f72f4184970>]"
      ]
     },
     "execution_count": 21,
     "metadata": {},
     "output_type": "execute_result"
    },
    {
     "data": {
      "image/png": "[encoded data removed]",
      "text/plain": [
       "<Figure size 640x480 with 1 Axes>"
      ]
     },
     "metadata": {},
     "output_type": "display_data"
    }
   ],
   "source": [
    "plt.plot(dataset[..., 8])"
   ]
  },
  {
   "cell_type": "markdown",
   "id": "a116be32",
   "metadata": {},
   "source": [
    "**Параметры кластеризации**"
   ]
  },
  {
   "cell_type": "code",
   "execution_count": 22,
   "id": "5392df96",
   "metadata": {},
   "outputs": [],
   "source": [
    "window_sizes_for_clustering = [1, 5, 10]#[1, 5, 10, 15] #[1, 3, 5, 10, 15]\n",
    "Ns_clusters = [2, 5, 9, 11] #, 3 5, 7]#[2, 5, 7, 9, 11, 13]\n"
   ]
  },
  {
   "cell_type": "code",
   "execution_count": 144,
   "id": "16052cab",
   "metadata": {},
   "outputs": [
    {
     "name": "stdout",
     "output_type": "stream",
     "text": [
      "Clusterization __init__: W=1, <class 'int'>\n",
      "Clusterization __init__: W=5, <class 'int'>\n",
      "Clusterization __init__: W=10, <class 'int'>\n",
      "Clusterization __init__: W=1, <class 'int'>\n",
      "Clusterization __init__: W=1, <class 'int'>\n",
      "Clusterization __init__: W=1, <class 'int'>\n",
      "Clusterization __init__: W=1, <class 'int'>\n",
      "Clusterization __init__: W=5, <class 'int'>\n",
      "Clusterization __init__: W=5, <class 'int'>\n",
      "Clusterization __init__: W=5, <class 'int'>\n",
      "Clusterization __init__: W=5, <class 'int'>\n",
      "Clusterization __init__: W=10, <class 'int'>\n",
      "Clusterization __init__: W=10, <class 'int'>\n",
      "Clusterization __init__: W=10, <class 'int'>\n",
      "Clusterization __init__: W=10, <class 'int'>\n"
     ]
    }
   ],
   "source": [
    "clustering_algorithms = []\n",
    "# clustering_algorithms += [Clustering.Kmeans_for_windows(W=W, N_clusters=N_cluster) for W in window_sizes_for_clustering for N_cluster in Ns_clusters]\n",
    "clustering_algorithms += [Clustering.MeanShift_for_windows(W=W) for W in window_sizes_for_clustering]\n",
    "clustering_algorithms += [Clustering.AgglomerativeClustering_for_windows(W=W, N_clusters=N_cluster) for W in window_sizes_for_clustering for N_cluster in Ns_clusters]\n",
    "# clustering_algorithms += [Clustering.DBSCAN_for_windows(W=W, eps=eps, min_samples=k) for W in window_sizes_for_clustering for k, eps in k_eps]"
   ]
  },
  {
   "cell_type": "code",
   "execution_count": 172,
   "id": "342e6686",
   "metadata": {},
   "outputs": [],
   "source": [
    "cluster_algs = []\n",
    "# cluster_algs += [('Kmeans', W, N_cluster) for W in window_sizes_for_clustering for N_cluster in Ns_clusters]\n",
    "cluster_algs += [('MeanShift', W, 0)  for W in window_sizes_for_clustering]\n",
    "cluster_algs += [('Agglomer', W,  N_cluster) for W in window_sizes_for_clustering for N_cluster in Ns_clusters]\n"
   ]
  },
  {
   "cell_type": "code",
   "execution_count": 146,
   "id": "d13400ba",
   "metadata": {},
   "outputs": [
    {
     "data": {
      "text/plain": [
       "(18398, 60)"
      ]
     },
     "execution_count": 146,
     "metadata": {},
     "output_type": "execute_result"
    }
   ],
   "source": [
    "dataset_train = dataset[:]\n",
    "dataset_train.shape"
   ]
  },
  {
   "cell_type": "code",
   "execution_count": 147,
   "id": "16e697cc",
   "metadata": {
    "scrolled": true
   },
   "outputs": [
    {
     "name": "stdout",
     "output_type": "stream",
     "text": [
      "MeanShift_for_windows: (18398, 60)\n",
      "Done\n",
      "MeanShift_for_windows: (18398, 60)\n",
      "Done\n",
      "MeanShift_for_windows: (18398, 60)\n",
      "Done\n",
      "AgglomerativeClustering_for_windows: (18398, 60)\n",
      "Done\n",
      "AgglomerativeClustering_for_windows: (18398, 60)\n",
      "Done\n",
      "AgglomerativeClustering_for_windows: (18398, 60)\n",
      "Done\n",
      "AgglomerativeClustering_for_windows: (18398, 60)\n",
      "Done\n",
      "AgglomerativeClustering_for_windows: (18398, 60)\n",
      "Done\n",
      "AgglomerativeClustering_for_windows: (18398, 60)\n",
      "Done\n",
      "AgglomerativeClustering_for_windows: (18398, 60)\n",
      "Done\n",
      "AgglomerativeClustering_for_windows: (18398, 60)\n",
      "Done\n",
      "AgglomerativeClustering_for_windows: (18398, 60)\n",
      "Done\n",
      "AgglomerativeClustering_for_windows: (18398, 60)\n",
      "Done\n",
      "AgglomerativeClustering_for_windows: (18398, 60)\n",
      "Done\n",
      "AgglomerativeClustering_for_windows: (18398, 60)\n",
      "Done\n"
     ]
    }
   ],
   "source": [
    "clustering_results = [cur_cluster_alg.fit_predict(dataset_train) for cur_cluster_alg in clustering_algorithms]\n",
    "clusters_labels = clustering_results"
   ]
  },
  {
   "cell_type": "code",
   "execution_count": 148,
   "id": "9523b019",
   "metadata": {},
   "outputs": [
    {
     "data": {
      "text/plain": [
       "(array([1.8215e+04, 4.4000e+01, 2.8000e+01, 4.6000e+01, 2.5000e+01,\n",
       "        1.5000e+01, 4.0000e+00, 1.1000e+01, 5.0000e+00, 5.0000e+00]),\n",
       " array([ 0. ,  3.8,  7.6, 11.4, 15.2, 19. , 22.8, 26.6, 30.4, 34.2, 38. ]),\n",
       " <BarContainer object of 10 artists>)"
      ]
     },
     "execution_count": 148,
     "metadata": {},
     "output_type": "execute_result"
    },
    {
     "data": {
      "image/png": "[encoded data removed]",
      "text/plain": [
       "<Figure size 640x480 with 1 Axes>"
      ]
     },
     "metadata": {},
     "output_type": "display_data"
    }
   ],
   "source": [
    "plt.hist(clustering_results[0])"
   ]
  },
  {
   "cell_type": "markdown",
   "id": "b3ae1094",
   "metadata": {},
   "source": [
    "**Прогнозирование**"
   ]
  },
  {
   "cell_type": "code",
   "execution_count": 149,
   "id": "e2ad98bd",
   "metadata": {},
   "outputs": [],
   "source": [
    "# config = tf.compat.v1.ConfigProto()# device_count = {'GPU': 1 , 'CPU': 16} ) \n",
    "# sess = tf.compat.v1.Session(config=config) \n",
    "# sess.gpu_options.allow_growth = True\n",
    "# # tf.compat.v1.keras.backend.set_session(sess)\n"
   ]
  },
  {
   "cell_type": "code",
   "execution_count": 238,
   "id": "d7c516cb",
   "metadata": {},
   "outputs": [],
   "source": [
    "W=5"
   ]
  },
  {
   "cell_type": "code",
   "execution_count": 195,
   "id": "9991976f",
   "metadata": {},
   "outputs": [
    {
     "name": "stdout",
     "output_type": "stream",
     "text": [
      "N_clusters=39\n",
      "dataset_windows.shape=(18377, 1, 21, 60), labels.shape=(18377,)\n",
      "IN Clustering.split_to_clusters: mask.sum()=17950, 17950\n",
      "IN Clustering.split_to_clusters: mask.sum()=166, 166\n",
      "IN Clustering.split_to_clusters: mask.sum()=56, 56\n",
      "IN Clustering.split_to_clusters: mask.sum()=22, 22\n",
      "IN Clustering.split_to_clusters: mask.sum()=12, 12\n",
      "IN Clustering.split_to_clusters: mask.sum()=10, 10\n",
      "IN Clustering.split_to_clusters: mask.sum()=13, 13\n",
      "IN Clustering.split_to_clusters: mask.sum()=9, 9\n",
      "IN Clustering.split_to_clusters: mask.sum()=8, 8\n",
      "IN Clustering.split_to_clusters: mask.sum()=7, 7\n",
      "IN Clustering.split_to_clusters: mask.sum()=7, 7\n",
      "IN Clustering.split_to_clusters: mask.sum()=6, 6\n",
      "IN Clustering.split_to_clusters: mask.sum()=36, 36\n",
      "IN Clustering.split_to_clusters: mask.sum()=4, 4\n",
      "IN Clustering.split_to_clusters: mask.sum()=3, 3\n",
      "IN Clustering.split_to_clusters: mask.sum()=3, 3\n",
      "IN Clustering.split_to_clusters: mask.sum()=2, 2\n",
      "IN Clustering.split_to_clusters: mask.sum()=2, 2\n",
      "IN Clustering.split_to_clusters: mask.sum()=21, 21\n",
      "IN Clustering.split_to_clusters: mask.sum()=2, 2\n",
      "IN Clustering.split_to_clusters: mask.sum()=1, 1\n",
      "IN Clustering.split_to_clusters: mask.sum()=1, 1\n",
      "IN Clustering.split_to_clusters: mask.sum()=11, 11\n",
      "IN Clustering.split_to_clusters: mask.sum()=1, 1\n",
      "IN Clustering.split_to_clusters: mask.sum()=1, 1\n",
      "IN Clustering.split_to_clusters: mask.sum()=1, 1\n",
      "IN Clustering.split_to_clusters: mask.sum()=1, 1\n",
      "IN Clustering.split_to_clusters: mask.sum()=1, 1\n",
      "IN Clustering.split_to_clusters: mask.sum()=1, 1\n",
      "IN Clustering.split_to_clusters: mask.sum()=1, 1\n",
      "IN Clustering.split_to_clusters: mask.sum()=8, 8\n",
      "IN Clustering.split_to_clusters: mask.sum()=1, 1\n",
      "IN Clustering.split_to_clusters: mask.sum()=1, 1\n",
      "IN Clustering.split_to_clusters: mask.sum()=1, 1\n",
      "IN Clustering.split_to_clusters: mask.sum()=2, 2\n",
      "IN Clustering.split_to_clusters: mask.sum()=2, 2\n",
      "IN Clustering.split_to_clusters: mask.sum()=1, 1\n",
      "IN Clustering.split_to_clusters: mask.sum()=1, 1\n",
      "IN Clustering.split_to_clusters: mask.sum()=1, 1\n",
      "In split_to_train_test: dataset_X.shape=(17950, 20, 60), dataset_y.shape=(17950, 60)\n",
      "Epoch 1/100\n",
      "169/169 [==============================] - 4s 19ms/step - loss: 0.2349 - val_loss: 0.2739\n",
      "Epoch 2/100\n",
      " 36/169 [=====>........................] - ETA: 2s - loss: 0.2313"
     ]
    },
    {
     "name": "stderr",
     "output_type": "stream",
     "text": [
      "\n",
      "KeyboardInterrupt\n",
      "\n"
     ]
    }
   ],
   "source": [
    "forecasting_training_results = [Forecasting.apply_forecasting_training_simple_version(dataset_train, cur_cluster_labels, W=W) for cur_cluster_labels in clusters_labels]\n",
    "models = [x[0] for x in forecasting_training_results]\n",
    "results_training = [x[1] for x in forecasting_training_results]\n",
    "metrics_training = [x[2] for x in forecasting_training_results]"
   ]
  },
  {
   "cell_type": "code",
   "execution_count": 239,
   "id": "32653402",
   "metadata": {},
   "outputs": [
    {
     "name": "stdout",
     "output_type": "stream",
     "text": [
      "N_clusters=1\n",
      "dataset_windows.shape=(18392, 1, 6, 60), labels.shape=(18392,)\n",
      "IN Clustering.split_to_clusters: mask.sum()=18392, 18392\n",
      "In split_to_train_test: dataset_X.shape=(18392, 5, 60), dataset_y.shape=(18392, 60)\n",
      "Epoch 1/100\n",
      "173/173 [==============================] - 4s 18ms/step - loss: 0.2517 - val_loss: 0.2794\n",
      "Epoch 2/100\n",
      "173/173 [==============================] - 3s 18ms/step - loss: 0.2424 - val_loss: 0.2732\n",
      "Epoch 3/100\n",
      "173/173 [==============================] - 3s 19ms/step - loss: 0.2362 - val_loss: 0.2688\n",
      "Epoch 4/100\n",
      "173/173 [==============================] - 3s 18ms/step - loss: 0.2319 - val_loss: 0.2655\n",
      "Epoch 5/100\n",
      "173/173 [==============================] - 3s 19ms/step - loss: 0.2287 - val_loss: 0.2630\n",
      "Epoch 6/100\n",
      "173/173 [==============================] - 3s 18ms/step - loss: 0.2264 - val_loss: 0.2610\n",
      "Epoch 7/100\n",
      "173/173 [==============================] - 3s 18ms/step - loss: 0.2245 - val_loss: 0.2593\n",
      "Epoch 8/100\n",
      "173/173 [==============================] - 3s 19ms/step - loss: 0.2229 - val_loss: 0.2579\n",
      "Epoch 9/100\n",
      "173/173 [==============================] - 3s 19ms/step - loss: 0.2216 - val_loss: 0.2566\n",
      "Epoch 10/100\n",
      "173/173 [==============================] - 3s 18ms/step - loss: 0.2204 - val_loss: 0.2554\n",
      "Epoch 11/100\n",
      "173/173 [==============================] - 3s 18ms/step - loss: 0.2193 - val_loss: 0.2543\n",
      "Epoch 12/100\n",
      "173/173 [==============================] - 3s 18ms/step - loss: 0.2182 - val_loss: 0.2532\n",
      "Epoch 13/100\n",
      "173/173 [==============================] - 3s 19ms/step - loss: 0.2172 - val_loss: 0.2522\n",
      "Epoch 14/100\n",
      "173/173 [==============================] - 3s 19ms/step - loss: 0.2161 - val_loss: 0.2512\n",
      "Epoch 15/100\n",
      "173/173 [==============================] - 3s 18ms/step - loss: 0.2151 - val_loss: 0.2502\n",
      "Epoch 16/100\n",
      "173/173 [==============================] - 3s 18ms/step - loss: 0.2142 - val_loss: 0.2493\n",
      "Epoch 17/100\n",
      "173/173 [==============================] - 3s 18ms/step - loss: 0.2132 - val_loss: 0.2483\n",
      "Epoch 18/100\n",
      "173/173 [==============================] - 3s 19ms/step - loss: 0.2122 - val_loss: 0.2475\n",
      "Epoch 19/100\n",
      "173/173 [==============================] - 3s 18ms/step - loss: 0.2113 - val_loss: 0.2467\n",
      "Epoch 20/100\n",
      "173/173 [==============================] - 3s 18ms/step - loss: 0.2105 - val_loss: 0.2459\n",
      "Epoch 21/100\n",
      "173/173 [==============================] - 3s 18ms/step - loss: 0.2097 - val_loss: 0.2452\n",
      "Epoch 22/100\n",
      "173/173 [==============================] - 3s 19ms/step - loss: 0.2089 - val_loss: 0.2445\n",
      "Epoch 23/100\n",
      "173/173 [==============================] - 3s 18ms/step - loss: 0.2083 - val_loss: 0.2439\n",
      "Epoch 24/100\n",
      "173/173 [==============================] - 3s 19ms/step - loss: 0.2076 - val_loss: 0.2433\n",
      "Epoch 25/100\n",
      "173/173 [==============================] - 3s 18ms/step - loss: 0.2070 - val_loss: 0.2427\n",
      "Epoch 26/100\n",
      "173/173 [==============================] - 3s 18ms/step - loss: 0.2065 - val_loss: 0.2422\n",
      "Epoch 27/100\n",
      "173/173 [==============================] - 3s 19ms/step - loss: 0.2060 - val_loss: 0.2416\n",
      "Epoch 28/100\n",
      "173/173 [==============================] - 3s 19ms/step - loss: 0.2055 - val_loss: 0.2411\n",
      "Epoch 29/100\n",
      "173/173 [==============================] - 3s 18ms/step - loss: 0.2050 - val_loss: 0.2407\n",
      "Epoch 30/100\n",
      "173/173 [==============================] - 3s 19ms/step - loss: 0.2046 - val_loss: 0.2402\n",
      "Epoch 31/100\n",
      "173/173 [==============================] - 3s 19ms/step - loss: 0.2041 - val_loss: 0.2398\n",
      "Epoch 32/100\n",
      "173/173 [==============================] - 3s 18ms/step - loss: 0.2037 - val_loss: 0.2394\n",
      "Epoch 33/100\n",
      "173/173 [==============================] - 3s 18ms/step - loss: 0.2033 - val_loss: 0.2390\n",
      "Epoch 34/100\n",
      "173/173 [==============================] - 3s 18ms/step - loss: 0.2030 - val_loss: 0.2386\n",
      "Epoch 35/100\n",
      "173/173 [==============================] - 3s 19ms/step - loss: 0.2026 - val_loss: 0.2383\n",
      "Epoch 36/100\n",
      "173/173 [==============================] - 3s 19ms/step - loss: 0.2023 - val_loss: 0.2379\n",
      "Epoch 37/100\n",
      "173/173 [==============================] - 3s 18ms/step - loss: 0.2019 - val_loss: 0.2376\n",
      "Epoch 38/100\n",
      "173/173 [==============================] - 3s 18ms/step - loss: 0.2016 - val_loss: 0.2373\n",
      "Epoch 39/100\n",
      "173/173 [==============================] - 3s 18ms/step - loss: 0.2013 - val_loss: 0.2371\n",
      "Epoch 40/100\n",
      "173/173 [==============================] - 3s 18ms/step - loss: 0.2011 - val_loss: 0.2368\n",
      "Epoch 41/100\n",
      "173/173 [==============================] - 3s 18ms/step - loss: 0.2008 - val_loss: 0.2366\n",
      "Epoch 42/100\n",
      "173/173 [==============================] - 3s 18ms/step - loss: 0.2005 - val_loss: 0.2363\n",
      "Epoch 43/100\n",
      "173/173 [==============================] - 3s 18ms/step - loss: 0.2003 - val_loss: 0.2361\n",
      "Epoch 44/100\n",
      "173/173 [==============================] - 3s 18ms/step - loss: 0.2000 - val_loss: 0.2359\n",
      "Epoch 45/100\n",
      "173/173 [==============================] - 3s 18ms/step - loss: 0.1998 - val_loss: 0.2358\n",
      "Epoch 46/100\n",
      "173/173 [==============================] - 3s 18ms/step - loss: 0.1996 - val_loss: 0.2356\n",
      "Epoch 47/100\n",
      "173/173 [==============================] - 3s 19ms/step - loss: 0.1993 - val_loss: 0.2354\n",
      "Epoch 48/100\n",
      "173/173 [==============================] - 3s 18ms/step - loss: 0.1991 - val_loss: 0.2353\n",
      "Epoch 49/100\n",
      "173/173 [==============================] - 3s 18ms/step - loss: 0.1989 - val_loss: 0.2351\n",
      "Epoch 50/100\n",
      "173/173 [==============================] - 3s 18ms/step - loss: 0.1987 - val_loss: 0.2350\n",
      "Epoch 51/100\n",
      "173/173 [==============================] - 3s 19ms/step - loss: 0.1986 - val_loss: 0.2349\n",
      "Epoch 52/100\n",
      "173/173 [==============================] - 3s 18ms/step - loss: 0.1984 - val_loss: 0.2347\n",
      "Epoch 53/100\n",
      "173/173 [==============================] - 3s 18ms/step - loss: 0.1982 - val_loss: 0.2346\n",
      "Epoch 54/100\n",
      "173/173 [==============================] - 3s 18ms/step - loss: 0.1980 - val_loss: 0.2345\n",
      "Epoch 55/100\n",
      "173/173 [==============================] - 3s 18ms/step - loss: 0.1978 - val_loss: 0.2344\n",
      "Epoch 56/100\n",
      "173/173 [==============================] - 3s 18ms/step - loss: 0.1977 - val_loss: 0.2343\n",
      "Epoch 57/100\n",
      "173/173 [==============================] - 3s 18ms/step - loss: 0.1975 - val_loss: 0.2343\n",
      "Epoch 58/100\n",
      "173/173 [==============================] - 3s 18ms/step - loss: 0.1973 - val_loss: 0.2342\n",
      "Epoch 59/100\n",
      "173/173 [==============================] - 3s 19ms/step - loss: 0.1972 - val_loss: 0.2341\n",
      "Epoch 60/100\n",
      "173/173 [==============================] - 3s 18ms/step - loss: 0.1970 - val_loss: 0.2340\n",
      "Epoch 61/100\n",
      "173/173 [==============================] - 3s 18ms/step - loss: 0.1969 - val_loss: 0.2340\n",
      "Epoch 62/100\n",
      "173/173 [==============================] - 3s 18ms/step - loss: 0.1967 - val_loss: 0.2339\n",
      "Epoch 63/100\n",
      "173/173 [==============================] - 3s 18ms/step - loss: 0.1966 - val_loss: 0.2338\n",
      "Epoch 64/100\n",
      "173/173 [==============================] - 3s 18ms/step - loss: 0.1965 - val_loss: 0.2338\n",
      "Epoch 65/100\n",
      "173/173 [==============================] - 3s 18ms/step - loss: 0.1964 - val_loss: 0.2337\n",
      "Epoch 66/100\n",
      "173/173 [==============================] - 3s 18ms/step - loss: 0.1962 - val_loss: 0.2337\n",
      "Epoch 67/100\n",
      "173/173 [==============================] - 3s 18ms/step - loss: 0.1961 - val_loss: 0.2336\n",
      "Epoch 68/100\n",
      "173/173 [==============================] - 3s 19ms/step - loss: 0.1960 - val_loss: 0.2336\n",
      "Epoch 69/100\n",
      "173/173 [==============================] - 3s 18ms/step - loss: 0.1959 - val_loss: 0.2335\n",
      "Epoch 70/100\n",
      "173/173 [==============================] - 3s 19ms/step - loss: 0.1958 - val_loss: 0.2335\n",
      "Epoch 71/100\n",
      "173/173 [==============================] - 3s 19ms/step - loss: 0.1957 - val_loss: 0.2334\n",
      "Epoch 72/100\n",
      "173/173 [==============================] - 3s 19ms/step - loss: 0.1956 - val_loss: 0.2334\n",
      "Epoch 73/100\n",
      "173/173 [==============================] - 3s 18ms/step - loss: 0.1955 - val_loss: 0.2334\n",
      "Epoch 74/100\n",
      "173/173 [==============================] - 3s 18ms/step - loss: 0.1954 - val_loss: 0.2333\n",
      "Epoch 75/100\n",
      "173/173 [==============================] - 3s 18ms/step - loss: 0.1953 - val_loss: 0.2333\n",
      "Epoch 76/100\n",
      "173/173 [==============================] - 3s 18ms/step - loss: 0.1952 - val_loss: 0.2333\n",
      "Epoch 77/100\n",
      "173/173 [==============================] - 3s 18ms/step - loss: 0.1951 - val_loss: 0.2332\n",
      "Epoch 78/100\n"
     ]
    },
    {
     "name": "stdout",
     "output_type": "stream",
     "text": [
      "173/173 [==============================] - 3s 18ms/step - loss: 0.1950 - val_loss: 0.2332\n",
      "Epoch 79/100\n",
      "173/173 [==============================] - 3s 18ms/step - loss: 0.1949 - val_loss: 0.2332\n",
      "Epoch 80/100\n",
      "173/173 [==============================] - 3s 18ms/step - loss: 0.1949 - val_loss: 0.2332\n",
      "Epoch 81/100\n",
      "173/173 [==============================] - 3s 18ms/step - loss: 0.1948 - val_loss: 0.2331\n",
      "Epoch 82/100\n",
      "173/173 [==============================] - 3s 18ms/step - loss: 0.1947 - val_loss: 0.2331\n",
      "Epoch 83/100\n",
      "173/173 [==============================] - 3s 18ms/step - loss: 0.1946 - val_loss: 0.2331\n",
      "Epoch 84/100\n",
      "173/173 [==============================] - 3s 18ms/step - loss: 0.1945 - val_loss: 0.2331\n",
      "Epoch 85/100\n",
      "173/173 [==============================] - 3s 18ms/step - loss: 0.1945 - val_loss: 0.2331\n",
      "Epoch 86/100\n",
      "173/173 [==============================] - 3s 18ms/step - loss: 0.1944 - val_loss: 0.2330\n",
      "Epoch 87/100\n",
      "173/173 [==============================] - 3s 18ms/step - loss: 0.1943 - val_loss: 0.2330\n",
      "Epoch 88/100\n",
      "173/173 [==============================] - 3s 18ms/step - loss: 0.1942 - val_loss: 0.2330\n",
      "Epoch 89/100\n",
      "173/173 [==============================] - 3s 18ms/step - loss: 0.1942 - val_loss: 0.2330\n",
      "Epoch 90/100\n",
      "173/173 [==============================] - 3s 18ms/step - loss: 0.1941 - val_loss: 0.2330\n",
      "Epoch 91/100\n",
      "173/173 [==============================] - 3s 18ms/step - loss: 0.1940 - val_loss: 0.2330\n",
      "Epoch 92/100\n",
      "173/173 [==============================] - 3s 18ms/step - loss: 0.1940 - val_loss: 0.2330\n",
      "Epoch 93/100\n",
      "173/173 [==============================] - 3s 18ms/step - loss: 0.1939 - val_loss: 0.2329\n",
      "Epoch 94/100\n",
      "173/173 [==============================] - 3s 18ms/step - loss: 0.1938 - val_loss: 0.2329\n",
      "Epoch 95/100\n",
      "173/173 [==============================] - 3s 18ms/step - loss: 0.1938 - val_loss: 0.2329\n",
      "Epoch 96/100\n",
      "173/173 [==============================] - 3s 18ms/step - loss: 0.1937 - val_loss: 0.2329\n",
      "Epoch 97/100\n",
      "173/173 [==============================] - 3s 18ms/step - loss: 0.1936 - val_loss: 0.2329\n",
      "Epoch 98/100\n",
      "173/173 [==============================] - 3s 18ms/step - loss: 0.1936 - val_loss: 0.2329\n",
      "Epoch 99/100\n",
      "173/173 [==============================] - 3s 18ms/step - loss: 0.1935 - val_loss: 0.2328\n",
      "Epoch 100/100\n",
      "173/173 [==============================] - 3s 18ms/step - loss: 0.1934 - val_loss: 0.2329\n",
      "In calc_results: 11035, 3679, 3678, sum = 18392\n"
     ]
    }
   ],
   "source": [
    "# # without clustering\n",
    "cur_cluster_labels = np.zeros(dataset_train.shape[0])\n",
    "forecasting_training_results = [Forecasting.apply_forecasting_training_simple_version(dataset_train, cur_cluster_labels, W=W)]\n",
    "models = [x[0] for x in forecasting_training_results]\n",
    "results_training = [x[1] for x in forecasting_training_results]\n",
    "metrics_training = [x[2] for x in forecasting_training_results]"
   ]
  },
  {
   "cell_type": "code",
   "execution_count": 240,
   "id": "c2254bea",
   "metadata": {},
   "outputs": [],
   "source": [
    "Q = dataset_train.shape[-1]"
   ]
  },
  {
   "cell_type": "code",
   "execution_count": 241,
   "id": "691f248c",
   "metadata": {},
   "outputs": [
    {
     "data": {
      "image/png": "[encoded data removed]",
      "text/plain": [
       "<Figure size 640x480 with 1 Axes>"
      ]
     },
     "metadata": {},
     "output_type": "display_data"
    }
   ],
   "source": [
    "plt.plot(results_training[0][:100, 8], label=\"true\")\n",
    "plt.plot(results_training[0][:100, Q+8], label=\"predicted\")\n",
    "plt.legend()\n",
    "plt.title(\"Оригинальные значения\")\n",
    "plt.show()"
   ]
  },
  {
   "cell_type": "code",
   "execution_count": 218,
   "id": "d78dc7b9",
   "metadata": {},
   "outputs": [],
   "source": [
    "# tf.debugging.set_log_device_placement(True)"
   ]
  },
  {
   "cell_type": "code",
   "execution_count": null,
   "id": "848bbf18",
   "metadata": {},
   "outputs": [],
   "source": []
  },
  {
   "cell_type": "code",
   "execution_count": null,
   "id": "1bb74d7f",
   "metadata": {},
   "outputs": [],
   "source": []
  },
  {
   "cell_type": "code",
   "execution_count": 219,
   "id": "03ca6118",
   "metadata": {},
   "outputs": [],
   "source": [
    "#пока без глобального теста"
   ]
  },
  {
   "cell_type": "markdown",
   "id": "c2b5d711",
   "metadata": {},
   "source": [
    "Результаты"
   ]
  },
  {
   "cell_type": "code",
   "execution_count": 220,
   "id": "ce836b73",
   "metadata": {},
   "outputs": [],
   "source": [
    "TRAIN_MODE, VALID_MODE, TEST_MODE, GLOBAL_TEST_MODE = [0, 1, 2, 3]"
   ]
  },
  {
   "cell_type": "code",
   "execution_count": 242,
   "id": "d24c32bc",
   "metadata": {},
   "outputs": [],
   "source": [
    "full_results = results_training"
   ]
  },
  {
   "cell_type": "code",
   "execution_count": 243,
   "id": "01e61add",
   "metadata": {},
   "outputs": [
    {
     "data": {
      "text/plain": [
       "[((18392, 122), (3678, 122))]"
      ]
     },
     "execution_count": 243,
     "metadata": {},
     "output_type": "execute_result"
    }
   ],
   "source": [
    "[(x.shape, x[x[:, -1] == TEST_MODE].shape) for x in full_results]"
   ]
  },
  {
   "cell_type": "code",
   "execution_count": 244,
   "id": "f9bcc7d5",
   "metadata": {},
   "outputs": [],
   "source": [
    "# global_metrics = [Forecasting.calc_metrics_for_full_results(x) for x in full_results]\n",
    "global_metrics = [Forecasting.calc_metrics_for_full_results(x[x[:, -1] == TEST_MODE]) for x in full_results]"
   ]
  },
  {
   "cell_type": "code",
   "execution_count": 245,
   "id": "71d8eaae",
   "metadata": {},
   "outputs": [
    {
     "name": "stdout",
     "output_type": "stream",
     "text": [
      "[1]\n"
     ]
    }
   ],
   "source": [
    "clusters_sizes = [np.array([np.sum(x[:, -2] == i) for i in range(len(np.unique(x[:, -2])))]) for x in full_results]\n",
    "N_clusters = [len(x) for x in clusters_sizes]\n",
    "print(N_clusters)"
   ]
  },
  {
   "cell_type": "code",
   "execution_count": 246,
   "id": "ac19cfcc",
   "metadata": {},
   "outputs": [],
   "source": [
    "maes = np.array([global_metrics[i]['mae'] for i in range(len(full_results))])\n",
    "mases = np.array([global_metrics[i]['mase'] for i in range(len(full_results))])\n",
    "mae_on_max_cluster = np.array([\n",
    "        Forecasting.calc_metrics_for_full_results(\n",
    "            full_results[i][full_results[i][:, -2] == np.argmax(clusters_sizes[i])]\n",
    "        )['mae'] \n",
    "    for i in range(len(full_results))])\n",
    "mase_on_max_cluster = np.array([\n",
    "        Forecasting.calc_metrics_for_full_results(\n",
    "            full_results[i][full_results[i][:, -2] == np.argmax(clusters_sizes[i])]\n",
    "        )['mase'] \n",
    "    for i in range(len(full_results))])"
   ]
  },
  {
   "cell_type": "code",
   "execution_count": 247,
   "id": "9827c378",
   "metadata": {},
   "outputs": [
    {
     "data": {
      "text/plain": [
       "((1, 60), 1)"
      ]
     },
     "execution_count": 247,
     "metadata": {},
     "output_type": "execute_result"
    }
   ],
   "source": [
    "mae_on_max_cluster.shape, len(full_results)"
   ]
  },
  {
   "cell_type": "code",
   "execution_count": 248,
   "id": "791ead3a",
   "metadata": {},
   "outputs": [
    {
     "name": "stdout",
     "output_type": "stream",
     "text": [
      "MAE [1.53]\n",
      "MASE [0.93]\n"
     ]
    }
   ],
   "source": [
    "print(\"MAE\", np.around(np.mean(mae_on_max_cluster, axis=1),decimals=3))\n",
    "print(\"MASE\", np.around(np.mean(mase_on_max_cluster, axis=1),decimals=3))\n"
   ]
  },
  {
   "cell_type": "code",
   "execution_count": 249,
   "id": "a890f3bd",
   "metadata": {},
   "outputs": [
    {
     "name": "stdout",
     "output_type": "stream",
     "text": [
      "[87845226.73]\n"
     ]
    }
   ],
   "source": [
    "print(np.around(np.mean([x['mase'] for x in global_metrics], axis=1), decimals=3))"
   ]
  },
  {
   "cell_type": "code",
   "execution_count": 229,
   "id": "064e6a72",
   "metadata": {},
   "outputs": [
    {
     "data": {
      "image/png": "[encoded data removed]",
      "text/plain": [
       "<Figure size 640x480 with 1 Axes>"
      ]
     },
     "metadata": {},
     "output_type": "display_data"
    }
   ],
   "source": [
    "plt.plot(np.mean(mae_on_max_cluster, axis=1), label=\"on max cluster\")\n",
    "plt.plot(np.mean(maes, axis=1), label=\"global mae\")\n",
    "plt.legend()\n",
    "plt.title(\"Average mae\")\n",
    "plt.ylabel(\"mae\")\n",
    "plt.xlabel(\"Number of experiment\")\n",
    "plt.show()"
   ]
  },
  {
   "cell_type": "code",
   "execution_count": 230,
   "id": "418e8e56",
   "metadata": {},
   "outputs": [
    {
     "data": {
      "image/png": "[encoded data removed]",
      "text/plain": [
       "<Figure size 640x480 with 1 Axes>"
      ]
     },
     "metadata": {},
     "output_type": "display_data"
    }
   ],
   "source": [
    "plt.plot(np.mean(mase_on_max_cluster, axis=1), label=\"on max cluster\")\n",
    "plt.plot(np.mean(mases, axis=1), label=\"global mase\")\n",
    "plt.legend()\n",
    "plt.title(\"Average mase\")\n",
    "plt.ylabel(\"mase\")\n",
    "plt.xlabel(\"Number of experiment\")\n",
    "plt.show()"
   ]
  },
  {
   "cell_type": "code",
   "execution_count": 231,
   "id": "5e81fe78",
   "metadata": {},
   "outputs": [
    {
     "data": {
      "text/plain": [
       "array([2.56969531e+08])"
      ]
     },
     "execution_count": 231,
     "metadata": {},
     "output_type": "execute_result"
    }
   ],
   "source": [
    "np.mean(mases, axis=1)"
   ]
  },
  {
   "cell_type": "code",
   "execution_count": 250,
   "id": "65eb8aae",
   "metadata": {},
   "outputs": [
    {
     "data": {
      "text/plain": [
       "0"
      ]
     },
     "execution_count": 250,
     "metadata": {},
     "output_type": "execute_result"
    }
   ],
   "source": [
    "ind1 = np.argmin(np.mean(mae_on_max_cluster, axis=1))\n",
    "ind1"
   ]
  },
  {
   "cell_type": "code",
   "execution_count": 233,
   "id": "d22f756e",
   "metadata": {},
   "outputs": [
    {
     "data": {
      "image/png": "[encoded data removed]",
      "text/plain": [
       "<Figure size 640x480 with 1 Axes>"
      ]
     },
     "metadata": {},
     "output_type": "display_data"
    }
   ],
   "source": [
    "plt.hist(clusters_labels[ind1])\n",
    "plt.title(\"Размеры кластеров\")\n",
    "plt.yscale(\"log\")\n",
    "plt.show()"
   ]
  },
  {
   "cell_type": "code",
   "execution_count": 251,
   "id": "0240ebad",
   "metadata": {},
   "outputs": [
    {
     "data": {
      "text/plain": [
       "87845226.73018664"
      ]
     },
     "execution_count": 251,
     "metadata": {},
     "output_type": "execute_result"
    }
   ],
   "source": [
    "np.mean(global_metrics[ind1]['mase'])"
   ]
  },
  {
   "cell_type": "markdown",
   "id": "4aa61165",
   "metadata": {},
   "source": [
    "Запись"
   ]
  },
  {
   "cell_type": "code",
   "execution_count": 235,
   "id": "3b46bbb4",
   "metadata": {},
   "outputs": [],
   "source": [
    "algs = [x[0] for x in cluster_algs]\n",
    "ns = N_clusters\n",
    "ws = [x[1] for x in cluster_algs]"
   ]
  },
  {
   "cell_type": "code",
   "execution_count": 236,
   "id": "241d595d",
   "metadata": {},
   "outputs": [
    {
     "ename": "IndexError",
     "evalue": "list index out of range",
     "output_type": "error",
     "traceback": [
      "\u001b[0;31m---------------------------------------------------------------------------\u001b[0m",
      "\u001b[0;31mIndexError\u001b[0m                                Traceback (most recent call last)",
      "Cell \u001b[0;32mIn[236], line 1\u001b[0m\n\u001b[0;32m----> 1\u001b[0m [(algs[i], ws[i], ns[i]) \u001b[38;5;28;01mfor\u001b[39;00m i \u001b[38;5;129;01min\u001b[39;00m \u001b[38;5;28mrange\u001b[39m(\u001b[38;5;28mlen\u001b[39m(algs))]\n",
      "Cell \u001b[0;32mIn[236], line 1\u001b[0m, in \u001b[0;36m<listcomp>\u001b[0;34m(.0)\u001b[0m\n\u001b[0;32m----> 1\u001b[0m [(algs[i], ws[i], \u001b[43mns\u001b[49m\u001b[43m[\u001b[49m\u001b[43mi\u001b[49m\u001b[43m]\u001b[49m) \u001b[38;5;28;01mfor\u001b[39;00m i \u001b[38;5;129;01min\u001b[39;00m \u001b[38;5;28mrange\u001b[39m(\u001b[38;5;28mlen\u001b[39m(algs))]\n",
      "\u001b[0;31mIndexError\u001b[0m: list index out of range"
     ]
    }
   ],
   "source": [
    "[(algs[i], ws[i], ns[i]) for i in range(len(algs))]"
   ]
  },
  {
   "cell_type": "code",
   "execution_count": 175,
   "id": "b9fcf745",
   "metadata": {},
   "outputs": [],
   "source": [
    "assert(len(full_results) == len(algs))"
   ]
  },
  {
   "cell_type": "code",
   "execution_count": 176,
   "id": "4c68dc6a",
   "metadata": {},
   "outputs": [],
   "source": [
    "import csv\n",
    "for IND in range(len(full_results)):\n",
    "    with open(f\"./pulp/W30_group1/{IND+20:02}_{algs[IND]}_N{ns[IND]}_w{ws[IND]}.csv\", \"w\") as fout:\n",
    "        writer = csv.writer(fout)\n",
    "        writer.writerow([\"real \"+str(i) for i in range(Q)] + [\"predicted \" + str(i) for i in range(Q)] + [\"cluster_num\", \"mode\"])\n",
    "        for i in range(full_results[IND].shape[0]):\n",
    "            writer.writerow(full_results[IND][i])\n"
   ]
  },
  {
   "cell_type": "code",
   "execution_count": 192,
   "id": "e2e8513b",
   "metadata": {},
   "outputs": [
    {
     "data": {
      "text/plain": [
       "1"
      ]
     },
     "execution_count": 192,
     "metadata": {},
     "output_type": "execute_result"
    }
   ],
   "source": [
    "len(full_results)"
   ]
  },
  {
   "cell_type": "code",
   "execution_count": 252,
   "id": "67bce4f3",
   "metadata": {},
   "outputs": [],
   "source": [
    "IND=0\n",
    "with open(f\"./pulp/W5_original.csv\", \"w\") as fout:\n",
    "    writer = csv.writer(fout)\n",
    "    writer.writerow([\"real \"+str(i) for i in range(Q)] + [\"predicted \" + str(i) for i in range(Q)] + [\"cluster_num\", \"mode\"])\n",
    "    for i in range(full_results[IND].shape[0]):\n",
    "        writer.writerow(full_results[IND][i])"
   ]
  },
  {
   "cell_type": "code",
   "execution_count": null,
   "id": "649f99e1",
   "metadata": {},
   "outputs": [],
   "source": []
  }
 ],
 "metadata": {
  "kernelspec": {
   "display_name": "Python 3 (ipykernel)",
   "language": "python",
   "name": "python3"
  },
  "language_info": {
   "codemirror_mode": {
    "name": "ipython",
    "version": 3
   },
   "file_extension": ".py",
   "mimetype": "text/x-python",
   "name": "python",
   "nbconvert_exporter": "python",
   "pygments_lexer": "ipython3",
   "version": "3.9.15"
  }
 },
 "nbformat": 4,
 "nbformat_minor": 5
}
